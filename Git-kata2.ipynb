{
 "cells": [
  {
   "cell_type": "markdown",
   "metadata": {
    "slideshow": {
     "slide_type": "slide"
    }
   },
   "source": [
    "# Status\n",
    "\n",
    "* [x] ~~...~~\n",
    "* [x] ~~Git stash~~\n",
    "* [x] ~~Git add interactive~~\n",
    "* [x] ~~Reflog~~\n",
    "* [x] ~~Cherry picking~~\n",
    "* [ ] Git rebase\n",
    "     * [ ] `git rebase`\n",
    "     * [ ] co oznacza `fast forward`\n",
    "* [ ] Git bisect\n",
    "* [ ] Git fetch vs pull\n",
    "* [ ] Praca z wieloma repozytoriami\n",
    "* [ ] ..."
   ]
  },
  {
   "cell_type": "markdown",
   "metadata": {
    "slideshow": {
     "slide_type": "subslide"
    }
   },
   "source": [
    "<img src=\"img/basic-rebase.png\" />\n",
    "\n",
    "> Źródło Git Pro 2nd Edition"
   ]
  },
  {
   "cell_type": "code",
   "execution_count": 10,
   "metadata": {
    "slideshow": {
     "slide_type": "subslide"
    }
   },
   "outputs": [
    {
     "name": "stdout",
     "output_type": "stream",
     "text": [
      "Initialized empty Git repository in /home/wyhasany/rebase/.git/\n",
      "[master (root-commit) 9b2b399] C0\n",
      " 1 file changed, 1 insertion(+)\n",
      " create mode 100644 file\n",
      "[master 89258f5] C1\n",
      " 1 file changed, 1 insertion(+)\n",
      "[master cbe6d21] C2\n",
      " 1 file changed, 1 insertion(+)\n",
      "[master 0986659] C3\n",
      " 1 file changed, 1 insertion(+)\n",
      "\u001b[31mSwitched to a new branch 'experiment'\n",
      "\u001b[0m[experiment d4066ee] C4\n",
      " 1 file changed, 1 insertion(+)\n",
      "* \u001b[33md4066ee\u001b[m\u001b[33m (\u001b[m\u001b[1;36mHEAD -> \u001b[m\u001b[1;32mexperiment\u001b[m\u001b[33m)\u001b[m C4\n",
      "* \u001b[33m0986659\u001b[m\u001b[33m (\u001b[m\u001b[1;32mmaster\u001b[m\u001b[33m)\u001b[m C3\n",
      "* \u001b[33mcbe6d21\u001b[m C2\n",
      "* \u001b[33m89258f5\u001b[m C1\n",
      "* \u001b[33m9b2b399\u001b[m C0\n"
     ]
    }
   ],
   "source": [
    "cd ~/ && rm -rf rebase/ && mkdir rebase && cd rebase && git init && git config commit.gpgsign false\n",
    "echo C0 > file\n",
    "git add file\n",
    "git commit -am C0\n",
    "echo C1 >> file\n",
    "git commit -am C1\n",
    "echo C2 >> file\n",
    "git commit -am C2\n",
    "echo C3 >> file\n",
    "git commit -am C3\n",
    "git checkout -b experiment  \n",
    "echo C4 >> file\n",
    "git commit -am C4\n",
    "git log --all --graph --oneline"
   ]
  },
  {
   "cell_type": "code",
   "execution_count": 11,
   "metadata": {
    "slideshow": {
     "slide_type": "subslide"
    }
   },
   "outputs": [
    {
     "name": "stdout",
     "output_type": "stream",
     "text": [
      "Current branch experiment is up to date.\n"
     ]
    }
   ],
   "source": [
    "#git checkout master\n",
    "#git rebase experiment\n",
    "git rebase master "
   ]
  },
  {
   "cell_type": "code",
   "execution_count": 13,
   "metadata": {
    "slideshow": {
     "slide_type": "fragment"
    }
   },
   "outputs": [
    {
     "name": "stdout",
     "output_type": "stream",
     "text": [
      "\u001b[31mSwitched to branch 'master'\n",
      "\u001b[0m[master 7b81d56] C5\n",
      " 1 file changed, 1 insertion(+)\n",
      "* \u001b[33m7b81d56\u001b[m\u001b[33m (\u001b[m\u001b[1;36mHEAD -> \u001b[m\u001b[1;32mmaster\u001b[m\u001b[33m)\u001b[m C5\n",
      "\u001b[31m|\u001b[m * \u001b[33md4066ee\u001b[m\u001b[33m (\u001b[m\u001b[1;32mexperiment\u001b[m\u001b[33m)\u001b[m C4\n",
      "\u001b[31m|\u001b[m\u001b[31m/\u001b[m  \n",
      "* \u001b[33m0986659\u001b[m C3\n",
      "* \u001b[33mcbe6d21\u001b[m C2\n",
      "* \u001b[33m89258f5\u001b[m C1\n",
      "* \u001b[33m9b2b399\u001b[m C0\n"
     ]
    }
   ],
   "source": [
    "git checkout master\n",
    "echo C5 >> file\n",
    "git commit -am C5\n",
    "git log --oneline --graph --all"
   ]
  },
  {
   "cell_type": "code",
   "execution_count": 14,
   "metadata": {
    "slideshow": {
     "slide_type": "subslide"
    }
   },
   "outputs": [
    {
     "name": "stdout",
     "output_type": "stream",
     "text": [
      "\u001b[31mSwitched to branch 'experiment'\n",
      "\u001b[0mFirst, rewinding head to replay your work on top of it...\n",
      "Applying: C4\n",
      "Using index info to reconstruct a base tree...\n",
      "M\tfile\n",
      "Falling back to patching base and 3-way merge...\n",
      "Auto-merging file\n",
      "CONFLICT (content): Merge conflict in file\n",
      "\u001b[31merror: Failed to merge in the changes.\n",
      "\u001b[0mPatch failed at 0001 C4\n",
      "Use 'git am --show-current-patch' to see the failed patch\n",
      "\n",
      "Resolve all conflicts manually, mark them as resolved with\n",
      "\"git add/rm <conflicted_files>\", then run \"git rebase --continue\".\n",
      "You can instead skip this commit: run \"git rebase --skip\".\n",
      "To abort and get back to the state before \"git rebase\", run \"git rebase --abort\".\n",
      "\n"
     ]
    },
    {
     "ename": "",
     "evalue": "128",
     "output_type": "error",
     "traceback": []
    }
   ],
   "source": [
    "git checkout experiment\n",
    "git rebase master"
   ]
  },
  {
   "cell_type": "code",
   "execution_count": 15,
   "metadata": {
    "slideshow": {
     "slide_type": "fragment"
    }
   },
   "outputs": [
    {
     "name": "stdout",
     "output_type": "stream",
     "text": [
      "C0\n",
      "C1\n",
      "C2\n",
      "C3\n",
      "<<<<<<< HEAD\n",
      "C5\n",
      "=======\n",
      "C4\n",
      ">>>>>>> C4\n"
     ]
    }
   ],
   "source": [
    "cat file"
   ]
  },
  {
   "cell_type": "code",
   "execution_count": 16,
   "metadata": {
    "slideshow": {
     "slide_type": "subslide"
    }
   },
   "outputs": [
    {
     "name": "stdout",
     "output_type": "stream",
     "text": [
      "Applying: C4\n",
      "* \u001b[33m9615a79\u001b[m\u001b[33m (\u001b[m\u001b[1;36mHEAD -> \u001b[m\u001b[1;32mexperiment\u001b[m\u001b[33m)\u001b[m C4\n",
      "* \u001b[33m7b81d56\u001b[m\u001b[33m (\u001b[m\u001b[1;32mmaster\u001b[m\u001b[33m)\u001b[m C5\n",
      "* \u001b[33m0986659\u001b[m C3\n",
      "* \u001b[33mcbe6d21\u001b[m C2\n",
      "* \u001b[33m89258f5\u001b[m C1\n",
      "* \u001b[33m9b2b399\u001b[m C0\n"
     ]
    }
   ],
   "source": [
    "sed -i '5d' file #usuń czwartą linię itd\n",
    "sed -i '6d' file\n",
    "sed -i '7d' file\n",
    "git add file\n",
    "git rebase --continue\n",
    "git log --oneline --all --graph"
   ]
  },
  {
   "cell_type": "code",
   "execution_count": 17,
   "metadata": {
    "scrolled": true,
    "slideshow": {
     "slide_type": "fragment"
    }
   },
   "outputs": [
    {
     "name": "stdout",
     "output_type": "stream",
     "text": [
      "\u001b[31mSwitched to branch 'master'\n",
      "\u001b[0mUpdating 7b81d56..9615a79\n",
      "Fast-forward\n",
      " file | 1 \u001b[32m+\u001b[m\n",
      " 1 file changed, 1 insertion(+)\n",
      "\n",
      "* \u001b[33m9615a79\u001b[m\u001b[33m (\u001b[m\u001b[1;36mHEAD -> \u001b[m\u001b[1;32mmaster\u001b[m\u001b[33m, \u001b[m\u001b[1;32mexperiment\u001b[m\u001b[33m)\u001b[m C4\n",
      "* \u001b[33m7b81d56\u001b[m C5\n",
      "* \u001b[33m0986659\u001b[m C3\n",
      "* \u001b[33mcbe6d21\u001b[m C2\n",
      "* \u001b[33m89258f5\u001b[m C1\n",
      "* \u001b[33m9b2b399\u001b[m C0\n"
     ]
    }
   ],
   "source": [
    "git checkout master\n",
    "git merge experiment\n",
    "echo\n",
    "git log --oneline --all --graph"
   ]
  },
  {
   "cell_type": "code",
   "execution_count": 18,
   "metadata": {
    "slideshow": {
     "slide_type": "subslide"
    }
   },
   "outputs": [],
   "source": [
    "cd ~/ && rm -rf rebase/"
   ]
  },
  {
   "cell_type": "markdown",
   "metadata": {},
   "source": [
    "## Ćwiczenia\n",
    "\n",
    "1. Sklonuj dowolne repozytorium z GitHuba. Stwórz branch `eksperyment` i przenieś się na niego. Stwórz plik o nazwie `plik` i zrób dwa commity dodając literę `A` i `B` (treści commitów takie same). Dokonaj rebase i przenieś `mastera` na commit o treści `B`."
   ]
  },
  {
   "cell_type": "markdown",
   "metadata": {
    "slideshow": {
     "slide_type": "subslide"
    }
   },
   "source": [
    "# Status\n",
    "\n",
    "* [x] ~~...~~\n",
    "* [x] ~~Merge (łączenie zmian)~~\n",
    "* [x] ~~Git stash~~\n",
    "* [x] ~~Git add interactive~~\n",
    "* [x] ~~Reflog~~\n",
    "* [x] ~~Cherry picking~~\n",
    "* [x] ~~Git rebase~~\n",
    "     * [x] ~~`git rebase`~~\n",
    "     * [x] ~~co oznacza `fast forward`~~\n",
    "* [ ] Git bisect\n",
    "* [ ] Git fetch vs pull\n",
    "* [ ] Praca z wieloma repozytoriami\n",
    "* [ ] Git push\n",
    "* [ ] ..."
   ]
  },
  {
   "cell_type": "markdown",
   "metadata": {
    "slideshow": {
     "slide_type": "slide"
    }
   },
   "source": [
    "# Status\n",
    "\n",
    "* [x] ~~...~~\n",
    "* [x] ~~Reflog~~\n",
    "* [x] ~~Cherry picking~~\n",
    "* [x] ~~Git rebase~~\n",
    "* [ ] Git bisect\n",
    "     * [ ] `git bisect`\n",
    "     * [ ] `^` operator\n",
    "     * [ ] `~` operator\n",
    "     * [ ] `git show`\n",
    "* [ ] Git fetch vs pull\n",
    "* [ ] Praca z wieloma repozytoriami\n",
    "* [ ] Git push\n",
    "* [ ] ..."
   ]
  },
  {
   "cell_type": "markdown",
   "metadata": {
    "slideshow": {
     "slide_type": "subslide"
    }
   },
   "source": [
    "## Przykład"
   ]
  },
  {
   "cell_type": "code",
   "execution_count": 12,
   "metadata": {
    "slideshow": {
     "slide_type": "fragment"
    }
   },
   "outputs": [
    {
     "name": "stdout",
     "output_type": "stream",
     "text": [
      "Initialized empty Git repository in /home/wyhasany/bisect/.git/\n",
      "[master (root-commit) 9a11979] A1\n",
      " 2 files changed, 7 insertions(+)\n",
      " create mode 100644 projectfile\n",
      " create mode 100755 test.sh\n",
      "[master 9462363] A2\n",
      " 1 file changed, 1 insertion(+)\n",
      "[master fda43b6] A3\n",
      " 1 file changed, 1 insertion(+)\n",
      "[master 7c6e0e1] A4\n",
      " 1 file changed, 1 insertion(+)\n",
      "[master 06522fd] A5\n",
      " 1 file changed, 1 insertion(+)\n",
      "[master dad836d] A6\n",
      " 1 file changed, 1 insertion(+)\n",
      "[master 12d4e43] A7\n",
      " 1 file changed, 1 insertion(+)\n",
      "[master 9940b93] A8\n",
      " 1 file changed, 1 insertion(+)\n",
      "[master 6bcf4d2] A9\n",
      " 1 file changed, 1 insertion(+)\n",
      "[master e3f1d34] A10\n",
      " 1 file changed, 1 insertion(+)\n",
      "[master 6e022a9] A11\n",
      " 1 file changed, 1 insertion(+)\n",
      "[master 42b2f51] A12\n",
      " 1 file changed, 1 insertion(+)\n",
      "[master cfccc6a] A13\n",
      " 1 file changed, 1 insertion(+)\n",
      "[master 4ed3a22] A14\n",
      " 1 file changed, 1 insertion(+)\n",
      "[master e9cf117] A15\n",
      " 1 file changed, 1 insertion(+)\n",
      "[master 7e2b35e] A16\n",
      " 1 file changed, 1 insertion(+)\n",
      "[master 498d816] A17\n",
      " 1 file changed, 1 insertion(+)\n",
      "[master 1cef050] A18\n",
      " 1 file changed, 1 insertion(+)\n",
      "[master fbbff4d] A19\n",
      " 1 file changed, 1 insertion(+)\n",
      "[master 1609f20] A20\n",
      " 1 file changed, 1 insertion(+)\n",
      "[master 69ecb55] A21\n",
      " 1 file changed, 1 insertion(+)\n",
      "[master 8772a5d] A22\n",
      " 1 file changed, 1 insertion(+)\n",
      "[master 6d037d0] A23\n",
      " 1 file changed, 1 insertion(+)\n",
      "[master 81cf9d9] A24\n",
      " 1 file changed, 1 insertion(+)\n",
      "[master c8f6f88] A25\n",
      " 1 file changed, 1 insertion(+)\n",
      "[master 5fc94ff] A26\n",
      " 1 file changed, 1 insertion(+)\n",
      "[master 2c02e3f] A27\n",
      " 1 file changed, 1 insertion(+)\n",
      "[master 51aefb2] A28\n",
      " 1 file changed, 1 insertion(+)\n",
      "[master 261b88b] A29\n",
      " 1 file changed, 1 insertion(+)\n",
      "[master 5202b99] A30\n",
      " 1 file changed, 1 insertion(+)\n",
      "[master abaa412] A31\n",
      " 1 file changed, 1 insertion(+)\n",
      "[master 5ed86b7] A32\n",
      " 1 file changed, 1 insertion(+)\n",
      "[master 4fe386a] A33\n",
      " 1 file changed, 1 insertion(+)\n",
      "[master 743a930] A34\n",
      " 1 file changed, 1 insertion(+)\n",
      "[master a01fdcd] A35\n",
      " 1 file changed, 1 insertion(+)\n",
      "[master 9b8868d] A36\n",
      " 1 file changed, 1 insertion(+)\n",
      "[master 90eda88] A37\n",
      " 1 file changed, 1 insertion(+)\n",
      "[master 301f6a9] A38\n",
      " 1 file changed, 1 insertion(+)\n",
      "[master d2ed9b3] A39\n",
      " 1 file changed, 1 insertion(+)\n",
      "[master b4fd4be] A40\n",
      " 1 file changed, 1 insertion(+)\n",
      "[master 25d2b11] A41\n",
      " 1 file changed, 1 insertion(+)\n",
      "[master 8d509f9] A42\n",
      " 1 file changed, 1 insertion(+)\n",
      "[master e48763a] A43\n",
      " 1 file changed, 1 insertion(+)\n",
      "[master 9d151d9] A44\n",
      " 1 file changed, 1 insertion(+)\n",
      "[master 9731e96] A45\n",
      " 1 file changed, 1 insertion(+)\n",
      "[master 7b2a4e4] A46\n",
      " 1 file changed, 1 insertion(+)\n",
      "[master dfbe0a7] A47\n",
      " 1 file changed, 1 insertion(+)\n",
      "[master 9977d04] A48\n",
      " 1 file changed, 1 insertion(+)\n",
      "[master 05b5977] A49\n",
      " 1 file changed, 1 insertion(+)\n",
      "[master 4735ae8] A50\n",
      " 1 file changed, 1 insertion(+)\n",
      "[master 91b5a94] A51\n",
      " 1 file changed, 1 insertion(+)\n",
      "[master ef581d7] A52\n",
      " 1 file changed, 1 insertion(+)\n",
      "[master d6f5c85] A53\n",
      " 1 file changed, 1 insertion(+)\n",
      "[master cc5f907] A54\n",
      " 1 file changed, 1 insertion(+)\n",
      "[master a209e2a] A55\n",
      " 1 file changed, 1 insertion(+)\n",
      "[master 6d098b9] A56\n",
      " 1 file changed, 1 insertion(+)\n",
      "[master 2ebe2b2] A57\n",
      " 1 file changed, 1 insertion(+)\n",
      "[master 626484e] A58\n",
      " 1 file changed, 1 insertion(+)\n",
      "[master d2dc279] A59\n",
      " 1 file changed, 1 insertion(+)\n",
      "[master 79ab801] A60\n",
      " 1 file changed, 1 insertion(+)\n",
      "[master 0b1debb] A61\n",
      " 1 file changed, 1 insertion(+)\n",
      "[master 0e82b35] A62\n",
      " 1 file changed, 1 insertion(+)\n",
      "[master 7a425f7] A63\n",
      " 1 file changed, 1 insertion(+)\n",
      "[master 9fc3cbc] A64\n",
      " 1 file changed, 1 insertion(+)\n",
      "[master 8f00016] A65\n",
      " 1 file changed, 1 insertion(+)\n",
      "[master 6a9a94c] A66\n",
      " 1 file changed, 1 insertion(+)\n",
      "[master c2be5a0] A67\n",
      " 1 file changed, 1 insertion(+)\n",
      "[master 2b0bce1] A68\n",
      " 1 file changed, 1 insertion(+)\n",
      "[master d0749b3] A69\n",
      " 1 file changed, 1 insertion(+)\n",
      "[master 4f7c1ed] A70\n",
      " 1 file changed, 1 insertion(+)\n",
      "[master 6b2672d] A71\n",
      " 1 file changed, 1 insertion(+)\n",
      "[master f51a1bf] A72\n",
      " 1 file changed, 1 insertion(+)\n",
      "[master 1b625f2] A73\n",
      " 1 file changed, 1 insertion(+)\n",
      "[master d23a86c] A74\n",
      " 1 file changed, 1 insertion(+)\n",
      "[master 077a679] A75\n",
      " 1 file changed, 1 insertion(+)\n",
      "[master 5caf575] A76\n",
      " 1 file changed, 1 insertion(+)\n",
      "[master cbe27cf] A77\n",
      " 1 file changed, 1 insertion(+)\n",
      "[master 76e18c4] A78\n",
      " 1 file changed, 1 insertion(+)\n",
      "[master 5245936] A79\n",
      " 1 file changed, 1 insertion(+)\n",
      "[master 988114e] A80\n",
      " 1 file changed, 1 insertion(+)\n",
      "[master 34986d1] A81\n",
      " 1 file changed, 1 insertion(+)\n",
      "[master 69725de] A82\n",
      " 1 file changed, 1 insertion(+)\n",
      "[master 7f523db] A83\n",
      " 1 file changed, 1 insertion(+)\n",
      "[master 020fe82] A84\n",
      " 1 file changed, 1 insertion(+)\n",
      "[master 88368d6] A85\n",
      " 1 file changed, 1 insertion(+)\n",
      "[master 0303b97] A86\n",
      " 1 file changed, 1 insertion(+)\n",
      "[master cf5c21c] A87\n",
      " 1 file changed, 1 insertion(+)\n",
      "[master 2c3e669] A88\n",
      " 1 file changed, 1 insertion(+)\n",
      "[master 5726ab6] A89\n",
      " 1 file changed, 1 insertion(+)\n",
      "[master 13574a0] A90\n",
      " 1 file changed, 1 insertion(+)\n",
      "[master c30eb4f] A91\n",
      " 1 file changed, 1 insertion(+)\n",
      "[master be5f0af] A92\n",
      " 1 file changed, 1 insertion(+)\n",
      "[master 4a09100] A93\n",
      " 1 file changed, 1 insertion(+)\n",
      "[master b1e0c7f] A94\n",
      " 1 file changed, 1 insertion(+)\n",
      "[master 9255907] A95\n",
      " 1 file changed, 1 insertion(+)\n",
      "[master a53d4ed] A96\n",
      " 1 file changed, 1 insertion(+)\n",
      "[master bade61b] A97\n",
      " 1 file changed, 1 insertion(+)\n",
      "[master c9300a4] A98\n",
      " 1 file changed, 1 insertion(+)\n",
      "[master 13b7644] A99\n",
      " 1 file changed, 1 insertion(+)\n",
      "[master 1eb9267] A100\n",
      " 1 file changed, 1 insertion(+)\n",
      "\u001b[33m1eb9267\u001b[m\u001b[33m (\u001b[m\u001b[1;36mHEAD -> \u001b[m\u001b[1;32mmaster\u001b[m\u001b[33m)\u001b[m A100\n",
      "\u001b[33m13b7644\u001b[m A99\n",
      "\u001b[33mc9300a4\u001b[m A98\n",
      "\u001b[33mbade61b\u001b[m A97\n",
      "\u001b[33ma53d4ed\u001b[m A96\n",
      "\u001b[33m9255907\u001b[m A95\n",
      "\u001b[33mb1e0c7f\u001b[m A94\n",
      "\u001b[33m4a09100\u001b[m A93\n",
      "\u001b[33mbe5f0af\u001b[m A92\n",
      "\u001b[33mc30eb4f\u001b[m A91\n",
      "\u001b[33m13574a0\u001b[m A90\n",
      "\u001b[33m5726ab6\u001b[m A89\n",
      "\u001b[33m2c3e669\u001b[m A88\n",
      "\u001b[33mcf5c21c\u001b[m A87\n",
      "\u001b[33m0303b97\u001b[m A86\n",
      "\u001b[33m88368d6\u001b[m A85\n",
      "\u001b[33m020fe82\u001b[m A84\n",
      "\u001b[33m7f523db\u001b[m A83\n",
      "\u001b[33m69725de\u001b[m A82\n",
      "\u001b[33m34986d1\u001b[m A81\n",
      "\u001b[33m988114e\u001b[m A80\n",
      "\u001b[33m5245936\u001b[m A79\n",
      "\u001b[33m76e18c4\u001b[m A78\n",
      "\u001b[33mcbe27cf\u001b[m A77\n",
      "\u001b[33m5caf575\u001b[m A76\n",
      "\u001b[33m077a679\u001b[m A75\n",
      "\u001b[33md23a86c\u001b[m A74\n",
      "\u001b[33m1b625f2\u001b[m A73\n",
      "\u001b[33mf51a1bf\u001b[m A72\n",
      "\u001b[33m6b2672d\u001b[m A71\n",
      "\u001b[33m4f7c1ed\u001b[m A70\n",
      "\u001b[33md0749b3\u001b[m A69\n",
      "\u001b[33m2b0bce1\u001b[m A68\n",
      "\u001b[33mc2be5a0\u001b[m A67\n",
      "\u001b[33m6a9a94c\u001b[m A66\n",
      "\u001b[33m8f00016\u001b[m A65\n",
      "\u001b[33m9fc3cbc\u001b[m A64\n",
      "\u001b[33m7a425f7\u001b[m A63\n",
      "\u001b[33m0e82b35\u001b[m A62\n",
      "\u001b[33m0b1debb\u001b[m A61\n",
      "\u001b[33m79ab801\u001b[m A60\n",
      "\u001b[33md2dc279\u001b[m A59\n",
      "\u001b[33m626484e\u001b[m A58\n",
      "\u001b[33m2ebe2b2\u001b[m A57\n",
      "\u001b[33m6d098b9\u001b[m A56\n",
      "\u001b[33ma209e2a\u001b[m A55\n",
      "\u001b[33mcc5f907\u001b[m A54\n",
      "\u001b[33md6f5c85\u001b[m A53\n",
      "\u001b[33mef581d7\u001b[m A52\n",
      "\u001b[33m91b5a94\u001b[m A51\n",
      "\u001b[33m4735ae8\u001b[m A50\n",
      "\u001b[33m05b5977\u001b[m A49\n",
      "\u001b[33m9977d04\u001b[m A48\n",
      "\u001b[33mdfbe0a7\u001b[m A47\n",
      "\u001b[33m7b2a4e4\u001b[m A46\n",
      "\u001b[33m9731e96\u001b[m A45\n",
      "\u001b[33m9d151d9\u001b[m A44\n",
      "\u001b[33me48763a\u001b[m A43\n",
      "\u001b[33m8d509f9\u001b[m A42\n",
      "\u001b[33m25d2b11\u001b[m A41\n",
      "\u001b[33mb4fd4be\u001b[m A40\n",
      "\u001b[33md2ed9b3\u001b[m A39\n",
      "\u001b[33m301f6a9\u001b[m A38\n",
      "\u001b[33m90eda88\u001b[m A37\n",
      "\u001b[33m9b8868d\u001b[m A36\n",
      "\u001b[33ma01fdcd\u001b[m A35\n",
      "\u001b[33m743a930\u001b[m A34\n",
      "\u001b[33m4fe386a\u001b[m A33\n",
      "\u001b[33m5ed86b7\u001b[m A32\n",
      "\u001b[33mabaa412\u001b[m A31\n",
      "\u001b[33m5202b99\u001b[m A30\n",
      "\u001b[33m261b88b\u001b[m A29\n",
      "\u001b[33m51aefb2\u001b[m A28\n",
      "\u001b[33m2c02e3f\u001b[m A27\n",
      "\u001b[33m5fc94ff\u001b[m A26\n",
      "\u001b[33mc8f6f88\u001b[m A25\n",
      "\u001b[33m81cf9d9\u001b[m A24\n",
      "\u001b[33m6d037d0\u001b[m A23\n",
      "\u001b[33m8772a5d\u001b[m A22\n",
      "\u001b[33m69ecb55\u001b[m A21\n",
      "\u001b[33m1609f20\u001b[m A20\n",
      "\u001b[33mfbbff4d\u001b[m A19\n",
      "\u001b[33m1cef050\u001b[m A18\n",
      "\u001b[33m498d816\u001b[m A17\n",
      "\u001b[33m7e2b35e\u001b[m A16\n",
      "\u001b[33me9cf117\u001b[m A15\n",
      "\u001b[33m4ed3a22\u001b[m A14\n",
      "\u001b[33mcfccc6a\u001b[m A13\n",
      "\u001b[33m42b2f51\u001b[m A12\n",
      "\u001b[33m6e022a9\u001b[m A11\n",
      "\u001b[33me3f1d34\u001b[m A10\n",
      "\u001b[33m6bcf4d2\u001b[m A9\n",
      "\u001b[33m9940b93\u001b[m A8\n",
      "\u001b[33m12d4e43\u001b[m A7\n",
      "\u001b[33mdad836d\u001b[m A6\n",
      "\u001b[33m06522fd\u001b[m A5\n",
      "\u001b[33m7c6e0e1\u001b[m A4\n",
      "\u001b[33mfda43b6\u001b[m A3\n",
      "\u001b[33m9462363\u001b[m A2\n",
      "\u001b[33m9a11979\u001b[m A1\n"
     ]
    }
   ],
   "source": [
    "cd ~/ && rm -rf bisect && mkdir bisect && cd bisect && git init && git config commit.gpgsign false\n",
    "touch projectfile\n",
    "git add projectfile\n",
    "cat > test.sh << EOF\n",
    "if grep 63 projectfile\n",
    "then\n",
    "  echo BAD\n",
    "else\n",
    "  echo GOOD\n",
    "fi\n",
    "EOF\n",
    "chmod +x test.sh\n",
    "git add test.sh\n",
    "\n",
    "for ((i=1;i<=100;i++))\n",
    "do\n",
    "echo $i >> projectfile\n",
    "git commit -am \"A$i\"\n",
    "done\n",
    "\n",
    "git log --oneline "
   ]
  },
  {
   "cell_type": "code",
   "execution_count": 13,
   "metadata": {
    "slideshow": {
     "slide_type": "subslide"
    }
   },
   "outputs": [
    {
     "name": "stdout",
     "output_type": "stream",
     "text": [
      "63\n",
      "BAD\n",
      "On branch master\n",
      "You are currently bisecting, started from branch 'master'.\n",
      "  (use \"git bisect reset\" to get back to the original branch)\n",
      "\n",
      "nothing to commit, working tree clean\n"
     ]
    }
   ],
   "source": [
    "git bisect start\n",
    "./test.sh\n",
    "git bisect bad\n",
    "git status"
   ]
  },
  {
   "cell_type": "code",
   "execution_count": 14,
   "metadata": {
    "scrolled": true,
    "slideshow": {
     "slide_type": "fragment"
    }
   },
   "outputs": [
    {
     "name": "stdout",
     "output_type": "stream",
     "text": [
      "\u001b[31mNote: checking out 'HEAD~99'.\n",
      "\n",
      "You are in 'detached HEAD' state. You can look around, make experimental\n",
      "changes and commit them, and you can discard any commits you make in this\n",
      "state without impacting any branches by performing another checkout.\n",
      "\n",
      "If you want to create a new branch to retain commits you create, you may\n",
      "do so (now or later) by using -b with the checkout command again. Example:\n",
      "\n",
      "  git checkout -b <new-branch-name>\n",
      "\n",
      "\u001b[0m\u001b[31mHEAD is now at 9a11979 A1\n",
      "\u001b[0m\u001b[31mHEAD detached at \u001b[m9a11979\n",
      "You are currently bisecting, started from branch 'master'.\n",
      "  (use \"git bisect reset\" to get back to the original branch)\n",
      "\n",
      "nothing to commit, working tree clean\n",
      "GOOD\n",
      "Bisecting: 49 revisions left to test after this (roughly 6 steps)\n",
      "[4735ae82fb2462da3c1cf5efd019e2f6ae8441e9] A50\n",
      "\u001b[33m4735ae8\u001b[m\u001b[33m (\u001b[m\u001b[1;36mHEAD\u001b[m\u001b[33m)\u001b[m A50\n",
      "\u001b[33m05b5977\u001b[m A49\n",
      "\u001b[33m9977d04\u001b[m A48\n",
      "\u001b[33mdfbe0a7\u001b[m A47\n",
      "\u001b[33m7b2a4e4\u001b[m A46\n",
      "\u001b[33m9731e96\u001b[m A45\n",
      "\u001b[33m9d151d9\u001b[m A44\n",
      "\u001b[33me48763a\u001b[m A43\n",
      "\u001b[33m8d509f9\u001b[m A42\n",
      "\u001b[33m25d2b11\u001b[m A41\n",
      "\u001b[33mb4fd4be\u001b[m A40\n",
      "\u001b[33md2ed9b3\u001b[m A39\n",
      "\u001b[33m301f6a9\u001b[m A38\n",
      "\u001b[33m90eda88\u001b[m A37\n",
      "\u001b[33m9b8868d\u001b[m A36\n",
      "\u001b[33ma01fdcd\u001b[m A35\n",
      "\u001b[33m743a930\u001b[m A34\n",
      "\u001b[33m4fe386a\u001b[m A33\n",
      "\u001b[33m5ed86b7\u001b[m A32\n",
      "\u001b[33mabaa412\u001b[m A31\n",
      "\u001b[33m5202b99\u001b[m A30\n",
      "\u001b[33m261b88b\u001b[m A29\n",
      "\u001b[33m51aefb2\u001b[m A28\n",
      "\u001b[33m2c02e3f\u001b[m A27\n",
      "\u001b[33m5fc94ff\u001b[m A26\n",
      "\u001b[33mc8f6f88\u001b[m A25\n",
      "\u001b[33m81cf9d9\u001b[m A24\n",
      "\u001b[33m6d037d0\u001b[m A23\n",
      "\u001b[33m8772a5d\u001b[m A22\n",
      "\u001b[33m69ecb55\u001b[m A21\n",
      "\u001b[33m1609f20\u001b[m A20\n",
      "\u001b[33mfbbff4d\u001b[m A19\n",
      "\u001b[33m1cef050\u001b[m A18\n",
      "\u001b[33m498d816\u001b[m A17\n",
      "\u001b[33m7e2b35e\u001b[m A16\n",
      "\u001b[33me9cf117\u001b[m A15\n",
      "\u001b[33m4ed3a22\u001b[m A14\n",
      "\u001b[33mcfccc6a\u001b[m A13\n",
      "\u001b[33m42b2f51\u001b[m A12\n",
      "\u001b[33m6e022a9\u001b[m A11\n",
      "\u001b[33me3f1d34\u001b[m A10\n",
      "\u001b[33m6bcf4d2\u001b[m A9\n",
      "\u001b[33m9940b93\u001b[m A8\n",
      "\u001b[33m12d4e43\u001b[m A7\n",
      "\u001b[33mdad836d\u001b[m A6\n",
      "\u001b[33m06522fd\u001b[m A5\n",
      "\u001b[33m7c6e0e1\u001b[m A4\n",
      "\u001b[33mfda43b6\u001b[m A3\n",
      "\u001b[33m9462363\u001b[m A2\n",
      "\u001b[33m9a11979\u001b[m\u001b[33m (\u001b[m\u001b[mrefs/bisect/good-9a119798f698f858c4856aafa787c8005cb4142f\u001b[m\u001b[33m)\u001b[m A1\n"
     ]
    }
   ],
   "source": [
    "git checkout HEAD~99\n",
    "git status\n",
    "./test.sh\n",
    "git bisect good\n",
    "git log --oneline"
   ]
  },
  {
   "cell_type": "code",
   "execution_count": 15,
   "metadata": {
    "scrolled": true,
    "slideshow": {
     "slide_type": "subslide"
    }
   },
   "outputs": [
    {
     "name": "stdout",
     "output_type": "stream",
     "text": [
      "\u001b[31mHEAD detached at \u001b[m4735ae8\n",
      "You are currently bisecting, started from branch 'master'.\n",
      "  (use \"git bisect reset\" to get back to the original branch)\n",
      "\n",
      "nothing to commit, working tree clean\n",
      "GOOD\n",
      "Bisecting: 24 revisions left to test after this (roughly 5 steps)\n",
      "[077a679cdae340adbbf0f2f90cfadccf4d67eabc] A75\n",
      "\u001b[33m077a679\u001b[m\u001b[33m (\u001b[m\u001b[1;36mHEAD\u001b[m\u001b[33m)\u001b[m A75\n",
      "\u001b[33md23a86c\u001b[m A74\n",
      "\u001b[33m1b625f2\u001b[m A73\n",
      "\u001b[33mf51a1bf\u001b[m A72\n",
      "\u001b[33m6b2672d\u001b[m A71\n",
      "\u001b[33m4f7c1ed\u001b[m A70\n",
      "\u001b[33md0749b3\u001b[m A69\n",
      "\u001b[33m2b0bce1\u001b[m A68\n",
      "\u001b[33mc2be5a0\u001b[m A67\n",
      "\u001b[33m6a9a94c\u001b[m A66\n",
      "\u001b[33m8f00016\u001b[m A65\n",
      "\u001b[33m9fc3cbc\u001b[m A64\n",
      "\u001b[33m7a425f7\u001b[m A63\n",
      "\u001b[33m0e82b35\u001b[m A62\n",
      "\u001b[33m0b1debb\u001b[m A61\n",
      "\u001b[33m79ab801\u001b[m A60\n",
      "\u001b[33md2dc279\u001b[m A59\n",
      "\u001b[33m626484e\u001b[m A58\n",
      "\u001b[33m2ebe2b2\u001b[m A57\n",
      "\u001b[33m6d098b9\u001b[m A56\n",
      "\u001b[33ma209e2a\u001b[m A55\n",
      "\u001b[33mcc5f907\u001b[m A54\n",
      "\u001b[33md6f5c85\u001b[m A53\n",
      "\u001b[33mef581d7\u001b[m A52\n",
      "\u001b[33m91b5a94\u001b[m A51\n",
      "\u001b[33m4735ae8\u001b[m\u001b[33m (\u001b[m\u001b[mrefs/bisect/good-4735ae82fb2462da3c1cf5efd019e2f6ae8441e9\u001b[m\u001b[33m)\u001b[m A50\n",
      "\u001b[33m05b5977\u001b[m A49\n",
      "\u001b[33m9977d04\u001b[m A48\n",
      "\u001b[33mdfbe0a7\u001b[m A47\n",
      "\u001b[33m7b2a4e4\u001b[m A46\n",
      "\u001b[33m9731e96\u001b[m A45\n",
      "\u001b[33m9d151d9\u001b[m A44\n",
      "\u001b[33me48763a\u001b[m A43\n",
      "\u001b[33m8d509f9\u001b[m A42\n",
      "\u001b[33m25d2b11\u001b[m A41\n",
      "\u001b[33mb4fd4be\u001b[m A40\n",
      "\u001b[33md2ed9b3\u001b[m A39\n",
      "\u001b[33m301f6a9\u001b[m A38\n",
      "\u001b[33m90eda88\u001b[m A37\n",
      "\u001b[33m9b8868d\u001b[m A36\n",
      "\u001b[33ma01fdcd\u001b[m A35\n",
      "\u001b[33m743a930\u001b[m A34\n",
      "\u001b[33m4fe386a\u001b[m A33\n",
      "\u001b[33m5ed86b7\u001b[m A32\n",
      "\u001b[33mabaa412\u001b[m A31\n",
      "\u001b[33m5202b99\u001b[m A30\n",
      "\u001b[33m261b88b\u001b[m A29\n",
      "\u001b[33m51aefb2\u001b[m A28\n",
      "\u001b[33m2c02e3f\u001b[m A27\n",
      "\u001b[33m5fc94ff\u001b[m A26\n",
      "\u001b[33mc8f6f88\u001b[m A25\n",
      "\u001b[33m81cf9d9\u001b[m A24\n",
      "\u001b[33m6d037d0\u001b[m A23\n",
      "\u001b[33m8772a5d\u001b[m A22\n",
      "\u001b[33m69ecb55\u001b[m A21\n",
      "\u001b[33m1609f20\u001b[m A20\n",
      "\u001b[33mfbbff4d\u001b[m A19\n",
      "\u001b[33m1cef050\u001b[m A18\n",
      "\u001b[33m498d816\u001b[m A17\n",
      "\u001b[33m7e2b35e\u001b[m A16\n",
      "\u001b[33me9cf117\u001b[m A15\n",
      "\u001b[33m4ed3a22\u001b[m A14\n",
      "\u001b[33mcfccc6a\u001b[m A13\n",
      "\u001b[33m42b2f51\u001b[m A12\n",
      "\u001b[33m6e022a9\u001b[m A11\n",
      "\u001b[33me3f1d34\u001b[m A10\n",
      "\u001b[33m6bcf4d2\u001b[m A9\n",
      "\u001b[33m9940b93\u001b[m A8\n",
      "\u001b[33m12d4e43\u001b[m A7\n",
      "\u001b[33mdad836d\u001b[m A6\n",
      "\u001b[33m06522fd\u001b[m A5\n",
      "\u001b[33m7c6e0e1\u001b[m A4\n",
      "\u001b[33mfda43b6\u001b[m A3\n",
      "\u001b[33m9462363\u001b[m A2\n",
      "\u001b[33m9a11979\u001b[m\u001b[33m (\u001b[m\u001b[mrefs/bisect/good-9a119798f698f858c4856aafa787c8005cb4142f\u001b[m\u001b[33m)\u001b[m A1\n",
      "63\n",
      "BAD\n",
      "Bisecting: 12 revisions left to test after this (roughly 4 steps)\n",
      "[0e82b3572d4e674090c6096e59bbb22af96105c7] A62\n"
     ]
    }
   ],
   "source": [
    "git status\n",
    "./test.sh\n",
    "git bisect good\n",
    "git log --oneline\n",
    "./test.sh\n",
    "git bisect bad "
   ]
  },
  {
   "cell_type": "code",
   "execution_count": 16,
   "metadata": {
    "slideshow": {
     "slide_type": "subslide"
    }
   },
   "outputs": [
    {
     "name": "stdout",
     "output_type": "stream",
     "text": [
      "GOOD\n",
      "Bisecting: 6 revisions left to test after this (roughly 3 steps)\n",
      "[2b0bce15cd73fbd0c2a28f33cfb4b3933ddf0cbb] A68\n",
      "63\n",
      "BAD\n",
      "Bisecting: 2 revisions left to test after this (roughly 2 steps)\n",
      "[8f00016d74e9c60514abb0f9f82dd785a18e65a1] A65\n",
      "63\n",
      "BAD\n",
      "Bisecting: 0 revisions left to test after this (roughly 1 step)\n",
      "[9fc3cbca45bde8fc99f8d9ffa128c241672a6b50] A64\n",
      "63\n",
      "BAD\n",
      "Bisecting: 0 revisions left to test after this (roughly 0 steps)\n",
      "[7a425f7e8683888b14f8aa14603eba4adc1f0984] A63\n",
      "63\n",
      "BAD\n",
      "7a425f7e8683888b14f8aa14603eba4adc1f0984 is the first bad commit\n",
      "\u001b[33mcommit 7a425f7e8683888b14f8aa14603eba4adc1f0984\u001b[m\n",
      "Author: Michał Rowicki <mirowicki@gmail.com>\n",
      "Date:   Fri Dec 7 16:35:06 2018 +0100\n",
      "\n",
      "    A63\n",
      "\n",
      ":100644 100644 aea6bd8ad6845cca3804a87230fee1b69651643d 55200b3d5d7c0e515eaccaf8465a295017e88249 M\tprojectfile\n"
     ]
    }
   ],
   "source": [
    "./test.sh\n",
    "git bisect good\n",
    "./test.sh\n",
    "git bisect bad\n",
    "./test.sh\n",
    "git bisect bad\n",
    "./test.sh\n",
    "git bisect bad\n",
    "./test.sh\n",
    "git bisect bad"
   ]
  },
  {
   "cell_type": "code",
   "execution_count": 17,
   "metadata": {
    "scrolled": true,
    "slideshow": {
     "slide_type": "subslide"
    }
   },
   "outputs": [
    {
     "name": "stdout",
     "output_type": "stream",
     "text": [
      "\u001b[33m7a425f7\u001b[m\u001b[33m (\u001b[m\u001b[1;36mHEAD\u001b[m\u001b[33m, \u001b[m\u001b[mrefs/bisect/bad\u001b[m\u001b[33m)\u001b[m A63\n",
      "\u001b[33m0e82b35\u001b[m\u001b[33m (\u001b[m\u001b[mrefs/bisect/good-0e82b3572d4e674090c6096e59bbb22af96105c7\u001b[m\u001b[33m)\u001b[m A62\n",
      "\u001b[33m0b1debb\u001b[m A61\n",
      "\u001b[33m79ab801\u001b[m A60\n",
      "\u001b[33md2dc279\u001b[m A59\n",
      "\u001b[33m626484e\u001b[m A58\n",
      "\u001b[33m2ebe2b2\u001b[m A57\n",
      "\u001b[33m6d098b9\u001b[m A56\n",
      "\u001b[33ma209e2a\u001b[m A55\n",
      "\u001b[33mcc5f907\u001b[m A54\n",
      "\u001b[33md6f5c85\u001b[m A53\n",
      "\u001b[33mef581d7\u001b[m A52\n",
      "\u001b[33m91b5a94\u001b[m A51\n",
      "\u001b[33m4735ae8\u001b[m\u001b[33m (\u001b[m\u001b[mrefs/bisect/good-4735ae82fb2462da3c1cf5efd019e2f6ae8441e9\u001b[m\u001b[33m)\u001b[m A50\n",
      "\u001b[33m05b5977\u001b[m A49\n",
      "\u001b[33m9977d04\u001b[m A48\n",
      "\u001b[33mdfbe0a7\u001b[m A47\n",
      "\u001b[33m7b2a4e4\u001b[m A46\n",
      "\u001b[33m9731e96\u001b[m A45\n",
      "\u001b[33m9d151d9\u001b[m A44\n",
      "\u001b[33me48763a\u001b[m A43\n",
      "\u001b[33m8d509f9\u001b[m A42\n",
      "\u001b[33m25d2b11\u001b[m A41\n",
      "\u001b[33mb4fd4be\u001b[m A40\n",
      "\u001b[33md2ed9b3\u001b[m A39\n",
      "\u001b[33m301f6a9\u001b[m A38\n",
      "\u001b[33m90eda88\u001b[m A37\n",
      "\u001b[33m9b8868d\u001b[m A36\n",
      "\u001b[33ma01fdcd\u001b[m A35\n",
      "\u001b[33m743a930\u001b[m A34\n",
      "\u001b[33m4fe386a\u001b[m A33\n",
      "\u001b[33m5ed86b7\u001b[m A32\n",
      "\u001b[33mabaa412\u001b[m A31\n",
      "\u001b[33m5202b99\u001b[m A30\n",
      "\u001b[33m261b88b\u001b[m A29\n",
      "\u001b[33m51aefb2\u001b[m A28\n",
      "\u001b[33m2c02e3f\u001b[m A27\n",
      "\u001b[33m5fc94ff\u001b[m A26\n",
      "\u001b[33mc8f6f88\u001b[m A25\n",
      "\u001b[33m81cf9d9\u001b[m A24\n",
      "\u001b[33m6d037d0\u001b[m A23\n",
      "\u001b[33m8772a5d\u001b[m A22\n",
      "\u001b[33m69ecb55\u001b[m A21\n",
      "\u001b[33m1609f20\u001b[m A20\n",
      "\u001b[33mfbbff4d\u001b[m A19\n",
      "\u001b[33m1cef050\u001b[m A18\n",
      "\u001b[33m498d816\u001b[m A17\n",
      "\u001b[33m7e2b35e\u001b[m A16\n",
      "\u001b[33me9cf117\u001b[m A15\n",
      "\u001b[33m4ed3a22\u001b[m A14\n",
      "\u001b[33mcfccc6a\u001b[m A13\n",
      "\u001b[33m42b2f51\u001b[m A12\n",
      "\u001b[33m6e022a9\u001b[m A11\n",
      "\u001b[33me3f1d34\u001b[m A10\n",
      "\u001b[33m6bcf4d2\u001b[m A9\n",
      "\u001b[33m9940b93\u001b[m A8\n",
      "\u001b[33m12d4e43\u001b[m A7\n",
      "\u001b[33mdad836d\u001b[m A6\n",
      "\u001b[33m06522fd\u001b[m A5\n",
      "\u001b[33m7c6e0e1\u001b[m A4\n",
      "\u001b[33mfda43b6\u001b[m A3\n",
      "\u001b[33m9462363\u001b[m A2\n",
      "\u001b[33m9a11979\u001b[m\u001b[33m (\u001b[m\u001b[mrefs/bisect/good-9a119798f698f858c4856aafa787c8005cb4142f\u001b[m\u001b[33m)\u001b[m A1\n"
     ]
    }
   ],
   "source": [
    "git log --oneline"
   ]
  },
  {
   "cell_type": "code",
   "execution_count": 19,
   "metadata": {
    "slideshow": {
     "slide_type": "subslide"
    }
   },
   "outputs": [
    {
     "name": "stdout",
     "output_type": "stream",
     "text": [
      "\u001b[1mdiff --git a/projectfile b/projectfile\u001b[m\n",
      "\u001b[1mindex aea6bd8..55200b3 100644\u001b[m\n",
      "\u001b[1m--- a/projectfile\u001b[m\n",
      "\u001b[1m+++ b/projectfile\u001b[m\n",
      "\u001b[36m@@ -60,3 +60,4 @@\u001b[m\n",
      " 60\u001b[m\n",
      " 61\u001b[m\n",
      " 62\u001b[m\n",
      "\u001b[32m+\u001b[m\u001b[32m63\u001b[m\n"
     ]
    }
   ],
   "source": [
    "git diff HEAD^ HEAD"
   ]
  },
  {
   "cell_type": "markdown",
   "metadata": {
    "slideshow": {
     "slide_type": "fragment"
    }
   },
   "source": [
    "<center><img src=\"img/git-blame.jpg\" width=\"600px\" alt=\"Hunk WTF?!\" style=\"position:center\" /></center>"
   ]
  },
  {
   "cell_type": "code",
   "execution_count": 20,
   "metadata": {
    "scrolled": true,
    "slideshow": {
     "slide_type": "subslide"
    }
   },
   "outputs": [
    {
     "name": "stdout",
     "output_type": "stream",
     "text": [
      "\u001b[01;34m.git\u001b[00m\n",
      "├── BISECT_ANCESTORS_OK\n",
      "├── BISECT_EXPECTED_REV\n",
      "├── BISECT_LOG\n",
      "├── BISECT_NAMES\n",
      "├── BISECT_START\n",
      "├── BISECT_TERMS\n",
      "├── \u001b[01;34mbranches\u001b[00m\n",
      "├── COMMIT_EDITMSG\n",
      "├── config\n",
      "├── description\n",
      "├── HEAD\n",
      "├── \u001b[01;34mhooks\u001b[00m\n",
      "├── index\n",
      "├── \u001b[01;34minfo\u001b[00m\n",
      "├── \u001b[01;34mlogs\u001b[00m\n",
      "├── \u001b[01;34mobjects\u001b[00m\n",
      "├── packed-refs\n",
      "└── \u001b[01;34mrefs\u001b[00m\n",
      "\n",
      "6 directories, 12 files\n",
      "\u001b[01;34m.git/refs\u001b[00m\n",
      "├── \u001b[01;34mbisect\u001b[00m\n",
      "│   ├── bad\n",
      "│   ├── good-0e82b3572d4e674090c6096e59bbb22af96105c7\n",
      "│   ├── good-4735ae82fb2462da3c1cf5efd019e2f6ae8441e9\n",
      "│   └── good-9a119798f698f858c4856aafa787c8005cb4142f\n",
      "├── \u001b[01;34mheads\u001b[00m\n",
      "│   └── master\n",
      "└── \u001b[01;34mtags\u001b[00m\n",
      "\n",
      "3 directories, 5 files\n"
     ]
    }
   ],
   "source": [
    "tree .git -L 1\n",
    "tree .git/refs"
   ]
  },
  {
   "cell_type": "code",
   "execution_count": 21,
   "metadata": {
    "scrolled": true,
    "slideshow": {
     "slide_type": "subslide"
    }
   },
   "outputs": [
    {
     "name": "stdout",
     "output_type": "stream",
     "text": [
      "\n",
      ">> .git/BISECT_ANCESTORS_OK <<\n",
      "\n",
      ">> .git/BISECT_EXPECTED_REV <<\n",
      "7a425f7e8683888b14f8aa14603eba4adc1f0984\n",
      "\n",
      ">> .git/BISECT_NAMES <<\n",
      "\n",
      "\n",
      ">> .git/BISECT_TERMS <<\n",
      "bad\n",
      "good\n",
      "\n",
      ">> .git/BISECT_LOG <<\n",
      "git bisect start\n",
      "# bad: [1eb9267c3136716823e2e78bb07bc31d5817899e] A100\n",
      "git bisect bad 1eb9267c3136716823e2e78bb07bc31d5817899e\n",
      "# good: [9a119798f698f858c4856aafa787c8005cb4142f] A1\n",
      "git bisect good 9a119798f698f858c4856aafa787c8005cb4142f\n",
      "# good: [4735ae82fb2462da3c1cf5efd019e2f6ae8441e9] A50\n",
      "git bisect good 4735ae82fb2462da3c1cf5efd019e2f6ae8441e9\n",
      "# bad: [077a679cdae340adbbf0f2f90cfadccf4d67eabc] A75\n",
      "git bisect bad 077a679cdae340adbbf0f2f90cfadccf4d67eabc\n",
      "# good: [0e82b3572d4e674090c6096e59bbb22af96105c7] A62\n",
      "git bisect good 0e82b3572d4e674090c6096e59bbb22af96105c7\n",
      "# bad: [2b0bce15cd73fbd0c2a28f33cfb4b3933ddf0cbb] A68\n",
      "git bisect bad 2b0bce15cd73fbd0c2a28f33cfb4b3933ddf0cbb\n",
      "# bad: [8f00016d74e9c60514abb0f9f82dd785a18e65a1] A65\n",
      "git bisect bad 8f00016d74e9c60514abb0f9f82dd785a18e65a1\n",
      "# bad: [9fc3cbca45bde8fc99f8d9ffa128c241672a6b50] A64\n",
      "git bisect bad 9fc3cbca45bde8fc99f8d9ffa128c241672a6b50\n",
      "# bad: [7a425f7e8683888b14f8aa14603eba4adc1f0984] A63\n",
      "git bisect bad 7a425f7e8683888b14f8aa14603eba4adc1f0984\n",
      "# first bad commit: [7a425f7e8683888b14f8aa14603eba4adc1f0984] A63\n",
      "\n",
      ">> .git/BISECT_START <<\n",
      "master\n"
     ]
    }
   ],
   "source": [
    "find .git/ -type f | grep BISECT | xargs -I % sh -c \"echo '\\n>> % <<' ; cat %\""
   ]
  },
  {
   "cell_type": "code",
   "execution_count": 23,
   "metadata": {
    "scrolled": true,
    "slideshow": {
     "slide_type": "fragment"
    }
   },
   "outputs": [
    {
     "name": "stdout",
     "output_type": "stream",
     "text": [
      "On branch master\n",
      "nothing to commit, working tree clean\n",
      "We are not bisecting.\n",
      "On branch master\n",
      "nothing to commit, working tree clean\n",
      "\u001b[01;34m.git\u001b[00m\n",
      "├── \u001b[01;34mbranches\u001b[00m\n",
      "├── COMMIT_EDITMSG\n",
      "├── config\n",
      "├── description\n",
      "├── HEAD\n",
      "├── \u001b[01;34mhooks\u001b[00m\n",
      "├── index\n",
      "├── \u001b[01;34minfo\u001b[00m\n",
      "├── \u001b[01;34mlogs\u001b[00m\n",
      "├── \u001b[01;34mobjects\u001b[00m\n",
      "├── packed-refs\n",
      "└── \u001b[01;34mrefs\u001b[00m\n",
      "\n",
      "6 directories, 6 files\n",
      "\u001b[01;34m.git/refs\u001b[00m\n",
      "├── \u001b[01;34mbisect\u001b[00m\n",
      "├── \u001b[01;34mheads\u001b[00m\n",
      "│   └── master\n",
      "└── \u001b[01;34mtags\u001b[00m\n",
      "\n",
      "3 directories, 1 file\n"
     ]
    }
   ],
   "source": [
    "git status\n",
    "git bisect reset\n",
    "git status\n",
    "tree .git -L 1 \n",
    "tree .git/refs"
   ]
  },
  {
   "cell_type": "markdown",
   "metadata": {
    "slideshow": {
     "slide_type": "subslide"
    }
   },
   "source": [
    "### Bisect automatyczny"
   ]
  },
  {
   "cell_type": "code",
   "execution_count": 24,
   "metadata": {
    "scrolled": true,
    "slideshow": {
     "slide_type": "fragment"
    }
   },
   "outputs": [
    {
     "name": "stdout",
     "output_type": "stream",
     "text": [
      "Bisecting: 49 revisions left to test after this (roughly 6 steps)\n",
      "[4735ae82fb2462da3c1cf5efd019e2f6ae8441e9] A50\n",
      "running ./../test_authomatic.sh\n",
      "Bisecting: 24 revisions left to test after this (roughly 5 steps)\n",
      "[077a679cdae340adbbf0f2f90cfadccf4d67eabc] A75\n",
      "running ./../test_authomatic.sh\n",
      "BAD\n",
      "Bisecting: 12 revisions left to test after this (roughly 4 steps)\n",
      "[0e82b3572d4e674090c6096e59bbb22af96105c7] A62\n",
      "running ./../test_authomatic.sh\n",
      "Bisecting: 6 revisions left to test after this (roughly 3 steps)\n",
      "[2b0bce15cd73fbd0c2a28f33cfb4b3933ddf0cbb] A68\n",
      "running ./../test_authomatic.sh\n",
      "BAD\n",
      "Bisecting: 2 revisions left to test after this (roughly 2 steps)\n",
      "[8f00016d74e9c60514abb0f9f82dd785a18e65a1] A65\n",
      "running ./../test_authomatic.sh\n",
      "BAD\n",
      "Bisecting: 0 revisions left to test after this (roughly 1 step)\n",
      "[9fc3cbca45bde8fc99f8d9ffa128c241672a6b50] A64\n",
      "running ./../test_authomatic.sh\n",
      "BAD\n",
      "Bisecting: 0 revisions left to test after this (roughly 0 steps)\n",
      "[7a425f7e8683888b14f8aa14603eba4adc1f0984] A63\n",
      "running ./../test_authomatic.sh\n",
      "BAD\n",
      "7a425f7e8683888b14f8aa14603eba4adc1f0984 is the first bad commit\n",
      "commit 7a425f7e8683888b14f8aa14603eba4adc1f0984\n",
      "Author: Michał Rowicki <mirowicki@gmail.com>\n",
      "Date:   Fri Dec 7 16:35:06 2018 +0100\n",
      "\n",
      "    A63\n",
      "\n",
      ":100644 100644 aea6bd8ad6845cca3804a87230fee1b69651643d 55200b3d5d7c0e515eaccaf8465a295017e88249 M\tprojectfile\n",
      "bisect run success\n",
      "\u001b[31mHEAD detached at \u001b[m7a425f7\n",
      "You are currently bisecting, started from branch 'master'.\n",
      "  (use \"git bisect reset\" to get back to the original branch)\n",
      "\n",
      "nothing to commit, working tree clean\n"
     ]
    }
   ],
   "source": [
    "cat > ../test_authomatic.sh << EOF\n",
    "if ./test.sh | grep BAD\n",
    "then\n",
    "  exit 1\n",
    "else\n",
    "  exit 0\n",
    "fi\n",
    "EOF\n",
    "chmod +x ../test_authomatic.sh\n",
    "git bisect start HEAD HEAD~99 --\n",
    "git bisect run ./../test_authomatic.sh\n",
    "git status"
   ]
  },
  {
   "cell_type": "code",
   "execution_count": 25,
   "metadata": {
    "slideshow": {
     "slide_type": "fragment"
    }
   },
   "outputs": [],
   "source": [
    "cd ~/ && rm -rf bisect && rm test_authomatic.sh"
   ]
  },
  {
   "cell_type": "markdown",
   "metadata": {
    "slideshow": {
     "slide_type": "subslide"
    }
   },
   "source": [
    "### Operator `~` i `^`"
   ]
  },
  {
   "cell_type": "code",
   "execution_count": 26,
   "metadata": {
    "slideshow": {
     "slide_type": "fragment"
    }
   },
   "outputs": [
    {
     "name": "stdout",
     "output_type": "stream",
     "text": [
      "Initialized empty Git repository in /home/wyhasany/bisect-2/.git/\n",
      "[master (root-commit) 279acc3] Init\n",
      " 1 file changed, 0 insertions(+), 0 deletions(-)\n",
      " create mode 100644 aplik\n",
      "\u001b[31mSwitched to a new branch 'agalaz'\n",
      "\u001b[0m[agalaz bc01f47] agalaz bla\n",
      " 1 file changed, 1 insertion(+)\n",
      "\u001b[31mSwitched to branch 'master'\n",
      "\u001b[0m[master a08ee7f] master bla 1\n",
      " 1 file changed, 1 insertion(+)\n",
      "[master 6a741c4] master bla 2\n",
      " 1 file changed, 1 insertion(+)\n",
      "Merge made by the 'recursive' strategy.\n",
      "*   \u001b[33md918b21\u001b[m\u001b[33m (\u001b[m\u001b[1;36mHEAD -> \u001b[m\u001b[1;32mmaster\u001b[m\u001b[33m)\u001b[m merged\n",
      "\u001b[31m|\u001b[m\u001b[32m\\\u001b[m  \n",
      "\u001b[31m|\u001b[m * \u001b[33mbc01f47\u001b[m\u001b[33m (\u001b[m\u001b[1;32magalaz\u001b[m\u001b[33m)\u001b[m agalaz bla\n",
      "* \u001b[32m|\u001b[m \u001b[33m6a741c4\u001b[m master bla 2\n",
      "* \u001b[32m|\u001b[m \u001b[33ma08ee7f\u001b[m master bla 1\n",
      "\u001b[32m|\u001b[m\u001b[32m/\u001b[m  \n",
      "* \u001b[33m279acc3\u001b[m Init\n"
     ]
    }
   ],
   "source": [
    "rm -rf bisect-2 && mkdir bisect-2 && cd bisect-2 && git init && git config commit.gpgsign false\n",
    "touch aplik\n",
    "git add aplik\n",
    "git commit -am 'Init'\n",
    "git checkout -b agalaz\n",
    "echo 'agalaz bla'>> aplik\n",
    "git commit -am 'agalaz bla'\n",
    "git checkout master\n",
    "echo 'master bla 1' >> aplik\n",
    "git commit -am 'master bla 1'\n",
    "echo 'master bla 2' >> aplik\n",
    "git commit -am 'master bla 2'\n",
    "git merge -X ours -m merged agalaz\n",
    "git log --oneline --all --graph"
   ]
  },
  {
   "cell_type": "code",
   "execution_count": 27,
   "metadata": {
    "slideshow": {
     "slide_type": "subslide"
    }
   },
   "outputs": [
    {
     "name": "stdout",
     "output_type": "stream",
     "text": [
      "\u001b[33m6a741c4\u001b[m master bla 2\n",
      "\u001b[33ma08ee7f\u001b[m master bla 1\n",
      "\u001b[33m279acc3\u001b[m Init\n",
      "\u001b[33mbc01f47\u001b[m\u001b[33m (\u001b[m\u001b[1;32magalaz\u001b[m\u001b[33m)\u001b[m agalaz bla\n",
      "\u001b[33m279acc3\u001b[m Init\n",
      "\u001b[33m6a741c4\u001b[m master bla 2\n",
      "\u001b[33ma08ee7f\u001b[m master bla 1\n",
      "\u001b[33m279acc3\u001b[m Init\n",
      "\u001b[33m279acc3\u001b[m Init\n"
     ]
    }
   ],
   "source": [
    "git show --quiet --oneline HEAD^\n",
    "git show --quiet --oneline HEAD^^\n",
    "git show --quiet --oneline HEAD^^^\n",
    "git show --quiet --oneline HEAD^2\n",
    "git show --quiet --oneline HEAD^2^\n",
    "git show --quiet --oneline HEAD~1\n",
    "git show --quiet --oneline HEAD~2\n",
    "git show --quiet --oneline HEAD~2^1\n",
    "git show --quiet --oneline HEAD^2~1"
   ]
  },
  {
   "cell_type": "code",
   "execution_count": 28,
   "metadata": {
    "slideshow": {
     "slide_type": "fragment"
    }
   },
   "outputs": [],
   "source": [
    "cd ~/ && rm -rf bisect-2"
   ]
  },
  {
   "cell_type": "markdown",
   "metadata": {
    "slideshow": {
     "slide_type": "subslide"
    }
   },
   "source": [
    "## Ćwiczenia\n",
    "\n",
    "Do domu\n",
    "\n",
    "Przygotuj analogiczny kod (jak w przykładzie) w języku programowania, którego używasz na co dzień, zrób test wskazujący na wystąpienie błędu i znajdź automatycznie commit, który wprowadził błąd.\n",
    "\n",
    "lub\n",
    "\n",
    "Poczytaj o git bisect\n",
    "\n",
    "https://git-scm.com/docs/git-bisect\n",
    "\n",
    "https://git-scm.com/docs/git-bisect-lk2009.html\n",
    "\n",
    "...ale w domu i tak spróbuj zrobić przykład wyżej! 🤘"
   ]
  },
  {
   "cell_type": "markdown",
   "metadata": {
    "slideshow": {
     "slide_type": "subslide"
    }
   },
   "source": [
    "# Status\n",
    "\n",
    "* [x] ~~...~~\n",
    "* [x] ~~Reflog~~\n",
    "* [x] ~~Cherry picking~~\n",
    "* [x] ~~Git rebase~~\n",
    "* [x] ~~Git bisect~~\n",
    "     * [x] ~~`git bisect`~~\n",
    "     * [x] ~~`^` operator~~\n",
    "     * [x] ~~`~` operator~~\n",
    "     * [x] ~~`git show`~~\n",
    "* [ ] Git fetch vs pull\n",
    "* [ ] Praca z wieloma repozytoriami\n",
    "* [ ] Git push\n",
    "* [ ] Git submodule\n",
    "* [ ] ..."
   ]
  },
  {
   "cell_type": "markdown",
   "metadata": {
    "slideshow": {
     "slide_type": "slide"
    }
   },
   "source": [
    "# Status\n",
    "\n",
    "* [x] ~~...~~\n",
    "* [x] ~~Git add interactive~~\n",
    "* [x] ~~Reflog~~\n",
    "* [x] ~~Cherry picking~~\n",
    "* [x] ~~Git rebase~~\n",
    "* [x] ~~Git bisect~~\n",
    "* [ ] Git fetch vs pull\n",
    "     * [ ] `git fetch`\n",
    "     * [ ] `git pull`\n",
    "* [ ] Praca z wieloma repozytoriami\n",
    "* [ ] Git push\n",
    "* [ ] Git submodule\n",
    "* [ ] ..."
   ]
  },
  {
   "cell_type": "code",
   "execution_count": 29,
   "metadata": {
    "slideshow": {
     "slide_type": "subslide"
    }
   },
   "outputs": [
    {
     "name": "stdout",
     "output_type": "stream",
     "text": [
      "Initialized empty Git repository in /home/wyhasany/pull/git_origin/.git/\n",
      "[master (root-commit) 0bd5e07] plik\n",
      " 1 file changed, 1 insertion(+)\n",
      " create mode 100644 plik\n",
      "\u001b[31mCloning into 'git_cloned'...\n",
      "\u001b[0m\u001b[31mdone.\n",
      "\u001b[0m\u001b[01;34m.\u001b[00m\n",
      "├── \u001b[01;34mgit_cloned\u001b[00m\n",
      "│   └── plik\n",
      "└── \u001b[01;34mgit_origin\u001b[00m\n",
      "    └── plik\n",
      "\n",
      "2 directories, 2 files\n"
     ]
    }
   ],
   "source": [
    "cd ~/ && rm -rf pull && mkdir pull && cd pull\n",
    "mkdir git_origin && cd git_origin && git init && git config commit.gpgsign false\n",
    "echo 'pierwszy commit' > plik\n",
    "git add plik\n",
    "git commit -am plik\n",
    "cd ..\n",
    "git clone git_origin git_cloned\n",
    "tree\n",
    "diff git_origin/plik git_cloned/plik"
   ]
  },
  {
   "cell_type": "code",
   "execution_count": 30,
   "metadata": {
    "slideshow": {
     "slide_type": "subslide"
    }
   },
   "outputs": [
    {
     "name": "stdout",
     "output_type": "stream",
     "text": [
      "6,7c6,11\n",
      "< [commit]\n",
      "< \tgpgsign = false\n",
      "---\n",
      "> [remote \"origin\"]\n",
      "> \turl = /home/wyhasany/pull/git_origin\n",
      "> \tfetch = +refs/heads/*:refs/remotes/origin/*\n",
      "> [branch \"master\"]\n",
      "> \tremote = origin\n",
      "> \tmerge = refs/heads/master\n"
     ]
    },
    {
     "ename": "",
     "evalue": "1",
     "output_type": "error",
     "traceback": []
    }
   ],
   "source": [
    "diff git_origin/.git/config git_cloned/.git/config"
   ]
  },
  {
   "cell_type": "code",
   "execution_count": 31,
   "metadata": {
    "slideshow": {
     "slide_type": "fragment"
    }
   },
   "outputs": [
    {
     "name": "stdout",
     "output_type": "stream",
     "text": [
      "origin\n"
     ]
    }
   ],
   "source": [
    "cd git_cloned\n",
    "git config commit.gpgsign false\n",
    "git remote"
   ]
  },
  {
   "cell_type": "markdown",
   "metadata": {
    "slideshow": {
     "slide_type": "subslide"
    }
   },
   "source": [
    "### Fetch vs Pull\n",
    "\n",
    "* `fetch` pobiera dane nie ruszając naszego repo w oddzielne miejsce (szczegóły w krótce)\n",
    "* `pull` pobiera zmiany ze zdalnego repo dla wybranego brancha i merge'uje do aktualnego brancha"
   ]
  },
  {
   "cell_type": "code",
   "execution_count": 32,
   "metadata": {
    "slideshow": {
     "slide_type": "fragment"
    }
   },
   "outputs": [
    {
     "name": "stdout",
     "output_type": "stream",
     "text": [
      "/home/wyhasany/pull/git_cloned\n",
      "origin\t/home/wyhasany/pull/git_origin (fetch)\n",
      "origin\t/home/wyhasany/pull/git_origin (push)\n"
     ]
    }
   ],
   "source": [
    "pwd\n",
    "git remote -v"
   ]
  },
  {
   "cell_type": "code",
   "execution_count": 33,
   "metadata": {
    "slideshow": {
     "slide_type": "fragment"
    }
   },
   "outputs": [
    {
     "name": "stdout",
     "output_type": "stream",
     "text": [
      "[master ca8e995] fetchable\n",
      " 1 file changed, 1 insertion(+)\n",
      "* \u001b[33mca8e995\u001b[m\u001b[33m (\u001b[m\u001b[1;36mHEAD -> \u001b[m\u001b[1;32mmaster\u001b[m\u001b[33m)\u001b[m fetchable\n",
      "* \u001b[33m0bd5e07\u001b[m plik\n"
     ]
    }
   ],
   "source": [
    "cd ../git_origin\n",
    "echo 'fetchable change' >> plik\n",
    "git commit -am fetchable\n",
    "git log --oneline --graph --all"
   ]
  },
  {
   "cell_type": "code",
   "execution_count": 34,
   "metadata": {
    "slideshow": {
     "slide_type": "subslide"
    }
   },
   "outputs": [
    {
     "name": "stdout",
     "output_type": "stream",
     "text": [
      "\u001b[31mremote: Counting objects: 3, done.\u001b[K\n",
      "\u001b[0m\u001b[31mremote: Total 3 (delta 0), reused 0 (delta 0)\u001b[K\n",
      "\u001b[0m\u001b[31mUnpacking objects: 100% (3/3), done.\n",
      "\u001b[0m\u001b[31mFrom /home/wyhasany/pull/git_origin\n",
      "\u001b[0m\u001b[31m * branch            master     -> FETCH_HEAD\n",
      "\u001b[0m\u001b[31m   0bd5e07..ca8e995  master     -> origin/master\n",
      "\u001b[0m"
     ]
    }
   ],
   "source": [
    "cd ../git_cloned\n",
    "git fetch origin master"
   ]
  },
  {
   "cell_type": "code",
   "execution_count": 35,
   "metadata": {
    "slideshow": {
     "slide_type": "fragment"
    }
   },
   "outputs": [
    {
     "name": "stdout",
     "output_type": "stream",
     "text": [
      "* \u001b[33mca8e995\u001b[m\u001b[33m (\u001b[m\u001b[1;31morigin/master\u001b[m\u001b[33m, \u001b[m\u001b[1;31morigin/HEAD\u001b[m\u001b[33m)\u001b[m fetchable\n",
      "* \u001b[33m0bd5e07\u001b[m\u001b[33m (\u001b[m\u001b[1;36mHEAD -> \u001b[m\u001b[1;32mmaster\u001b[m\u001b[33m)\u001b[m plik\n",
      "* \u001b[32mmaster\u001b[m\n",
      "  \u001b[31mremotes/origin/HEAD\u001b[m -> origin/master\n",
      "  \u001b[31mremotes/origin/master\u001b[m\n",
      "\u001b[01;34m.git/refs\u001b[00m\n",
      "├── \u001b[01;34mheads\u001b[00m\n",
      "│   └── master\n",
      "├── \u001b[01;34mremotes\u001b[00m\n",
      "│   └── \u001b[01;34morigin\u001b[00m\n",
      "│       ├── HEAD\n",
      "│       └── master\n",
      "└── \u001b[01;34mtags\u001b[00m\n",
      "\n",
      "4 directories, 3 files\n"
     ]
    }
   ],
   "source": [
    "git log --oneline --graph --all\n",
    "git branch --all\n",
    "tree .git/refs"
   ]
  },
  {
   "cell_type": "code",
   "execution_count": 36,
   "metadata": {
    "slideshow": {
     "slide_type": "subslide"
    }
   },
   "outputs": [
    {
     "name": "stdout",
     "output_type": "stream",
     "text": [
      "Updating 0bd5e07..ca8e995\n",
      "Fast-forward\n",
      " plik | 1 \u001b[32m+\u001b[m\n",
      " 1 file changed, 1 insertion(+)\n",
      "* \u001b[33mca8e995\u001b[m\u001b[33m (\u001b[m\u001b[1;36mHEAD -> \u001b[m\u001b[1;32mmaster\u001b[m\u001b[33m, \u001b[m\u001b[1;31morigin/master\u001b[m\u001b[33m, \u001b[m\u001b[1;31morigin/HEAD\u001b[m\u001b[33m)\u001b[m fetchable\n",
      "* \u001b[33m0bd5e07\u001b[m plik\n"
     ]
    }
   ],
   "source": [
    "git merge origin/master\n",
    "git log --oneline --graph --all"
   ]
  },
  {
   "cell_type": "code",
   "execution_count": 37,
   "metadata": {
    "slideshow": {
     "slide_type": "fragment"
    }
   },
   "outputs": [
    {
     "name": "stdout",
     "output_type": "stream",
     "text": [
      "[master 0c0269c] pull\n",
      " 1 file changed, 1 insertion(+)\n",
      "* \u001b[33m0c0269c\u001b[m\u001b[33m (\u001b[m\u001b[1;36mHEAD -> \u001b[m\u001b[1;32mmaster\u001b[m\u001b[33m)\u001b[m pull\n",
      "* \u001b[33mca8e995\u001b[m fetchable\n",
      "* \u001b[33m0bd5e07\u001b[m plik\n",
      "\u001b[31mremote: Counting objects: 3, done.\u001b[K\n",
      "\u001b[0m\u001b[31mremote: Total 3 (delta 0), reused 0 (delta 0)\u001b[K\n",
      "\u001b[0m\u001b[31mUnpacking objects: 100% (3/3), done.\n",
      "\u001b[0m\u001b[31mFrom /home/wyhasany/pull/git_origin\n",
      "\u001b[0m\u001b[31m * branch            master     -> FETCH_HEAD\n",
      "\u001b[0m\u001b[31m   ca8e995..0c0269c  master     -> origin/master\n",
      "\u001b[0mUpdating ca8e995..0c0269c\n",
      "Fast-forward\n",
      " plik | 1 \u001b[32m+\u001b[m\n",
      " 1 file changed, 1 insertion(+)\n",
      "* \u001b[33m0c0269c\u001b[m\u001b[33m (\u001b[m\u001b[1;36mHEAD -> \u001b[m\u001b[1;32mmaster\u001b[m\u001b[33m, \u001b[m\u001b[1;31morigin/master\u001b[m\u001b[33m, \u001b[m\u001b[1;31morigin/HEAD\u001b[m\u001b[33m)\u001b[m pull\n",
      "* \u001b[33mca8e995\u001b[m fetchable\n",
      "* \u001b[33m0bd5e07\u001b[m plik\n"
     ]
    }
   ],
   "source": [
    "cd ../git_origin\n",
    "echo 'pullable change' >> plik\n",
    "git commit -am 'pull'\n",
    "git log --oneline --graph --all\n",
    "cd ../git_cloned\n",
    "git pull origin master\n",
    "git log --oneline --graph --all"
   ]
  },
  {
   "cell_type": "code",
   "execution_count": null,
   "metadata": {
    "slideshow": {
     "slide_type": "fragment"
    }
   },
   "outputs": [],
   "source": [
    "cd ~/ && rm -rf pull"
   ]
  },
  {
   "cell_type": "markdown",
   "metadata": {
    "slideshow": {
     "slide_type": "subslide"
    }
   },
   "source": [
    "### Ćwiczenia\n",
    "\n",
    "Do domu:\n",
    "\n",
    "1. Pobierz dowolne repo z githuba, które ma więcej niż dwa branche\n",
    "2. Utwórz nową gałąź `atom`\n",
    "3. Zrób `git fetch origin jakaś_gałąż`\n",
    "4. Zrób merge do aktualnej gałęzi\n",
    "5. Zrób `git pull origin inna_gałąź`\n",
    "6. Odpowiedz sobie jakie są różnice w obu podejściach.="
   ]
  },
  {
   "cell_type": "markdown",
   "metadata": {
    "slideshow": {
     "slide_type": "subslide"
    }
   },
   "source": [
    "# Status\n",
    "\n",
    "* [x] ~~...~~\n",
    "* [x] ~~Git add interactive~~\n",
    "* [x] ~~Reflog~~\n",
    "* [x] ~~Cherry picking~~\n",
    "* [x] ~~Git rebase~~\n",
    "* [x] ~~Git bisect~~\n",
    "* [x] ~~Git fetch vs pull~~\n",
    "     * [x] ~~`git fetch`~~\n",
    "     * [x] ~~`git pull`~~\n",
    "* [ ] Praca z wieloma repozytoriami\n",
    "* [ ] Git push\n",
    "* [ ] Git submodule\n",
    "* [ ] ..."
   ]
  },
  {
   "cell_type": "markdown",
   "metadata": {
    "slideshow": {
     "slide_type": "slide"
    }
   },
   "source": [
    "# Status\n",
    "\n",
    "* [x] ~~...~~\n",
    "* [x] ~~Reflog~~\n",
    "* [x] ~~Cherry picking~~\n",
    "* [x] ~~Git rebase~~\n",
    "* [x] ~~Git bisect~~\n",
    "* [x] ~~Git fetch vs pull~~\n",
    "* [x] Praca z wieloma repozytoriami\n",
    "     * [ ] tworzenie wielu remote'ów\n",
    "     * [ ] przerzucanie zmian pomiędzy wieloma remote'ami\n",
    "* [ ] Git push\n",
    "* [ ] Git submodule\n",
    "* [ ] Git log\n",
    "* [ ] Git squash\n",
    "* [ ] ..."
   ]
  },
  {
   "cell_type": "markdown",
   "metadata": {
    "slideshow": {
     "slide_type": "subslide"
    }
   },
   "source": [
    "## Przykład"
   ]
  },
  {
   "cell_type": "code",
   "execution_count": null,
   "metadata": {
    "slideshow": {
     "slide_type": "fragment"
    }
   },
   "outputs": [],
   "source": [
    "cd ~/ && rm -rf pushing && mkdir pushing && cd pushing\n",
    "mkdir git-origin && cd git-origin && git init && git config commit.gpgsign false\n",
    "echo 'first commit' > file\n",
    "git add file\n",
    "git commit -am file\n",
    "cd ..\n",
    "git clone git-origin git-clone"
   ]
  },
  {
   "cell_type": "code",
   "execution_count": null,
   "metadata": {
    "slideshow": {
     "slide_type": "fragment"
    }
   },
   "outputs": [],
   "source": [
    "cd git-origin\n",
    "git branch -a -v\n",
    "cd ../git-clone\n",
    "git config commit.gpgsign false\n",
    "git branch -a -v\n",
    "cd .."
   ]
  },
  {
   "cell_type": "code",
   "execution_count": null,
   "metadata": {
    "slideshow": {
     "slide_type": "subslide"
    }
   },
   "outputs": [],
   "source": [
    "cd git-clone\n",
    "git checkout -b abranch\n",
    "echo 'cloned abranch commit' >> file\n",
    "git commit -am 'cloned abranch commit'\n",
    "git push origin abranch"
   ]
  },
  {
   "cell_type": "markdown",
   "metadata": {
    "slideshow": {
     "slide_type": "fragment"
    }
   },
   "source": [
    "### A co jeśli remote ma inny content?"
   ]
  },
  {
   "cell_type": "code",
   "execution_count": null,
   "metadata": {
    "slideshow": {
     "slide_type": "subslide"
    }
   },
   "outputs": [],
   "source": [
    "cd ..\n",
    "rm -rf git-origin git-clone\n",
    "mkdir git-origin && cd git-origin\n",
    "git init && git config commit.gpgsign false\n",
    "echo 'first commit' > file\n",
    "git add file\n",
    "git commit -am file\n",
    "cd ..\n",
    "git clone git-origin git-clone\n",
    "cd git-clone\n",
    "git config commit.gpgsign false\n",
    "git checkout -b abranch\n",
    "echo 'cloned abranch commit' >> file\n",
    "git commit -am 'cloned abranch commit'\n",
    "cd ../git-origin\n",
    "git checkout -b abranch\n",
    "echo 'origin abranch commit' >> file\n",
    "git commit -am 'origin abranch commit'\n",
    "cd ../git-clone\n",
    "git push origin abranch:abranch"
   ]
  },
  {
   "cell_type": "code",
   "execution_count": null,
   "metadata": {
    "slideshow": {
     "slide_type": "subslide"
    }
   },
   "outputs": [],
   "source": [
    "git fetch origin\n",
    "git branch -v -a\n",
    "echo\n",
    "git log --oneline --graph --all"
   ]
  },
  {
   "cell_type": "code",
   "execution_count": null,
   "metadata": {
    "slideshow": {
     "slide_type": "fragment"
    }
   },
   "outputs": [],
   "source": [
    "git merge remotes/origin/abranch"
   ]
  },
  {
   "cell_type": "code",
   "execution_count": null,
   "metadata": {
    "slideshow": {
     "slide_type": "subslide"
    }
   },
   "outputs": [],
   "source": [
    "cat file"
   ]
  },
  {
   "cell_type": "markdown",
   "metadata": {
    "slideshow": {
     "slide_type": "subslide"
    }
   },
   "source": [
    "### Trzy połączone repozytoria - przykład"
   ]
  },
  {
   "cell_type": "code",
   "execution_count": null,
   "metadata": {
    "slideshow": {
     "slide_type": "fragment"
    }
   },
   "outputs": [],
   "source": [
    "cd ~/ && rm -rf remotes && mkdir remotes && cd remotes\n",
    "mkdir git-origin && cd git-origin && git init && git config commit.gpgsign false\n",
    "echo 'first commit' > file\n",
    "git add file\n",
    "git commit -am file\n",
    "cd ..\n",
    "git clone git-origin alice-cloned\n",
    "git clone git-origin bob-cloned\n",
    "#Alice dodaje zmiany na swoim masterze\n",
    "cd alice-cloned\n",
    "git config commit.gpgsign false\n",
    "echo alice-change >> file\n",
    "git commit -am 'alice change'\n",
    "git log --oneline --graph --all"
   ]
  },
  {
   "cell_type": "markdown",
   "metadata": {
    "slideshow": {
     "slide_type": "subslide"
    }
   },
   "source": [
    "## Jak Bob może pobrać zmiany Alice?"
   ]
  },
  {
   "cell_type": "markdown",
   "metadata": {
    "slideshow": {
     "slide_type": "fragment"
    }
   },
   "source": [
    "1. DODAJ repo Alice jako remote u Boba\n",
    "2. FETCH zmiany od Alice z gałęzi master\n",
    "3. MERGE tych zmian w lokalnym repozytorium Boba (lub zamiast 2. i 3. użyć `git pull`)"
   ]
  },
  {
   "cell_type": "code",
   "execution_count": null,
   "metadata": {
    "slideshow": {
     "slide_type": "subslide"
    }
   },
   "outputs": [],
   "source": [
    "cd ../bob-cloned\n",
    "git config commit.gpgsign false\n",
    "git remote add alice ../alice-cloned\n",
    "git remote -v"
   ]
  },
  {
   "cell_type": "code",
   "execution_count": null,
   "metadata": {
    "slideshow": {
     "slide_type": "fragment"
    }
   },
   "outputs": [],
   "source": [
    "git fetch alice"
   ]
  },
  {
   "cell_type": "code",
   "execution_count": null,
   "metadata": {
    "slideshow": {
     "slide_type": "fragment"
    }
   },
   "outputs": [],
   "source": [
    "git branch -vv -a"
   ]
  },
  {
   "cell_type": "code",
   "execution_count": null,
   "metadata": {
    "slideshow": {
     "slide_type": "subslide"
    }
   },
   "outputs": [],
   "source": [
    "git merge alice/master\n",
    "#git merge remotes/alice/master"
   ]
  },
  {
   "cell_type": "code",
   "execution_count": null,
   "metadata": {
    "slideshow": {
     "slide_type": "fragment"
    }
   },
   "outputs": [],
   "source": [
    "cat file"
   ]
  },
  {
   "cell_type": "code",
   "execution_count": null,
   "metadata": {
    "slideshow": {
     "slide_type": "fragment"
    }
   },
   "outputs": [],
   "source": [
    "cd ~/ && rm -rf remotes"
   ]
  },
  {
   "cell_type": "markdown",
   "metadata": {
    "slideshow": {
     "slide_type": "subslide"
    }
   },
   "source": [
    "## Ćwiczenia\n",
    "\n",
    "1. Stwórz repozytorium gita i sklonuj je obok. Zrób zmianę w pierwszym repozytorium na gałęzi master, sfetch'uj ją, a  następnie zmerge'uj\n",
    "2. Stwórz zmianę w jednym pliku na obu repozytoriach, która wywoła konflikt. Rozwiąż konflikt po obu stronach tak, aby repozytoria były spójne.\n",
    "3. Zrób to samo co w 2. tylko na trzech repozytoriach (np. na dwóch klonach)"
   ]
  },
  {
   "cell_type": "markdown",
   "metadata": {
    "slideshow": {
     "slide_type": "subslide"
    }
   },
   "source": [
    "# Status\n",
    "\n",
    "* [x] ~~...~~\n",
    "* [x] ~~Reflog~~\n",
    "* [x] ~~Cherry picking~~\n",
    "* [x] ~~Git rebase~~\n",
    "* [x] ~~Git bisect~~\n",
    "* [x] ~~Git fetch vs pull~~\n",
    "* [x] ~~Praca z wieloma repozytoriami~~\n",
    "     * [x] ~~tworzenie wielu remote'ów~~\n",
    "     * [x] ~~przerzucanie zmian pomiędzy wieloma remote'ami~~\n",
    "* [ ] Git push\n",
    "* [ ] Git submodule\n",
    "* [ ] Git log\n",
    "* [ ] ..."
   ]
  },
  {
   "cell_type": "markdown",
   "metadata": {
    "slideshow": {
     "slide_type": "slide"
    }
   },
   "source": [
    "# Status\n",
    "\n",
    "* [x] ~~...~~\n",
    "* [x] ~~Reflog~~\n",
    "* [x] ~~Cherry picking~~\n",
    "* [x] ~~Git rebase~~\n",
    "* [x] ~~Git bisect~~\n",
    "* [x] ~~Git fetch vs pull~~\n",
    "* [x] ~~Praca z wieloma repozytoriami~~\n",
    "* [ ] Git push\n",
    "     * [ ] `git push`\n",
    "     * [ ] błędy przy `git push`\n",
    "* [ ] Git submodule\n",
    "* [ ] Git log\n",
    "* [ ] ..."
   ]
  },
  {
   "cell_type": "markdown",
   "metadata": {
    "slideshow": {
     "slide_type": "subslide"
    }
   },
   "source": [
    "## Przykład"
   ]
  },
  {
   "cell_type": "code",
   "execution_count": null,
   "metadata": {
    "slideshow": {
     "slide_type": "fragment"
    }
   },
   "outputs": [],
   "source": [
    "cd ~/ && rm -rf pushing && mkdir pushing && cd pushing\n",
    "mkdir git-origin && cd git-origin && git init && git config commit.gpgsign false\n",
    "echo 'first commit' > file\n",
    "git add file\n",
    "git commit -am file\n",
    "cd ..\n",
    "git clone git-origin git-clone"
   ]
  },
  {
   "cell_type": "code",
   "execution_count": null,
   "metadata": {
    "slideshow": {
     "slide_type": "fragment"
    }
   },
   "outputs": [],
   "source": [
    "cd git-origin\n",
    "git branch -a -v\n",
    "cd ../git-clone\n",
    "git config commit.gpgsign false\n",
    "git branch -a -v\n",
    "cd .."
   ]
  },
  {
   "cell_type": "code",
   "execution_count": null,
   "metadata": {
    "slideshow": {
     "slide_type": "subslide"
    }
   },
   "outputs": [],
   "source": [
    "cd git-clone\n",
    "git checkout -b abranch\n",
    "echo 'cloned abranch commit' >> file\n",
    "git commit -am 'cloned abranch commit'\n",
    "git push origin abranch"
   ]
  },
  {
   "cell_type": "markdown",
   "metadata": {
    "slideshow": {
     "slide_type": "fragment"
    }
   },
   "source": [
    "### A co jeśli remote ma inny content?"
   ]
  },
  {
   "cell_type": "code",
   "execution_count": null,
   "metadata": {
    "slideshow": {
     "slide_type": "subslide"
    }
   },
   "outputs": [],
   "source": [
    "cd ..\n",
    "rm -rf git-origin git-clone\n",
    "mkdir git-origin && cd git-origin\n",
    "git init && git config commit.gpgsign false\n",
    "echo 'first commit' > file\n",
    "git add file\n",
    "git commit -am file\n",
    "cd ..\n",
    "git clone git-origin git-clone\n",
    "cd git-clone\n",
    "git config commit.gpgsign false\n",
    "git checkout -b abranch\n",
    "echo 'cloned abranch commit' >> file\n",
    "git commit -am 'cloned abranch commit'\n",
    "cd ../git-origin\n",
    "git checkout -b abranch\n",
    "echo 'origin abranch commit' >> file\n",
    "git commit -am 'origin abranch commit'\n",
    "cd ../git-clone\n",
    "git push origin abranch:abranch"
   ]
  },
  {
   "cell_type": "code",
   "execution_count": null,
   "metadata": {
    "slideshow": {
     "slide_type": "subslide"
    }
   },
   "outputs": [],
   "source": [
    "git fetch origin\n",
    "git branch -v -a\n",
    "echo\n",
    "git log --oneline --graph --all"
   ]
  },
  {
   "cell_type": "code",
   "execution_count": null,
   "metadata": {
    "slideshow": {
     "slide_type": "fragment"
    }
   },
   "outputs": [],
   "source": [
    "git merge remotes/origin/abranch"
   ]
  },
  {
   "cell_type": "code",
   "execution_count": null,
   "metadata": {
    "slideshow": {
     "slide_type": "subslide"
    }
   },
   "outputs": [],
   "source": [
    "cat file"
   ]
  },
  {
   "cell_type": "code",
   "execution_count": null,
   "metadata": {
    "slideshow": {
     "slide_type": "fragment"
    }
   },
   "outputs": [],
   "source": [
    "sed -i '2d' file\n",
    "sed -i '3d' file\n",
    "sed -i '4d' file\n",
    "cat file\n",
    "git status"
   ]
  },
  {
   "cell_type": "code",
   "execution_count": null,
   "metadata": {
    "slideshow": {
     "slide_type": "fragment"
    }
   },
   "outputs": [],
   "source": [
    "git commit -am 'merged conflict on file'\n",
    "git log --oneline --graph --all"
   ]
  },
  {
   "cell_type": "markdown",
   "metadata": {
    "slideshow": {
     "slide_type": "subslide"
    }
   },
   "source": [
    "### a co gdy gałąź istnieje tylko na remote?"
   ]
  },
  {
   "cell_type": "code",
   "execution_count": null,
   "metadata": {
    "slideshow": {
     "slide_type": "fragment"
    }
   },
   "outputs": [],
   "source": [
    "cd ..\n",
    "rm -rf git-origin git-clone\n",
    "mkdir git-origin\n",
    "cd git-origin\n",
    "git init && git config commit.gpgsign false\n",
    "echo 'first commit' > file\n",
    "git add file\n",
    "git commit -am file\n",
    "cd ..\n",
    "git clone git-origin git-clone\n",
    "cd git-origin\n",
    "git checkout -b abranch\n",
    "echo 'origin abranch commit' >> file\n",
    "git commit -am 'cloned abranch commit'\n",
    "git branch -a"
   ]
  },
  {
   "cell_type": "code",
   "execution_count": null,
   "metadata": {
    "slideshow": {
     "slide_type": "fragment"
    }
   },
   "outputs": [],
   "source": [
    "cd ../git-clone\n",
    "git config commit.gpgsign false\n",
    "git branch -a\n",
    "echo\n",
    "git remote -v"
   ]
  },
  {
   "cell_type": "code",
   "execution_count": null,
   "metadata": {
    "slideshow": {
     "slide_type": "subslide"
    }
   },
   "outputs": [],
   "source": [
    "git fetch origin"
   ]
  },
  {
   "cell_type": "code",
   "execution_count": null,
   "metadata": {
    "slideshow": {
     "slide_type": "fragment"
    }
   },
   "outputs": [],
   "source": [
    "git branch -a"
   ]
  },
  {
   "cell_type": "code",
   "execution_count": null,
   "metadata": {
    "slideshow": {
     "slide_type": "fragment"
    }
   },
   "outputs": [],
   "source": [
    "git checkout abranch\n",
    "git branch -a -vv\n",
    "echo\n",
    "git log --oneline --graph --all"
   ]
  },
  {
   "cell_type": "markdown",
   "metadata": {
    "slideshow": {
     "slide_type": "subslide"
    }
   },
   "source": [
    "### a jak śledzić zdalne gałęzie z różnymi nazwami?"
   ]
  },
  {
   "cell_type": "code",
   "execution_count": null,
   "metadata": {
    "slideshow": {
     "slide_type": "fragment"
    }
   },
   "outputs": [],
   "source": [
    "cd ..\n",
    "rm -rf git-origin git-clone\n",
    "mkdir git-origin\n",
    "cd git-origin\n",
    "git init\n",
    "git config commit.gpgsign off\n",
    "echo 'first commit' > file\n",
    "git add file\n",
    "git commit -am file\n",
    "cd ..\n",
    "git clone git-origin git-clone\n",
    "cd git-clone\n",
    "git config commit.gpgsign off\n",
    "git checkout -b abranch\n",
    "echo 'origin abranch commit' >> file\n",
    "git commit -am 'cloned abranch commit'\n",
    "git push"
   ]
  },
  {
   "cell_type": "code",
   "execution_count": null,
   "metadata": {
    "slideshow": {
     "slide_type": "subslide"
    }
   },
   "outputs": [],
   "source": [
    "git branch -a -vv"
   ]
  },
  {
   "cell_type": "code",
   "execution_count": null,
   "metadata": {
    "slideshow": {
     "slide_type": "subslide"
    }
   },
   "outputs": [],
   "source": [
    "#git push --set-upstream origin abranch\n",
    "#git push -u origin abranch\n",
    "git push origin abranch\n",
    "echo\n",
    "git branch -a -vv"
   ]
  },
  {
   "cell_type": "code",
   "execution_count": null,
   "metadata": {
    "slideshow": {
     "slide_type": "fragment"
    }
   },
   "outputs": [],
   "source": [
    "git push -u origin abranch\n",
    "echo\n",
    "git branch -a -vv"
   ]
  },
  {
   "cell_type": "code",
   "execution_count": null,
   "metadata": {
    "slideshow": {
     "slide_type": "fragment"
    }
   },
   "outputs": [],
   "source": [
    "cd ~/ && rm -rf pushing"
   ]
  },
  {
   "cell_type": "markdown",
   "metadata": {
    "slideshow": {
     "slide_type": "subslide"
    }
   },
   "source": [
    "## Ćwiczenia\n",
    "\n",
    "1. Stwórz repozytorium na GitHub\n",
    "2. Dodaj do niego jakąś treść (prosty plik płaski zrobiony w GUI)\n",
    "3. Sklonuj repozytorium, stwórz gałąź i wypchmij ją na serwer zdalny\n",
    "4. Zobacz gałąź na GitHubie"
   ]
  },
  {
   "cell_type": "markdown",
   "metadata": {
    "slideshow": {
     "slide_type": "subslide"
    }
   },
   "source": [
    "# Status\n",
    "\n",
    "* [x] ~~...~~\n",
    "* [x] ~~Reflog~~\n",
    "* [x] ~~Cherry picking~~\n",
    "* [x] ~~Git rebase~~\n",
    "* [x] ~~Git bisect~~\n",
    "* [x] ~~Git fetch vs pull~~\n",
    "* [x] ~~Praca z wieloma repozytoriami~~\n",
    "* [x] ~~Git push~~\n",
    "     * [x] ~~`git push`~~\n",
    "     * [x] ~~błędy przy `git push`~~\n",
    "* [ ] Git submodule\n",
    "* [ ] Git log\n",
    "* [ ] ..."
   ]
  },
  {
   "cell_type": "markdown",
   "metadata": {
    "slideshow": {
     "slide_type": "slide"
    }
   },
   "source": [
    "# Status\n",
    "\n",
    "* [x] ~~...~~\n",
    "* [x] ~~Reflog~~\n",
    "* [x] ~~Cherry picking~~\n",
    "* [x] ~~Git rebase~~\n",
    "* [x] ~~Git bisect~~\n",
    "* [x] ~~Git fetch vs pull~~\n",
    "* [x] ~~Praca z wieloma repozytoriami~~\n",
    "* [x] ~~Git push~~\n",
    "* [ ] Git submodule\n",
    "* [ ] Git log\n",
    "* [ ] Git squash\n",
    "* [ ] ..."
   ]
  },
  {
   "cell_type": "markdown",
   "metadata": {
    "slideshow": {
     "slide_type": "subslide"
    }
   },
   "source": [
    "## Przykład - biblioteka"
   ]
  },
  {
   "cell_type": "code",
   "execution_count": null,
   "metadata": {
    "slideshow": {
     "slide_type": "fragment"
    }
   },
   "outputs": [],
   "source": [
    "cd ~/ && rm -rf submodules && mkdir submodules && cd submodules && git init && git config commit.gpgsign false\n",
    "echo 'A' > file\n",
    "git add file\n",
    "git commit -am 'a'\n",
    "git checkout -b experimental\n",
    "echo 'C - EXPERIMENTAL' >> file\n",
    "git commit -am EXPERIMENTAL\n",
    "git checkout master\n",
    "echo 'B' >> file\n",
    "git commit -am 'B'\n",
    "git log --oneline --all --graph"
   ]
  },
  {
   "cell_type": "markdown",
   "metadata": {
    "slideshow": {
     "slide_type": "subslide"
    }
   },
   "source": [
    "## Użycie biblioteki z konkretnego brancha `experimental`"
   ]
  },
  {
   "cell_type": "code",
   "execution_count": null,
   "metadata": {
    "slideshow": {
     "slide_type": "fragment"
    }
   },
   "outputs": [],
   "source": [
    "cd ~/ && rm -rf repo && mkdir repo && cd repo && git init && git config commit.gpgsign false\n",
    "echo 'source lib' > file\n",
    "git add file\n",
    "git commit -am 'source lib'\n",
    "echo 'do something with experimental' >> file\n",
    "cat file"
   ]
  },
  {
   "cell_type": "code",
   "execution_count": null,
   "metadata": {
    "scrolled": true,
    "slideshow": {
     "slide_type": "subslide"
    }
   },
   "outputs": [],
   "source": [
    "git submodule init\n",
    "echo\n",
    "git submodule add ../submodules\n",
    "echo \n",
    "ls -a\n",
    "echo\n",
    "ls -a submodules/\n",
    "echo\n",
    "cat .gitmodules\n",
    "echo\n",
    "git submodule status"
   ]
  },
  {
   "cell_type": "markdown",
   "metadata": {
    "slideshow": {
     "slide_type": "subslide"
    }
   },
   "source": [
    "### Pytania jakie powinniśmy sobie zadać\n",
    "\n",
    "1. Jak przełączyć się na gałąż `experimental`?\n",
    "2. Co się stanie jak coś się zmieni na `experimental`? Czy mój kod sam się zaktualizuje?\n",
    "3. Co się stanie jeśli wprowadzę zmiany w submodule? Czy mogę pushować? Czy mogę trzymać te zmiany prywatnie w moim repo?\n",
    "4. Co jeśli zdarzą się konflikty pomiędzy tymi repozytoriami?"
   ]
  },
  {
   "cell_type": "markdown",
   "metadata": {
    "slideshow": {
     "slide_type": "subslide"
    }
   },
   "source": [
    "## Przełączmy się na branch `experimental`"
   ]
  },
  {
   "cell_type": "code",
   "execution_count": null,
   "metadata": {
    "slideshow": {
     "slide_type": "fragment"
    }
   },
   "outputs": [],
   "source": [
    "cd submodules\n",
    "git branch -a -vv"
   ]
  },
  {
   "cell_type": "code",
   "execution_count": null,
   "metadata": {
    "slideshow": {
     "slide_type": "fragment"
    }
   },
   "outputs": [],
   "source": [
    "git checkout experimental\n",
    "#git checkout -b my_local_master --track origin/master\n",
    "echo\n",
    "git branch -a -vv"
   ]
  },
  {
   "cell_type": "markdown",
   "metadata": {
    "slideshow": {
     "slide_type": "subslide"
    }
   },
   "source": [
    "### Git śledzi (track) stan submodułu"
   ]
  },
  {
   "cell_type": "code",
   "execution_count": null,
   "metadata": {
    "slideshow": {
     "slide_type": "fragment"
    }
   },
   "outputs": [],
   "source": [
    "cd ..\n",
    "git diff"
   ]
  },
  {
   "cell_type": "code",
   "execution_count": null,
   "metadata": {
    "slideshow": {
     "slide_type": "fragment"
    }
   },
   "outputs": [],
   "source": [
    "git commit -am 'lib moved to experimental'"
   ]
  },
  {
   "cell_type": "markdown",
   "metadata": {
    "slideshow": {
     "slide_type": "subslide"
    }
   },
   "source": [
    "## Wprowadzamy zmianę w bibliotece"
   ]
  },
  {
   "cell_type": "code",
   "execution_count": null,
   "metadata": {
    "slideshow": {
     "slide_type": "fragment"
    }
   },
   "outputs": [],
   "source": [
    "cd ../submodules\n",
    "git checkout experimental\n",
    "echo 'D' >> file\n",
    "git commit -am 'D - a fix added'"
   ]
  },
  {
   "cell_type": "code",
   "execution_count": null,
   "metadata": {
    "slideshow": {
     "slide_type": "fragment"
    }
   },
   "outputs": [],
   "source": [
    "cd ../repo/submodules\n",
    "git status"
   ]
  },
  {
   "cell_type": "code",
   "execution_count": null,
   "metadata": {
    "slideshow": {
     "slide_type": "fragment"
    }
   },
   "outputs": [],
   "source": [
    "git pull"
   ]
  },
  {
   "cell_type": "code",
   "execution_count": null,
   "metadata": {
    "slideshow": {
     "slide_type": "subslide"
    }
   },
   "outputs": [],
   "source": [
    "git log --oneline --graph --all\n",
    "cd ..\n",
    "git diff"
   ]
  },
  {
   "cell_type": "markdown",
   "metadata": {
    "slideshow": {
     "slide_type": "fragment"
    }
   },
   "source": [
    "### Klonowanie projektu z submodułami"
   ]
  },
  {
   "cell_type": "code",
   "execution_count": null,
   "metadata": {
    "slideshow": {
     "slide_type": "fragment"
    }
   },
   "outputs": [],
   "source": [
    "cd ~/ && rm -rf repo-cloned\n",
    "git clone repo repo-cloned\n",
    "cd repo-cloned\n",
    "tree"
   ]
  },
  {
   "cell_type": "code",
   "execution_count": null,
   "metadata": {
    "slideshow": {
     "slide_type": "fragment"
    }
   },
   "outputs": [],
   "source": [
    "git submodule status"
   ]
  },
  {
   "cell_type": "code",
   "execution_count": null,
   "metadata": {
    "slideshow": {
     "slide_type": "fragment"
    }
   },
   "outputs": [],
   "source": [
    "git submodule init"
   ]
  },
  {
   "cell_type": "code",
   "execution_count": null,
   "metadata": {
    "slideshow": {
     "slide_type": "subslide"
    }
   },
   "outputs": [],
   "source": [
    "git submodule update\n",
    "echo\n",
    "git submodule status"
   ]
  },
  {
   "cell_type": "markdown",
   "metadata": {
    "slideshow": {
     "slide_type": "subslide"
    }
   },
   "source": [
    "### Czy da się to zrobić szybciej? `git clone --recursive`"
   ]
  },
  {
   "cell_type": "code",
   "execution_count": null,
   "metadata": {
    "slideshow": {
     "slide_type": "fragment"
    }
   },
   "outputs": [],
   "source": [
    "cd ~/\n",
    "rm -rf repo-recursive\n",
    "git clone --recursive repo repo-recursive\n",
    "echo\n",
    "tree repo-recursive"
   ]
  },
  {
   "cell_type": "code",
   "execution_count": null,
   "metadata": {
    "slideshow": {
     "slide_type": "fragment"
    }
   },
   "outputs": [],
   "source": [
    "cd ~/ && rm -rf repo && rm -rf repo-cloned && rm -rf repo-recursive && rm -rf submodules"
   ]
  },
  {
   "cell_type": "markdown",
   "metadata": {
    "slideshow": {
     "slide_type": "subslide"
    }
   },
   "source": [
    "## Ćwiczenia\n",
    "\n",
    "Stwórz dwa repozytoria, gdzie jedno ma drugie (nawzajem) jako submoduł"
   ]
  },
  {
   "cell_type": "markdown",
   "metadata": {
    "slideshow": {
     "slide_type": "subslide"
    }
   },
   "source": [
    "# Status\n",
    "\n",
    "* [x] ~~...~~\n",
    "* [x] ~~Cherry picking~~\n",
    "* [x] ~~Git rebase~~\n",
    "* [x] ~~Git bisect~~\n",
    "* [x] ~~Git fetch vs pull~~\n",
    "* [x] ~~Praca z wieloma repozytoriami~~\n",
    "* [x] ~~Git push~~\n",
    "* [x] ~~Git submodule~~\n",
    "* [ ] Git log\n",
    "* [ ] Git squash\n",
    "* [ ] ..."
   ]
  },
  {
   "cell_type": "markdown",
   "metadata": {
    "slideshow": {
     "slide_type": "slide"
    }
   },
   "source": [
    "# Status\n",
    "\n",
    "* [x] ~~...~~\n",
    "* [x] ~~Reflog~~\n",
    "* [x] ~~Cherry picking~~\n",
    "* [x] ~~Git rebase~~\n",
    "* [x] ~~Git bisect~~\n",
    "* [x] ~~Git fetch vs pull~~\n",
    "* [x] ~~Praca z wieloma repozytoriami~~\n",
    "* [x] ~~Git push~~\n",
    "* [x] ~~Git submodule~~\n",
    "* [ ] Git log\n",
    "* [ ] Git squash\n",
    "* [ ] Repozytoria bare\n",
    "* [ ] ..."
   ]
  },
  {
   "cell_type": "code",
   "execution_count": null,
   "metadata": {
    "slideshow": {
     "slide_type": "subslide"
    }
   },
   "outputs": [],
   "source": [
    "cd ~/ && rm -rf keepassxc\n",
    "git clone https://github.com/keepassxreboot/keepassxc.git\n",
    "cd keepassxc\n",
    "git log --graph --oneline --all --topo-order"
   ]
  },
  {
   "cell_type": "code",
   "execution_count": null,
   "metadata": {
    "slideshow": {
     "slide_type": "subslide"
    }
   },
   "outputs": [],
   "source": [
    "git log"
   ]
  },
  {
   "cell_type": "code",
   "execution_count": null,
   "metadata": {
    "slideshow": {
     "slide_type": "subslide"
    }
   },
   "outputs": [],
   "source": [
    "git log --oneline"
   ]
  },
  {
   "cell_type": "code",
   "execution_count": null,
   "metadata": {
    "slideshow": {
     "slide_type": "subslide"
    }
   },
   "outputs": [],
   "source": [
    "git log --oneline --graph"
   ]
  },
  {
   "cell_type": "code",
   "execution_count": null,
   "metadata": {
    "slideshow": {
     "slide_type": ""
    }
   },
   "outputs": [],
   "source": [
    "git log --graph --oneline --all > all_output\n",
    "git log --graph --oneline > noall_output\n",
    "diff all_output noall_output"
   ]
  },
  {
   "cell_type": "code",
   "execution_count": null,
   "metadata": {
    "slideshow": {
     "slide_type": "fragment"
    }
   },
   "outputs": [],
   "source": [
    "rm all_output noall_output"
   ]
  },
  {
   "cell_type": "code",
   "execution_count": null,
   "metadata": {
    "slideshow": {
     "slide_type": "subslide"
    }
   },
   "outputs": [],
   "source": [
    "git log --graph --oneline --all --decorate --source"
   ]
  },
  {
   "cell_type": "code",
   "execution_count": null,
   "metadata": {
    "scrolled": true,
    "slideshow": {
     "slide_type": "subslide"
    }
   },
   "outputs": [],
   "source": [
    "git log --graph --oneline --all --simplify-by-decoration"
   ]
  },
  {
   "cell_type": "code",
   "execution_count": null,
   "metadata": {
    "scrolled": true,
    "slideshow": {
     "slide_type": "subslide"
    }
   },
   "outputs": [],
   "source": [
    "git log --graph --oneline --all --simplify-by-decoration --pretty='%ar %s %h'"
   ]
  },
  {
   "cell_type": "code",
   "execution_count": null,
   "metadata": {
    "slideshow": {
     "slide_type": "subslide"
    }
   },
   "outputs": [],
   "source": [
    "git log --graph --oneline --all --simplify-by-decoration --pretty="
   ]
  },
  {
   "cell_type": "code",
   "execution_count": null,
   "metadata": {
    "slideshow": {
     "slide_type": "fragment"
    }
   },
   "outputs": [],
   "source": [
    "cd ~/ && rm -rf keepassxc"
   ]
  },
  {
   "cell_type": "markdown",
   "metadata": {
    "slideshow": {
     "slide_type": "subslide"
    }
   },
   "source": [
    "## Ćwiczenie\n",
    "\n",
    "Użyj `git log --pretty`aby wypisać logi w keepassxc od 2018-09-01 w takim formacie:\n",
    "\n",
    "Commit Hash: #numer hasha#, Author: #autor name#, Date: #author date, RFC2822 style#\n",
    "\n",
    "hint: zajrzyj go `man git log` tam znajdziesz podpowiedzi jak to zrobić. Jak znajdziesz czas to przyjrzyj się filtrowaniu printowanych commitów"
   ]
  },
  {
   "cell_type": "markdown",
   "metadata": {
    "slideshow": {
     "slide_type": "subslide"
    }
   },
   "source": [
    "# Status\n",
    "\n",
    "* [x] ~~...~~\n",
    "* [x] ~~Cherry picking~~\n",
    "* [x] ~~Git rebase~~\n",
    "* [x] ~~Git bisect~~\n",
    "* [x] ~~Git fetch vs pull~~\n",
    "* [x] ~~Praca z wieloma repozytoriami~~\n",
    "* [x] ~~Git push~~\n",
    "* [x] ~~Git submodule~~\n",
    "* [x] ~~Git log~~\n",
    "* [ ] Git squash\n",
    "* [ ] Repozytoria bare\n",
    "* [ ] ..."
   ]
  },
  {
   "cell_type": "markdown",
   "metadata": {
    "slideshow": {
     "slide_type": "slide"
    }
   },
   "source": [
    "# Status\n",
    "\n",
    "* [x] ~~...~~\n",
    "* [x] ~~Cherry picking~~\n",
    "* [x] ~~Git rebase~~\n",
    "* [x] ~~Git bisect~~\n",
    "* [x] ~~Git fetch vs pull~~\n",
    "* [x] ~~Praca z wieloma repozytoriami~~\n",
    "* [x] ~~Git push~~\n",
    "* [x] ~~Git submodule~~\n",
    "* [x] ~~Git log~~\n",
    "* [ ] Git squash\n",
    "     * [ ] git rebase -i\n",
    "     * [ ] git rev-list\n",
    "* [ ] Repozytoria bare\n",
    "* [ ] ..."
   ]
  },
  {
   "cell_type": "markdown",
   "metadata": {
    "slideshow": {
     "slide_type": "subslide"
    }
   },
   "source": [
    "<img src=\"img/99-pull-request.png\" width=\"800px\" alt=\"Hunk WTF?!\" style=\"float:left; margin-right: 30px;\" />\n",
    "\n",
    "## Motywacja\n",
    "\n",
    "https://github.com/bendews/ansible-cloudflared/pull/2#issuecomment-436852893"
   ]
  },
  {
   "cell_type": "code",
   "execution_count": null,
   "metadata": {
    "scrolled": true,
    "slideshow": {
     "slide_type": "subslide"
    }
   },
   "outputs": [],
   "source": [
    "cd ~/ && rm -rf squashing && mkdir squashing && cd squashing && git init && git config commit.gpgsign false\n",
    "touch file\n",
    "git add file\n",
    "git commit -m 'Init'\n",
    "for i in {1..10}\n",
    "do\n",
    "echo $i >> file\n",
    "git commit -am \"commit:${i}\"\n",
    "done\n",
    "git status\n",
    "git log"
   ]
  },
  {
   "cell_type": "code",
   "execution_count": null,
   "metadata": {
    "scrolled": true,
    "slideshow": {
     "slide_type": "subslide"
    }
   },
   "outputs": [],
   "source": [
    "cd ..\n",
    "rm -rf squashing-clone\n",
    "git clone squashing squashing-clone\n",
    "cd squashing-clone\n",
    "git config commit.gpgsign false\n",
    "git remote -v\n",
    "echo\n",
    "git log"
   ]
  },
  {
   "cell_type": "markdown",
   "metadata": {
    "slideshow": {
     "slide_type": "subslide"
    }
   },
   "source": [
    "### Aby zesquashować commity potrzebujemy\n",
    "\n",
    "* referencję do najnowszego commita ze zbiotu commitów które chcemy squashować\n",
    "* referencję do najstarszego commita..."
   ]
  },
  {
   "cell_type": "code",
   "execution_count": null,
   "metadata": {
    "slideshow": {
     "slide_type": "fragment"
    }
   },
   "outputs": [],
   "source": [
    "git rev-list --max-parents=0 HEAD"
   ]
  },
  {
   "cell_type": "code",
   "execution_count": null,
   "metadata": {
    "slideshow": {
     "slide_type": "fragment"
    }
   },
   "outputs": [],
   "source": [
    "git rev-list HEAD"
   ]
  },
  {
   "cell_type": "markdown",
   "metadata": {
    "slideshow": {
     "slide_type": "subslide"
    }
   },
   "source": [
    "### Terminal\n",
    "\n",
    "```\n",
    "cd ~/squashing-clone\n",
    "git rebase -i $(git rev-list --max-parents=0 HEAD) HEAD\n",
    "\n",
    "  1 pick 8c283fa commit:1\n",
    "  2 pick 5720f0f commit:2\n",
    "  3 pick d6f975e commit:3\n",
    "  4 pick 880f333 commit:4\n",
    "  5 pick 3c8b11f commit:5\n",
    "  6 pick 7a13bc7 commit:6\n",
    "  7 pick d036f47 commit:7\n",
    "  8 pick 739a99a commit:8\n",
    "  9 pick 7fa1e78 commit:9\n",
    " 10 pick ac30399 commit:10\n",
    " 11 \n",
    " 12 # Rebase 6aadfc6..ac30399 onto 6aadfc6 (10 commands)\n",
    " 13 #\n",
    " 14 # Commands:\n",
    " 15 # p, pick = use commit\n",
    " 16 # r, reword = use commit, but edit the commit message\n",
    " 17 # e, edit = use commit, but stop for amending\n",
    " 18 # s, squash = use commit, but meld into previous commit\n",
    " 19 # f, fixup = like \"squash\", but discard this commit's log message\n",
    " 20 # x, exec = run command (the rest of the line) using shell\n",
    " 21 # d, drop = remove commit\n",
    " 22 #\n",
    " 23 # These lines can be re-ordered; they are executed from top to bottom.\n",
    " 24 #\n",
    " 25 # If you remove a line here THAT COMMIT WILL BE LOST.\n",
    " 26 #\n",
    " 27 # However, if you remove everything, the rebase will be aborted.\n",
    " 28 #\n",
    " 29 # Note that empty commits are commented out\n",
    "```"
   ]
  },
  {
   "cell_type": "markdown",
   "metadata": {
    "slideshow": {
     "slide_type": "subslide"
    }
   },
   "source": [
    "```\n",
    "  1 r 8c283fa commit:1\n",
    "  2 s 5720f0f commit:2\n",
    "  3 s d6f975e commit:3\n",
    "  4 s 880f333 commit:4\n",
    "  5 s 3c8b11f commit:5\n",
    "  6 s 7a13bc7 commit:6\n",
    "  7 s d036f47 commit:7\n",
    "  8 s 739a99a commit:8\n",
    "  9 s 7fa1e78 commit:9\n",
    " 10 s ac30399 commit:10\n",
    " 11 \n",
    " 12 # Rebase 6aadfc6..ac30399 onto 6aadfc6 (10 commands)\n",
    " 13 #\n",
    " 14 # Commands:\n",
    " 15 # p, pick = use commit\n",
    " 16 # r, reword = use commit, but edit the commit message\n",
    " 17 # e, edit = use commit, but stop for amending\n",
    " 18 # s, squash = use commit, but meld into previous commit\n",
    " 19 # f, fixup = like \"squash\", but discard this commit's log message\n",
    " 20 # x, exec = run command (the rest of the line) using shell\n",
    " 21 # d, drop = remove commit\n",
    " 22 #\n",
    " 23 # These lines can be re-ordered; they are executed from top to bottom.\n",
    " 24 #\n",
    " 25 # If you remove a line here THAT COMMIT WILL BE LOST.\n",
    " 26 #\n",
    " 27 # However, if you remove everything, the rebase will be aborted.\n",
    " 28 #\n",
    " 29 # Note that empty commits are commented out\n",
    "```"
   ]
  },
  {
   "cell_type": "markdown",
   "metadata": {
    "slideshow": {
     "slide_type": "subslide"
    }
   },
   "source": [
    "```\n",
    "  1 commit:all\n",
    "  2 \n",
    "  3 # Please enter the commit message for your changes. Lines starting\n",
    "  4 # with '#' will be ignored, and an empty message aborts the commit.\n",
    "  5 #\n",
    "  6 # Date:      Thu Dec 6 21:25:56 2018 +0100\n",
    "  7 #\n",
    "  8 # interactive rebase in progress; onto 6aadfc6\n",
    "  9 # Last command done (1 command done):\n",
    " 10 #    reword 8c283fa commit:1\n",
    " 11 # Next commands to do (9 remaining commands):\n",
    " 12 #    squash 5720f0f commit:2\n",
    " 13 #    squash d6f975e commit:3\n",
    " 14 # You are currently editing a commit during a rebase.\n",
    " 15 #\n",
    " 16 # Changes to be committed:\n",
    " 17 #       modified:   file\n",
    " 18 #\n",
    "```"
   ]
  },
  {
   "cell_type": "markdown",
   "metadata": {
    "slideshow": {
     "slide_type": "subslide"
    }
   },
   "source": [
    "```\n",
    "  1 # This is a combination of 10 commits.\n",
    "  2 # This is the 1st commit message:\n",
    "  3 \n",
    "  4 commit:all\n",
    "  5 \n",
    "  6 # This is the commit message #2:\n",
    "  7 \n",
    "  8 commit:2\n",
    "  9 \n",
    " 10 # This is the commit message #3:\n",
    " 11 \n",
    " 12 commit:3\n",
    " 13 \n",
    " 14 # This is the commit message #4:\n",
    " 15 \n",
    " 16 commit:4\n",
    " 17 \n",
    " 18 # This is the commit message #5:\n",
    " 19 \n",
    " 20 commit:5\n",
    " 21 \n",
    " 22 # This is the commit message #6:\n",
    " 23 \n",
    " 24 commit:6\n",
    " 25 \n",
    " 26 # This is the commit message #7:\n",
    " 27 \n",
    " 28 commit:7\n",
    " 29 \n",
    " 30 # This is the commit message #8:\n",
    " 31 \n",
    " 32 commit:8\n",
    " 33 \n",
    " 34 # This is the commit message #9:\n",
    " 35 \n",
    " 36 commit:9\n",
    " 37 \n",
    " 38 # This is the commit message #10:\n",
    " 39 \n",
    " 40 commit:10\n",
    " 41 \n",
    " 42 # Please enter the commit message for your changes. Lines starting\n",
    " 43 # with '#' will be ignored, and an empty message aborts the commit.\n",
    " 44 #\n",
    " 45 # Date:      Thu Dec 6 21:25:56 2018 +0100\n",
    " 46 #\n",
    " 47 # interactive rebase in progress; onto 6aadfc6\n",
    " 48 # Last commands done (10 commands done):\n",
    " 49 #    squash 7fa1e78 commit:9\n",
    " 50 #    squash ac30399 commit:10\n",
    " 51 # No commands remaining.\n",
    " 52 # You are currently rebasing.\n",
    " 53 #\n",
    " 54 # Changes to be committed:\n",
    " 55 #       modified:   file\n",
    " 56 #\n",
    "```"
   ]
  },
  {
   "cell_type": "markdown",
   "metadata": {
    "slideshow": {
     "slide_type": "subslide"
    }
   },
   "source": [
    "```\n",
    "git branch -f master\n",
    "git checkout master\n",
    "```"
   ]
  },
  {
   "cell_type": "code",
   "execution_count": null,
   "metadata": {
    "slideshow": {
     "slide_type": "fragment"
    }
   },
   "outputs": [],
   "source": [
    "git log --oneline --graph --all"
   ]
  },
  {
   "cell_type": "code",
   "execution_count": null,
   "metadata": {
    "slideshow": {
     "slide_type": "subslide"
    }
   },
   "outputs": [],
   "source": [
    "git push origin"
   ]
  },
  {
   "cell_type": "markdown",
   "metadata": {
    "slideshow": {
     "slide_type": "subslide"
    }
   },
   "source": [
    "### Co się stanie jak spullujemy repo i spróbujemy pchnąć je na origin?"
   ]
  },
  {
   "cell_type": "code",
   "execution_count": null,
   "metadata": {
    "slideshow": {
     "slide_type": "fragment"
    }
   },
   "outputs": [],
   "source": [
    "git push -f origin"
   ]
  },
  {
   "cell_type": "code",
   "execution_count": null,
   "metadata": {
    "slideshow": {
     "slide_type": "fragment"
    }
   },
   "outputs": [],
   "source": [
    "cd ~/ && rm -rf squashing*"
   ]
  },
  {
   "cell_type": "markdown",
   "metadata": {
    "slideshow": {
     "slide_type": "subslide"
    }
   },
   "source": [
    "<img src=\"img/not_rebase_pushed_commits.jpg\" width=\"800px\" alt=\"Hunk WTF?!\" style=\"float:left; margin-right: 30px;\" />\n",
    "\n",
    "### A jak squashować kod, który jest na repo? (seems dangerous)\n",
    "\n",
    "```\n",
    "git rebase -i origin/master~4 master\n",
    "git push origin +master\n",
    "```\n",
    "\n",
    "* `+` robi force na jednym branchu\n",
    "* `--force` robi force na wszystkich branchach"
   ]
  },
  {
   "cell_type": "markdown",
   "metadata": {
    "slideshow": {
     "slide_type": "subslide"
    }
   },
   "source": [
    "### Ćwiczenie\n",
    "\n",
    "1. Wykmiń jak działają pozostałe funkcje przy `git rebase -i`\n",
    "2. Spróbuj użyć komendy `exec`\n",
    "3. Przećwicz squashowanie"
   ]
  },
  {
   "cell_type": "markdown",
   "metadata": {
    "slideshow": {
     "slide_type": "subslide"
    }
   },
   "source": [
    "# Status\n",
    "\n",
    "* [x] ~~...~~\n",
    "* [x] ~~Praca z wieloma repozytoriami~~\n",
    "* [x] ~~Git push~~\n",
    "* [x] ~~Git submodule~~\n",
    "* [x] ~~Git log~~\n",
    "* [x] ~~Git squash~~\n",
    "     * [x] ~~git rebase -i~~\n",
    "     * [x] ~~git rev-list~~\n",
    "* [ ] Repozytoria bare\n",
    "* [ ] Cherry picking and Three-Way Merges"
   ]
  },
  {
   "cell_type": "markdown",
   "metadata": {
    "slideshow": {
     "slide_type": "slide"
    }
   },
   "source": [
    "# Status\n",
    "\n",
    "* [x] ~~...~~\n",
    "* [x] ~~Cherry picking~~\n",
    "* [x] ~~Git rebase~~\n",
    "* [x] ~~Git bisect~~\n",
    "* [x] ~~Git fetch vs pull~~\n",
    "* [x] ~~Praca z wieloma repozytoriami~~\n",
    "* [x] ~~Git push~~\n",
    "* [x] ~~Git submodule~~\n",
    "* [x] ~~Git log~~\n",
    "* [x] ~~Git squash~~\n",
    "* [ ] Repozytoria bare\n",
    "* [ ] Cherry picking and Three-Way Merges"
   ]
  },
  {
   "cell_type": "code",
   "execution_count": null,
   "metadata": {
    "slideshow": {
     "slide_type": "subslide"
    }
   },
   "outputs": [],
   "source": [
    "cd ~/ && rm -rf bare-repo && mkdir bare-repo && cd bare-repo && git init --bare\n",
    "tree -a\n",
    "echo\n",
    "cat config"
   ]
  },
  {
   "cell_type": "code",
   "execution_count": null,
   "metadata": {
    "slideshow": {
     "slide_type": "subslide"
    }
   },
   "outputs": [],
   "source": [
    "cd ~/\n",
    "rm -rf bare-repo-alice\n",
    "rm -rf bare-repo-bob\n",
    "git clone bare-repo bare-repo-alice\n",
    "git clone bare-repo bare-repo-bob"
   ]
  },
  {
   "cell_type": "code",
   "execution_count": null,
   "metadata": {
    "scrolled": true,
    "slideshow": {
     "slide_type": "fragment"
    }
   },
   "outputs": [],
   "source": [
    "cd ~/bare-repo-alice\n",
    "git config commit.gpgsign false\n",
    "git remote -v\n",
    "touch file\n",
    "git add file\n",
    "git commit -m 'init'\n",
    "for i in {1..10}\n",
    "do\n",
    "echo $i >> file\n",
    "git commit -am \"commit:${i}\"\n",
    "done\n",
    "git log --oneline\n",
    "git push"
   ]
  },
  {
   "cell_type": "code",
   "execution_count": null,
   "metadata": {
    "slideshow": {
     "slide_type": "subslide"
    }
   },
   "outputs": [],
   "source": [
    "cd ../bare-repo-bob\n",
    "git log --oneline"
   ]
  },
  {
   "cell_type": "code",
   "execution_count": null,
   "metadata": {
    "slideshow": {
     "slide_type": "fragment"
    }
   },
   "outputs": [],
   "source": [
    "git fetch origin\n",
    "git merge origin/master\n",
    "git log --oneline"
   ]
  },
  {
   "cell_type": "markdown",
   "metadata": {
    "slideshow": {
     "slide_type": "subslide"
    }
   },
   "source": [
    "## Alice znów squashuje :)"
   ]
  },
  {
   "cell_type": "code",
   "execution_count": null,
   "metadata": {
    "slideshow": {
     "slide_type": "fragment"
    }
   },
   "outputs": [],
   "source": [
    "cd ~/bare-repo-alice\n",
    "git log --oneline"
   ]
  },
  {
   "cell_type": "code",
   "execution_count": null,
   "metadata": {
    "slideshow": {
     "slide_type": "fragment"
    }
   },
   "outputs": [],
   "source": [
    "git push origin master"
   ]
  },
  {
   "cell_type": "code",
   "execution_count": null,
   "metadata": {
    "slideshow": {
     "slide_type": "subslide"
    }
   },
   "outputs": [],
   "source": [
    "git push -f origin master\n",
    "git log --oneline --graph --all"
   ]
  },
  {
   "cell_type": "markdown",
   "metadata": {
    "slideshow": {
     "slide_type": "fragment"
    }
   },
   "source": [
    "## A co na to Bob?"
   ]
  },
  {
   "cell_type": "code",
   "execution_count": null,
   "metadata": {
    "slideshow": {
     "slide_type": "subslide"
    }
   },
   "outputs": [],
   "source": [
    "cd ~/bare-repo-bob\n",
    "git status\n",
    "git pull --no-edit"
   ]
  },
  {
   "cell_type": "code",
   "execution_count": null,
   "metadata": {
    "slideshow": {
     "slide_type": "fragment"
    }
   },
   "outputs": [],
   "source": [
    "git log --oneline --graph --all"
   ]
  },
  {
   "cell_type": "code",
   "execution_count": null,
   "metadata": {
    "slideshow": {
     "slide_type": "subslide"
    }
   },
   "outputs": [],
   "source": [
    "git push"
   ]
  },
  {
   "cell_type": "code",
   "execution_count": null,
   "metadata": {
    "slideshow": {
     "slide_type": "subslide"
    }
   },
   "outputs": [],
   "source": [
    "cd ../bare-repo-alice\n",
    "git pull --no-edit\n",
    "echo\n",
    "git log --oneline --graph --all\n",
    "echo\n",
    "git status"
   ]
  },
  {
   "cell_type": "code",
   "execution_count": null,
   "metadata": {
    "slideshow": {
     "slide_type": "fragment"
    }
   },
   "outputs": [],
   "source": [
    "#WTF per minute?\n",
    "cd ~/\n",
    "rm -rf bare-repo*"
   ]
  },
  {
   "cell_type": "markdown",
   "metadata": {
    "slideshow": {
     "slide_type": "subslide"
    }
   },
   "source": [
    "## Ćwiczenie\n",
    "\n",
    "1. Załóż repo na GitHubie i spróbuj je pobrać przez ssh (`git://...`)"
   ]
  },
  {
   "cell_type": "markdown",
   "metadata": {
    "slideshow": {
     "slide_type": "slide"
    }
   },
   "source": [
    "# Status\n",
    "\n",
    "* [x] ~~...~~\n",
    "* [x] ~~Git rebase~~\n",
    "* [x] ~~Git bisect~~\n",
    "* [x] ~~Git fetch vs pull~~\n",
    "* [x] ~~Praca z wieloma repozytoriami~~\n",
    "* [x] ~~Git push~~\n",
    "* [x] ~~Git submodule~~\n",
    "* [x] ~~Git log~~\n",
    "* [x] ~~Git squash~~\n",
    "* [x] ~~Repozytoria bare~~\n",
    "* [ ] Cherry picking and Three-Way Merges\n",
    "    * [ ] `cherry pick` może zrobić coś czego się nie spodziewasz\n",
    "    * [ ] `git diff-tree` i `git apply` komendy\n",
    "    * [ ] co to `three-way merge`"
   ]
  },
  {
   "cell_type": "code",
   "execution_count": null,
   "metadata": {
    "scrolled": true,
    "slideshow": {
     "slide_type": "subslide"
    }
   },
   "outputs": [],
   "source": [
    "cd ~/ && rm -rf patch-and-apply && mkdir patch-and-apply && cd patch-and-apply && git init && git config commit.gpgsign false\n",
    "touch afile\n",
    "git add afile\n",
    "git commit -m 'file added'\n",
    "echo First change, on master >> afile\n",
    "git commit -am 'First change, on master added'\n",
    "git branch abranch\n",
    "echo Second change, on master >> afile\n",
    "git commit -am 'Second change, on master added'\n",
    "git checkout abranch\n",
    "echo First change, on abranch >> afile\n",
    "git commit -am 'First change, on abranch added'\n",
    "echo Second change, on abranch >> afile\n",
    "echo New file, on abranch >> newfile\n",
    "git add newfile\n",
    "git commit -am 'Second change, on abranch added'\n",
    "git tag abranchtag\n",
    "echo\n",
    "cat afile\n",
    "echo\n",
    "git checkout master\n",
    "echo\n",
    "cat afile\n",
    "echo\n",
    "git log --oneline --graph --all"
   ]
  },
  {
   "cell_type": "code",
   "execution_count": null,
   "metadata": {
    "slideshow": {
     "slide_type": "subslide"
    }
   },
   "outputs": [],
   "source": [
    "git show abranchtag"
   ]
  },
  {
   "cell_type": "code",
   "execution_count": null,
   "metadata": {
    "slideshow": {
     "slide_type": "subslide"
    }
   },
   "outputs": [],
   "source": [
    "git cherry-pick abranchtag\n",
    "echo\n",
    "cat afile\n",
    "echo\n",
    "cat newfile"
   ]
  },
  {
   "cell_type": "code",
   "execution_count": null,
   "metadata": {
    "scrolled": true,
    "slideshow": {
     "slide_type": "subslide"
    }
   },
   "outputs": [],
   "source": [
    "git cherry-pick --abort\n",
    "#create patch\n",
    "git diff-tree -p abranchtag > abranchtag.patch\n",
    "cat abranchtag.patch"
   ]
  },
  {
   "cell_type": "code",
   "execution_count": null,
   "metadata": {
    "slideshow": {
     "slide_type": "fragment"
    }
   },
   "outputs": [],
   "source": [
    "cat abranchtag.patch | git apply\n",
    "git status\n",
    "git log --oneline --graph --all"
   ]
  },
  {
   "cell_type": "code",
   "execution_count": null,
   "metadata": {
    "slideshow": {
     "slide_type": "subslide"
    }
   },
   "outputs": [],
   "source": [
    "cat abranchtag.patch | git apply --reject"
   ]
  },
  {
   "cell_type": "code",
   "execution_count": null,
   "metadata": {
    "slideshow": {
     "slide_type": "subslide"
    }
   },
   "outputs": [],
   "source": [
    "cat afile.rej"
   ]
  },
  {
   "cell_type": "code",
   "execution_count": null,
   "metadata": {
    "slideshow": {
     "slide_type": "fragment"
    }
   },
   "outputs": [],
   "source": [
    "cd ~/patch-and-apply\n",
    "sed -i '8d' abranchtag.patch\n",
    "cat abranchtag.patch | git apply"
   ]
  },
  {
   "cell_type": "markdown",
   "metadata": {
    "slideshow": {
     "slide_type": "slide"
    }
   },
   "source": [
    "<img src=\"img/33-sha-1-collision.png\" width=\"800px\" alt=\"Hunk WTF?!\" style=\"float:left; margin-right: 30px;\" />\n",
    "\n",
    "## Jak liczone są skróty commitów?\n",
    "\n",
    "Liczymy SHA1 z:\n",
    "- całego kodu źródłowego bez ignorowanych i niekomitowanych plików\n",
    "- z SHA1 ostatniego commitu\n",
    "- z informacji o autorze\n",
    "- z informacji o commiterze (tak mogą być różni 😅)\n",
    "- z treści commita"
   ]
  },
  {
   "cell_type": "markdown",
   "metadata": {
    "slideshow": {
     "slide_type": "subslide"
    }
   },
   "source": [
    "# Przykład"
   ]
  },
  {
   "cell_type": "code",
   "execution_count": null,
   "metadata": {
    "slideshow": {
     "slide_type": "fragment"
    }
   },
   "outputs": [],
   "source": [
    "cd ~/ && rm -rf tmp-sha1\n",
    "mkdir tmp-sha1\n",
    "cd tmp-sha1\n",
    "git init\n",
    "touch A\n",
    "git config commit.gpgsign false\n",
    "git add A\n",
    "git commit -am 'A'\n",
    "git log"
   ]
  },
  {
   "cell_type": "code",
   "execution_count": null,
   "metadata": {
    "slideshow": {
     "slide_type": "fragment"
    }
   },
   "outputs": [],
   "source": [
    "git log --format=format:%H"
   ]
  },
  {
   "cell_type": "code",
   "execution_count": null,
   "metadata": {
    "slideshow": {
     "slide_type": "subslide"
    }
   },
   "outputs": [],
   "source": [
    "git cat-file commit HEAD"
   ]
  },
  {
   "cell_type": "code",
   "execution_count": null,
   "metadata": {
    "slideshow": {
     "slide_type": "fragment"
    }
   },
   "outputs": [],
   "source": [
    "printf \"commit %s\\0\" $(git cat-file commit HEAD | wc -c)"
   ]
  },
  {
   "cell_type": "code",
   "execution_count": null,
   "metadata": {
    "slideshow": {
     "slide_type": "fragment"
    }
   },
   "outputs": [],
   "source": [
    "(printf \"commit %s\\0\" $(git cat-file commit HEAD | wc -c); git cat-file commit HEAD) | sha1sum"
   ]
  },
  {
   "cell_type": "code",
   "execution_count": null,
   "metadata": {
    "slideshow": {
     "slide_type": "fragment"
    }
   },
   "outputs": [],
   "source": [
    "cd ~/ && rm -rf tmp-sha1"
   ]
  },
  {
   "cell_type": "markdown",
   "metadata": {
    "slideshow": {
     "slide_type": "subslide"
    }
   },
   "source": [
    "### Polskie znaki w nazwach plików"
   ]
  },
  {
   "cell_type": "code",
   "execution_count": null,
   "metadata": {
    "slideshow": {
     "slide_type": "fragment"
    }
   },
   "outputs": [],
   "source": [
    "cd ~/ && rm -rf git-diacritics && mkdir git-diacritics && cd git-diacritics\n",
    "git init\n",
    "git config commit.gpgsign false\n",
    "touch Źródło\n",
    "git status\n",
    "cd ~/ && rm -rf git-diacritics"
   ]
  },
  {
   "cell_type": "markdown",
   "metadata": {
    "slideshow": {
     "slide_type": "slide"
    }
   },
   "source": [
    "## Aliasy dla komend gita?"
   ]
  },
  {
   "cell_type": "code",
   "execution_count": null,
   "metadata": {
    "slideshow": {
     "slide_type": "fragment"
    }
   },
   "outputs": [],
   "source": [
    "alias | grep git"
   ]
  },
  {
   "cell_type": "markdown",
   "metadata": {
    "slideshow": {
     "slide_type": "slide"
    }
   },
   "source": [
    "## Nakładki na gita, np. IntellIJ (demo)"
   ]
  },
  {
   "cell_type": "markdown",
   "metadata": {
    "slideshow": {
     "slide_type": "slide"
    }
   },
   "source": [
    "# Przydatne linki\n",
    "\n",
    "<br />\n",
    "\n",
    "1. [To nie działa WTF?!](http://justinhileman.info/article/git-pretty/git-pretty.png)\n",
    "2. [Cheat sheet powiązany z fazami życia kontentu w gicie](http://ndpsoftware.com/git-cheatsheet.html)"
   ]
  },
  {
   "cell_type": "markdown",
   "metadata": {
    "slideshow": {
     "slide_type": "subslide"
    }
   },
   "source": [
    "<center><img src=\"img/git-pretty.png\" width=\"900px\" alt=\"Orange Logo\" style=\"position:center\" /></center>"
   ]
  }
 ],
 "metadata": {
  "celltoolbar": "Slideshow",
  "kernelspec": {
   "display_name": "Bash",
   "language": "bash",
   "name": "bash"
  },
  "language_info": {
   "codemirror_mode": "shell",
   "file_extension": ".sh",
   "mimetype": "text/x-sh",
   "name": "bash"
  }
 },
 "nbformat": 4,
 "nbformat_minor": 2
}

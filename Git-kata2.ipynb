{
 "cells": [
  {
   "cell_type": "markdown",
   "metadata": {
    "slideshow": {
     "slide_type": "slide"
    }
   },
   "source": [
    "# Status\n",
    "\n",
    "* [x] ~~...~~\n",
    "* [x] ~~Git stash~~\n",
    "* [x] ~~Git add interactive~~\n",
    "* [x] ~~Reflog~~\n",
    "* [x] ~~Cherry picking~~\n",
    "* [ ] Git rebase\n",
    "     * [ ] `git rebase`\n",
    "     * [ ] co oznacza `fast forward`\n",
    "* [ ] Git bisect\n",
    "* [ ] Git fetch vs pull\n",
    "* [ ] Praca z wieloma repozytoriami\n",
    "* [ ] ..."
   ]
  },
  {
   "cell_type": "markdown",
   "metadata": {
    "slideshow": {
     "slide_type": "subslide"
    }
   },
   "source": [
    "<img src=\"img/basic-rebase.png\" />\n",
    "\n",
    "> Źródło Git Pro 2nd Edition"
   ]
  },
  {
   "cell_type": "code",
   "execution_count": 1,
   "metadata": {
    "slideshow": {
     "slide_type": "subslide"
    }
   },
   "outputs": [
    {
     "name": "stdout",
     "output_type": "stream",
     "text": [
      "Initialized empty Git repository in /home/wyhasany/rebase/.git/\n",
      "[master (root-commit) 280364c] C0\n",
      " 1 file changed, 1 insertion(+)\n",
      " create mode 100644 file\n",
      "[master a450377] C1\n",
      " 1 file changed, 1 insertion(+)\n",
      "[master 4e2b72f] C2\n",
      " 1 file changed, 1 insertion(+)\n",
      "[master 848931d] C3\n",
      " 1 file changed, 1 insertion(+)\n",
      "\u001b[31mSwitched to a new branch 'experiment'\n",
      "\u001b[0m[experiment ed4e92c] C4\n",
      " 1 file changed, 1 insertion(+)\n",
      "* \u001b[33med4e92c\u001b[m\u001b[33m (\u001b[m\u001b[1;36mHEAD -> \u001b[m\u001b[1;32mexperiment\u001b[m\u001b[33m)\u001b[m C4\n",
      "* \u001b[33m848931d\u001b[m\u001b[33m (\u001b[m\u001b[1;32mmaster\u001b[m\u001b[33m)\u001b[m C3\n",
      "* \u001b[33m4e2b72f\u001b[m C2\n",
      "* \u001b[33ma450377\u001b[m C1\n",
      "* \u001b[33m280364c\u001b[m C0\n"
     ]
    }
   ],
   "source": [
    "cd ~/ && rm -rf rebase/ && mkdir rebase && cd rebase && git init && git config commit.gpgsign false\n",
    "echo C0 > file\n",
    "git add file\n",
    "git commit -am C0\n",
    "echo C1 >> file\n",
    "git commit -am C1\n",
    "echo C2 >> file\n",
    "git commit -am C2\n",
    "echo C3 >> file\n",
    "git commit -am C3\n",
    "git checkout -b experiment\n",
    "echo C4 >> file\n",
    "git commit -am C4\n",
    "git log --all --graph --oneline"
   ]
  },
  {
   "cell_type": "code",
   "execution_count": 2,
   "metadata": {
    "slideshow": {
     "slide_type": "subslide"
    }
   },
   "outputs": [
    {
     "name": "stdout",
     "output_type": "stream",
     "text": [
      "Current branch experiment is up to date.\n"
     ]
    }
   ],
   "source": [
    "git rebase master #czemu jest ok?"
   ]
  },
  {
   "cell_type": "code",
   "execution_count": 4,
   "metadata": {
    "slideshow": {
     "slide_type": "fragment"
    }
   },
   "outputs": [
    {
     "name": "stdout",
     "output_type": "stream",
     "text": [
      "\u001b[31mSwitched to branch 'master'\n",
      "\u001b[0m[master 20fae1f] C5\n",
      " 1 file changed, 1 insertion(+)\n",
      "* \u001b[33m20fae1f\u001b[m\u001b[33m (\u001b[m\u001b[1;36mHEAD -> \u001b[m\u001b[1;32mmaster\u001b[m\u001b[33m)\u001b[m C5\n",
      "\u001b[31m|\u001b[m * \u001b[33med4e92c\u001b[m\u001b[33m (\u001b[m\u001b[1;32mexperiment\u001b[m\u001b[33m)\u001b[m C4\n",
      "\u001b[31m|\u001b[m\u001b[31m/\u001b[m  \n",
      "* \u001b[33m848931d\u001b[m C3\n",
      "* \u001b[33m4e2b72f\u001b[m C2\n",
      "* \u001b[33ma450377\u001b[m C1\n",
      "* \u001b[33m280364c\u001b[m C0\n"
     ]
    }
   ],
   "source": [
    "git checkout master\n",
    "echo C5 >> file\n",
    "git commit -am C5\n",
    "git log --oneline --graph --all"
   ]
  },
  {
   "cell_type": "code",
   "execution_count": 5,
   "metadata": {
    "slideshow": {
     "slide_type": "subslide"
    }
   },
   "outputs": [
    {
     "name": "stdout",
     "output_type": "stream",
     "text": [
      "\u001b[31mSwitched to branch 'experiment'\n",
      "\u001b[0mFirst, rewinding head to replay your work on top of it...\n",
      "Applying: C4\n",
      "Using index info to reconstruct a base tree...\n",
      "M\tfile\n",
      "Falling back to patching base and 3-way merge...\n",
      "Auto-merging file\n",
      "CONFLICT (content): Merge conflict in file\n",
      "\u001b[31merror: Failed to merge in the changes.\n",
      "\u001b[0mPatch failed at 0001 C4\n",
      "Use 'git am --show-current-patch' to see the failed patch\n",
      "\n",
      "Resolve all conflicts manually, mark them as resolved with\n",
      "\"git add/rm <conflicted_files>\", then run \"git rebase --continue\".\n",
      "You can instead skip this commit: run \"git rebase --skip\".\n",
      "To abort and get back to the state before \"git rebase\", run \"git rebase --abort\".\n",
      "\n"
     ]
    },
    {
     "ename": "",
     "evalue": "128",
     "output_type": "error",
     "traceback": []
    }
   ],
   "source": [
    "git checkout experiment\n",
    "git rebase master"
   ]
  },
  {
   "cell_type": "code",
   "execution_count": 6,
   "metadata": {
    "slideshow": {
     "slide_type": "fragment"
    }
   },
   "outputs": [
    {
     "name": "stdout",
     "output_type": "stream",
     "text": [
      "C0\n",
      "C1\n",
      "C2\n",
      "C3\n",
      "<<<<<<< HEAD\n",
      "C5\n",
      "=======\n",
      "C4\n",
      ">>>>>>> C4\n"
     ]
    }
   ],
   "source": [
    "cat file"
   ]
  },
  {
   "cell_type": "code",
   "execution_count": 7,
   "metadata": {
    "slideshow": {
     "slide_type": "subslide"
    }
   },
   "outputs": [
    {
     "name": "stdout",
     "output_type": "stream",
     "text": [
      "Applying: C4\n",
      "* \u001b[33ma99f03c\u001b[m\u001b[33m (\u001b[m\u001b[1;36mHEAD -> \u001b[m\u001b[1;32mexperiment\u001b[m\u001b[33m)\u001b[m C4\n",
      "* \u001b[33m20fae1f\u001b[m\u001b[33m (\u001b[m\u001b[1;32mmaster\u001b[m\u001b[33m)\u001b[m C5\n",
      "* \u001b[33m848931d\u001b[m C3\n",
      "* \u001b[33m4e2b72f\u001b[m C2\n",
      "* \u001b[33ma450377\u001b[m C1\n",
      "* \u001b[33m280364c\u001b[m C0\n"
     ]
    }
   ],
   "source": [
    "sed -i '5d' file #usuń czwartą linię itd\n",
    "sed -i '6d' file\n",
    "sed -i '7d' file\n",
    "git add file\n",
    "git rebase --continue\n",
    "git log --oneline --all --graph"
   ]
  },
  {
   "cell_type": "code",
   "execution_count": 8,
   "metadata": {
    "slideshow": {
     "slide_type": "fragment"
    }
   },
   "outputs": [
    {
     "name": "stdout",
     "output_type": "stream",
     "text": [
      "\u001b[31mSwitched to branch 'master'\n",
      "\u001b[0mUpdating 20fae1f..a99f03c\n",
      "Fast-forward\n",
      " file | 1 \u001b[32m+\u001b[m\n",
      " 1 file changed, 1 insertion(+)\n",
      "\n",
      "* \u001b[33ma99f03c\u001b[m\u001b[33m (\u001b[m\u001b[1;36mHEAD -> \u001b[m\u001b[1;32mmaster\u001b[m\u001b[33m, \u001b[m\u001b[1;32mexperiment\u001b[m\u001b[33m)\u001b[m C4\n",
      "* \u001b[33m20fae1f\u001b[m C5\n",
      "* \u001b[33m848931d\u001b[m C3\n",
      "* \u001b[33m4e2b72f\u001b[m C2\n",
      "* \u001b[33ma450377\u001b[m C1\n",
      "* \u001b[33m280364c\u001b[m C0\n"
     ]
    }
   ],
   "source": [
    "git checkout master\n",
    "git merge experiment\n",
    "echo\n",
    "git log --oneline --all --graph"
   ]
  },
  {
   "cell_type": "code",
   "execution_count": 9,
   "metadata": {
    "slideshow": {
     "slide_type": "subslide"
    }
   },
   "outputs": [],
   "source": [
    "cd ~/ && rm -rf rebase/"
   ]
  },
  {
   "cell_type": "markdown",
   "metadata": {},
   "source": [
    "## Ćwiczenia\n",
    "\n",
    "1. Sklonuj dowolne repozytorium z GitHuba. Stwórz branch `eksperyment` i przenieś się na niego. Stwórz plik o nazwie `plik` i zrób dwa commity dodając literę `A` i `B` (treści commitów takie same). Dokonaj rebase i przenieś `mastera` na commit o treści `B`. Wyjaśnij koledze jaka była różnica w tym ćwiczeniu vs przykład z tego rozdziału."
   ]
  },
  {
   "cell_type": "markdown",
   "metadata": {
    "slideshow": {
     "slide_type": "subslide"
    }
   },
   "source": [
    "# Status\n",
    "\n",
    "* [x] ~~...~~\n",
    "* [x] ~~Merge (łączenie zmian)~~\n",
    "* [x] ~~Git stash~~\n",
    "* [x] ~~Git add interactive~~\n",
    "* [x] ~~Reflog~~\n",
    "* [x] ~~Cherry picking~~\n",
    "* [x] ~~Git rebase~~\n",
    "     * [x] ~~`git rebase`~~\n",
    "     * [x] ~~co oznacza `fast forward`~~\n",
    "* [ ] Git bisect\n",
    "* [ ] Git fetch vs pull\n",
    "* [ ] Praca z wieloma repozytoriami\n",
    "* [ ] Git push\n",
    "* [ ] ..."
   ]
  },
  {
   "cell_type": "markdown",
   "metadata": {
    "slideshow": {
     "slide_type": "slide"
    }
   },
   "source": [
    "# Status\n",
    "\n",
    "* [x] ~~...~~\n",
    "* [x] ~~Reflog~~\n",
    "* [x] ~~Cherry picking~~\n",
    "* [x] ~~Git rebase~~\n",
    "* [ ] Git bisect\n",
    "     * [ ] `git bisect`\n",
    "     * [ ] `^` operator\n",
    "     * [ ] `~` operator\n",
    "     * [ ] `git show`\n",
    "* [ ] Git fetch vs pull\n",
    "* [ ] Praca z wieloma repozytoriami\n",
    "* [ ] Git push\n",
    "* [ ] ..."
   ]
  },
  {
   "cell_type": "markdown",
   "metadata": {
    "slideshow": {
     "slide_type": "subslide"
    }
   },
   "source": [
    "## Przykład"
   ]
  },
  {
   "cell_type": "code",
   "execution_count": 1,
   "metadata": {
    "slideshow": {
     "slide_type": "fragment"
    }
   },
   "outputs": [
    {
     "name": "stdout",
     "output_type": "stream",
     "text": [
      "Initialized empty Git repository in /home/wyhasany/bisect/.git/\n",
      "[master (root-commit) e386b06] A1\n",
      " 2 files changed, 7 insertions(+)\n",
      " create mode 100644 projectfile\n",
      " create mode 100755 test.sh\n",
      "[master bab8ed1] A2\n",
      " 1 file changed, 1 insertion(+)\n",
      "[master 0cce106] A3\n",
      " 1 file changed, 1 insertion(+)\n",
      "[master 4ce0156] A4\n",
      " 1 file changed, 1 insertion(+)\n",
      "[master d3d06bc] A5\n",
      " 1 file changed, 1 insertion(+)\n",
      "[master a454009] A6\n",
      " 1 file changed, 1 insertion(+)\n",
      "[master 9ab1b07] A7\n",
      " 1 file changed, 1 insertion(+)\n",
      "[master 2ff187b] A8\n",
      " 1 file changed, 1 insertion(+)\n",
      "[master 7c207ee] A9\n",
      " 1 file changed, 1 insertion(+)\n",
      "[master 8f1d5e0] A10\n",
      " 1 file changed, 1 insertion(+)\n",
      "[master c97afc6] A11\n",
      " 1 file changed, 1 insertion(+)\n",
      "[master 5bd5700] A12\n",
      " 1 file changed, 1 insertion(+)\n",
      "[master ba76b50] A13\n",
      " 1 file changed, 1 insertion(+)\n",
      "[master ebfc971] A14\n",
      " 1 file changed, 1 insertion(+)\n",
      "[master 50ed8ed] A15\n",
      " 1 file changed, 1 insertion(+)\n",
      "[master 6b55140] A16\n",
      " 1 file changed, 1 insertion(+)\n",
      "[master 3d0e3c8] A17\n",
      " 1 file changed, 1 insertion(+)\n",
      "[master 1c57cc4] A18\n",
      " 1 file changed, 1 insertion(+)\n",
      "[master 7cca492] A19\n",
      " 1 file changed, 1 insertion(+)\n",
      "[master 3fab9d0] A20\n",
      " 1 file changed, 1 insertion(+)\n",
      "[master 985191b] A21\n",
      " 1 file changed, 1 insertion(+)\n",
      "[master 0c0d30c] A22\n",
      " 1 file changed, 1 insertion(+)\n",
      "[master c2812b7] A23\n",
      " 1 file changed, 1 insertion(+)\n",
      "[master 5137ae8] A24\n",
      " 1 file changed, 1 insertion(+)\n",
      "[master 7f041a7] A25\n",
      " 1 file changed, 1 insertion(+)\n",
      "[master 6ad037e] A26\n",
      " 1 file changed, 1 insertion(+)\n",
      "[master ec4e4ed] A27\n",
      " 1 file changed, 1 insertion(+)\n",
      "[master 27d3850] A28\n",
      " 1 file changed, 1 insertion(+)\n",
      "[master 03d28a8] A29\n",
      " 1 file changed, 1 insertion(+)\n",
      "[master 5d17f86] A30\n",
      " 1 file changed, 1 insertion(+)\n",
      "[master 52df1cd] A31\n",
      " 1 file changed, 1 insertion(+)\n",
      "[master a0cd078] A32\n",
      " 1 file changed, 1 insertion(+)\n",
      "[master 2de5f02] A33\n",
      " 1 file changed, 1 insertion(+)\n",
      "[master 43b2dd5] A34\n",
      " 1 file changed, 1 insertion(+)\n",
      "[master 9c90158] A35\n",
      " 1 file changed, 1 insertion(+)\n",
      "[master 684ed60] A36\n",
      " 1 file changed, 1 insertion(+)\n",
      "[master f972523] A37\n",
      " 1 file changed, 1 insertion(+)\n",
      "[master 968d053] A38\n",
      " 1 file changed, 1 insertion(+)\n",
      "[master cc1c85f] A39\n",
      " 1 file changed, 1 insertion(+)\n",
      "[master 14f492f] A40\n",
      " 1 file changed, 1 insertion(+)\n",
      "[master a23a96a] A41\n",
      " 1 file changed, 1 insertion(+)\n",
      "[master 6ed1634] A42\n",
      " 1 file changed, 1 insertion(+)\n",
      "[master 0c213d4] A43\n",
      " 1 file changed, 1 insertion(+)\n",
      "[master 58825d8] A44\n",
      " 1 file changed, 1 insertion(+)\n",
      "[master 76a38e4] A45\n",
      " 1 file changed, 1 insertion(+)\n",
      "[master 4c3119c] A46\n",
      " 1 file changed, 1 insertion(+)\n",
      "[master aafb3f3] A47\n",
      " 1 file changed, 1 insertion(+)\n",
      "[master f492369] A48\n",
      " 1 file changed, 1 insertion(+)\n",
      "[master 0523805] A49\n",
      " 1 file changed, 1 insertion(+)\n",
      "[master 947c000] A50\n",
      " 1 file changed, 1 insertion(+)\n",
      "[master 20fe8b9] A51\n",
      " 1 file changed, 1 insertion(+)\n",
      "[master 7387148] A52\n",
      " 1 file changed, 1 insertion(+)\n",
      "[master 8fe0151] A53\n",
      " 1 file changed, 1 insertion(+)\n",
      "[master d69bf52] A54\n",
      " 1 file changed, 1 insertion(+)\n",
      "[master 4a4951c] A55\n",
      " 1 file changed, 1 insertion(+)\n",
      "[master b7a3a93] A56\n",
      " 1 file changed, 1 insertion(+)\n",
      "[master 2b44cbf] A57\n",
      " 1 file changed, 1 insertion(+)\n",
      "[master da36171] A58\n",
      " 1 file changed, 1 insertion(+)\n",
      "[master e332f9e] A59\n",
      " 1 file changed, 1 insertion(+)\n",
      "[master 6b7837d] A60\n",
      " 1 file changed, 1 insertion(+)\n",
      "[master 574bfee] A61\n",
      " 1 file changed, 1 insertion(+)\n",
      "[master cb0ca71] A62\n",
      " 1 file changed, 1 insertion(+)\n",
      "[master f0abf5b] A63\n",
      " 1 file changed, 1 insertion(+)\n",
      "[master c3ab9e1] A64\n",
      " 1 file changed, 1 insertion(+)\n",
      "[master b211b90] A65\n",
      " 1 file changed, 1 insertion(+)\n",
      "[master 9de1da3] A66\n",
      " 1 file changed, 1 insertion(+)\n",
      "[master f7f818a] A67\n",
      " 1 file changed, 1 insertion(+)\n",
      "[master 6aa1f98] A68\n",
      " 1 file changed, 1 insertion(+)\n",
      "[master 6ce4028] A69\n",
      " 1 file changed, 1 insertion(+)\n",
      "[master 8f746fe] A70\n",
      " 1 file changed, 1 insertion(+)\n",
      "[master 9dbcf4a] A71\n",
      " 1 file changed, 1 insertion(+)\n",
      "[master 56e2855] A72\n",
      " 1 file changed, 1 insertion(+)\n",
      "[master dcd0c98] A73\n",
      " 1 file changed, 1 insertion(+)\n",
      "[master ab13b82] A74\n",
      " 1 file changed, 1 insertion(+)\n",
      "[master c162699] A75\n",
      " 1 file changed, 1 insertion(+)\n",
      "[master a4ae758] A76\n",
      " 1 file changed, 1 insertion(+)\n",
      "[master 91c65c6] A77\n",
      " 1 file changed, 1 insertion(+)\n",
      "[master 8407488] A78\n",
      " 1 file changed, 1 insertion(+)\n",
      "[master 2fd00ed] A79\n",
      " 1 file changed, 1 insertion(+)\n",
      "[master 1ab22fc] A80\n",
      " 1 file changed, 1 insertion(+)\n",
      "[master 8f00762] A81\n",
      " 1 file changed, 1 insertion(+)\n",
      "[master 3724711] A82\n",
      " 1 file changed, 1 insertion(+)\n",
      "[master 9ad757d] A83\n",
      " 1 file changed, 1 insertion(+)\n",
      "[master 6fd7a0d] A84\n",
      " 1 file changed, 1 insertion(+)\n",
      "[master 6098034] A85\n",
      " 1 file changed, 1 insertion(+)\n",
      "[master 3456e0f] A86\n",
      " 1 file changed, 1 insertion(+)\n",
      "[master 92cf140] A87\n",
      " 1 file changed, 1 insertion(+)\n",
      "[master d62b171] A88\n",
      " 1 file changed, 1 insertion(+)\n",
      "[master b66560f] A89\n",
      " 1 file changed, 1 insertion(+)\n",
      "[master 9a8f1eb] A90\n",
      " 1 file changed, 1 insertion(+)\n",
      "[master 1477790] A91\n",
      " 1 file changed, 1 insertion(+)\n",
      "[master 5301c64] A92\n",
      " 1 file changed, 1 insertion(+)\n",
      "[master 85fec3c] A93\n",
      " 1 file changed, 1 insertion(+)\n",
      "[master 2f387e5] A94\n",
      " 1 file changed, 1 insertion(+)\n",
      "[master ffd9945] A95\n",
      " 1 file changed, 1 insertion(+)\n",
      "[master 1fc9023] A96\n",
      " 1 file changed, 1 insertion(+)\n",
      "[master f35132a] A97\n",
      " 1 file changed, 1 insertion(+)\n",
      "[master d307b2b] A98\n",
      " 1 file changed, 1 insertion(+)\n",
      "[master 5017aad] A99\n",
      " 1 file changed, 1 insertion(+)\n",
      "[master c1c0e58] A100\n",
      " 1 file changed, 1 insertion(+)\n",
      "\u001b[33mc1c0e58\u001b[m\u001b[33m (\u001b[m\u001b[1;36mHEAD -> \u001b[m\u001b[1;32mmaster\u001b[m\u001b[33m)\u001b[m A100\n",
      "\u001b[33m5017aad\u001b[m A99\n",
      "\u001b[33md307b2b\u001b[m A98\n",
      "\u001b[33mf35132a\u001b[m A97\n",
      "\u001b[33m1fc9023\u001b[m A96\n",
      "\u001b[33mffd9945\u001b[m A95\n",
      "\u001b[33m2f387e5\u001b[m A94\n",
      "\u001b[33m85fec3c\u001b[m A93\n",
      "\u001b[33m5301c64\u001b[m A92\n",
      "\u001b[33m1477790\u001b[m A91\n",
      "\u001b[33m9a8f1eb\u001b[m A90\n",
      "\u001b[33mb66560f\u001b[m A89\n",
      "\u001b[33md62b171\u001b[m A88\n",
      "\u001b[33m92cf140\u001b[m A87\n",
      "\u001b[33m3456e0f\u001b[m A86\n",
      "\u001b[33m6098034\u001b[m A85\n",
      "\u001b[33m6fd7a0d\u001b[m A84\n",
      "\u001b[33m9ad757d\u001b[m A83\n",
      "\u001b[33m3724711\u001b[m A82\n",
      "\u001b[33m8f00762\u001b[m A81\n",
      "\u001b[33m1ab22fc\u001b[m A80\n",
      "\u001b[33m2fd00ed\u001b[m A79\n",
      "\u001b[33m8407488\u001b[m A78\n",
      "\u001b[33m91c65c6\u001b[m A77\n",
      "\u001b[33ma4ae758\u001b[m A76\n",
      "\u001b[33mc162699\u001b[m A75\n",
      "\u001b[33mab13b82\u001b[m A74\n",
      "\u001b[33mdcd0c98\u001b[m A73\n",
      "\u001b[33m56e2855\u001b[m A72\n",
      "\u001b[33m9dbcf4a\u001b[m A71\n",
      "\u001b[33m8f746fe\u001b[m A70\n",
      "\u001b[33m6ce4028\u001b[m A69\n",
      "\u001b[33m6aa1f98\u001b[m A68\n",
      "\u001b[33mf7f818a\u001b[m A67\n",
      "\u001b[33m9de1da3\u001b[m A66\n",
      "\u001b[33mb211b90\u001b[m A65\n",
      "\u001b[33mc3ab9e1\u001b[m A64\n",
      "\u001b[33mf0abf5b\u001b[m A63\n",
      "\u001b[33mcb0ca71\u001b[m A62\n",
      "\u001b[33m574bfee\u001b[m A61\n",
      "\u001b[33m6b7837d\u001b[m A60\n",
      "\u001b[33me332f9e\u001b[m A59\n",
      "\u001b[33mda36171\u001b[m A58\n",
      "\u001b[33m2b44cbf\u001b[m A57\n",
      "\u001b[33mb7a3a93\u001b[m A56\n",
      "\u001b[33m4a4951c\u001b[m A55\n",
      "\u001b[33md69bf52\u001b[m A54\n",
      "\u001b[33m8fe0151\u001b[m A53\n",
      "\u001b[33m7387148\u001b[m A52\n",
      "\u001b[33m20fe8b9\u001b[m A51\n",
      "\u001b[33m947c000\u001b[m A50\n",
      "\u001b[33m0523805\u001b[m A49\n",
      "\u001b[33mf492369\u001b[m A48\n",
      "\u001b[33maafb3f3\u001b[m A47\n",
      "\u001b[33m4c3119c\u001b[m A46\n",
      "\u001b[33m76a38e4\u001b[m A45\n",
      "\u001b[33m58825d8\u001b[m A44\n",
      "\u001b[33m0c213d4\u001b[m A43\n",
      "\u001b[33m6ed1634\u001b[m A42\n",
      "\u001b[33ma23a96a\u001b[m A41\n",
      "\u001b[33m14f492f\u001b[m A40\n",
      "\u001b[33mcc1c85f\u001b[m A39\n",
      "\u001b[33m968d053\u001b[m A38\n",
      "\u001b[33mf972523\u001b[m A37\n",
      "\u001b[33m684ed60\u001b[m A36\n",
      "\u001b[33m9c90158\u001b[m A35\n",
      "\u001b[33m43b2dd5\u001b[m A34\n",
      "\u001b[33m2de5f02\u001b[m A33\n",
      "\u001b[33ma0cd078\u001b[m A32\n",
      "\u001b[33m52df1cd\u001b[m A31\n",
      "\u001b[33m5d17f86\u001b[m A30\n",
      "\u001b[33m03d28a8\u001b[m A29\n",
      "\u001b[33m27d3850\u001b[m A28\n",
      "\u001b[33mec4e4ed\u001b[m A27\n",
      "\u001b[33m6ad037e\u001b[m A26\n",
      "\u001b[33m7f041a7\u001b[m A25\n",
      "\u001b[33m5137ae8\u001b[m A24\n",
      "\u001b[33mc2812b7\u001b[m A23\n",
      "\u001b[33m0c0d30c\u001b[m A22\n",
      "\u001b[33m985191b\u001b[m A21\n",
      "\u001b[33m3fab9d0\u001b[m A20\n",
      "\u001b[33m7cca492\u001b[m A19\n",
      "\u001b[33m1c57cc4\u001b[m A18\n",
      "\u001b[33m3d0e3c8\u001b[m A17\n",
      "\u001b[33m6b55140\u001b[m A16\n",
      "\u001b[33m50ed8ed\u001b[m A15\n",
      "\u001b[33mebfc971\u001b[m A14\n",
      "\u001b[33mba76b50\u001b[m A13\n",
      "\u001b[33m5bd5700\u001b[m A12\n",
      "\u001b[33mc97afc6\u001b[m A11\n",
      "\u001b[33m8f1d5e0\u001b[m A10\n",
      "\u001b[33m7c207ee\u001b[m A9\n",
      "\u001b[33m2ff187b\u001b[m A8\n",
      "\u001b[33m9ab1b07\u001b[m A7\n",
      "\u001b[33ma454009\u001b[m A6\n",
      "\u001b[33md3d06bc\u001b[m A5\n",
      "\u001b[33m4ce0156\u001b[m A4\n",
      "\u001b[33m0cce106\u001b[m A3\n",
      "\u001b[33mbab8ed1\u001b[m A2\n",
      "\u001b[33me386b06\u001b[m A1\n"
     ]
    }
   ],
   "source": [
    "cd ~/ && rm -rf bisect && mkdir bisect && cd bisect && git init && git config commit.gpgsign false\n",
    "touch projectfile\n",
    "git add projectfile\n",
    "cat > test.sh << EOF\n",
    "if grep 63 projectfile\n",
    "then\n",
    "  echo BAD\n",
    "else\n",
    "  echo GOOD\n",
    "fi\n",
    "EOF\n",
    "chmod +x test.sh\n",
    "git add test.sh\n",
    "\n",
    "for ((i=1;i<=100;i++))\n",
    "do\n",
    "echo $i >> projectfile\n",
    "git commit -am \"A$i\"\n",
    "done\n",
    "\n",
    "git log --oneline"
   ]
  },
  {
   "cell_type": "code",
   "execution_count": 2,
   "metadata": {
    "slideshow": {
     "slide_type": "subslide"
    }
   },
   "outputs": [
    {
     "name": "stdout",
     "output_type": "stream",
     "text": [
      "63\n",
      "BAD\n",
      "On branch master\n",
      "You are currently bisecting, started from branch 'master'.\n",
      "  (use \"git bisect reset\" to get back to the original branch)\n",
      "\n",
      "nothing to commit, working tree clean\n"
     ]
    }
   ],
   "source": [
    "git bisect start\n",
    "./test.sh\n",
    "git bisect bad\n",
    "git status"
   ]
  },
  {
   "cell_type": "code",
   "execution_count": 3,
   "metadata": {
    "scrolled": true,
    "slideshow": {
     "slide_type": "fragment"
    }
   },
   "outputs": [
    {
     "name": "stdout",
     "output_type": "stream",
     "text": [
      "\u001b[31mNote: checking out 'HEAD~99'.\n",
      "\n",
      "You are in 'detached HEAD' state. You can look around, make experimental\n",
      "changes and commit them, and you can discard any commits you make in this\n",
      "state without impacting any branches by performing another checkout.\n",
      "\n",
      "If you want to create a new branch to retain commits you create, you may\n",
      "do so (now or later) by using -b with the checkout command again. Example:\n",
      "\n",
      "  git checkout -b <new-branch-name>\n",
      "\n",
      "\u001b[0m\u001b[31mHEAD is now at e386b06 A1\n",
      "\u001b[0m\u001b[31mHEAD detached at \u001b[me386b06\n",
      "You are currently bisecting, started from branch 'master'.\n",
      "  (use \"git bisect reset\" to get back to the original branch)\n",
      "\n",
      "nothing to commit, working tree clean\n",
      "GOOD\n",
      "Bisecting: 49 revisions left to test after this (roughly 6 steps)\n",
      "[947c000c456a56fe123f155c59d73bab9e9d58f4] A50\n",
      "\u001b[33m947c000\u001b[m\u001b[33m (\u001b[m\u001b[1;36mHEAD\u001b[m\u001b[33m)\u001b[m A50\n",
      "\u001b[33m0523805\u001b[m A49\n",
      "\u001b[33mf492369\u001b[m A48\n",
      "\u001b[33maafb3f3\u001b[m A47\n",
      "\u001b[33m4c3119c\u001b[m A46\n",
      "\u001b[33m76a38e4\u001b[m A45\n",
      "\u001b[33m58825d8\u001b[m A44\n",
      "\u001b[33m0c213d4\u001b[m A43\n",
      "\u001b[33m6ed1634\u001b[m A42\n",
      "\u001b[33ma23a96a\u001b[m A41\n",
      "\u001b[33m14f492f\u001b[m A40\n",
      "\u001b[33mcc1c85f\u001b[m A39\n",
      "\u001b[33m968d053\u001b[m A38\n",
      "\u001b[33mf972523\u001b[m A37\n",
      "\u001b[33m684ed60\u001b[m A36\n",
      "\u001b[33m9c90158\u001b[m A35\n",
      "\u001b[33m43b2dd5\u001b[m A34\n",
      "\u001b[33m2de5f02\u001b[m A33\n",
      "\u001b[33ma0cd078\u001b[m A32\n",
      "\u001b[33m52df1cd\u001b[m A31\n",
      "\u001b[33m5d17f86\u001b[m A30\n",
      "\u001b[33m03d28a8\u001b[m A29\n",
      "\u001b[33m27d3850\u001b[m A28\n",
      "\u001b[33mec4e4ed\u001b[m A27\n",
      "\u001b[33m6ad037e\u001b[m A26\n",
      "\u001b[33m7f041a7\u001b[m A25\n",
      "\u001b[33m5137ae8\u001b[m A24\n",
      "\u001b[33mc2812b7\u001b[m A23\n",
      "\u001b[33m0c0d30c\u001b[m A22\n",
      "\u001b[33m985191b\u001b[m A21\n",
      "\u001b[33m3fab9d0\u001b[m A20\n",
      "\u001b[33m7cca492\u001b[m A19\n",
      "\u001b[33m1c57cc4\u001b[m A18\n",
      "\u001b[33m3d0e3c8\u001b[m A17\n",
      "\u001b[33m6b55140\u001b[m A16\n",
      "\u001b[33m50ed8ed\u001b[m A15\n",
      "\u001b[33mebfc971\u001b[m A14\n",
      "\u001b[33mba76b50\u001b[m A13\n",
      "\u001b[33m5bd5700\u001b[m A12\n",
      "\u001b[33mc97afc6\u001b[m A11\n",
      "\u001b[33m8f1d5e0\u001b[m A10\n",
      "\u001b[33m7c207ee\u001b[m A9\n",
      "\u001b[33m2ff187b\u001b[m A8\n",
      "\u001b[33m9ab1b07\u001b[m A7\n",
      "\u001b[33ma454009\u001b[m A6\n",
      "\u001b[33md3d06bc\u001b[m A5\n",
      "\u001b[33m4ce0156\u001b[m A4\n",
      "\u001b[33m0cce106\u001b[m A3\n",
      "\u001b[33mbab8ed1\u001b[m A2\n",
      "\u001b[33me386b06\u001b[m\u001b[33m (\u001b[m\u001b[mrefs/bisect/good-e386b0695da688dd5db84be548b9c6e7b6bf4b4c\u001b[m\u001b[33m)\u001b[m A1\n"
     ]
    }
   ],
   "source": [
    "git checkout HEAD~99\n",
    "git status\n",
    "./test.sh\n",
    "git bisect good\n",
    "git log --oneline"
   ]
  },
  {
   "cell_type": "code",
   "execution_count": 4,
   "metadata": {
    "scrolled": true,
    "slideshow": {
     "slide_type": "subslide"
    }
   },
   "outputs": [
    {
     "name": "stdout",
     "output_type": "stream",
     "text": [
      "\u001b[31mHEAD detached at \u001b[m947c000\n",
      "You are currently bisecting, started from branch 'master'.\n",
      "  (use \"git bisect reset\" to get back to the original branch)\n",
      "\n",
      "nothing to commit, working tree clean\n",
      "GOOD\n",
      "Bisecting: 24 revisions left to test after this (roughly 5 steps)\n",
      "[c162699ad564507d1dafd54c573c46e97ad5f9ca] A75\n",
      "\u001b[33mc162699\u001b[m\u001b[33m (\u001b[m\u001b[1;36mHEAD\u001b[m\u001b[33m)\u001b[m A75\n",
      "\u001b[33mab13b82\u001b[m A74\n",
      "\u001b[33mdcd0c98\u001b[m A73\n",
      "\u001b[33m56e2855\u001b[m A72\n",
      "\u001b[33m9dbcf4a\u001b[m A71\n",
      "\u001b[33m8f746fe\u001b[m A70\n",
      "\u001b[33m6ce4028\u001b[m A69\n",
      "\u001b[33m6aa1f98\u001b[m A68\n",
      "\u001b[33mf7f818a\u001b[m A67\n",
      "\u001b[33m9de1da3\u001b[m A66\n",
      "\u001b[33mb211b90\u001b[m A65\n",
      "\u001b[33mc3ab9e1\u001b[m A64\n",
      "\u001b[33mf0abf5b\u001b[m A63\n",
      "\u001b[33mcb0ca71\u001b[m A62\n",
      "\u001b[33m574bfee\u001b[m A61\n",
      "\u001b[33m6b7837d\u001b[m A60\n",
      "\u001b[33me332f9e\u001b[m A59\n",
      "\u001b[33mda36171\u001b[m A58\n",
      "\u001b[33m2b44cbf\u001b[m A57\n",
      "\u001b[33mb7a3a93\u001b[m A56\n",
      "\u001b[33m4a4951c\u001b[m A55\n",
      "\u001b[33md69bf52\u001b[m A54\n",
      "\u001b[33m8fe0151\u001b[m A53\n",
      "\u001b[33m7387148\u001b[m A52\n",
      "\u001b[33m20fe8b9\u001b[m A51\n",
      "\u001b[33m947c000\u001b[m\u001b[33m (\u001b[m\u001b[mrefs/bisect/good-947c000c456a56fe123f155c59d73bab9e9d58f4\u001b[m\u001b[33m)\u001b[m A50\n",
      "\u001b[33m0523805\u001b[m A49\n",
      "\u001b[33mf492369\u001b[m A48\n",
      "\u001b[33maafb3f3\u001b[m A47\n",
      "\u001b[33m4c3119c\u001b[m A46\n",
      "\u001b[33m76a38e4\u001b[m A45\n",
      "\u001b[33m58825d8\u001b[m A44\n",
      "\u001b[33m0c213d4\u001b[m A43\n",
      "\u001b[33m6ed1634\u001b[m A42\n",
      "\u001b[33ma23a96a\u001b[m A41\n",
      "\u001b[33m14f492f\u001b[m A40\n",
      "\u001b[33mcc1c85f\u001b[m A39\n",
      "\u001b[33m968d053\u001b[m A38\n",
      "\u001b[33mf972523\u001b[m A37\n",
      "\u001b[33m684ed60\u001b[m A36\n",
      "\u001b[33m9c90158\u001b[m A35\n",
      "\u001b[33m43b2dd5\u001b[m A34\n",
      "\u001b[33m2de5f02\u001b[m A33\n",
      "\u001b[33ma0cd078\u001b[m A32\n",
      "\u001b[33m52df1cd\u001b[m A31\n",
      "\u001b[33m5d17f86\u001b[m A30\n",
      "\u001b[33m03d28a8\u001b[m A29\n",
      "\u001b[33m27d3850\u001b[m A28\n",
      "\u001b[33mec4e4ed\u001b[m A27\n",
      "\u001b[33m6ad037e\u001b[m A26\n",
      "\u001b[33m7f041a7\u001b[m A25\n",
      "\u001b[33m5137ae8\u001b[m A24\n",
      "\u001b[33mc2812b7\u001b[m A23\n",
      "\u001b[33m0c0d30c\u001b[m A22\n",
      "\u001b[33m985191b\u001b[m A21\n",
      "\u001b[33m3fab9d0\u001b[m A20\n",
      "\u001b[33m7cca492\u001b[m A19\n",
      "\u001b[33m1c57cc4\u001b[m A18\n",
      "\u001b[33m3d0e3c8\u001b[m A17\n",
      "\u001b[33m6b55140\u001b[m A16\n",
      "\u001b[33m50ed8ed\u001b[m A15\n",
      "\u001b[33mebfc971\u001b[m A14\n",
      "\u001b[33mba76b50\u001b[m A13\n",
      "\u001b[33m5bd5700\u001b[m A12\n",
      "\u001b[33mc97afc6\u001b[m A11\n",
      "\u001b[33m8f1d5e0\u001b[m A10\n",
      "\u001b[33m7c207ee\u001b[m A9\n",
      "\u001b[33m2ff187b\u001b[m A8\n",
      "\u001b[33m9ab1b07\u001b[m A7\n",
      "\u001b[33ma454009\u001b[m A6\n",
      "\u001b[33md3d06bc\u001b[m A5\n",
      "\u001b[33m4ce0156\u001b[m A4\n",
      "\u001b[33m0cce106\u001b[m A3\n",
      "\u001b[33mbab8ed1\u001b[m A2\n",
      "\u001b[33me386b06\u001b[m\u001b[33m (\u001b[m\u001b[mrefs/bisect/good-e386b0695da688dd5db84be548b9c6e7b6bf4b4c\u001b[m\u001b[33m)\u001b[m A1\n",
      "63\n",
      "BAD\n",
      "Bisecting: 12 revisions left to test after this (roughly 4 steps)\n",
      "[cb0ca71e044ad0a37dc9e3bd93557a5d1605c536] A62\n"
     ]
    }
   ],
   "source": [
    "git status\n",
    "./test.sh\n",
    "git bisect good\n",
    "git log --oneline\n",
    "./test.sh\n",
    "git bisect bad"
   ]
  },
  {
   "cell_type": "code",
   "execution_count": 5,
   "metadata": {
    "slideshow": {
     "slide_type": "subslide"
    }
   },
   "outputs": [
    {
     "name": "stdout",
     "output_type": "stream",
     "text": [
      "GOOD\n",
      "Bisecting: 6 revisions left to test after this (roughly 3 steps)\n",
      "[6aa1f98578d1c4e0f4a0f1c4e5b47be20bb48850] A68\n",
      "63\n",
      "BAD\n",
      "Bisecting: 2 revisions left to test after this (roughly 2 steps)\n",
      "[b211b9097078db7a8b7638b7ff990d937795f03f] A65\n",
      "63\n",
      "BAD\n",
      "Bisecting: 0 revisions left to test after this (roughly 1 step)\n",
      "[c3ab9e16726dbc5cd389df1b6125823c18742282] A64\n",
      "63\n",
      "BAD\n",
      "Bisecting: 0 revisions left to test after this (roughly 0 steps)\n",
      "[f0abf5b2daf04afbabf385bfbcc306a29b203363] A63\n",
      "63\n",
      "BAD\n",
      "f0abf5b2daf04afbabf385bfbcc306a29b203363 is the first bad commit\n",
      "\u001b[33mcommit f0abf5b2daf04afbabf385bfbcc306a29b203363\u001b[m\n",
      "Author: Michał Rowicki <mirowicki@gmail.com>\n",
      "Date:   Tue Dec 4 20:27:32 2018 +0100\n",
      "\n",
      "    A63\n",
      "\n",
      ":100644 100644 aea6bd8ad6845cca3804a87230fee1b69651643d 55200b3d5d7c0e515eaccaf8465a295017e88249 M\tprojectfile\n"
     ]
    }
   ],
   "source": [
    "./test.sh\n",
    "git bisect good\n",
    "./test.sh\n",
    "git bisect bad\n",
    "./test.sh\n",
    "git bisect bad\n",
    "./test.sh\n",
    "git bisect bad\n",
    "./test.sh\n",
    "git bisect bad"
   ]
  },
  {
   "cell_type": "code",
   "execution_count": 7,
   "metadata": {
    "scrolled": true,
    "slideshow": {
     "slide_type": "subslide"
    }
   },
   "outputs": [
    {
     "name": "stdout",
     "output_type": "stream",
     "text": [
      "\u001b[33mf0abf5b\u001b[m\u001b[33m (\u001b[m\u001b[1;36mHEAD\u001b[m\u001b[33m, \u001b[m\u001b[mrefs/bisect/bad\u001b[m\u001b[33m)\u001b[m A63\n",
      "\u001b[33mcb0ca71\u001b[m\u001b[33m (\u001b[m\u001b[mrefs/bisect/good-cb0ca71e044ad0a37dc9e3bd93557a5d1605c536\u001b[m\u001b[33m)\u001b[m A62\n",
      "\u001b[33m574bfee\u001b[m A61\n",
      "\u001b[33m6b7837d\u001b[m A60\n",
      "\u001b[33me332f9e\u001b[m A59\n",
      "\u001b[33mda36171\u001b[m A58\n",
      "\u001b[33m2b44cbf\u001b[m A57\n",
      "\u001b[33mb7a3a93\u001b[m A56\n",
      "\u001b[33m4a4951c\u001b[m A55\n",
      "\u001b[33md69bf52\u001b[m A54\n",
      "\u001b[33m8fe0151\u001b[m A53\n",
      "\u001b[33m7387148\u001b[m A52\n",
      "\u001b[33m20fe8b9\u001b[m A51\n",
      "\u001b[33m947c000\u001b[m\u001b[33m (\u001b[m\u001b[mrefs/bisect/good-947c000c456a56fe123f155c59d73bab9e9d58f4\u001b[m\u001b[33m)\u001b[m A50\n",
      "\u001b[33m0523805\u001b[m A49\n",
      "\u001b[33mf492369\u001b[m A48\n",
      "\u001b[33maafb3f3\u001b[m A47\n",
      "\u001b[33m4c3119c\u001b[m A46\n",
      "\u001b[33m76a38e4\u001b[m A45\n",
      "\u001b[33m58825d8\u001b[m A44\n",
      "\u001b[33m0c213d4\u001b[m A43\n",
      "\u001b[33m6ed1634\u001b[m A42\n",
      "\u001b[33ma23a96a\u001b[m A41\n",
      "\u001b[33m14f492f\u001b[m A40\n",
      "\u001b[33mcc1c85f\u001b[m A39\n",
      "\u001b[33m968d053\u001b[m A38\n",
      "\u001b[33mf972523\u001b[m A37\n",
      "\u001b[33m684ed60\u001b[m A36\n",
      "\u001b[33m9c90158\u001b[m A35\n",
      "\u001b[33m43b2dd5\u001b[m A34\n",
      "\u001b[33m2de5f02\u001b[m A33\n",
      "\u001b[33ma0cd078\u001b[m A32\n",
      "\u001b[33m52df1cd\u001b[m A31\n",
      "\u001b[33m5d17f86\u001b[m A30\n",
      "\u001b[33m03d28a8\u001b[m A29\n",
      "\u001b[33m27d3850\u001b[m A28\n",
      "\u001b[33mec4e4ed\u001b[m A27\n",
      "\u001b[33m6ad037e\u001b[m A26\n",
      "\u001b[33m7f041a7\u001b[m A25\n",
      "\u001b[33m5137ae8\u001b[m A24\n",
      "\u001b[33mc2812b7\u001b[m A23\n",
      "\u001b[33m0c0d30c\u001b[m A22\n",
      "\u001b[33m985191b\u001b[m A21\n",
      "\u001b[33m3fab9d0\u001b[m A20\n",
      "\u001b[33m7cca492\u001b[m A19\n",
      "\u001b[33m1c57cc4\u001b[m A18\n",
      "\u001b[33m3d0e3c8\u001b[m A17\n",
      "\u001b[33m6b55140\u001b[m A16\n",
      "\u001b[33m50ed8ed\u001b[m A15\n",
      "\u001b[33mebfc971\u001b[m A14\n",
      "\u001b[33mba76b50\u001b[m A13\n",
      "\u001b[33m5bd5700\u001b[m A12\n",
      "\u001b[33mc97afc6\u001b[m A11\n",
      "\u001b[33m8f1d5e0\u001b[m A10\n",
      "\u001b[33m7c207ee\u001b[m A9\n",
      "\u001b[33m2ff187b\u001b[m A8\n",
      "\u001b[33m9ab1b07\u001b[m A7\n",
      "\u001b[33ma454009\u001b[m A6\n",
      "\u001b[33md3d06bc\u001b[m A5\n",
      "\u001b[33m4ce0156\u001b[m A4\n",
      "\u001b[33m0cce106\u001b[m A3\n",
      "\u001b[33mbab8ed1\u001b[m A2\n",
      "\u001b[33me386b06\u001b[m\u001b[33m (\u001b[m\u001b[mrefs/bisect/good-e386b0695da688dd5db84be548b9c6e7b6bf4b4c\u001b[m\u001b[33m)\u001b[m A1\n"
     ]
    }
   ],
   "source": [
    "git log --oneline"
   ]
  },
  {
   "cell_type": "code",
   "execution_count": 9,
   "metadata": {
    "slideshow": {
     "slide_type": "subslide"
    }
   },
   "outputs": [
    {
     "name": "stdout",
     "output_type": "stream",
     "text": [
      "\u001b[1mdiff --git a/projectfile b/projectfile\u001b[m\n",
      "\u001b[1mindex aea6bd8..55200b3 100644\u001b[m\n",
      "\u001b[1m--- a/projectfile\u001b[m\n",
      "\u001b[1m+++ b/projectfile\u001b[m\n",
      "\u001b[36m@@ -60,3 +60,4 @@\u001b[m\n",
      " 60\u001b[m\n",
      " 61\u001b[m\n",
      " 62\u001b[m\n",
      "\u001b[32m+\u001b[m\u001b[32m63\u001b[m\n"
     ]
    }
   ],
   "source": [
    "git diff HEAD^ HEAD"
   ]
  },
  {
   "cell_type": "code",
   "execution_count": 12,
   "metadata": {
    "scrolled": true,
    "slideshow": {
     "slide_type": "fragment"
    }
   },
   "outputs": [
    {
     "name": "stdout",
     "output_type": "stream",
     "text": [
      "\u001b[01;34m.git\u001b[00m\n",
      "├── BISECT_ANCESTORS_OK\n",
      "├── BISECT_EXPECTED_REV\n",
      "├── BISECT_LOG\n",
      "├── BISECT_NAMES\n",
      "├── BISECT_START\n",
      "├── BISECT_TERMS\n",
      "├── \u001b[01;34mbranches\u001b[00m\n",
      "├── COMMIT_EDITMSG\n",
      "├── config\n",
      "├── description\n",
      "├── HEAD\n",
      "├── \u001b[01;34mhooks\u001b[00m\n",
      "├── index\n",
      "├── \u001b[01;34minfo\u001b[00m\n",
      "├── \u001b[01;34mlogs\u001b[00m\n",
      "├── \u001b[01;34mobjects\u001b[00m\n",
      "├── packed-refs\n",
      "└── \u001b[01;34mrefs\u001b[00m\n",
      "\n",
      "6 directories, 12 files\n",
      "\u001b[01;34m.git/refs\u001b[00m\n",
      "├── \u001b[01;34mbisect\u001b[00m\n",
      "│   ├── bad\n",
      "│   ├── good-947c000c456a56fe123f155c59d73bab9e9d58f4\n",
      "│   ├── good-cb0ca71e044ad0a37dc9e3bd93557a5d1605c536\n",
      "│   └── good-e386b0695da688dd5db84be548b9c6e7b6bf4b4c\n",
      "├── \u001b[01;34mheads\u001b[00m\n",
      "│   └── master\n",
      "└── \u001b[01;34mtags\u001b[00m\n",
      "\n",
      "3 directories, 5 files\n"
     ]
    }
   ],
   "source": [
    "tree .git -L 1\n",
    "tree .git/refs"
   ]
  },
  {
   "cell_type": "code",
   "execution_count": 13,
   "metadata": {
    "scrolled": true,
    "slideshow": {
     "slide_type": "subslide"
    }
   },
   "outputs": [
    {
     "name": "stdout",
     "output_type": "stream",
     "text": [
      "\n",
      ">> .git/BISECT_ANCESTORS_OK <<\n",
      "\n",
      ">> .git/BISECT_EXPECTED_REV <<\n",
      "f0abf5b2daf04afbabf385bfbcc306a29b203363\n",
      "\n",
      ">> .git/BISECT_NAMES <<\n",
      "\n",
      "\n",
      ">> .git/BISECT_TERMS <<\n",
      "bad\n",
      "good\n",
      "\n",
      ">> .git/BISECT_LOG <<\n",
      "git bisect start\n",
      "# bad: [c1c0e58b3f9917973b44ad30c8a0381e30d2bf0e] A100\n",
      "git bisect bad c1c0e58b3f9917973b44ad30c8a0381e30d2bf0e\n",
      "# good: [e386b0695da688dd5db84be548b9c6e7b6bf4b4c] A1\n",
      "git bisect good e386b0695da688dd5db84be548b9c6e7b6bf4b4c\n",
      "# good: [947c000c456a56fe123f155c59d73bab9e9d58f4] A50\n",
      "git bisect good 947c000c456a56fe123f155c59d73bab9e9d58f4\n",
      "# bad: [c162699ad564507d1dafd54c573c46e97ad5f9ca] A75\n",
      "git bisect bad c162699ad564507d1dafd54c573c46e97ad5f9ca\n",
      "# good: [cb0ca71e044ad0a37dc9e3bd93557a5d1605c536] A62\n",
      "git bisect good cb0ca71e044ad0a37dc9e3bd93557a5d1605c536\n",
      "# bad: [6aa1f98578d1c4e0f4a0f1c4e5b47be20bb48850] A68\n",
      "git bisect bad 6aa1f98578d1c4e0f4a0f1c4e5b47be20bb48850\n",
      "# bad: [b211b9097078db7a8b7638b7ff990d937795f03f] A65\n",
      "git bisect bad b211b9097078db7a8b7638b7ff990d937795f03f\n",
      "# bad: [c3ab9e16726dbc5cd389df1b6125823c18742282] A64\n",
      "git bisect bad c3ab9e16726dbc5cd389df1b6125823c18742282\n",
      "# bad: [f0abf5b2daf04afbabf385bfbcc306a29b203363] A63\n",
      "git bisect bad f0abf5b2daf04afbabf385bfbcc306a29b203363\n",
      "# first bad commit: [f0abf5b2daf04afbabf385bfbcc306a29b203363] A63\n",
      "\n",
      ">> .git/BISECT_START <<\n",
      "master\n"
     ]
    }
   ],
   "source": [
    "find .git/ -type f | grep BISECT | xargs -I % sh -c \"echo '\\n>> % <<' ; cat %\""
   ]
  },
  {
   "cell_type": "code",
   "execution_count": 15,
   "metadata": {
    "scrolled": true,
    "slideshow": {
     "slide_type": "fragment"
    }
   },
   "outputs": [
    {
     "name": "stdout",
     "output_type": "stream",
     "text": [
      "\u001b[31mHEAD detached at \u001b[mf0abf5b\n",
      "You are currently bisecting, started from branch 'master'.\n",
      "  (use \"git bisect reset\" to get back to the original branch)\n",
      "\n",
      "nothing to commit, working tree clean\n",
      "\u001b[31mPrevious HEAD position was f0abf5b A63\n",
      "\u001b[0m\u001b[31mSwitched to branch 'master'\n",
      "\u001b[0mOn branch master\n",
      "nothing to commit, working tree clean\n",
      "\u001b[01;34m.git\u001b[00m\n",
      "├── \u001b[01;34mbranches\u001b[00m\n",
      "├── COMMIT_EDITMSG\n",
      "├── config\n",
      "├── description\n",
      "├── HEAD\n",
      "├── \u001b[01;34mhooks\u001b[00m\n",
      "├── index\n",
      "├── \u001b[01;34minfo\u001b[00m\n",
      "├── \u001b[01;34mlogs\u001b[00m\n",
      "├── \u001b[01;34mobjects\u001b[00m\n",
      "├── packed-refs\n",
      "└── \u001b[01;34mrefs\u001b[00m\n",
      "\n",
      "6 directories, 6 files\n",
      "\u001b[01;34m.git/refs\u001b[00m\n",
      "├── \u001b[01;34mbisect\u001b[00m\n",
      "├── \u001b[01;34mheads\u001b[00m\n",
      "│   └── master\n",
      "└── \u001b[01;34mtags\u001b[00m\n",
      "\n",
      "3 directories, 1 file\n"
     ]
    }
   ],
   "source": [
    "git status\n",
    "git bisect reset\n",
    "git status\n",
    "tree .git -L 1\n",
    "tree .git/refs"
   ]
  },
  {
   "cell_type": "markdown",
   "metadata": {
    "slideshow": {
     "slide_type": "subslide"
    }
   },
   "source": [
    "### Bisect automatyczny"
   ]
  },
  {
   "cell_type": "code",
   "execution_count": 19,
   "metadata": {
    "scrolled": true,
    "slideshow": {
     "slide_type": "fragment"
    }
   },
   "outputs": [
    {
     "name": "stdout",
     "output_type": "stream",
     "text": [
      "Bisecting: 49 revisions left to test after this (roughly 6 steps)\n",
      "[947c000c456a56fe123f155c59d73bab9e9d58f4] A50\n",
      "running ./../test_authomatic.sh\n",
      "Bisecting: 24 revisions left to test after this (roughly 5 steps)\n",
      "[c162699ad564507d1dafd54c573c46e97ad5f9ca] A75\n",
      "running ./../test_authomatic.sh\n",
      "BAD\n",
      "Bisecting: 12 revisions left to test after this (roughly 4 steps)\n",
      "[cb0ca71e044ad0a37dc9e3bd93557a5d1605c536] A62\n",
      "running ./../test_authomatic.sh\n",
      "Bisecting: 6 revisions left to test after this (roughly 3 steps)\n",
      "[6aa1f98578d1c4e0f4a0f1c4e5b47be20bb48850] A68\n",
      "running ./../test_authomatic.sh\n",
      "BAD\n",
      "Bisecting: 2 revisions left to test after this (roughly 2 steps)\n",
      "[b211b9097078db7a8b7638b7ff990d937795f03f] A65\n",
      "running ./../test_authomatic.sh\n",
      "BAD\n",
      "Bisecting: 0 revisions left to test after this (roughly 1 step)\n",
      "[c3ab9e16726dbc5cd389df1b6125823c18742282] A64\n",
      "running ./../test_authomatic.sh\n",
      "BAD\n",
      "Bisecting: 0 revisions left to test after this (roughly 0 steps)\n",
      "[f0abf5b2daf04afbabf385bfbcc306a29b203363] A63\n",
      "running ./../test_authomatic.sh\n",
      "BAD\n",
      "f0abf5b2daf04afbabf385bfbcc306a29b203363 is the first bad commit\n",
      "commit f0abf5b2daf04afbabf385bfbcc306a29b203363\n",
      "Author: Michał Rowicki <mirowicki@gmail.com>\n",
      "Date:   Tue Dec 4 20:27:32 2018 +0100\n",
      "\n",
      "    A63\n",
      "\n",
      ":100644 100644 aea6bd8ad6845cca3804a87230fee1b69651643d 55200b3d5d7c0e515eaccaf8465a295017e88249 M\tprojectfile\n",
      "bisect run success\n",
      "\u001b[31mHEAD detached at \u001b[mf0abf5b\n",
      "You are currently bisecting, started from branch 'master'.\n",
      "  (use \"git bisect reset\" to get back to the original branch)\n",
      "\n",
      "nothing to commit, working tree clean\n"
     ]
    }
   ],
   "source": [
    "cat > ../test_authomatic.sh << EOF\n",
    "if ./test.sh | grep BAD\n",
    "then\n",
    "  exit 1\n",
    "else\n",
    "  exit 0\n",
    "fi\n",
    "EOF\n",
    "chmod +x ../test_authomatic.sh\n",
    "git bisect start HEAD HEAD~99 --\n",
    "git bisect run ./../test_authomatic.sh\n",
    "git status"
   ]
  },
  {
   "cell_type": "code",
   "execution_count": 20,
   "metadata": {
    "slideshow": {
     "slide_type": "fragment"
    }
   },
   "outputs": [],
   "source": [
    "cd ~/ && rm -rf bisect && rm test_authomatic.sh"
   ]
  },
  {
   "cell_type": "markdown",
   "metadata": {
    "slideshow": {
     "slide_type": "subslide"
    }
   },
   "source": [
    "### Operator `~` i `^`"
   ]
  },
  {
   "cell_type": "code",
   "execution_count": 22,
   "metadata": {
    "slideshow": {
     "slide_type": "fragment"
    }
   },
   "outputs": [
    {
     "name": "stdout",
     "output_type": "stream",
     "text": [
      "Initialized empty Git repository in /home/wyhasany/bisect-2/bisect-2/.git/\n",
      "[master (root-commit) e89b26e] Init\n",
      " 1 file changed, 0 insertions(+), 0 deletions(-)\n",
      " create mode 100644 aplik\n",
      "\u001b[31mSwitched to a new branch 'agalaz'\n",
      "\u001b[0m[agalaz 36982c3] agalaz bla\n",
      " 1 file changed, 1 insertion(+)\n",
      "\u001b[31mSwitched to branch 'master'\n",
      "\u001b[0m[master 31df5f9] master bla 1\n",
      " 1 file changed, 1 insertion(+)\n",
      "[master 68f8d02] master bla 2\n",
      " 1 file changed, 1 insertion(+)\n",
      "Merge made by the 'recursive' strategy.\n",
      "*   \u001b[33m27aa8a4\u001b[m\u001b[33m (\u001b[m\u001b[1;36mHEAD -> \u001b[m\u001b[1;32mmaster\u001b[m\u001b[33m)\u001b[m merged\n",
      "\u001b[31m|\u001b[m\u001b[32m\\\u001b[m  \n",
      "\u001b[31m|\u001b[m * \u001b[33m36982c3\u001b[m\u001b[33m (\u001b[m\u001b[1;32magalaz\u001b[m\u001b[33m)\u001b[m agalaz bla\n",
      "* \u001b[32m|\u001b[m \u001b[33m68f8d02\u001b[m master bla 2\n",
      "* \u001b[32m|\u001b[m \u001b[33m31df5f9\u001b[m master bla 1\n",
      "\u001b[32m|\u001b[m\u001b[32m/\u001b[m  \n",
      "* \u001b[33me89b26e\u001b[m Init\n"
     ]
    }
   ],
   "source": [
    "rm -rf bisect-2 && mkdir bisect-2 && cd bisect-2 && git init && git config commit.gpgsign false\n",
    "touch aplik\n",
    "git add aplik\n",
    "git commit -am 'Init'\n",
    "git checkout -b agalaz\n",
    "echo 'agalaz bla'>> aplik\n",
    "git commit -am 'agalaz bla'\n",
    "git checkout master\n",
    "echo 'master bla 1' >> aplik\n",
    "git commit -am 'master bla 1'\n",
    "echo 'master bla 2' >> aplik\n",
    "git commit -am 'master bla 2'\n",
    "git merge -X ours -m merged agalaz\n",
    "git log --oneline --all --graph"
   ]
  },
  {
   "cell_type": "code",
   "execution_count": 36,
   "metadata": {
    "slideshow": {
     "slide_type": "subslide"
    }
   },
   "outputs": [
    {
     "name": "stdout",
     "output_type": "stream",
     "text": [
      "\u001b[33m68f8d02\u001b[m master bla 2\n",
      "\u001b[33m31df5f9\u001b[m master bla 1\n",
      "\u001b[33me89b26e\u001b[m Init\n",
      "\u001b[33m36982c3\u001b[m\u001b[33m (\u001b[m\u001b[1;32magalaz\u001b[m\u001b[33m)\u001b[m agalaz bla\n",
      "\u001b[33me89b26e\u001b[m Init\n",
      "\u001b[33m68f8d02\u001b[m master bla 2\n",
      "\u001b[33m31df5f9\u001b[m master bla 1\n",
      "\u001b[33me89b26e\u001b[m Init\n",
      "\u001b[33me89b26e\u001b[m Init\n"
     ]
    }
   ],
   "source": [
    "git show --quiet --oneline HEAD^\n",
    "git show --quiet --oneline HEAD^^\n",
    "git show --quiet --oneline HEAD^^^\n",
    "git show --quiet --oneline HEAD^2\n",
    "git show --quiet --oneline HEAD^2^\n",
    "git show --quiet --oneline HEAD~1\n",
    "git show --quiet --oneline HEAD~2\n",
    "git show --quiet --oneline HEAD~2^1\n",
    "git show --quiet --oneline HEAD^2~1"
   ]
  },
  {
   "cell_type": "code",
   "execution_count": 39,
   "metadata": {
    "slideshow": {
     "slide_type": "fragment"
    }
   },
   "outputs": [],
   "source": [
    "cd ~/ && rm -rf bisect-2"
   ]
  },
  {
   "cell_type": "markdown",
   "metadata": {
    "slideshow": {
     "slide_type": "subslide"
    }
   },
   "source": [
    "## Ćwiczenia\n",
    "\n",
    "Przygotuj analogiczny kod (jak w przykładzie) w języku programowania, którego używasz na co dzień, zrób test wskazujący na wystąpienie błędu i znajdź automatycznie commit, który wprowadził błąd.\n",
    "\n",
    "lub\n",
    "\n",
    "Poczytaj o git bisect\n",
    "\n",
    "https://git-scm.com/docs/git-bisect\n",
    "\n",
    "https://git-scm.com/docs/git-bisect-lk2009.html\n",
    "\n",
    "...ale w domu i tak spróbuj zrobić przykład wyżej! 🤘"
   ]
  },
  {
   "cell_type": "markdown",
   "metadata": {
    "slideshow": {
     "slide_type": "subslide"
    }
   },
   "source": [
    "# Status\n",
    "\n",
    "* [x] ~~...~~\n",
    "* [x] ~~Reflog~~\n",
    "* [x] ~~Cherry picking~~\n",
    "* [x] ~~Git rebase~~\n",
    "* [x] ~~Git bisect~~\n",
    "     * [x] ~~`git bisect`~~\n",
    "     * [x] ~~`^` operator~~\n",
    "     * [x] ~~`~` operator~~\n",
    "     * [x] ~~`git show`~~\n",
    "* [ ] Git fetch vs pull\n",
    "* [ ] Praca z wieloma repozytoriami\n",
    "* [ ] Git push\n",
    "* [ ] Git submodule\n",
    "* [ ] ..."
   ]
  },
  {
   "cell_type": "markdown",
   "metadata": {
    "slideshow": {
     "slide_type": "slide"
    }
   },
   "source": [
    "# Status\n",
    "\n",
    "* [x] ~~...~~\n",
    "* [x] ~~Git add interactive~~\n",
    "* [x] ~~Reflog~~\n",
    "* [x] ~~Cherry picking~~\n",
    "* [x] ~~Git rebase~~\n",
    "* [x] ~~Git bisect~~\n",
    "* [ ] Git fetch vs pull\n",
    "     * [ ] `git fetch`\n",
    "     * [ ] `git pull`\n",
    "* [ ] Praca z wieloma repozytoriami\n",
    "* [ ] Git push\n",
    "* [ ] Git submodule\n",
    "* [ ] ..."
   ]
  },
  {
   "cell_type": "code",
   "execution_count": 19,
   "metadata": {
    "slideshow": {
     "slide_type": "subslide"
    }
   },
   "outputs": [
    {
     "name": "stdout",
     "output_type": "stream",
     "text": [
      "Initialized empty Git repository in /home/wyhasany/pull/git_origin/.git/\n",
      "[master (root-commit) 5b8f114] plik\n",
      " 1 file changed, 1 insertion(+)\n",
      " create mode 100644 plik\n",
      "\u001b[31mCloning into 'git_cloned'...\n",
      "\u001b[0m\u001b[31mdone.\n",
      "\u001b[0m\u001b[01;34m.\u001b[00m\n",
      "├── \u001b[01;34mgit_cloned\u001b[00m\n",
      "│   └── plik\n",
      "└── \u001b[01;34mgit_origin\u001b[00m\n",
      "    └── plik\n",
      "\n",
      "2 directories, 2 files\n"
     ]
    }
   ],
   "source": [
    "cd ~/ && rm -rf pull && mkdir pull && cd pull\n",
    "mkdir git_origin && cd git_origin && git init && git config commit.gpgsign false\n",
    "echo 'pierwszy commit' > plik\n",
    "git add plik\n",
    "git commit -am plik\n",
    "cd ..\n",
    "git clone git_origin git_cloned\n",
    "tree\n",
    "diff git_origin/plik git_cloned/plik"
   ]
  },
  {
   "cell_type": "code",
   "execution_count": 5,
   "metadata": {
    "slideshow": {
     "slide_type": "subslide"
    }
   },
   "outputs": [
    {
     "name": "stdout",
     "output_type": "stream",
     "text": [
      "6,7c6,11\n",
      "< [commit]\n",
      "< \tgpgsign = false\n",
      "---\n",
      "> [remote \"origin\"]\n",
      "> \turl = /home/wyhasany/pull/git_origin\n",
      "> \tfetch = +refs/heads/*:refs/remotes/origin/*\n",
      "> [branch \"master\"]\n",
      "> \tremote = origin\n",
      "> \tmerge = refs/heads/master\n"
     ]
    },
    {
     "ename": "",
     "evalue": "1",
     "output_type": "error",
     "traceback": []
    }
   ],
   "source": [
    "diff git_origin/.git/config git_cloned/.git/config"
   ]
  },
  {
   "cell_type": "code",
   "execution_count": 7,
   "metadata": {
    "slideshow": {
     "slide_type": "fragment"
    }
   },
   "outputs": [
    {
     "name": "stdout",
     "output_type": "stream",
     "text": [
      "origin\n"
     ]
    }
   ],
   "source": [
    "cd git_cloned\n",
    "git config commit.gpgsign false\n",
    "git remote"
   ]
  },
  {
   "cell_type": "markdown",
   "metadata": {
    "slideshow": {
     "slide_type": "subslide"
    }
   },
   "source": [
    "### Fetch vs Pull\n",
    "\n",
    "* `fetch` pobiera dane nie ruszając naszego repo w oddzielne miejsce (szczegóły w krótce)\n",
    "* `pull` pobiera zmiany ze zdalnego repo dla wybranego brancha i merge'uje do aktualnego brancha"
   ]
  },
  {
   "cell_type": "code",
   "execution_count": 9,
   "metadata": {
    "slideshow": {
     "slide_type": "fragment"
    }
   },
   "outputs": [
    {
     "name": "stdout",
     "output_type": "stream",
     "text": [
      "/home/wyhasany/pull/git_cloned\n",
      "origin\t/home/wyhasany/pull/git_origin (fetch)\n",
      "origin\t/home/wyhasany/pull/git_origin (push)\n"
     ]
    }
   ],
   "source": [
    "pwd\n",
    "git remote -v"
   ]
  },
  {
   "cell_type": "code",
   "execution_count": 10,
   "metadata": {
    "slideshow": {
     "slide_type": "fragment"
    }
   },
   "outputs": [
    {
     "name": "stdout",
     "output_type": "stream",
     "text": [
      "[master 736290d] fetchable\n",
      " 1 file changed, 1 insertion(+), 1 deletion(-)\n"
     ]
    }
   ],
   "source": [
    "cd ../git_origin\n",
    "echo 'fetchable change' >> plik\n",
    "git commit -am fetchable\n",
    "git log --oneline --graph --all"
   ]
  },
  {
   "cell_type": "code",
   "execution_count": 11,
   "metadata": {
    "slideshow": {
     "slide_type": "subslide"
    }
   },
   "outputs": [
    {
     "name": "stdout",
     "output_type": "stream",
     "text": [
      "\u001b[31mremote: Counting objects: 3, done.\u001b[K\n",
      "\u001b[0m\u001b[31mremote: Total 3 (delta 0), reused 0 (delta 0)\u001b[K\n",
      "\u001b[0m\u001b[31mUnpacking objects: 100% (3/3), done.\n",
      "\u001b[0m\u001b[31mFrom /home/wyhasany/pull/git_origin\n",
      "\u001b[0m\u001b[31m * branch            master     -> FETCH_HEAD\n",
      "\u001b[0m\u001b[31m   571fe5a..736290d  master     -> origin/master\n",
      "\u001b[0m"
     ]
    }
   ],
   "source": [
    "cd ../git_cloned\n",
    "git fetch origin master"
   ]
  },
  {
   "cell_type": "code",
   "execution_count": 15,
   "metadata": {
    "slideshow": {
     "slide_type": "fragment"
    }
   },
   "outputs": [
    {
     "name": "stdout",
     "output_type": "stream",
     "text": [
      "* \u001b[33m736290d\u001b[m\u001b[33m (\u001b[m\u001b[1;31morigin/master\u001b[m\u001b[33m, \u001b[m\u001b[1;31morigin/HEAD\u001b[m\u001b[33m)\u001b[m fetchable\n",
      "* \u001b[33m571fe5a\u001b[m\u001b[33m (\u001b[m\u001b[1;36mHEAD -> \u001b[m\u001b[1;32mmaster\u001b[m\u001b[33m)\u001b[m plik\n",
      "* \u001b[32mmaster\u001b[m\n",
      "  \u001b[31mremotes/origin/HEAD\u001b[m -> origin/master\n",
      "  \u001b[31mremotes/origin/master\u001b[m\n",
      "\u001b[01;34m.git/refs\u001b[00m\n",
      "├── \u001b[01;34mheads\u001b[00m\n",
      "│   └── master\n",
      "├── \u001b[01;34mremotes\u001b[00m\n",
      "│   └── \u001b[01;34morigin\u001b[00m\n",
      "│       ├── HEAD\n",
      "│       └── master\n",
      "└── \u001b[01;34mtags\u001b[00m\n",
      "\n",
      "4 directories, 3 files\n"
     ]
    }
   ],
   "source": [
    "git log --oneline --graph --all\n",
    "git branch --all\n",
    "tree .git/refs"
   ]
  },
  {
   "cell_type": "code",
   "execution_count": 16,
   "metadata": {
    "slideshow": {
     "slide_type": "subslide"
    }
   },
   "outputs": [
    {
     "name": "stdout",
     "output_type": "stream",
     "text": [
      "Updating 571fe5a..736290d\n",
      "Fast-forward\n",
      " plik | 2 \u001b[32m+\u001b[m\u001b[31m-\u001b[m\n",
      " 1 file changed, 1 insertion(+), 1 deletion(-)\n",
      "* \u001b[33m736290d\u001b[m\u001b[33m (\u001b[m\u001b[1;36mHEAD -> \u001b[m\u001b[1;32mmaster\u001b[m\u001b[33m, \u001b[m\u001b[1;31morigin/master\u001b[m\u001b[33m, \u001b[m\u001b[1;31morigin/HEAD\u001b[m\u001b[33m)\u001b[m fetchable\n",
      "* \u001b[33m571fe5a\u001b[m plik\n"
     ]
    }
   ],
   "source": [
    "git merge origin/master\n",
    "git log --oneline --graph --all"
   ]
  },
  {
   "cell_type": "code",
   "execution_count": 17,
   "metadata": {
    "slideshow": {
     "slide_type": "fragment"
    }
   },
   "outputs": [
    {
     "name": "stdout",
     "output_type": "stream",
     "text": [
      "[master 333e047] pull\n",
      " 1 file changed, 1 insertion(+)\n",
      "* \u001b[33m333e047\u001b[m\u001b[33m (\u001b[m\u001b[1;36mHEAD -> \u001b[m\u001b[1;32mmaster\u001b[m\u001b[33m)\u001b[m pull\n",
      "* \u001b[33m736290d\u001b[m fetchable\n",
      "* \u001b[33m571fe5a\u001b[m plik\n",
      "\u001b[31mremote: Counting objects: 3, done.\u001b[K\n",
      "\u001b[0m\u001b[31mremote: Total 3 (delta 0), reused 0 (delta 0)\u001b[K\n",
      "\u001b[0m\u001b[31mUnpacking objects: 100% (3/3), done.\n",
      "\u001b[0m\u001b[31mFrom /home/wyhasany/pull/git_origin\n",
      "\u001b[0m\u001b[31m * branch            master     -> FETCH_HEAD\n",
      "\u001b[0m\u001b[31m   736290d..333e047  master     -> origin/master\n",
      "\u001b[0mUpdating 736290d..333e047\n",
      "Fast-forward\n",
      " plik | 1 \u001b[32m+\u001b[m\n",
      " 1 file changed, 1 insertion(+)\n",
      "* \u001b[33m333e047\u001b[m\u001b[33m (\u001b[m\u001b[1;36mHEAD -> \u001b[m\u001b[1;32mmaster\u001b[m\u001b[33m, \u001b[m\u001b[1;31morigin/master\u001b[m\u001b[33m, \u001b[m\u001b[1;31morigin/HEAD\u001b[m\u001b[33m)\u001b[m pull\n",
      "* \u001b[33m736290d\u001b[m fetchable\n",
      "* \u001b[33m571fe5a\u001b[m plik\n"
     ]
    }
   ],
   "source": [
    "cd ../git_origin\n",
    "echo 'pullable change' >> plik\n",
    "git commit -am 'pull'\n",
    "git log --oneline --graph --all\n",
    "cd ../git_cloned\n",
    "git pull origin master\n",
    "git log --oneline --graph --all"
   ]
  },
  {
   "cell_type": "code",
   "execution_count": null,
   "metadata": {
    "slideshow": {
     "slide_type": "fragment"
    }
   },
   "outputs": [],
   "source": [
    "cd ~/ && rm -rf pull"
   ]
  },
  {
   "cell_type": "markdown",
   "metadata": {
    "slideshow": {
     "slide_type": "subslide"
    }
   },
   "source": [
    "### Ćwiczenia\n",
    "\n",
    "1. Pobierz dowolne repo z githuba, które ma więcej niż dwa branche\n",
    "2. Utwórz nową gałąź `atom`\n",
    "3. Zrób `git fetch origin jakaś_gałąż`\n",
    "4. Zrób merge do aktualnej gałęzi\n",
    "5. Zrób `git pull origin inna_gałąź`\n",
    "6. Odpowiedz sobie jakie są różnice w obu podejściach.="
   ]
  },
  {
   "cell_type": "markdown",
   "metadata": {
    "slideshow": {
     "slide_type": "subslide"
    }
   },
   "source": [
    "# Status\n",
    "\n",
    "* [x] ~~...~~\n",
    "* [x] ~~Git add interactive~~\n",
    "* [x] ~~Reflog~~\n",
    "* [x] ~~Cherry picking~~\n",
    "* [x] ~~Git rebase~~\n",
    "* [x] ~~Git bisect~~\n",
    "* [x] ~~Git fetch vs pull~~\n",
    "     * [x] ~~`git fetch`~~\n",
    "     * [x] ~~`git pull`~~\n",
    "* [ ] Praca z wieloma repozytoriami\n",
    "* [ ] Git push\n",
    "* [ ] Git submodule\n",
    "* [ ] ..."
   ]
  },
  {
   "cell_type": "markdown",
   "metadata": {
    "slideshow": {
     "slide_type": "slide"
    }
   },
   "source": [
    "# Status\n",
    "\n",
    "* [x] ~~...~~\n",
    "* [x] ~~Reflog~~\n",
    "* [x] ~~Cherry picking~~\n",
    "* [x] ~~Git rebase~~\n",
    "* [x] ~~Git bisect~~\n",
    "* [x] ~~Git fetch vs pull~~\n",
    "* [x] Praca z wieloma repozytoriami\n",
    "     * [ ] tworzenie wielu remote'ów\n",
    "     * [ ] przerzucanie zmian pomiędzy wieloma remote'ami\n",
    "* [ ] Git push\n",
    "* [ ] Git submodule\n",
    "* [ ] Git log\n",
    "* [ ] Git squash\n",
    "* [ ] ..."
   ]
  },
  {
   "cell_type": "markdown",
   "metadata": {
    "slideshow": {
     "slide_type": "subslide"
    }
   },
   "source": [
    "## Przykład"
   ]
  },
  {
   "cell_type": "code",
   "execution_count": 18,
   "metadata": {
    "slideshow": {
     "slide_type": "fragment"
    }
   },
   "outputs": [
    {
     "name": "stdout",
     "output_type": "stream",
     "text": [
      "Initialized empty Git repository in /home/wyhasany/pushing/git-origin/.git/\n",
      "[master (root-commit) 58f4959] file\n",
      " 1 file changed, 1 insertion(+)\n",
      " create mode 100644 file\n",
      "\u001b[31mCloning into 'git-clone'...\n",
      "\u001b[0m\u001b[31mdone.\n",
      "\u001b[0m"
     ]
    }
   ],
   "source": [
    "cd ~/ && rm -rf pushing && mkdir pushing && cd pushing\n",
    "mkdir git-origin && cd git-origin && git init && git config commit.gpgsign false\n",
    "echo 'first commit' > file\n",
    "git add file\n",
    "git commit -am file\n",
    "cd ..\n",
    "git clone git-origin git-clone"
   ]
  },
  {
   "cell_type": "code",
   "execution_count": 19,
   "metadata": {
    "slideshow": {
     "slide_type": "fragment"
    }
   },
   "outputs": [
    {
     "name": "stdout",
     "output_type": "stream",
     "text": [
      "* \u001b[32mmaster\u001b[m 58f4959 file\n",
      "* \u001b[32mmaster               \u001b[m 58f4959 file\n",
      "  \u001b[31mremotes/origin/HEAD  \u001b[m -> origin/master\n",
      "  \u001b[31mremotes/origin/master\u001b[m 58f4959 file\n"
     ]
    }
   ],
   "source": [
    "cd git-origin\n",
    "git branch -a -v\n",
    "cd ../git-clone\n",
    "git config commit.gpgsign false\n",
    "git branch -a -v\n",
    "cd .."
   ]
  },
  {
   "cell_type": "code",
   "execution_count": 20,
   "metadata": {
    "slideshow": {
     "slide_type": "subslide"
    }
   },
   "outputs": [
    {
     "name": "stdout",
     "output_type": "stream",
     "text": [
      "\u001b[31mSwitched to a new branch 'abranch'\n",
      "\u001b[0m[abranch 25cec0a] cloned abranch commit\n",
      " 1 file changed, 1 insertion(+)\n",
      "\u001b[31mCounting objects: 3, done.\n",
      "\u001b[0m\u001b[31mWriting objects: 100% (3/3), 279 bytes | 279.00 KiB/s, done.\n",
      "\u001b[0m\u001b[31mTotal 3 (delta 0), reused 0 (delta 0)\n",
      "\u001b[0m\u001b[31mTo /home/wyhasany/pushing/git-origin\n",
      "\u001b[0m\u001b[31m * [new branch]      \u001b[0m\u001b[31mabranch -> abranch\u001b[0m\u001b[31m\n",
      "\u001b[0m"
     ]
    }
   ],
   "source": [
    "cd git-clone\n",
    "git checkout -b abranch\n",
    "echo 'cloned abranch commit' >> file\n",
    "git commit -am 'cloned abranch commit'\n",
    "git push origin abranch"
   ]
  },
  {
   "cell_type": "markdown",
   "metadata": {
    "slideshow": {
     "slide_type": "fragment"
    }
   },
   "source": [
    "### A co jeśli remote ma inny content?"
   ]
  },
  {
   "cell_type": "code",
   "execution_count": 21,
   "metadata": {
    "slideshow": {
     "slide_type": "subslide"
    }
   },
   "outputs": [
    {
     "name": "stdout",
     "output_type": "stream",
     "text": [
      "Initialized empty Git repository in /home/wyhasany/pushing/git-origin/.git/\n",
      "[master (root-commit) b81c8e5] file\n",
      " 1 file changed, 1 insertion(+)\n",
      " create mode 100644 file\n",
      "\u001b[31mCloning into 'git-clone'...\n",
      "\u001b[0m\u001b[31mdone.\n",
      "\u001b[0m\u001b[31mSwitched to a new branch 'abranch'\n",
      "\u001b[0m[abranch 43550ed] cloned abranch commit\n",
      " 1 file changed, 1 insertion(+)\n",
      "\u001b[31mSwitched to a new branch 'abranch'\n",
      "\u001b[0m[abranch 6ae9a41] origin abranch commit\n",
      " 1 file changed, 1 insertion(+)\n",
      "\u001b[31mTo /home/wyhasany/pushing/git-origin\n",
      "\u001b[0m\u001b[31m ! [rejected]        \u001b[0m\u001b[31mabranch -> abranch\u001b[0m\u001b[31m (\u001b[0m\u001b[31mfetch first\u001b[0m\u001b[31m)\u001b[0m\u001b[31m\n",
      "\u001b[0m\u001b[31merror: failed to push some refs to '/home/wyhasany/pushing/git-origin'\n",
      "\u001b[0m\u001b[31mhint: Updates were rejected because the remote contains work that you do\n",
      "\u001b[0m\u001b[31mhint: not have locally. This is usually caused by another repository pushing\n",
      "\u001b[0m\u001b[31mhint: to the same ref. You may want to first integrate the remote changes\n",
      "\u001b[0m\u001b[31mhint: (e.g., 'git pull ...') before pushing again.\n",
      "\u001b[0m\u001b[31mhint: See the 'Note about fast-forwards' in 'git push --help' for details.\n",
      "\u001b[0m"
     ]
    },
    {
     "ename": "",
     "evalue": "1",
     "output_type": "error",
     "traceback": []
    }
   ],
   "source": [
    "cd ..\n",
    "rm -rf git-origin git-clone\n",
    "mkdir git-origin && cd git-origin\n",
    "git init && git config commit.gpgsign false\n",
    "echo 'first commit' > file\n",
    "git add file\n",
    "git commit -am file\n",
    "cd ..\n",
    "git clone git-origin git-clone\n",
    "cd git-clone\n",
    "git config commit.gpgsign false\n",
    "git checkout -b abranch\n",
    "echo 'cloned abranch commit' >> file\n",
    "git commit -am 'cloned abranch commit'\n",
    "cd ../git-origin\n",
    "git checkout -b abranch\n",
    "echo 'origin abranch commit' >> file\n",
    "git commit -am 'origin abranch commit'\n",
    "cd ../git-clone\n",
    "git push origin abranch:abranch"
   ]
  },
  {
   "cell_type": "code",
   "execution_count": 22,
   "metadata": {
    "slideshow": {
     "slide_type": "subslide"
    }
   },
   "outputs": [
    {
     "name": "stdout",
     "output_type": "stream",
     "text": [
      "\u001b[31mremote: Counting objects: 3, done.\u001b[K\n",
      "\u001b[0m\u001b[31mremote: Total 3 (delta 0), reused 0 (delta 0)\u001b[K\n",
      "\u001b[0m\u001b[31mUnpacking objects: 100% (3/3), done.\n",
      "\u001b[0m\u001b[31mFrom /home/wyhasany/pushing/git-origin\n",
      "\u001b[0m\u001b[31m * [new branch]      abranch    -> origin/abranch\n",
      "\u001b[0m* \u001b[32mabranch               \u001b[m 43550ed cloned abranch commit\n",
      "  master                \u001b[m b81c8e5 file\n",
      "  \u001b[31mremotes/origin/HEAD   \u001b[m -> origin/master\n",
      "  \u001b[31mremotes/origin/abranch\u001b[m 6ae9a41 origin abranch commit\n",
      "  \u001b[31mremotes/origin/master \u001b[m b81c8e5 file\n",
      "* \u001b[33m43550ed\u001b[m\u001b[33m (\u001b[m\u001b[1;36mHEAD -> \u001b[m\u001b[1;32mabranch\u001b[m\u001b[33m)\u001b[m cloned abranch commit\n",
      "\u001b[31m|\u001b[m * \u001b[33m6ae9a41\u001b[m\u001b[33m (\u001b[m\u001b[1;31morigin/abranch\u001b[m\u001b[33m)\u001b[m origin abranch commit\n",
      "\u001b[31m|\u001b[m\u001b[31m/\u001b[m  \n",
      "* \u001b[33mb81c8e5\u001b[m\u001b[33m (\u001b[m\u001b[1;31morigin/master\u001b[m\u001b[33m, \u001b[m\u001b[1;31morigin/HEAD\u001b[m\u001b[33m, \u001b[m\u001b[1;32mmaster\u001b[m\u001b[33m)\u001b[m file\n"
     ]
    }
   ],
   "source": [
    "git fetch origin\n",
    "git branch -v -a\n",
    "echo\n",
    "git log --oneline --graph --all"
   ]
  },
  {
   "cell_type": "code",
   "execution_count": 23,
   "metadata": {
    "slideshow": {
     "slide_type": "fragment"
    }
   },
   "outputs": [
    {
     "name": "stdout",
     "output_type": "stream",
     "text": [
      "Auto-merging file\n",
      "CONFLICT (content): Merge conflict in file\n",
      "Automatic merge failed; fix conflicts and then commit the result.\n"
     ]
    },
    {
     "ename": "",
     "evalue": "1",
     "output_type": "error",
     "traceback": []
    }
   ],
   "source": [
    "git merge remotes/origin/abranch"
   ]
  },
  {
   "cell_type": "code",
   "execution_count": 24,
   "metadata": {
    "slideshow": {
     "slide_type": "subslide"
    }
   },
   "outputs": [
    {
     "name": "stdout",
     "output_type": "stream",
     "text": [
      "first commit\n",
      "<<<<<<< HEAD\n",
      "cloned abranch commit\n",
      "=======\n",
      "origin abranch commit\n",
      ">>>>>>> remotes/origin/abranch\n"
     ]
    }
   ],
   "source": [
    "cat file"
   ]
  },
  {
   "cell_type": "markdown",
   "metadata": {
    "slideshow": {
     "slide_type": "subslide"
    }
   },
   "source": [
    "### Trzy połączone repozytoria - przykład"
   ]
  },
  {
   "cell_type": "code",
   "execution_count": 1,
   "metadata": {
    "slideshow": {
     "slide_type": "fragment"
    }
   },
   "outputs": [
    {
     "name": "stdout",
     "output_type": "stream",
     "text": [
      "Initialized empty Git repository in /home/wyhasany/remotes/git-origin/.git/\n",
      "[master (root-commit) 18311e1] file\n",
      " 1 file changed, 1 insertion(+)\n",
      " create mode 100644 file\n",
      "\u001b[31mCloning into 'alice-cloned'...\n",
      "\u001b[0m\u001b[31mdone.\n",
      "\u001b[0m\u001b[31mCloning into 'bob-cloned'...\n",
      "\u001b[0m\u001b[31mdone.\n",
      "\u001b[0m[master d509bc4] alice change\n",
      " 1 file changed, 1 insertion(+)\n",
      "* \u001b[33md509bc4\u001b[m\u001b[33m (\u001b[m\u001b[1;36mHEAD -> \u001b[m\u001b[1;32mmaster\u001b[m\u001b[33m)\u001b[m alice change\n",
      "* \u001b[33m18311e1\u001b[m\u001b[33m (\u001b[m\u001b[1;31morigin/master\u001b[m\u001b[33m, \u001b[m\u001b[1;31morigin/HEAD\u001b[m\u001b[33m)\u001b[m file\n"
     ]
    }
   ],
   "source": [
    "cd ~/ && rm -rf remotes && mkdir remotes && cd remotes\n",
    "mkdir git-origin && cd git-origin && git init && git config commit.gpgsign false\n",
    "echo 'first commit' > file\n",
    "git add file\n",
    "git commit -am file\n",
    "cd ..\n",
    "git clone git-origin alice-cloned\n",
    "git clone git-origin bob-cloned\n",
    "#Alice dodaje zmiany na swoim masterze\n",
    "cd alice-cloned\n",
    "git config commit.gpgsign false\n",
    "echo alice-change >> file\n",
    "git commit -am 'alice change'\n",
    "git log --oneline --graph --all"
   ]
  },
  {
   "cell_type": "markdown",
   "metadata": {
    "slideshow": {
     "slide_type": "subslide"
    }
   },
   "source": [
    "## Jak Bob może pobrać zmiany Alice?"
   ]
  },
  {
   "cell_type": "markdown",
   "metadata": {
    "slideshow": {
     "slide_type": "fragment"
    }
   },
   "source": [
    "1. DODAJ repo Alice jako remote u Boba\n",
    "2. FETCH zmiany od Alice z gałęzi master\n",
    "3. MERGE tych zmian w lokalnym repozytorium Boba (lub zamiast 2. i 3. użyć `git pull`)"
   ]
  },
  {
   "cell_type": "code",
   "execution_count": 4,
   "metadata": {
    "slideshow": {
     "slide_type": "subslide"
    }
   },
   "outputs": [
    {
     "name": "stdout",
     "output_type": "stream",
     "text": [
      "alice\t../alice-cloned (fetch)\n",
      "alice\t../alice-cloned (push)\n",
      "origin\t/home/wyhasany/remotes/git-origin (fetch)\n",
      "origin\t/home/wyhasany/remotes/git-origin (push)\n"
     ]
    }
   ],
   "source": [
    "cd ../bob-cloned\n",
    "git config commit.gpgsign false\n",
    "git remote add alice ../alice-cloned\n",
    "git remote -v"
   ]
  },
  {
   "cell_type": "code",
   "execution_count": 5,
   "metadata": {
    "slideshow": {
     "slide_type": "fragment"
    }
   },
   "outputs": [
    {
     "name": "stdout",
     "output_type": "stream",
     "text": [
      "\u001b[31mremote: Counting objects: 3, done.\u001b[K\n",
      "\u001b[0m\u001b[31mremote: Total 3 (delta 0), reused 0 (delta 0)\u001b[K\n",
      "\u001b[0m\u001b[31mUnpacking objects: 100% (3/3), done.\n",
      "\u001b[0m\u001b[31mFrom ../alice-cloned\n",
      "\u001b[0m\u001b[31m * [new branch]      master     -> alice/master\n",
      "\u001b[0m"
     ]
    }
   ],
   "source": [
    "git fetch alice"
   ]
  },
  {
   "cell_type": "code",
   "execution_count": 7,
   "metadata": {
    "slideshow": {
     "slide_type": "fragment"
    }
   },
   "outputs": [
    {
     "name": "stdout",
     "output_type": "stream",
     "text": [
      "* \u001b[32mmaster               \u001b[m 6f51331 [\u001b[34morigin/master\u001b[m] file\n",
      "  \u001b[31mremotes/alice/master \u001b[m 1b28c82 alice change\n",
      "  \u001b[31mremotes/origin/HEAD  \u001b[m -> origin/master\n",
      "  \u001b[31mremotes/origin/master\u001b[m 6f51331 file\n"
     ]
    }
   ],
   "source": [
    "git branch -vv -a"
   ]
  },
  {
   "cell_type": "code",
   "execution_count": 8,
   "metadata": {
    "slideshow": {
     "slide_type": "subslide"
    }
   },
   "outputs": [
    {
     "name": "stdout",
     "output_type": "stream",
     "text": [
      "Updating 6f51331..1b28c82\n",
      "Fast-forward\n",
      " file | 1 \u001b[32m+\u001b[m\n",
      " 1 file changed, 1 insertion(+)\n"
     ]
    }
   ],
   "source": [
    "git merge alice/master\n",
    "#git merge remotes/alice/master"
   ]
  },
  {
   "cell_type": "code",
   "execution_count": 11,
   "metadata": {
    "slideshow": {
     "slide_type": "fragment"
    }
   },
   "outputs": [
    {
     "name": "stdout",
     "output_type": "stream",
     "text": [
      "first commit\n",
      "alice-change\n"
     ]
    }
   ],
   "source": [
    "cat file"
   ]
  },
  {
   "cell_type": "code",
   "execution_count": null,
   "metadata": {
    "slideshow": {
     "slide_type": "fragment"
    }
   },
   "outputs": [],
   "source": [
    "cd ~/ && rm -rf remotes"
   ]
  },
  {
   "cell_type": "markdown",
   "metadata": {
    "slideshow": {
     "slide_type": "subslide"
    }
   },
   "source": [
    "## Ćwiczenia\n",
    "\n",
    "1. Stwórz repozytorium gita i sklonuj je obok. Zrób zmianę w pierwszym repozytorium na gałęzi master, sfetch'uj ją, a  następnie zmerge'uj\n",
    "2. Stwórz zmianę w jednym pliku na obu repozytoriach, która wywoła konflikt. Rozwiąż konflikt po obu stronach tak, aby repozytoria były spójne.\n",
    "3. Zrób to samo co w 2. tylko na trzech repozytoriach (np. na dwóch klonach)"
   ]
  },
  {
   "cell_type": "markdown",
   "metadata": {
    "slideshow": {
     "slide_type": "subslide"
    }
   },
   "source": [
    "# Status\n",
    "\n",
    "* [x] ~~...~~\n",
    "* [x] ~~Reflog~~\n",
    "* [x] ~~Cherry picking~~\n",
    "* [x] ~~Git rebase~~\n",
    "* [x] ~~Git bisect~~\n",
    "* [x] ~~Git fetch vs pull~~\n",
    "* [x] ~~Praca z wieloma repozytoriami~~\n",
    "     * [x] ~~tworzenie wielu remote'ów~~\n",
    "     * [x] ~~przerzucanie zmian pomiędzy wieloma remote'ami~~\n",
    "* [ ] Git push\n",
    "* [ ] Git submodule\n",
    "* [ ] Git log\n",
    "* [ ] ..."
   ]
  },
  {
   "cell_type": "markdown",
   "metadata": {
    "slideshow": {
     "slide_type": "slide"
    }
   },
   "source": [
    "# Status\n",
    "\n",
    "* [x] ~~...~~\n",
    "* [x] ~~Reflog~~\n",
    "* [x] ~~Cherry picking~~\n",
    "* [x] ~~Git rebase~~\n",
    "* [x] ~~Git bisect~~\n",
    "* [x] ~~Git fetch vs pull~~\n",
    "* [x] ~~Praca z wieloma repozytoriami~~\n",
    "* [ ] Git push\n",
    "     * [ ] `git push`\n",
    "     * [ ] błędy przy `git push`\n",
    "* [ ] Git submodule\n",
    "* [ ] Git log\n",
    "* [ ] ..."
   ]
  },
  {
   "cell_type": "markdown",
   "metadata": {
    "slideshow": {
     "slide_type": "subslide"
    }
   },
   "source": [
    "## Przykład"
   ]
  },
  {
   "cell_type": "code",
   "execution_count": 18,
   "metadata": {
    "slideshow": {
     "slide_type": "fragment"
    }
   },
   "outputs": [
    {
     "name": "stdout",
     "output_type": "stream",
     "text": [
      "Initialized empty Git repository in /home/wyhasany/pushing/git-origin/.git/\n",
      "[master (root-commit) 58f4959] file\n",
      " 1 file changed, 1 insertion(+)\n",
      " create mode 100644 file\n",
      "\u001b[31mCloning into 'git-clone'...\n",
      "\u001b[0m\u001b[31mdone.\n",
      "\u001b[0m"
     ]
    }
   ],
   "source": [
    "cd ~/ && rm -rf pushing && mkdir pushing && cd pushing\n",
    "mkdir git-origin && cd git-origin && git init && git config commit.gpgsign false\n",
    "echo 'first commit' > file\n",
    "git add file\n",
    "git commit -am file\n",
    "cd ..\n",
    "git clone git-origin git-clone"
   ]
  },
  {
   "cell_type": "code",
   "execution_count": 19,
   "metadata": {
    "slideshow": {
     "slide_type": "fragment"
    }
   },
   "outputs": [
    {
     "name": "stdout",
     "output_type": "stream",
     "text": [
      "* \u001b[32mmaster\u001b[m 58f4959 file\n",
      "* \u001b[32mmaster               \u001b[m 58f4959 file\n",
      "  \u001b[31mremotes/origin/HEAD  \u001b[m -> origin/master\n",
      "  \u001b[31mremotes/origin/master\u001b[m 58f4959 file\n"
     ]
    }
   ],
   "source": [
    "cd git-origin\n",
    "git branch -a -v\n",
    "cd ../git-clone\n",
    "git config commit.gpgsign false\n",
    "git branch -a -v\n",
    "cd .."
   ]
  },
  {
   "cell_type": "code",
   "execution_count": 20,
   "metadata": {
    "slideshow": {
     "slide_type": "subslide"
    }
   },
   "outputs": [
    {
     "name": "stdout",
     "output_type": "stream",
     "text": [
      "\u001b[31mSwitched to a new branch 'abranch'\n",
      "\u001b[0m[abranch 25cec0a] cloned abranch commit\n",
      " 1 file changed, 1 insertion(+)\n",
      "\u001b[31mCounting objects: 3, done.\n",
      "\u001b[0m\u001b[31mWriting objects: 100% (3/3), 279 bytes | 279.00 KiB/s, done.\n",
      "\u001b[0m\u001b[31mTotal 3 (delta 0), reused 0 (delta 0)\n",
      "\u001b[0m\u001b[31mTo /home/wyhasany/pushing/git-origin\n",
      "\u001b[0m\u001b[31m * [new branch]      \u001b[0m\u001b[31mabranch -> abranch\u001b[0m\u001b[31m\n",
      "\u001b[0m"
     ]
    }
   ],
   "source": [
    "cd git-clone\n",
    "git checkout -b abranch\n",
    "echo 'cloned abranch commit' >> file\n",
    "git commit -am 'cloned abranch commit'\n",
    "git push origin abranch"
   ]
  },
  {
   "cell_type": "markdown",
   "metadata": {
    "slideshow": {
     "slide_type": "fragment"
    }
   },
   "source": [
    "### A co jeśli remote ma inny content?"
   ]
  },
  {
   "cell_type": "code",
   "execution_count": 21,
   "metadata": {
    "slideshow": {
     "slide_type": "subslide"
    }
   },
   "outputs": [
    {
     "name": "stdout",
     "output_type": "stream",
     "text": [
      "Initialized empty Git repository in /home/wyhasany/pushing/git-origin/.git/\n",
      "[master (root-commit) b81c8e5] file\n",
      " 1 file changed, 1 insertion(+)\n",
      " create mode 100644 file\n",
      "\u001b[31mCloning into 'git-clone'...\n",
      "\u001b[0m\u001b[31mdone.\n",
      "\u001b[0m\u001b[31mSwitched to a new branch 'abranch'\n",
      "\u001b[0m[abranch 43550ed] cloned abranch commit\n",
      " 1 file changed, 1 insertion(+)\n",
      "\u001b[31mSwitched to a new branch 'abranch'\n",
      "\u001b[0m[abranch 6ae9a41] origin abranch commit\n",
      " 1 file changed, 1 insertion(+)\n",
      "\u001b[31mTo /home/wyhasany/pushing/git-origin\n",
      "\u001b[0m\u001b[31m ! [rejected]        \u001b[0m\u001b[31mabranch -> abranch\u001b[0m\u001b[31m (\u001b[0m\u001b[31mfetch first\u001b[0m\u001b[31m)\u001b[0m\u001b[31m\n",
      "\u001b[0m\u001b[31merror: failed to push some refs to '/home/wyhasany/pushing/git-origin'\n",
      "\u001b[0m\u001b[31mhint: Updates were rejected because the remote contains work that you do\n",
      "\u001b[0m\u001b[31mhint: not have locally. This is usually caused by another repository pushing\n",
      "\u001b[0m\u001b[31mhint: to the same ref. You may want to first integrate the remote changes\n",
      "\u001b[0m\u001b[31mhint: (e.g., 'git pull ...') before pushing again.\n",
      "\u001b[0m\u001b[31mhint: See the 'Note about fast-forwards' in 'git push --help' for details.\n",
      "\u001b[0m"
     ]
    },
    {
     "ename": "",
     "evalue": "1",
     "output_type": "error",
     "traceback": []
    }
   ],
   "source": [
    "cd ..\n",
    "rm -rf git-origin git-clone\n",
    "mkdir git-origin && cd git-origin\n",
    "git init && git config commit.gpgsign false\n",
    "echo 'first commit' > file\n",
    "git add file\n",
    "git commit -am file\n",
    "cd ..\n",
    "git clone git-origin git-clone\n",
    "cd git-clone\n",
    "git config commit.gpgsign false\n",
    "git checkout -b abranch\n",
    "echo 'cloned abranch commit' >> file\n",
    "git commit -am 'cloned abranch commit'\n",
    "cd ../git-origin\n",
    "git checkout -b abranch\n",
    "echo 'origin abranch commit' >> file\n",
    "git commit -am 'origin abranch commit'\n",
    "cd ../git-clone\n",
    "git push origin abranch:abranch"
   ]
  },
  {
   "cell_type": "code",
   "execution_count": 22,
   "metadata": {
    "slideshow": {
     "slide_type": "subslide"
    }
   },
   "outputs": [
    {
     "name": "stdout",
     "output_type": "stream",
     "text": [
      "\u001b[31mremote: Counting objects: 3, done.\u001b[K\n",
      "\u001b[0m\u001b[31mremote: Total 3 (delta 0), reused 0 (delta 0)\u001b[K\n",
      "\u001b[0m\u001b[31mUnpacking objects: 100% (3/3), done.\n",
      "\u001b[0m\u001b[31mFrom /home/wyhasany/pushing/git-origin\n",
      "\u001b[0m\u001b[31m * [new branch]      abranch    -> origin/abranch\n",
      "\u001b[0m* \u001b[32mabranch               \u001b[m 43550ed cloned abranch commit\n",
      "  master                \u001b[m b81c8e5 file\n",
      "  \u001b[31mremotes/origin/HEAD   \u001b[m -> origin/master\n",
      "  \u001b[31mremotes/origin/abranch\u001b[m 6ae9a41 origin abranch commit\n",
      "  \u001b[31mremotes/origin/master \u001b[m b81c8e5 file\n",
      "* \u001b[33m43550ed\u001b[m\u001b[33m (\u001b[m\u001b[1;36mHEAD -> \u001b[m\u001b[1;32mabranch\u001b[m\u001b[33m)\u001b[m cloned abranch commit\n",
      "\u001b[31m|\u001b[m * \u001b[33m6ae9a41\u001b[m\u001b[33m (\u001b[m\u001b[1;31morigin/abranch\u001b[m\u001b[33m)\u001b[m origin abranch commit\n",
      "\u001b[31m|\u001b[m\u001b[31m/\u001b[m  \n",
      "* \u001b[33mb81c8e5\u001b[m\u001b[33m (\u001b[m\u001b[1;31morigin/master\u001b[m\u001b[33m, \u001b[m\u001b[1;31morigin/HEAD\u001b[m\u001b[33m, \u001b[m\u001b[1;32mmaster\u001b[m\u001b[33m)\u001b[m file\n"
     ]
    }
   ],
   "source": [
    "git fetch origin\n",
    "git branch -v -a\n",
    "echo\n",
    "git log --oneline --graph --all"
   ]
  },
  {
   "cell_type": "code",
   "execution_count": 23,
   "metadata": {
    "slideshow": {
     "slide_type": "fragment"
    }
   },
   "outputs": [
    {
     "name": "stdout",
     "output_type": "stream",
     "text": [
      "Auto-merging file\n",
      "CONFLICT (content): Merge conflict in file\n",
      "Automatic merge failed; fix conflicts and then commit the result.\n"
     ]
    },
    {
     "ename": "",
     "evalue": "1",
     "output_type": "error",
     "traceback": []
    }
   ],
   "source": [
    "git merge remotes/origin/abranch"
   ]
  },
  {
   "cell_type": "code",
   "execution_count": 25,
   "metadata": {
    "slideshow": {
     "slide_type": "subslide"
    }
   },
   "outputs": [
    {
     "name": "stdout",
     "output_type": "stream",
     "text": [
      "first commit\n",
      "<<<<<<< HEAD\n",
      "cloned abranch commit\n",
      "=======\n",
      "origin abranch commit\n",
      ">>>>>>> remotes/origin/abranch\n"
     ]
    }
   ],
   "source": [
    "cat file"
   ]
  },
  {
   "cell_type": "code",
   "execution_count": 26,
   "metadata": {
    "slideshow": {
     "slide_type": "fragment"
    }
   },
   "outputs": [
    {
     "name": "stdout",
     "output_type": "stream",
     "text": [
      "first commit\n",
      "cloned abranch commit\n",
      "origin abranch commit\n",
      "On branch abranch\n",
      "You have unmerged paths.\n",
      "  (fix conflicts and run \"git commit\")\n",
      "  (use \"git merge --abort\" to abort the merge)\n",
      "\n",
      "Unmerged paths:\n",
      "  (use \"git add <file>...\" to mark resolution)\n",
      "\n",
      "\t\u001b[31mboth modified:   file\u001b[m\n",
      "\n",
      "no changes added to commit (use \"git add\" and/or \"git commit -a\")\n"
     ]
    }
   ],
   "source": [
    "sed -i '2d' file\n",
    "sed -i '3d' file\n",
    "sed -i '4d' file\n",
    "cat file\n",
    "git status"
   ]
  },
  {
   "cell_type": "code",
   "execution_count": 27,
   "metadata": {
    "slideshow": {
     "slide_type": "fragment"
    }
   },
   "outputs": [
    {
     "name": "stdout",
     "output_type": "stream",
     "text": [
      "[abranch 64e1236] merged conflict on file\n",
      "*   \u001b[33m64e1236\u001b[m\u001b[33m (\u001b[m\u001b[1;36mHEAD -> \u001b[m\u001b[1;32mabranch\u001b[m\u001b[33m)\u001b[m merged conflict on file\n",
      "\u001b[31m|\u001b[m\u001b[32m\\\u001b[m  \n",
      "\u001b[31m|\u001b[m * \u001b[33m6ae9a41\u001b[m\u001b[33m (\u001b[m\u001b[1;31morigin/abranch\u001b[m\u001b[33m)\u001b[m origin abranch commit\n",
      "* \u001b[32m|\u001b[m \u001b[33m43550ed\u001b[m cloned abranch commit\n",
      "\u001b[32m|\u001b[m\u001b[32m/\u001b[m  \n",
      "* \u001b[33mb81c8e5\u001b[m\u001b[33m (\u001b[m\u001b[1;31morigin/master\u001b[m\u001b[33m, \u001b[m\u001b[1;31morigin/HEAD\u001b[m\u001b[33m, \u001b[m\u001b[1;32mmaster\u001b[m\u001b[33m)\u001b[m file\n"
     ]
    }
   ],
   "source": [
    "git commit -am 'merged conflict on file'\n",
    "git log --oneline --graph --all"
   ]
  },
  {
   "cell_type": "markdown",
   "metadata": {
    "slideshow": {
     "slide_type": "subslide"
    }
   },
   "source": [
    "### a co gdy gałąź istnieje tylko na remote?"
   ]
  },
  {
   "cell_type": "code",
   "execution_count": 28,
   "metadata": {
    "slideshow": {
     "slide_type": "fragment"
    }
   },
   "outputs": [
    {
     "name": "stdout",
     "output_type": "stream",
     "text": [
      "Initialized empty Git repository in /home/wyhasany/pushing/git-origin/.git/\n",
      "[master (root-commit) 548b187] file\n",
      " 1 file changed, 1 insertion(+)\n",
      " create mode 100644 file\n",
      "\u001b[31mCloning into 'git-clone'...\n",
      "\u001b[0m\u001b[31mdone.\n",
      "\u001b[0m\u001b[31mSwitched to a new branch 'abranch'\n",
      "\u001b[0m[abranch 5f579d8] cloned abranch commit\n",
      " 1 file changed, 1 insertion(+)\n",
      "* \u001b[32mabranch\u001b[m\n",
      "  master\u001b[m\n"
     ]
    }
   ],
   "source": [
    "cd ..\n",
    "rm -rf git-origin git-clone\n",
    "mkdir git-origin\n",
    "cd git-origin\n",
    "git init && git config commit.gpgsign false\n",
    "echo 'first commit' > file\n",
    "git add file\n",
    "git commit -am file\n",
    "cd ..\n",
    "git clone git-origin git-clone\n",
    "cd git-origin\n",
    "git checkout -b abranch\n",
    "echo 'origin abranch commit' >> file\n",
    "git commit -am 'cloned abranch commit'\n",
    "git branch -a"
   ]
  },
  {
   "cell_type": "code",
   "execution_count": 32,
   "metadata": {
    "slideshow": {
     "slide_type": "fragment"
    }
   },
   "outputs": [
    {
     "name": "stdout",
     "output_type": "stream",
     "text": [
      "* \u001b[32mmaster\u001b[m\n",
      "  \u001b[31mremotes/origin/HEAD\u001b[m -> origin/master\n",
      "  \u001b[31mremotes/origin/master\u001b[m\n",
      "\n",
      "origin\t/home/wyhasany/pushing/git-origin (fetch)\n",
      "origin\t/home/wyhasany/pushing/git-origin (push)\n"
     ]
    }
   ],
   "source": [
    "cd ../git-clone\n",
    "git config commit.gpgsign false\n",
    "git branch -a\n",
    "echo\n",
    "git remote -v"
   ]
  },
  {
   "cell_type": "code",
   "execution_count": 33,
   "metadata": {
    "slideshow": {
     "slide_type": "subslide"
    }
   },
   "outputs": [
    {
     "name": "stdout",
     "output_type": "stream",
     "text": [
      "\u001b[31mremote: Counting objects: 3, done.\u001b[K\n",
      "\u001b[0m\u001b[31mremote: Total 3 (delta 0), reused 0 (delta 0)\u001b[K\n",
      "\u001b[0m\u001b[31mUnpacking objects: 100% (3/3), done.\n",
      "\u001b[0m\u001b[31mFrom /home/wyhasany/pushing/git-origin\n",
      "\u001b[0m\u001b[31m * [new branch]      abranch    -> origin/abranch\n",
      "\u001b[0m"
     ]
    }
   ],
   "source": [
    "git fetch origin"
   ]
  },
  {
   "cell_type": "code",
   "execution_count": 34,
   "metadata": {
    "slideshow": {
     "slide_type": "fragment"
    }
   },
   "outputs": [
    {
     "name": "stdout",
     "output_type": "stream",
     "text": [
      "* \u001b[32mmaster\u001b[m\n",
      "  \u001b[31mremotes/origin/HEAD\u001b[m -> origin/master\n",
      "  \u001b[31mremotes/origin/abranch\u001b[m\n",
      "  \u001b[31mremotes/origin/master\u001b[m\n"
     ]
    }
   ],
   "source": [
    "git branch -a"
   ]
  },
  {
   "cell_type": "code",
   "execution_count": 35,
   "metadata": {
    "slideshow": {
     "slide_type": "fragment"
    }
   },
   "outputs": [
    {
     "name": "stdout",
     "output_type": "stream",
     "text": [
      "Branch 'abranch' set up to track remote branch 'abranch' from 'origin'.\n",
      "\u001b[31mSwitched to a new branch 'abranch'\n",
      "\u001b[0m* \u001b[32mabranch               \u001b[m 5f579d8 [\u001b[34morigin/abranch\u001b[m] cloned abranch commit\n",
      "  master                \u001b[m 548b187 [\u001b[34morigin/master\u001b[m] file\n",
      "  \u001b[31mremotes/origin/HEAD   \u001b[m -> origin/master\n",
      "  \u001b[31mremotes/origin/abranch\u001b[m 5f579d8 cloned abranch commit\n",
      "  \u001b[31mremotes/origin/master \u001b[m 548b187 file\n",
      "\n",
      "* \u001b[33m5f579d8\u001b[m\u001b[33m (\u001b[m\u001b[1;36mHEAD -> \u001b[m\u001b[1;32mabranch\u001b[m\u001b[33m, \u001b[m\u001b[1;31morigin/abranch\u001b[m\u001b[33m)\u001b[m cloned abranch commit\n",
      "* \u001b[33m548b187\u001b[m\u001b[33m (\u001b[m\u001b[1;31morigin/master\u001b[m\u001b[33m, \u001b[m\u001b[1;31morigin/HEAD\u001b[m\u001b[33m, \u001b[m\u001b[1;32mmaster\u001b[m\u001b[33m)\u001b[m file\n"
     ]
    }
   ],
   "source": [
    "git checkout abranch\n",
    "git branch -a -vv\n",
    "echo\n",
    "git log --oneline --graph --all"
   ]
  },
  {
   "cell_type": "markdown",
   "metadata": {
    "slideshow": {
     "slide_type": "subslide"
    }
   },
   "source": [
    "### a jak śledzić zdalne gałęzie z różnymi nazwami?"
   ]
  },
  {
   "cell_type": "code",
   "execution_count": 36,
   "metadata": {
    "slideshow": {
     "slide_type": "fragment"
    }
   },
   "outputs": [
    {
     "name": "stdout",
     "output_type": "stream",
     "text": [
      "Initialized empty Git repository in /home/wyhasany/pushing/git-origin/.git/\n",
      "[master (root-commit) eb67c64] file\n",
      " 1 file changed, 1 insertion(+)\n",
      " create mode 100644 file\n",
      "\u001b[31mCloning into 'git-clone'...\n",
      "\u001b[0m\u001b[31mdone.\n",
      "\u001b[0m\u001b[31mSwitched to a new branch 'abranch'\n",
      "\u001b[0m[abranch b8d0b9d] cloned abranch commit\n",
      " 1 file changed, 1 insertion(+)\n",
      "\u001b[31mfatal: The current branch abranch has no upstream branch.\n",
      "To push the current branch and set the remote as upstream, use\n",
      "\n",
      "    git push --set-upstream origin abranch\n",
      "\n",
      "\u001b[0m"
     ]
    },
    {
     "ename": "",
     "evalue": "128",
     "output_type": "error",
     "traceback": []
    }
   ],
   "source": [
    "cd ..\n",
    "rm -rf git-origin git-clone\n",
    "mkdir git-origin\n",
    "cd git-origin\n",
    "git init\n",
    "git config commit.gpgsign off\n",
    "echo 'first commit' > file\n",
    "git add file\n",
    "git commit -am file\n",
    "cd ..\n",
    "git clone git-origin git-clone\n",
    "cd git-clone\n",
    "git config commit.gpgsign off\n",
    "git checkout -b abranch\n",
    "echo 'origin abranch commit' >> file\n",
    "git commit -am 'cloned abranch commit'\n",
    "git push"
   ]
  },
  {
   "cell_type": "code",
   "execution_count": 37,
   "metadata": {
    "slideshow": {
     "slide_type": "subslide"
    }
   },
   "outputs": [
    {
     "name": "stdout",
     "output_type": "stream",
     "text": [
      "* \u001b[32mabranch              \u001b[m b8d0b9d cloned abranch commit\n",
      "  master               \u001b[m eb67c64 [\u001b[34morigin/master\u001b[m] file\n",
      "  \u001b[31mremotes/origin/HEAD  \u001b[m -> origin/master\n",
      "  \u001b[31mremotes/origin/master\u001b[m eb67c64 file\n"
     ]
    }
   ],
   "source": [
    "git branch -a -vv"
   ]
  },
  {
   "cell_type": "code",
   "execution_count": 39,
   "metadata": {
    "slideshow": {
     "slide_type": "subslide"
    }
   },
   "outputs": [
    {
     "name": "stdout",
     "output_type": "stream",
     "text": [
      "\n",
      "* \u001b[32mabranch               \u001b[m b8d0b9d cloned abranch commit\n",
      "  master                \u001b[m eb67c64 [\u001b[34morigin/master\u001b[m] file\n",
      "  \u001b[31mremotes/origin/HEAD   \u001b[m -> origin/master\n",
      "  \u001b[31mremotes/origin/abranch\u001b[m b8d0b9d cloned abranch commit\n",
      "  \u001b[31mremotes/origin/master \u001b[m eb67c64 file\n"
     ]
    }
   ],
   "source": [
    "#git push --set-upstream origin abranch\n",
    "#git push -u origin abranch\n",
    "git push origin abranch\n",
    "echo\n",
    "git branch -a -vv"
   ]
  },
  {
   "cell_type": "code",
   "execution_count": 40,
   "metadata": {
    "slideshow": {
     "slide_type": "fragment"
    }
   },
   "outputs": [
    {
     "name": "stdout",
     "output_type": "stream",
     "text": [
      "Branch 'abranch' set up to track remote branch 'abranch' from 'origin'.\n",
      "\u001b[31mEverything up-to-date\n",
      "\u001b[0m\n",
      "* \u001b[32mabranch               \u001b[m b8d0b9d [\u001b[34morigin/abranch\u001b[m] cloned abranch commit\n",
      "  master                \u001b[m eb67c64 [\u001b[34morigin/master\u001b[m] file\n",
      "  \u001b[31mremotes/origin/HEAD   \u001b[m -> origin/master\n",
      "  \u001b[31mremotes/origin/abranch\u001b[m b8d0b9d cloned abranch commit\n",
      "  \u001b[31mremotes/origin/master \u001b[m eb67c64 file\n"
     ]
    }
   ],
   "source": [
    "git push -u origin abranch\n",
    "echo\n",
    "git branch -a -vv"
   ]
  },
  {
   "cell_type": "code",
   "execution_count": 41,
   "metadata": {
    "slideshow": {
     "slide_type": "fragment"
    }
   },
   "outputs": [],
   "source": [
    "cd ~/ && rm -rf pushing"
   ]
  },
  {
   "cell_type": "markdown",
   "metadata": {
    "slideshow": {
     "slide_type": "subslide"
    }
   },
   "source": [
    "## Ćwiczenia\n",
    "\n",
    "1. Stwórz repozytorium na GitHub\n",
    "2. Dodaj do niego jakąś treść (prosty plik płaski zrobiony w GUI)\n",
    "3. Sklonuj repozytorium, stwórz gałąź i wypchmij ją na serwer zdalny\n",
    "4. Zobacz gałąź na GitHubie"
   ]
  },
  {
   "cell_type": "markdown",
   "metadata": {
    "slideshow": {
     "slide_type": "subslide"
    }
   },
   "source": [
    "# Status\n",
    "\n",
    "* [x] ~~...~~\n",
    "* [x] ~~Reflog~~\n",
    "* [x] ~~Cherry picking~~\n",
    "* [x] ~~Git rebase~~\n",
    "* [x] ~~Git bisect~~\n",
    "* [x] ~~Git fetch vs pull~~\n",
    "* [x] ~~Praca z wieloma repozytoriami~~\n",
    "* [x] ~~Git push~~\n",
    "     * [x] ~~`git push`~~\n",
    "     * [x] ~~błędy przy `git push`~~\n",
    "* [ ] Git submodule\n",
    "* [ ] Git log\n",
    "* [ ] ..."
   ]
  },
  {
   "cell_type": "markdown",
   "metadata": {
    "slideshow": {
     "slide_type": "slide"
    }
   },
   "source": [
    "# Status\n",
    "\n",
    "* [x] ~~...~~\n",
    "* [x] ~~Reflog~~\n",
    "* [x] ~~Cherry picking~~\n",
    "* [x] ~~Git rebase~~\n",
    "* [x] ~~Git bisect~~\n",
    "* [x] ~~Git fetch vs pull~~\n",
    "* [x] ~~Praca z wieloma repozytoriami~~\n",
    "* [x] ~~Git push~~\n",
    "* [ ] Git submodule\n",
    "* [ ] Git log\n",
    "* [ ] Git squash\n",
    "* [ ] ..."
   ]
  },
  {
   "cell_type": "markdown",
   "metadata": {
    "slideshow": {
     "slide_type": "subslide"
    }
   },
   "source": [
    "## Przykład - biblioteka"
   ]
  },
  {
   "cell_type": "code",
   "execution_count": 42,
   "metadata": {
    "slideshow": {
     "slide_type": "fragment"
    }
   },
   "outputs": [
    {
     "name": "stdout",
     "output_type": "stream",
     "text": [
      "Initialized empty Git repository in /home/wyhasany/submodules/.git/\n",
      "[master (root-commit) 329424f] a\n",
      " 1 file changed, 1 insertion(+)\n",
      " create mode 100644 file\n",
      "\u001b[31mSwitched to a new branch 'experimental'\n",
      "\u001b[0m[experimental 38e5bca] EXPERIMENTAL\n",
      " 1 file changed, 1 insertion(+)\n",
      "\u001b[31mSwitched to branch 'master'\n",
      "\u001b[0m[master e9119db] B\n",
      " 1 file changed, 1 insertion(+)\n",
      "* \u001b[33m38e5bca\u001b[m\u001b[33m (\u001b[m\u001b[1;32mexperimental\u001b[m\u001b[33m)\u001b[m EXPERIMENTAL\n",
      "\u001b[31m|\u001b[m * \u001b[33me9119db\u001b[m\u001b[33m (\u001b[m\u001b[1;36mHEAD -> \u001b[m\u001b[1;32mmaster\u001b[m\u001b[33m)\u001b[m B\n",
      "\u001b[31m|\u001b[m\u001b[31m/\u001b[m  \n",
      "* \u001b[33m329424f\u001b[m a\n"
     ]
    }
   ],
   "source": [
    "cd ~/ && rm -rf submodules && mkdir submodules && cd submodules && git init && git config commit.gpgsign false\n",
    "echo 'A' > file\n",
    "git add file\n",
    "git commit -am 'a'\n",
    "git checkout -b experimental\n",
    "echo 'C - EXPERIMENTAL' >> file\n",
    "git commit -am EXPERIMENTAL\n",
    "git checkout master\n",
    "echo 'B' >> file\n",
    "git commit -am 'B'\n",
    "git log --oneline --all --graph"
   ]
  },
  {
   "cell_type": "markdown",
   "metadata": {
    "slideshow": {
     "slide_type": "subslide"
    }
   },
   "source": [
    "## Użycie biblioteki z konkretnego brancha `experimental`"
   ]
  },
  {
   "cell_type": "code",
   "execution_count": 47,
   "metadata": {
    "slideshow": {
     "slide_type": "fragment"
    }
   },
   "outputs": [
    {
     "name": "stdout",
     "output_type": "stream",
     "text": [
      "Initialized empty Git repository in /home/wyhasany/repo/.git/\n",
      "[master (root-commit) eb16b53] source lib\n",
      " 1 file changed, 1 insertion(+)\n",
      " create mode 100644 file\n",
      "source lib\n",
      "do something with experimental\n"
     ]
    }
   ],
   "source": [
    "cd ~/ && rm -rf repo && mkdir repo && cd repo && git init && git config commit.gpgsign false\n",
    "echo 'source lib' > file\n",
    "git add file\n",
    "git commit -am 'source lib'\n",
    "echo 'do something with experimental' >> file\n",
    "cat file"
   ]
  },
  {
   "cell_type": "code",
   "execution_count": 48,
   "metadata": {
    "scrolled": true,
    "slideshow": {
     "slide_type": "subslide"
    }
   },
   "outputs": [
    {
     "name": "stdout",
     "output_type": "stream",
     "text": [
      "\n",
      "\u001b[31mCloning into '/home/wyhasany/repo/submodules'...\n",
      "\u001b[0m\u001b[31mdone.\n",
      "\u001b[0m\n",
      "\u001b[0m\u001b[01;34m.\u001b[0m  \u001b[01;34m..\u001b[0m  file  \u001b[01;34m.git\u001b[0m  .gitmodules  \u001b[01;34msubmodules\u001b[0m\n",
      "\n",
      "\u001b[0m\u001b[01;34m.\u001b[0m  \u001b[01;34m..\u001b[0m  file  .git\n",
      "\n",
      "[submodule \"submodules\"]\n",
      "\tpath = submodules\n",
      "\turl = ../submodules\n",
      "\n",
      " e9119db23f95e41a53f1e45e449eee735add834d submodules (heads/master)\n"
     ]
    }
   ],
   "source": [
    "git submodule init\n",
    "echo\n",
    "git submodule add ../submodules\n",
    "echo \n",
    "ls -a\n",
    "echo\n",
    "ls -a submodules/\n",
    "echo\n",
    "cat .gitmodules\n",
    "echo\n",
    "git submodule status"
   ]
  },
  {
   "cell_type": "markdown",
   "metadata": {
    "slideshow": {
     "slide_type": "subslide"
    }
   },
   "source": [
    "### Pytania jakie powinniśmy sobie zadać\n",
    "\n",
    "1. Jak przełączyć się na gałąż `experimental`?\n",
    "2. Co się stanie jak coś się zmieni na `experimental`? Czy mój kod sam się zaktualizuje?\n",
    "3. Co się stanie jeśli wprowadzę zmiany w submodule? Czy mogę pushować? Czy mogę trzymać te zmiany prywatnie w moim repo?\n",
    "4. Co jeśli zdarzą się konflikty pomiędzy tymi repozytoriami?"
   ]
  },
  {
   "cell_type": "markdown",
   "metadata": {
    "slideshow": {
     "slide_type": "subslide"
    }
   },
   "source": [
    "## Przełączmy się na branch `experimental`"
   ]
  },
  {
   "cell_type": "code",
   "execution_count": 50,
   "metadata": {
    "slideshow": {
     "slide_type": "fragment"
    }
   },
   "outputs": [
    {
     "name": "stdout",
     "output_type": "stream",
     "text": [
      "* \u001b[32mmaster                     \u001b[m e9119db [\u001b[34morigin/master\u001b[m] B\n",
      "  \u001b[31mremotes/origin/HEAD        \u001b[m -> origin/master\n",
      "  \u001b[31mremotes/origin/experimental\u001b[m 38e5bca EXPERIMENTAL\n",
      "  \u001b[31mremotes/origin/master      \u001b[m e9119db B\n"
     ]
    }
   ],
   "source": [
    "cd submodules\n",
    "git branch -a -vv"
   ]
  },
  {
   "cell_type": "code",
   "execution_count": 51,
   "metadata": {
    "slideshow": {
     "slide_type": "fragment"
    }
   },
   "outputs": [
    {
     "name": "stdout",
     "output_type": "stream",
     "text": [
      "Branch 'experimental' set up to track remote branch 'experimental' from 'origin'.\n",
      "\u001b[31mSwitched to a new branch 'experimental'\n",
      "\u001b[0m\n",
      "* \u001b[32mexperimental               \u001b[m 38e5bca [\u001b[34morigin/experimental\u001b[m] EXPERIMENTAL\n",
      "  master                     \u001b[m e9119db [\u001b[34morigin/master\u001b[m] B\n",
      "  \u001b[31mremotes/origin/HEAD        \u001b[m -> origin/master\n",
      "  \u001b[31mremotes/origin/experimental\u001b[m 38e5bca EXPERIMENTAL\n",
      "  \u001b[31mremotes/origin/master      \u001b[m e9119db B\n"
     ]
    }
   ],
   "source": [
    "git checkout experimental\n",
    "#git checkout -b my_local_master --track origin/master\n",
    "echo\n",
    "git branch -a -vv"
   ]
  },
  {
   "cell_type": "markdown",
   "metadata": {
    "slideshow": {
     "slide_type": "subslide"
    }
   },
   "source": [
    "### Git śledzi (track) stan submodułu"
   ]
  },
  {
   "cell_type": "code",
   "execution_count": 52,
   "metadata": {
    "slideshow": {
     "slide_type": "fragment"
    }
   },
   "outputs": [
    {
     "name": "stdout",
     "output_type": "stream",
     "text": [
      "\u001b[1mdiff --git a/file b/file\u001b[m\n",
      "\u001b[1mindex 30e4bd7..311aa0c 100644\u001b[m\n",
      "\u001b[1m--- a/file\u001b[m\n",
      "\u001b[1m+++ b/file\u001b[m\n",
      "\u001b[36m@@ -1 +1,2 @@\u001b[m\n",
      " source lib\u001b[m\n",
      "\u001b[32m+\u001b[m\u001b[32mdo something with experimental\u001b[m\n",
      "\u001b[1mdiff --git a/submodules b/submodules\u001b[m\n",
      "\u001b[1mindex e9119db..38e5bca 160000\u001b[m\n",
      "\u001b[1m--- a/submodules\u001b[m\n",
      "\u001b[1m+++ b/submodules\u001b[m\n",
      "\u001b[36m@@ -1 +1 @@\u001b[m\n",
      "\u001b[31m-Subproject commit e9119db23f95e41a53f1e45e449eee735add834d\u001b[m\n",
      "\u001b[32m+\u001b[m\u001b[32mSubproject commit 38e5bca16a8bb42ef30e33530c19fd48ba968d08\u001b[m\n"
     ]
    }
   ],
   "source": [
    "cd ..\n",
    "git diff"
   ]
  },
  {
   "cell_type": "code",
   "execution_count": 54,
   "metadata": {
    "slideshow": {
     "slide_type": "fragment"
    }
   },
   "outputs": [
    {
     "name": "stdout",
     "output_type": "stream",
     "text": [
      "On branch master\n",
      "nothing to commit, working tree clean\n"
     ]
    },
    {
     "ename": "",
     "evalue": "1",
     "output_type": "error",
     "traceback": []
    }
   ],
   "source": [
    "git commit -am 'lib moved to experimental'"
   ]
  },
  {
   "cell_type": "markdown",
   "metadata": {
    "slideshow": {
     "slide_type": "subslide"
    }
   },
   "source": [
    "## Wprowadzamy zmianę w bibliotece"
   ]
  },
  {
   "cell_type": "code",
   "execution_count": 55,
   "metadata": {
    "slideshow": {
     "slide_type": "fragment"
    }
   },
   "outputs": [
    {
     "name": "stdout",
     "output_type": "stream",
     "text": [
      "\u001b[31mSwitched to branch 'experimental'\n",
      "\u001b[0m[experimental 121feb3] D - a fix added\n",
      " 1 file changed, 1 insertion(+)\n"
     ]
    }
   ],
   "source": [
    "cd ../submodules\n",
    "git checkout experimental\n",
    "echo 'D' >> file\n",
    "git commit -am 'D - a fix added'"
   ]
  },
  {
   "cell_type": "code",
   "execution_count": 56,
   "metadata": {
    "slideshow": {
     "slide_type": "fragment"
    }
   },
   "outputs": [
    {
     "name": "stdout",
     "output_type": "stream",
     "text": [
      "On branch experimental\n",
      "Your branch is up to date with 'origin/experimental'.\n",
      "\n",
      "nothing to commit, working tree clean\n"
     ]
    }
   ],
   "source": [
    "cd ../repo/submodules\n",
    "git status"
   ]
  },
  {
   "cell_type": "code",
   "execution_count": 57,
   "metadata": {
    "slideshow": {
     "slide_type": "fragment"
    }
   },
   "outputs": [
    {
     "name": "stdout",
     "output_type": "stream",
     "text": [
      "\u001b[31mremote: Counting objects: 3, done.\u001b[K\n",
      "\u001b[0m\u001b[31mremote: Total 3 (delta 0), reused 0 (delta 0)\u001b[K\n",
      "\u001b[0m\u001b[31mUnpacking objects: 100% (3/3), done.\n",
      "\u001b[0m\u001b[31mFrom /home/wyhasany/submodules\n",
      "\u001b[0m\u001b[31m   38e5bca..121feb3  experimental -> origin/experimental\n",
      "\u001b[0mUpdating 38e5bca..121feb3\n",
      "Fast-forward\n",
      " file | 1 \u001b[32m+\u001b[m\n",
      " 1 file changed, 1 insertion(+)\n"
     ]
    }
   ],
   "source": [
    "git pull"
   ]
  },
  {
   "cell_type": "code",
   "execution_count": 58,
   "metadata": {
    "slideshow": {
     "slide_type": "subslide"
    }
   },
   "outputs": [
    {
     "name": "stdout",
     "output_type": "stream",
     "text": [
      "\u001b[1mdiff --git a/submodules b/submodules\u001b[m\n",
      "\u001b[1mindex 38e5bca..121feb3 160000\u001b[m\n",
      "\u001b[1m--- a/submodules\u001b[m\n",
      "\u001b[1m+++ b/submodules\u001b[m\n",
      "\u001b[36m@@ -1 +1 @@\u001b[m\n",
      "\u001b[31m-Subproject commit 38e5bca16a8bb42ef30e33530c19fd48ba968d08\u001b[m\n",
      "\u001b[32m+\u001b[m\u001b[32mSubproject commit 121feb35f3df5993f0afa94642e314b4e8e8921e\u001b[m\n"
     ]
    }
   ],
   "source": [
    "git log --oneline --graph --all\n",
    "cd ..\n",
    "git diff"
   ]
  },
  {
   "cell_type": "markdown",
   "metadata": {
    "slideshow": {
     "slide_type": "fragment"
    }
   },
   "source": [
    "### Klonowanie projektu z submodułami"
   ]
  },
  {
   "cell_type": "code",
   "execution_count": 61,
   "metadata": {
    "slideshow": {
     "slide_type": "fragment"
    }
   },
   "outputs": [
    {
     "name": "stdout",
     "output_type": "stream",
     "text": [
      "\u001b[31mCloning into 'repo-cloned'...\n",
      "\u001b[0m\u001b[31mdone.\n",
      "\u001b[0m\u001b[01;34m.\u001b[00m\n",
      "├── file\n",
      "└── \u001b[01;34msubmodules\u001b[00m\n",
      "\n",
      "1 directory, 1 file\n"
     ]
    }
   ],
   "source": [
    "cd ~/ && rm -rf repo-cloned\n",
    "git clone repo repo-cloned\n",
    "cd repo-cloned\n",
    "tree"
   ]
  },
  {
   "cell_type": "code",
   "execution_count": 62,
   "metadata": {
    "slideshow": {
     "slide_type": "fragment"
    }
   },
   "outputs": [
    {
     "name": "stdout",
     "output_type": "stream",
     "text": [
      "-38e5bca16a8bb42ef30e33530c19fd48ba968d08 submodules\n"
     ]
    }
   ],
   "source": [
    "git submodule status"
   ]
  },
  {
   "cell_type": "code",
   "execution_count": 63,
   "metadata": {
    "slideshow": {
     "slide_type": "fragment"
    }
   },
   "outputs": [
    {
     "name": "stdout",
     "output_type": "stream",
     "text": [
      "\u001b[31mSubmodule 'submodules' (/home/wyhasany/submodules) registered for path 'submodules'\n",
      "\u001b[0m"
     ]
    }
   ],
   "source": [
    "git submodule init"
   ]
  },
  {
   "cell_type": "code",
   "execution_count": 64,
   "metadata": {
    "slideshow": {
     "slide_type": "subslide"
    }
   },
   "outputs": [
    {
     "name": "stdout",
     "output_type": "stream",
     "text": [
      "\u001b[31mCloning into '/home/wyhasany/repo-cloned/submodules'...\n",
      "\u001b[0m\u001b[31mdone.\n",
      "\u001b[0mSubmodule path 'submodules': checked out '38e5bca16a8bb42ef30e33530c19fd48ba968d08'\n",
      "\n",
      " 38e5bca16a8bb42ef30e33530c19fd48ba968d08 submodules (38e5bca)\n"
     ]
    }
   ],
   "source": [
    "git submodule update\n",
    "echo\n",
    "git submodule status"
   ]
  },
  {
   "cell_type": "markdown",
   "metadata": {
    "slideshow": {
     "slide_type": "subslide"
    }
   },
   "source": [
    "### Czy da się to zrobić szybciej? `git clone --recursive`"
   ]
  },
  {
   "cell_type": "code",
   "execution_count": 66,
   "metadata": {
    "slideshow": {
     "slide_type": "fragment"
    }
   },
   "outputs": [
    {
     "name": "stdout",
     "output_type": "stream",
     "text": [
      "\u001b[31mCloning into 'repo-recursive'...\n",
      "\u001b[0m\u001b[31mdone.\n",
      "\u001b[0m\u001b[31mSubmodule 'submodules' (/home/wyhasany/submodules) registered for path 'submodules'\n",
      "\u001b[0m\u001b[31mCloning into '/home/wyhasany/repo-recursive/submodules'...\n",
      "\u001b[0m\u001b[31mdone.\n",
      "\u001b[0mSubmodule path 'submodules': checked out '38e5bca16a8bb42ef30e33530c19fd48ba968d08'\n",
      "\n",
      "\u001b[01;34mrepo-recursive\u001b[00m\n",
      "├── file\n",
      "└── \u001b[01;34msubmodules\u001b[00m\n",
      "    └── file\n",
      "\n",
      "1 directory, 2 files\n"
     ]
    }
   ],
   "source": [
    "cd ~/\n",
    "rm -rf repo-recursive\n",
    "git clone --recursive repo repo-recursive\n",
    "echo\n",
    "tree repo-recursive"
   ]
  },
  {
   "cell_type": "code",
   "execution_count": 67,
   "metadata": {
    "slideshow": {
     "slide_type": "fragment"
    }
   },
   "outputs": [],
   "source": [
    "cd ~/ && rm -rf repo && rm -rf repo-cloned && rm -rf repo-recursive && rm -rf submodules"
   ]
  },
  {
   "cell_type": "markdown",
   "metadata": {
    "slideshow": {
     "slide_type": "subslide"
    }
   },
   "source": [
    "## Ćwiczenia\n",
    "\n",
    "Stwórz dwa repozytoria, gdzie jedno ma drugie (nawzajem) jako submoduł"
   ]
  },
  {
   "cell_type": "markdown",
   "metadata": {
    "slideshow": {
     "slide_type": "subslide"
    }
   },
   "source": [
    "# Status\n",
    "\n",
    "* [x] ~~...~~\n",
    "* [x] ~~Cherry picking~~\n",
    "* [x] ~~Git rebase~~\n",
    "* [x] ~~Git bisect~~\n",
    "* [x] ~~Git fetch vs pull~~\n",
    "* [x] ~~Praca z wieloma repozytoriami~~\n",
    "* [x] ~~Git push~~\n",
    "* [x] ~~Git submodule~~\n",
    "* [ ] Git log\n",
    "* [ ] Git squash\n",
    "* [ ] ..."
   ]
  },
  {
   "cell_type": "markdown",
   "metadata": {
    "slideshow": {
     "slide_type": "slide"
    }
   },
   "source": [
    "# Status\n",
    "\n",
    "* [x] ~~...~~\n",
    "* [x] ~~Reflog~~\n",
    "* [x] ~~Cherry picking~~\n",
    "* [x] ~~Git rebase~~\n",
    "* [x] ~~Git bisect~~\n",
    "* [x] ~~Git fetch vs pull~~\n",
    "* [x] ~~Praca z wieloma repozytoriami~~\n",
    "* [x] ~~Git push~~\n",
    "* [x] ~~Git submodule~~\n",
    "* [ ] Git log\n",
    "* [ ] Git squash\n",
    "* [ ] Repozytoria bare\n",
    "* [ ] ..."
   ]
  },
  {
   "cell_type": "code",
   "execution_count": null,
   "metadata": {
    "slideshow": {
     "slide_type": "subslide"
    }
   },
   "outputs": [],
   "source": [
    "cd ~/ && rm -rf keepassxc\n",
    "git clone https://github.com/keepassxreboot/keepassxc.git\n",
    "cd keepassxc\n",
    "git log --graph --oneline --all --topo-order"
   ]
  },
  {
   "cell_type": "code",
   "execution_count": null,
   "metadata": {
    "slideshow": {
     "slide_type": "subslide"
    }
   },
   "outputs": [],
   "source": [
    "git log"
   ]
  },
  {
   "cell_type": "code",
   "execution_count": null,
   "metadata": {
    "slideshow": {
     "slide_type": "subslide"
    }
   },
   "outputs": [],
   "source": [
    "git log --oneline"
   ]
  },
  {
   "cell_type": "code",
   "execution_count": null,
   "metadata": {
    "slideshow": {
     "slide_type": "subslide"
    }
   },
   "outputs": [],
   "source": [
    "git log --oneline --graph"
   ]
  },
  {
   "cell_type": "code",
   "execution_count": null,
   "metadata": {
    "slideshow": {
     "slide_type": ""
    }
   },
   "outputs": [],
   "source": [
    "git log --graph --oneline --all > all_output\n",
    "git log --graph --oneline > noall_output\n",
    "diff all_output noall_output"
   ]
  },
  {
   "cell_type": "code",
   "execution_count": null,
   "metadata": {
    "slideshow": {
     "slide_type": "fragment"
    }
   },
   "outputs": [],
   "source": [
    "rm all_output noall_output"
   ]
  },
  {
   "cell_type": "code",
   "execution_count": null,
   "metadata": {
    "slideshow": {
     "slide_type": "subslide"
    }
   },
   "outputs": [],
   "source": [
    "git log --graph --oneline --all --decorate --source"
   ]
  },
  {
   "cell_type": "code",
   "execution_count": 10,
   "metadata": {
    "scrolled": true,
    "slideshow": {
     "slide_type": "subslide"
    }
   },
   "outputs": [
    {
     "name": "stdout",
     "output_type": "stream",
     "text": [
      "* \u001b[33mb6eeabab\u001b[m\u001b[33m (\u001b[m\u001b[1;36mHEAD -> \u001b[m\u001b[1;32mdevelop\u001b[m\u001b[33m, \u001b[m\u001b[1;31morigin/develop\u001b[m\u001b[33m, \u001b[m\u001b[1;31morigin/HEAD\u001b[m\u001b[33m)\u001b[m KeePass2Reader: fix error message logic (#2523)\n",
      "\u001b[31m|\u001b[m * \u001b[33me1e94306\u001b[m\u001b[33m (\u001b[m\u001b[1;31morigin/feature/icon-theme\u001b[m\u001b[33m)\u001b[m Change application icons to modified versions of the Papirus icon theme\n",
      "\u001b[31m|\u001b[m\u001b[31m/\u001b[m  \n",
      "\u001b[31m|\u001b[m * \u001b[33m9f0f69e3\u001b[m\u001b[33m (\u001b[m\u001b[1;31morigin/fix/macos-packaging\u001b[m\u001b[33m)\u001b[m Correct packaging issues on macOS\n",
      "\u001b[31m|\u001b[m\u001b[31m/\u001b[m  \n",
      "* \u001b[33m6fe821c3\u001b[m\u001b[33m (\u001b[m\u001b[1;33mtag: 2.3.4\u001b[m\u001b[33m, \u001b[m\u001b[1;31morigin/master\u001b[m\u001b[33m)\u001b[m Release 2.3.4\n",
      "* \u001b[33m0a155d89\u001b[m\u001b[33m (\u001b[m\u001b[1;33mtag: 2.3.3\u001b[m\u001b[33m)\u001b[m Release 2.3.3\n",
      "* \u001b[33m2bb72eba\u001b[m\u001b[33m (\u001b[m\u001b[1;33mtag: 2.3.2\u001b[m\u001b[33m)\u001b[m Release 2.3.2\n",
      "* \u001b[33m2fcaeeae\u001b[m\u001b[33m (\u001b[m\u001b[1;33mtag: 2.3.1\u001b[m\u001b[33m)\u001b[m Release 2.3.1\n",
      "* \u001b[33m4c0ed743\u001b[m\u001b[33m (\u001b[m\u001b[1;33mtag: 2.3.0\u001b[m\u001b[33m)\u001b[m Release 2.3.0\n",
      "* \u001b[33m69283e83\u001b[m\u001b[33m (\u001b[m\u001b[1;33mtag: 2.3.0-beta1\u001b[m\u001b[33m)\u001b[m Correct zxcvbn build on windows & snap build\n",
      "\u001b[33m|\u001b[m * \u001b[33mce375a20\u001b[m\u001b[33m (\u001b[m\u001b[1;31morigin/feature/memory-protection\u001b[m\u001b[33m)\u001b[m Zero out memory buffers before de-allocating them\n",
      "\u001b[33m|\u001b[m\u001b[33m/\u001b[m  \n",
      "* \u001b[33m4723f66d\u001b[m\u001b[33m (\u001b[m\u001b[1;33mtag: 2.2.4\u001b[m\u001b[33m)\u001b[m Release 2.2.4\n",
      "* \u001b[33mcf94610f\u001b[m\u001b[33m (\u001b[m\u001b[1;33mtag: 2.2.3\u001b[m\u001b[33m)\u001b[m Release 2.2.3\n",
      "* \u001b[33m6d46717c\u001b[m\u001b[33m (\u001b[m\u001b[1;33mtag: 2.2.2\u001b[m\u001b[33m)\u001b[m Release 2.2.2\n",
      "* \u001b[33m2bce9c8a\u001b[m\u001b[33m (\u001b[m\u001b[1;33mtag: 2.2.1\u001b[m\u001b[33m)\u001b[m Release 2.2.1\n",
      "* \u001b[33mcaa49a8e\u001b[m\u001b[33m (\u001b[m\u001b[1;33mtag: 2.2.0\u001b[m\u001b[33m)\u001b[m Release 2.2.0\n",
      "* \u001b[33mcb283bb9\u001b[m\u001b[33m (\u001b[m\u001b[1;33mtag: 2.1.4\u001b[m\u001b[33m)\u001b[m Release 2.1.4\n",
      "* \u001b[33m76dcfb5e\u001b[m\u001b[33m (\u001b[m\u001b[1;33mtag: 2.1.3\u001b[m\u001b[33m)\u001b[m Release 2.1.3\n",
      "* \u001b[33mb9279f73\u001b[m\u001b[33m (\u001b[m\u001b[1;33mtag: 2.1.2\u001b[m\u001b[33m)\u001b[m Release 2.1.2\n",
      "* \u001b[33m44c58a66\u001b[m\u001b[33m (\u001b[m\u001b[1;33mtag: 2.1.1\u001b[m\u001b[33m)\u001b[m Release 2.1.1\n",
      "* \u001b[33m8a3ac7a2\u001b[m\u001b[33m (\u001b[m\u001b[1;33mtag: 2.1.0\u001b[m\u001b[33m)\u001b[m Release 2.1.0\n",
      "* \u001b[33me19559fe\u001b[m\u001b[33m (\u001b[m\u001b[1;33mtag: 2.0.3-http\u001b[m\u001b[33m)\u001b[m Merge pull request #29 from Manko10/develop\n",
      "*   \u001b[33maba4fa94\u001b[m Merge remote-tracking branch 'keepassx/master'\n",
      "\u001b[35m|\u001b[m\u001b[36m\\\u001b[m  \n",
      "* \u001b[36m\\\u001b[m   \u001b[33m47e885dd\u001b[m Merge branch 'master' of https://github.com/jdachtera/keepassx\n",
      "\u001b[1;31m|\u001b[m\u001b[1;32m\\\u001b[m \u001b[36m\\\u001b[m  \n",
      "\u001b[1;31m|\u001b[m * \u001b[36m\\\u001b[m   \u001b[33m8584901f\u001b[m Merge branch 'master' of https://github.com/keithbennett/keepassx\n",
      "\u001b[1;31m|\u001b[m \u001b[1;33m|\u001b[m\u001b[1;34m\\\u001b[m \u001b[36m\\\u001b[m  \n",
      "* \u001b[1;33m|\u001b[m \u001b[1;34m\\\u001b[m \u001b[36m\\\u001b[m   \u001b[33m65626f0d\u001b[m Merge branch 'master' of https://github.com/keepassx/keepassx\n",
      "\u001b[1;33m|\u001b[m\u001b[1;34m\\\u001b[m \u001b[1;33m\\\u001b[m \u001b[1;34m\\\u001b[m \u001b[36m\\\u001b[m  \n",
      "\u001b[1;33m|\u001b[m \u001b[1;34m|\u001b[m\u001b[1;33m/\u001b[m \u001b[1;34m/\u001b[m \u001b[36m/\u001b[m  \n",
      "\u001b[1;33m|\u001b[m\u001b[1;33m/\u001b[m\u001b[1;34m|\u001b[m \u001b[1;34m/\u001b[m \u001b[36m/\u001b[m   \n",
      "\u001b[1;33m|\u001b[m \u001b[1;34m|\u001b[m\u001b[1;34m/\u001b[m \u001b[36m/\u001b[m    \n",
      "\u001b[1;33m|\u001b[m * \u001b[36m|\u001b[m   \u001b[33mc570a13a\u001b[m Merge commit '5c71260c12798afe3c331d08477bb241acdb78ca' as 'src/http/qjson'\n",
      "\u001b[1;33m|\u001b[m \u001b[31m|\u001b[m\u001b[32m\\\u001b[m \u001b[36m\\\u001b[m  \n",
      "\u001b[1;33m|\u001b[m \u001b[31m|\u001b[m * \u001b[36m|\u001b[m \u001b[33m5c71260c\u001b[m Squashed 'src/http/qjson/' content from commit c6d92ba\n",
      "\u001b[1;33m|\u001b[m \u001b[31m|\u001b[m  \u001b[36m/\u001b[m  \n",
      "\u001b[1;33m|\u001b[m * \u001b[36m|\u001b[m   \u001b[33m16598a83\u001b[m Merge commit 'f52f6e2d44bc3a08a5b2fa281459af8baac68f0d' as 'src/gui/qocoa'\n",
      "\u001b[1;33m|\u001b[m \u001b[33m|\u001b[m\u001b[34m\\\u001b[m \u001b[36m\\\u001b[m  \n",
      "\u001b[1;33m|\u001b[m \u001b[33m|\u001b[m * \u001b[36m|\u001b[m \u001b[33mf52f6e2d\u001b[m Squashed 'src/gui/qocoa/' content from commit ffe23cb\n",
      "\u001b[1;33m|\u001b[m \u001b[33m|\u001b[m  \u001b[36m/\u001b[m  \n",
      "\u001b[1;33m|\u001b[m \u001b[33m|\u001b[m \u001b[36m|\u001b[m * \u001b[33mc8857ac2\u001b[m\u001b[33m (\u001b[m\u001b[1;33mtag: 2.0.3\u001b[m\u001b[33m)\u001b[m Finalize changelog.\n",
      "\u001b[1;33m|\u001b[m \u001b[33m|\u001b[m \u001b[36m|\u001b[m\u001b[36m/\u001b[m  \n",
      "\u001b[1;33m|\u001b[m \u001b[33m|\u001b[m * \u001b[33m3679b217\u001b[m\u001b[33m (\u001b[m\u001b[1;33mtag: 2.0.2\u001b[m\u001b[33m)\u001b[m Fix typo in changelog.\n",
      "\u001b[1;33m|\u001b[m \u001b[33m|\u001b[m * \u001b[33m00f068b9\u001b[m\u001b[33m (\u001b[m\u001b[1;33mtag: 2.0.1\u001b[m\u001b[33m)\u001b[m Fix typo in changelog.\n",
      "\u001b[1;33m|\u001b[m \u001b[33m|\u001b[m * \u001b[33m24275d8d\u001b[m\u001b[33m (\u001b[m\u001b[1;33mtag: 2.0.0\u001b[m\u001b[33m)\u001b[m Bump version.\n",
      "\u001b[1;33m|\u001b[m \u001b[33m|\u001b[m * \u001b[33ma954e9a4\u001b[m\u001b[33m (\u001b[m\u001b[1;33mtag: 2.0-beta2\u001b[m\u001b[33m)\u001b[m Update translations.\n",
      "\u001b[1;33m|\u001b[m \u001b[33m|\u001b[m * \u001b[33m7d3fb58c\u001b[m\u001b[33m (\u001b[m\u001b[1;33mtag: 2.0-beta1\u001b[m\u001b[33m)\u001b[m Fix lock file location in saveDatabaseAs().\n",
      "\u001b[1;33m|\u001b[m \u001b[33m|\u001b[m\u001b[1;33m/\u001b[m  \n",
      "\u001b[1;33m|\u001b[m\u001b[1;33m/\u001b[m\u001b[33m|\u001b[m   \n",
      "* \u001b[33m|\u001b[m \u001b[33m43a1d54b\u001b[m\u001b[33m (\u001b[m\u001b[1;33mtag: 2.0-alpha6\u001b[m\u001b[33m)\u001b[m Prepare 2.0 alpha 6 release.\n",
      "\u001b[33m|\u001b[m\u001b[33m/\u001b[m  \n",
      "* \u001b[33m0cbf5920\u001b[m\u001b[33m (\u001b[m\u001b[1;33mtag: 2.0-alpha5\u001b[m\u001b[33m)\u001b[m Prepare the next alpha release.\n",
      "* \u001b[33m98372f9d\u001b[m\u001b[33m (\u001b[m\u001b[1;33mtag: 2.0-alpha4\u001b[m\u001b[33m)\u001b[m Drop unnecessary dllimport/dllexport statements in QtIOCompressor.\n",
      "* \u001b[33m16094be4\u001b[m\u001b[33m (\u001b[m\u001b[1;33mtag: 2.0-alpha3\u001b[m\u001b[33m)\u001b[m Reduce required cmake version to 2.8.8 again.\n",
      "* \u001b[33m40f194fe\u001b[m\u001b[33m (\u001b[m\u001b[1;33mtag: 2.0-alpha2\u001b[m\u001b[33m)\u001b[m Update copyright file.\n",
      "* \u001b[33m000be1e5\u001b[m\u001b[33m (\u001b[m\u001b[1;33mtag: 2.0-alpha1\u001b[m\u001b[33m)\u001b[m Bump version to 2.0 alpha 1.\n",
      "* \u001b[33m3e3c23e4\u001b[m Initial import.\n"
     ]
    }
   ],
   "source": [
    "git log --graph --oneline --all --simplify-by-decoration"
   ]
  },
  {
   "cell_type": "code",
   "execution_count": 11,
   "metadata": {
    "scrolled": true,
    "slideshow": {
     "slide_type": "subslide"
    }
   },
   "outputs": [
    {
     "name": "stdout",
     "output_type": "stream",
     "text": [
      "* 4 days ago KeePass2Reader: fix error message logic (#2523) b6eeabab\n",
      "\u001b[31m|\u001b[m * 12 days ago Change application icons to modified versions of the Papirus icon theme e1e94306\n",
      "\u001b[31m|\u001b[m\u001b[31m/\u001b[m  \n",
      "\u001b[31m|\u001b[m * 4 weeks ago Correct packaging issues on macOS 9f0f69e3\n",
      "\u001b[31m|\u001b[m\u001b[31m/\u001b[m  \n",
      "* 4 months ago Release 2.3.4 6fe821c3\n",
      "* 7 months ago Release 2.3.3 0a155d89\n",
      "* 7 months ago Release 2.3.2 2bb72eba\n",
      "* 9 months ago Release 2.3.1 2fcaeeae\n",
      "* 9 months ago Release 2.3.0 4c0ed743\n",
      "* 10 months ago Correct zxcvbn build on windows & snap build 69283e83\n",
      "\u001b[33m|\u001b[m * 10 months ago Zero out memory buffers before de-allocating them ce375a20\n",
      "\u001b[33m|\u001b[m\u001b[33m/\u001b[m  \n",
      "* 12 months ago Release 2.2.4 4723f66d\n",
      "* 12 months ago Release 2.2.3 cf94610f\n",
      "* 1 year, 2 months ago Release 2.2.2 6d46717c\n",
      "* 1 year, 2 months ago Release 2.2.1 2bce9c8a\n",
      "* 1 year, 5 months ago Release 2.2.0 caa49a8e\n",
      "* 1 year, 8 months ago Release 2.1.4 cb283bb9\n",
      "* 1 year, 9 months ago Release 2.1.3 76dcfb5e\n",
      "* 1 year, 10 months ago Release 2.1.2 b9279f73\n",
      "* 1 year, 10 months ago Release 2.1.1 44c58a66\n",
      "* 1 year, 10 months ago Release 2.1.0 8a3ac7a2\n",
      "* 2 years, 2 months ago Merge pull request #29 from Manko10/develop e19559fe\n",
      "*   2 years, 9 months ago Merge remote-tracking branch 'keepassx/master' aba4fa94\n",
      "\u001b[35m|\u001b[m\u001b[36m\\\u001b[m  \n",
      "* \u001b[36m\\\u001b[m   4 years, 8 months ago Merge branch 'master' of https://github.com/jdachtera/keepassx 47e885dd\n",
      "\u001b[1;31m|\u001b[m\u001b[1;32m\\\u001b[m \u001b[36m\\\u001b[m  \n",
      "\u001b[1;31m|\u001b[m * \u001b[36m\\\u001b[m   4 years, 8 months ago Merge branch 'master' of https://github.com/keithbennett/keepassx 8584901f\n",
      "\u001b[1;31m|\u001b[m \u001b[1;33m|\u001b[m\u001b[1;34m\\\u001b[m \u001b[36m\\\u001b[m  \n",
      "* \u001b[1;33m|\u001b[m \u001b[1;34m\\\u001b[m \u001b[36m\\\u001b[m   4 years, 8 months ago Merge branch 'master' of https://github.com/keepassx/keepassx 65626f0d\n",
      "\u001b[1;33m|\u001b[m\u001b[1;34m\\\u001b[m \u001b[1;33m\\\u001b[m \u001b[1;34m\\\u001b[m \u001b[36m\\\u001b[m  \n",
      "\u001b[1;33m|\u001b[m \u001b[1;34m|\u001b[m\u001b[1;33m/\u001b[m \u001b[1;34m/\u001b[m \u001b[36m/\u001b[m  \n",
      "\u001b[1;33m|\u001b[m\u001b[1;33m/\u001b[m\u001b[1;34m|\u001b[m \u001b[1;34m/\u001b[m \u001b[36m/\u001b[m   \n",
      "\u001b[1;33m|\u001b[m \u001b[1;34m|\u001b[m\u001b[1;34m/\u001b[m \u001b[36m/\u001b[m    \n",
      "\u001b[1;33m|\u001b[m * \u001b[36m|\u001b[m   4 years, 9 months ago Merge commit '5c71260c12798afe3c331d08477bb241acdb78ca' as 'src/http/qjson' c570a13a\n",
      "\u001b[1;33m|\u001b[m \u001b[31m|\u001b[m\u001b[32m\\\u001b[m \u001b[36m\\\u001b[m  \n",
      "\u001b[1;33m|\u001b[m \u001b[31m|\u001b[m * \u001b[36m|\u001b[m 4 years, 9 months ago Squashed 'src/http/qjson/' content from commit c6d92ba 5c71260c\n",
      "\u001b[1;33m|\u001b[m \u001b[31m|\u001b[m  \u001b[36m/\u001b[m  \n",
      "\u001b[1;33m|\u001b[m * \u001b[36m|\u001b[m   4 years, 9 months ago Merge commit 'f52f6e2d44bc3a08a5b2fa281459af8baac68f0d' as 'src/gui/qocoa' 16598a83\n",
      "\u001b[1;33m|\u001b[m \u001b[33m|\u001b[m\u001b[34m\\\u001b[m \u001b[36m\\\u001b[m  \n",
      "\u001b[1;33m|\u001b[m \u001b[33m|\u001b[m * \u001b[36m|\u001b[m 4 years, 9 months ago Squashed 'src/gui/qocoa/' content from commit ffe23cb f52f6e2d\n",
      "\u001b[1;33m|\u001b[m \u001b[33m|\u001b[m  \u001b[36m/\u001b[m  \n",
      "\u001b[1;33m|\u001b[m \u001b[33m|\u001b[m \u001b[36m|\u001b[m * 2 years, 3 months ago Finalize changelog. c8857ac2\n",
      "\u001b[1;33m|\u001b[m \u001b[33m|\u001b[m \u001b[36m|\u001b[m\u001b[36m/\u001b[m  \n",
      "\u001b[1;33m|\u001b[m \u001b[33m|\u001b[m * 2 years, 10 months ago Fix typo in changelog. 3679b217\n",
      "\u001b[1;33m|\u001b[m \u001b[33m|\u001b[m * 2 years, 10 months ago Fix typo in changelog. 00f068b9\n",
      "\u001b[1;33m|\u001b[m \u001b[33m|\u001b[m * 3 years ago Bump version. 24275d8d\n",
      "\u001b[1;33m|\u001b[m \u001b[33m|\u001b[m * 3 years, 3 months ago Update translations. a954e9a4\n",
      "\u001b[1;33m|\u001b[m \u001b[33m|\u001b[m * 3 years, 5 months ago Fix lock file location in saveDatabaseAs(). 7d3fb58c\n",
      "\u001b[1;33m|\u001b[m \u001b[33m|\u001b[m\u001b[1;33m/\u001b[m  \n",
      "\u001b[1;33m|\u001b[m\u001b[1;33m/\u001b[m\u001b[33m|\u001b[m   \n",
      "* \u001b[33m|\u001b[m 4 years, 8 months ago Prepare 2.0 alpha 6 release. 43a1d54b\n",
      "\u001b[33m|\u001b[m\u001b[33m/\u001b[m  \n",
      "* 5 years ago Prepare the next alpha release. 0cbf5920\n",
      "* 6 years ago Drop unnecessary dllimport/dllexport statements in QtIOCompressor. 98372f9d\n",
      "* 6 years ago Reduce required cmake version to 2.8.8 again. 16094be4\n",
      "* 6 years ago Update copyright file. 40f194fe\n",
      "* 7 years ago Bump version to 2.0 alpha 1. 000be1e5\n",
      "* 8 years ago Initial import. 3e3c23e4\n"
     ]
    }
   ],
   "source": [
    "git log --graph --oneline --all --simplify-by-decoration --pretty='%ar %s %h'"
   ]
  },
  {
   "cell_type": "code",
   "execution_count": 12,
   "metadata": {
    "slideshow": {
     "slide_type": "subslide"
    }
   },
   "outputs": [
    {
     "name": "stdout",
     "output_type": "stream",
     "text": [
      "* \u001b[31m|\u001b[m * \n",
      "\u001b[31m|\u001b[m\u001b[31m/\u001b[m  \u001b[31m|\u001b[m * \n",
      "\u001b[31m|\u001b[m\u001b[31m/\u001b[m  * * * * * * \u001b[33m|\u001b[m * \n",
      "\u001b[33m|\u001b[m\u001b[33m/\u001b[m  * * * * * * * * * * * *   \n",
      "\u001b[35m|\u001b[m\u001b[36m\\\u001b[m  * \u001b[36m\\\u001b[m   \n",
      "\u001b[1;31m|\u001b[m\u001b[1;32m\\\u001b[m \u001b[36m\\\u001b[m  \u001b[1;31m|\u001b[m * \u001b[36m\\\u001b[m   \n",
      "\u001b[1;31m|\u001b[m \u001b[1;33m|\u001b[m\u001b[1;34m\\\u001b[m \u001b[36m\\\u001b[m  * \u001b[1;33m|\u001b[m \u001b[1;34m\\\u001b[m \u001b[36m\\\u001b[m   \n",
      "\u001b[1;33m|\u001b[m\u001b[1;34m\\\u001b[m \u001b[1;33m\\\u001b[m \u001b[1;34m\\\u001b[m \u001b[36m\\\u001b[m  \n",
      "\u001b[1;33m|\u001b[m \u001b[1;34m|\u001b[m\u001b[1;33m/\u001b[m \u001b[1;34m/\u001b[m \u001b[36m/\u001b[m  \n",
      "\u001b[1;33m|\u001b[m\u001b[1;33m/\u001b[m\u001b[1;34m|\u001b[m \u001b[1;34m/\u001b[m \u001b[36m/\u001b[m   \n",
      "\u001b[1;33m|\u001b[m \u001b[1;34m|\u001b[m\u001b[1;34m/\u001b[m \u001b[36m/\u001b[m    \u001b[1;33m|\u001b[m * \u001b[36m|\u001b[m   \n",
      "\u001b[1;33m|\u001b[m \u001b[31m|\u001b[m\u001b[32m\\\u001b[m \u001b[36m\\\u001b[m  \u001b[1;33m|\u001b[m \u001b[31m|\u001b[m * \u001b[36m|\u001b[m \n",
      "\u001b[1;33m|\u001b[m \u001b[31m|\u001b[m  \u001b[36m/\u001b[m  \u001b[1;33m|\u001b[m * \u001b[36m|\u001b[m   \n",
      "\u001b[1;33m|\u001b[m \u001b[33m|\u001b[m\u001b[34m\\\u001b[m \u001b[36m\\\u001b[m  \u001b[1;33m|\u001b[m \u001b[33m|\u001b[m * \u001b[36m|\u001b[m \n",
      "\u001b[1;33m|\u001b[m \u001b[33m|\u001b[m  \u001b[36m/\u001b[m  \u001b[1;33m|\u001b[m \u001b[33m|\u001b[m \u001b[36m|\u001b[m * \n",
      "\u001b[1;33m|\u001b[m \u001b[33m|\u001b[m \u001b[36m|\u001b[m\u001b[36m/\u001b[m  \u001b[1;33m|\u001b[m \u001b[33m|\u001b[m * \u001b[1;33m|\u001b[m \u001b[33m|\u001b[m * \u001b[1;33m|\u001b[m \u001b[33m|\u001b[m * \u001b[1;33m|\u001b[m \u001b[33m|\u001b[m * \u001b[1;33m|\u001b[m \u001b[33m|\u001b[m * \n",
      "\u001b[1;33m|\u001b[m \u001b[33m|\u001b[m\u001b[1;33m/\u001b[m  \n",
      "\u001b[1;33m|\u001b[m\u001b[1;33m/\u001b[m\u001b[33m|\u001b[m   * \u001b[33m|\u001b[m \n",
      "\u001b[33m|\u001b[m\u001b[33m/\u001b[m  * * * * * * "
     ]
    }
   ],
   "source": [
    "git log --graph --oneline --all --simplify-by-decoration --pretty="
   ]
  },
  {
   "cell_type": "code",
   "execution_count": 13,
   "metadata": {
    "slideshow": {
     "slide_type": "fragment"
    }
   },
   "outputs": [],
   "source": [
    "cd ~/ && rm -rf keepassxc"
   ]
  },
  {
   "cell_type": "markdown",
   "metadata": {
    "slideshow": {
     "slide_type": "subslide"
    }
   },
   "source": [
    "## Ćwiczenie\n",
    "\n",
    "Użyj `git log --pretty`aby wypisać logi w keepassxc od 2018-09-01 w takim formacie:\n",
    "\n",
    "Commit Hash: #numer hasha#, Author: #autor name#, Date: #author date, RFC2822 style#\n",
    "\n",
    "hint: zajrzyj go `man git log` tam znajdziesz podpowiedzi jak to zrobić. Jak znajdziesz czas to przyjrzyj się filtrowaniu printowanych commitów"
   ]
  },
  {
   "cell_type": "markdown",
   "metadata": {
    "slideshow": {
     "slide_type": "subslide"
    }
   },
   "source": [
    "# Status\n",
    "\n",
    "* [x] ~~...~~\n",
    "* [x] ~~Cherry picking~~\n",
    "* [x] ~~Git rebase~~\n",
    "* [x] ~~Git bisect~~\n",
    "* [x] ~~Git fetch vs pull~~\n",
    "* [x] ~~Praca z wieloma repozytoriami~~\n",
    "* [x] ~~Git push~~\n",
    "* [x] ~~Git submodule~~\n",
    "* [x] ~~Git log~~\n",
    "* [ ] Git squash\n",
    "* [ ] Repozytoria bare\n",
    "* [ ] ..."
   ]
  },
  {
   "cell_type": "markdown",
   "metadata": {
    "slideshow": {
     "slide_type": "slide"
    }
   },
   "source": [
    "# Status\n",
    "\n",
    "* [x] ~~...~~\n",
    "* [x] ~~Cherry picking~~\n",
    "* [x] ~~Git rebase~~\n",
    "* [x] ~~Git bisect~~\n",
    "* [x] ~~Git fetch vs pull~~\n",
    "* [x] ~~Praca z wieloma repozytoriami~~\n",
    "* [x] ~~Git push~~\n",
    "* [x] ~~Git submodule~~\n",
    "* [x] ~~Git log~~\n",
    "* [ ] Git squash\n",
    "     * [ ] git rebase -i\n",
    "     * [ ] git rev-list\n",
    "* [ ] Repozytoria bare\n",
    "* [ ] ..."
   ]
  },
  {
   "cell_type": "markdown",
   "metadata": {
    "slideshow": {
     "slide_type": "subslide"
    }
   },
   "source": [
    "<img src=\"img/99-pull-request.png\" width=\"500px\" alt=\"Hunk WTF?!\" style=\"float:left; margin-right: 30px;\" />\n",
    "\n",
    "## Motywacja\n",
    "\n",
    "https://github.com/bendews/ansible-cloudflared/pull/2#issuecomment-436852893"
   ]
  },
  {
   "cell_type": "code",
   "execution_count": 14,
   "metadata": {
    "scrolled": true,
    "slideshow": {
     "slide_type": "subslide"
    }
   },
   "outputs": [
    {
     "name": "stdout",
     "output_type": "stream",
     "text": [
      "Initialized empty Git repository in /home/wyhasany/squashing/.git/\n",
      "[master (root-commit) 6aadfc6] Init\n",
      " 1 file changed, 0 insertions(+), 0 deletions(-)\n",
      " create mode 100644 file\n",
      "[master 8c283fa] commit:1\n",
      " 1 file changed, 1 insertion(+)\n",
      "[master 5720f0f] commit:2\n",
      " 1 file changed, 1 insertion(+)\n",
      "[master d6f975e] commit:3\n",
      " 1 file changed, 1 insertion(+)\n",
      "[master 880f333] commit:4\n",
      " 1 file changed, 1 insertion(+)\n",
      "[master 3c8b11f] commit:5\n",
      " 1 file changed, 1 insertion(+)\n",
      "[master 7a13bc7] commit:6\n",
      " 1 file changed, 1 insertion(+)\n",
      "[master d036f47] commit:7\n",
      " 1 file changed, 1 insertion(+)\n",
      "[master 739a99a] commit:8\n",
      " 1 file changed, 1 insertion(+)\n",
      "[master 7fa1e78] commit:9\n",
      " 1 file changed, 1 insertion(+)\n",
      "[master ac30399] commit:10\n",
      " 1 file changed, 1 insertion(+)\n",
      "On branch master\n",
      "nothing to commit, working tree clean\n",
      "\u001b[33mcommit ac30399017201143dd7a2e493e02dd078227159f\u001b[m\u001b[33m (\u001b[m\u001b[1;36mHEAD -> \u001b[m\u001b[1;32mmaster\u001b[m\u001b[33m)\u001b[m\n",
      "Author: Michał Rowicki <mirowicki@gmail.com>\n",
      "Date:   Thu Dec 6 21:25:56 2018 +0100\n",
      "\n",
      "    commit:10\n",
      "\n",
      "\u001b[33mcommit 7fa1e784584ea195acec792e222dd8e447807967\u001b[m\n",
      "Author: Michał Rowicki <mirowicki@gmail.com>\n",
      "Date:   Thu Dec 6 21:25:56 2018 +0100\n",
      "\n",
      "    commit:9\n",
      "\n",
      "\u001b[33mcommit 739a99a8ddf70798db2e79fd82826de500bde0bd\u001b[m\n",
      "Author: Michał Rowicki <mirowicki@gmail.com>\n",
      "Date:   Thu Dec 6 21:25:56 2018 +0100\n",
      "\n",
      "    commit:8\n",
      "\n",
      "\u001b[33mcommit d036f476a7fba617950ecf85e330d761b8141b22\u001b[m\n",
      "Author: Michał Rowicki <mirowicki@gmail.com>\n",
      "Date:   Thu Dec 6 21:25:56 2018 +0100\n",
      "\n",
      "    commit:7\n",
      "\n",
      "\u001b[33mcommit 7a13bc7e382497f148eacf610f9946cc629ada67\u001b[m\n",
      "Author: Michał Rowicki <mirowicki@gmail.com>\n",
      "Date:   Thu Dec 6 21:25:56 2018 +0100\n",
      "\n",
      "    commit:6\n",
      "\n",
      "\u001b[33mcommit 3c8b11fc9fbfe804d20472545fa9f5263f29de86\u001b[m\n",
      "Author: Michał Rowicki <mirowicki@gmail.com>\n",
      "Date:   Thu Dec 6 21:25:56 2018 +0100\n",
      "\n",
      "    commit:5\n",
      "\n",
      "\u001b[33mcommit 880f3330e33fcf48972f2ddfa1a2349b1ccc20c7\u001b[m\n",
      "Author: Michał Rowicki <mirowicki@gmail.com>\n",
      "Date:   Thu Dec 6 21:25:56 2018 +0100\n",
      "\n",
      "    commit:4\n",
      "\n",
      "\u001b[33mcommit d6f975ea02048ea4311c043df8fb1c994aacbfa2\u001b[m\n",
      "Author: Michał Rowicki <mirowicki@gmail.com>\n",
      "Date:   Thu Dec 6 21:25:56 2018 +0100\n",
      "\n",
      "    commit:3\n",
      "\n",
      "\u001b[33mcommit 5720f0f6cebdbfd51b961e575ff96d10935d76ce\u001b[m\n",
      "Author: Michał Rowicki <mirowicki@gmail.com>\n",
      "Date:   Thu Dec 6 21:25:56 2018 +0100\n",
      "\n",
      "    commit:2\n",
      "\n",
      "\u001b[33mcommit 8c283fa7a2b1e0fadf258e7b3b1b5db6c132e313\u001b[m\n",
      "Author: Michał Rowicki <mirowicki@gmail.com>\n",
      "Date:   Thu Dec 6 21:25:56 2018 +0100\n",
      "\n",
      "    commit:1\n",
      "\n",
      "\u001b[33mcommit 6aadfc6647b943ea19f5049d9e24c3d71beff71c\u001b[m\n",
      "Author: Michał Rowicki <mirowicki@gmail.com>\n",
      "Date:   Thu Dec 6 21:25:55 2018 +0100\n",
      "\n",
      "    Init\n"
     ]
    }
   ],
   "source": [
    "cd ~/ && rm -rf squashing && mkdir squashing && cd squashing && git init && git config commit.gpgsign false\n",
    "touch file\n",
    "git add file\n",
    "git commit -m 'Init'\n",
    "for i in {1..10}\n",
    "do\n",
    "echo $i >> file\n",
    "git commit -am \"commit:${i}\"\n",
    "done\n",
    "git status\n",
    "git log"
   ]
  },
  {
   "cell_type": "code",
   "execution_count": 26,
   "metadata": {
    "scrolled": true,
    "slideshow": {
     "slide_type": "subslide"
    }
   },
   "outputs": [
    {
     "name": "stdout",
     "output_type": "stream",
     "text": [
      "\u001b[31mCloning into 'squashing-clone'...\n",
      "\u001b[0m\u001b[31mdone.\n",
      "\u001b[0morigin\t/home/wyhasany/squashing (fetch)\n",
      "origin\t/home/wyhasany/squashing (push)\n",
      "\n",
      "\u001b[33mcommit ac30399017201143dd7a2e493e02dd078227159f\u001b[m\u001b[33m (\u001b[m\u001b[1;36mHEAD -> \u001b[m\u001b[1;32mmaster\u001b[m\u001b[33m, \u001b[m\u001b[1;31morigin/master\u001b[m\u001b[33m, \u001b[m\u001b[1;31morigin/HEAD\u001b[m\u001b[33m)\u001b[m\n",
      "Author: Michał Rowicki <mirowicki@gmail.com>\n",
      "Date:   Thu Dec 6 21:25:56 2018 +0100\n",
      "\n",
      "    commit:10\n",
      "\n",
      "\u001b[33mcommit 7fa1e784584ea195acec792e222dd8e447807967\u001b[m\n",
      "Author: Michał Rowicki <mirowicki@gmail.com>\n",
      "Date:   Thu Dec 6 21:25:56 2018 +0100\n",
      "\n",
      "    commit:9\n",
      "\n",
      "\u001b[33mcommit 739a99a8ddf70798db2e79fd82826de500bde0bd\u001b[m\n",
      "Author: Michał Rowicki <mirowicki@gmail.com>\n",
      "Date:   Thu Dec 6 21:25:56 2018 +0100\n",
      "\n",
      "    commit:8\n",
      "\n",
      "\u001b[33mcommit d036f476a7fba617950ecf85e330d761b8141b22\u001b[m\n",
      "Author: Michał Rowicki <mirowicki@gmail.com>\n",
      "Date:   Thu Dec 6 21:25:56 2018 +0100\n",
      "\n",
      "    commit:7\n",
      "\n",
      "\u001b[33mcommit 7a13bc7e382497f148eacf610f9946cc629ada67\u001b[m\n",
      "Author: Michał Rowicki <mirowicki@gmail.com>\n",
      "Date:   Thu Dec 6 21:25:56 2018 +0100\n",
      "\n",
      "    commit:6\n",
      "\n",
      "\u001b[33mcommit 3c8b11fc9fbfe804d20472545fa9f5263f29de86\u001b[m\n",
      "Author: Michał Rowicki <mirowicki@gmail.com>\n",
      "Date:   Thu Dec 6 21:25:56 2018 +0100\n",
      "\n",
      "    commit:5\n",
      "\n",
      "\u001b[33mcommit 880f3330e33fcf48972f2ddfa1a2349b1ccc20c7\u001b[m\n",
      "Author: Michał Rowicki <mirowicki@gmail.com>\n",
      "Date:   Thu Dec 6 21:25:56 2018 +0100\n",
      "\n",
      "    commit:4\n",
      "\n",
      "\u001b[33mcommit d6f975ea02048ea4311c043df8fb1c994aacbfa2\u001b[m\n",
      "Author: Michał Rowicki <mirowicki@gmail.com>\n",
      "Date:   Thu Dec 6 21:25:56 2018 +0100\n",
      "\n",
      "    commit:3\n",
      "\n",
      "\u001b[33mcommit 5720f0f6cebdbfd51b961e575ff96d10935d76ce\u001b[m\n",
      "Author: Michał Rowicki <mirowicki@gmail.com>\n",
      "Date:   Thu Dec 6 21:25:56 2018 +0100\n",
      "\n",
      "    commit:2\n",
      "\n",
      "\u001b[33mcommit 8c283fa7a2b1e0fadf258e7b3b1b5db6c132e313\u001b[m\n",
      "Author: Michał Rowicki <mirowicki@gmail.com>\n",
      "Date:   Thu Dec 6 21:25:56 2018 +0100\n",
      "\n",
      "    commit:1\n",
      "\n",
      "\u001b[33mcommit 6aadfc6647b943ea19f5049d9e24c3d71beff71c\u001b[m\n",
      "Author: Michał Rowicki <mirowicki@gmail.com>\n",
      "Date:   Thu Dec 6 21:25:55 2018 +0100\n",
      "\n",
      "    Init\n"
     ]
    }
   ],
   "source": [
    "cd ..\n",
    "rm -rf squashing-clone\n",
    "git clone squashing squashing-clone\n",
    "cd squashing-clone\n",
    "git config commit.gpgsign false\n",
    "git remote -v\n",
    "echo\n",
    "git log"
   ]
  },
  {
   "cell_type": "markdown",
   "metadata": {
    "slideshow": {
     "slide_type": "subslide"
    }
   },
   "source": [
    "### Aby zesquashować commity potrzebujemy\n",
    "\n",
    "* referencję do najnowszego commita ze zbiotu commitów które chcemy squashować\n",
    "* referencję do najstarszego commita..."
   ]
  },
  {
   "cell_type": "code",
   "execution_count": 24,
   "metadata": {
    "slideshow": {
     "slide_type": "fragment"
    }
   },
   "outputs": [
    {
     "name": "stdout",
     "output_type": "stream",
     "text": [
      "6aadfc6647b943ea19f5049d9e24c3d71beff71c\n"
     ]
    }
   ],
   "source": [
    "git rev-list --max-parents=0 HEAD"
   ]
  },
  {
   "cell_type": "code",
   "execution_count": 25,
   "metadata": {
    "slideshow": {
     "slide_type": "fragment"
    }
   },
   "outputs": [
    {
     "name": "stdout",
     "output_type": "stream",
     "text": [
      "ac30399017201143dd7a2e493e02dd078227159f\n",
      "7fa1e784584ea195acec792e222dd8e447807967\n",
      "739a99a8ddf70798db2e79fd82826de500bde0bd\n",
      "d036f476a7fba617950ecf85e330d761b8141b22\n",
      "7a13bc7e382497f148eacf610f9946cc629ada67\n",
      "3c8b11fc9fbfe804d20472545fa9f5263f29de86\n",
      "880f3330e33fcf48972f2ddfa1a2349b1ccc20c7\n",
      "d6f975ea02048ea4311c043df8fb1c994aacbfa2\n",
      "5720f0f6cebdbfd51b961e575ff96d10935d76ce\n",
      "8c283fa7a2b1e0fadf258e7b3b1b5db6c132e313\n",
      "6aadfc6647b943ea19f5049d9e24c3d71beff71c\n"
     ]
    }
   ],
   "source": [
    "git rev-list HEAD"
   ]
  },
  {
   "cell_type": "markdown",
   "metadata": {
    "slideshow": {
     "slide_type": "subslide"
    }
   },
   "source": [
    "### Terminal\n",
    "\n",
    "```\n",
    "cd ~/squashing-clone\n",
    "git rebase -i $(git rev-list --max-parents=0 HEAD) HEAD\n",
    "\n",
    "  1 pick 8c283fa commit:1\n",
    "  2 pick 5720f0f commit:2\n",
    "  3 pick d6f975e commit:3\n",
    "  4 pick 880f333 commit:4\n",
    "  5 pick 3c8b11f commit:5\n",
    "  6 pick 7a13bc7 commit:6\n",
    "  7 pick d036f47 commit:7\n",
    "  8 pick 739a99a commit:8\n",
    "  9 pick 7fa1e78 commit:9\n",
    " 10 pick ac30399 commit:10\n",
    " 11 \n",
    " 12 # Rebase 6aadfc6..ac30399 onto 6aadfc6 (10 commands)\n",
    " 13 #\n",
    " 14 # Commands:\n",
    " 15 # p, pick = use commit\n",
    " 16 # r, reword = use commit, but edit the commit message\n",
    " 17 # e, edit = use commit, but stop for amending\n",
    " 18 # s, squash = use commit, but meld into previous commit\n",
    " 19 # f, fixup = like \"squash\", but discard this commit's log message\n",
    " 20 # x, exec = run command (the rest of the line) using shell\n",
    " 21 # d, drop = remove commit\n",
    " 22 #\n",
    " 23 # These lines can be re-ordered; they are executed from top to bottom.\n",
    " 24 #\n",
    " 25 # If you remove a line here THAT COMMIT WILL BE LOST.\n",
    " 26 #\n",
    " 27 # However, if you remove everything, the rebase will be aborted.\n",
    " 28 #\n",
    " 29 # Note that empty commits are commented out\n",
    "```"
   ]
  },
  {
   "cell_type": "markdown",
   "metadata": {
    "slideshow": {
     "slide_type": "subslide"
    }
   },
   "source": [
    "```\n",
    "  1 r 8c283fa commit:1\n",
    "  2 s 5720f0f commit:2\n",
    "  3 s d6f975e commit:3\n",
    "  4 s 880f333 commit:4\n",
    "  5 s 3c8b11f commit:5\n",
    "  6 s 7a13bc7 commit:6\n",
    "  7 s d036f47 commit:7\n",
    "  8 s 739a99a commit:8\n",
    "  9 s 7fa1e78 commit:9\n",
    " 10 s ac30399 commit:10\n",
    " 11 \n",
    " 12 # Rebase 6aadfc6..ac30399 onto 6aadfc6 (10 commands)\n",
    " 13 #\n",
    " 14 # Commands:\n",
    " 15 # p, pick = use commit\n",
    " 16 # r, reword = use commit, but edit the commit message\n",
    " 17 # e, edit = use commit, but stop for amending\n",
    " 18 # s, squash = use commit, but meld into previous commit\n",
    " 19 # f, fixup = like \"squash\", but discard this commit's log message\n",
    " 20 # x, exec = run command (the rest of the line) using shell\n",
    " 21 # d, drop = remove commit\n",
    " 22 #\n",
    " 23 # These lines can be re-ordered; they are executed from top to bottom.\n",
    " 24 #\n",
    " 25 # If you remove a line here THAT COMMIT WILL BE LOST.\n",
    " 26 #\n",
    " 27 # However, if you remove everything, the rebase will be aborted.\n",
    " 28 #\n",
    " 29 # Note that empty commits are commented out\n",
    "```"
   ]
  },
  {
   "cell_type": "markdown",
   "metadata": {
    "slideshow": {
     "slide_type": "subslide"
    }
   },
   "source": [
    "```\n",
    "  1 commit:all\n",
    "  2 \n",
    "  3 # Please enter the commit message for your changes. Lines starting\n",
    "  4 # with '#' will be ignored, and an empty message aborts the commit.\n",
    "  5 #\n",
    "  6 # Date:      Thu Dec 6 21:25:56 2018 +0100\n",
    "  7 #\n",
    "  8 # interactive rebase in progress; onto 6aadfc6\n",
    "  9 # Last command done (1 command done):\n",
    " 10 #    reword 8c283fa commit:1\n",
    " 11 # Next commands to do (9 remaining commands):\n",
    " 12 #    squash 5720f0f commit:2\n",
    " 13 #    squash d6f975e commit:3\n",
    " 14 # You are currently editing a commit during a rebase.\n",
    " 15 #\n",
    " 16 # Changes to be committed:\n",
    " 17 #       modified:   file\n",
    " 18 #\n",
    "```"
   ]
  },
  {
   "cell_type": "markdown",
   "metadata": {
    "slideshow": {
     "slide_type": "subslide"
    }
   },
   "source": [
    "```\n",
    "  1 # This is a combination of 10 commits.\n",
    "  2 # This is the 1st commit message:\n",
    "  3 \n",
    "  4 commit:all\n",
    "  5 \n",
    "  6 # This is the commit message #2:\n",
    "  7 \n",
    "  8 commit:2\n",
    "  9 \n",
    " 10 # This is the commit message #3:\n",
    " 11 \n",
    " 12 commit:3\n",
    " 13 \n",
    " 14 # This is the commit message #4:\n",
    " 15 \n",
    " 16 commit:4\n",
    " 17 \n",
    " 18 # This is the commit message #5:\n",
    " 19 \n",
    " 20 commit:5\n",
    " 21 \n",
    " 22 # This is the commit message #6:\n",
    " 23 \n",
    " 24 commit:6\n",
    " 25 \n",
    " 26 # This is the commit message #7:\n",
    " 27 \n",
    " 28 commit:7\n",
    " 29 \n",
    " 30 # This is the commit message #8:\n",
    " 31 \n",
    " 32 commit:8\n",
    " 33 \n",
    " 34 # This is the commit message #9:\n",
    " 35 \n",
    " 36 commit:9\n",
    " 37 \n",
    " 38 # This is the commit message #10:\n",
    " 39 \n",
    " 40 commit:10\n",
    " 41 \n",
    " 42 # Please enter the commit message for your changes. Lines starting\n",
    " 43 # with '#' will be ignored, and an empty message aborts the commit.\n",
    " 44 #\n",
    " 45 # Date:      Thu Dec 6 21:25:56 2018 +0100\n",
    " 46 #\n",
    " 47 # interactive rebase in progress; onto 6aadfc6\n",
    " 48 # Last commands done (10 commands done):\n",
    " 49 #    squash 7fa1e78 commit:9\n",
    " 50 #    squash ac30399 commit:10\n",
    " 51 # No commands remaining.\n",
    " 52 # You are currently rebasing.\n",
    " 53 #\n",
    " 54 # Changes to be committed:\n",
    " 55 #       modified:   file\n",
    " 56 #\n",
    "```"
   ]
  },
  {
   "cell_type": "markdown",
   "metadata": {
    "slideshow": {
     "slide_type": "subslide"
    }
   },
   "source": [
    "```\n",
    "git branch -f master\n",
    "git checkout master\n",
    "```"
   ]
  },
  {
   "cell_type": "code",
   "execution_count": 29,
   "metadata": {
    "slideshow": {
     "slide_type": "fragment"
    }
   },
   "outputs": [
    {
     "name": "stdout",
     "output_type": "stream",
     "text": [
      "* \u001b[33mfa0648b\u001b[m\u001b[33m (\u001b[m\u001b[1;36mHEAD -> \u001b[m\u001b[1;32mmaster\u001b[m\u001b[33m)\u001b[m commit:all\n",
      "\u001b[31m|\u001b[m * \u001b[33mac30399\u001b[m\u001b[33m (\u001b[m\u001b[1;31morigin/master\u001b[m\u001b[33m, \u001b[m\u001b[1;31morigin/HEAD\u001b[m\u001b[33m)\u001b[m commit:10\n",
      "\u001b[31m|\u001b[m * \u001b[33m7fa1e78\u001b[m commit:9\n",
      "\u001b[31m|\u001b[m * \u001b[33m739a99a\u001b[m commit:8\n",
      "\u001b[31m|\u001b[m * \u001b[33md036f47\u001b[m commit:7\n",
      "\u001b[31m|\u001b[m * \u001b[33m7a13bc7\u001b[m commit:6\n",
      "\u001b[31m|\u001b[m * \u001b[33m3c8b11f\u001b[m commit:5\n",
      "\u001b[31m|\u001b[m * \u001b[33m880f333\u001b[m commit:4\n",
      "\u001b[31m|\u001b[m * \u001b[33md6f975e\u001b[m commit:3\n",
      "\u001b[31m|\u001b[m * \u001b[33m5720f0f\u001b[m commit:2\n",
      "\u001b[31m|\u001b[m * \u001b[33m8c283fa\u001b[m commit:1\n",
      "\u001b[31m|\u001b[m\u001b[31m/\u001b[m  \n",
      "* \u001b[33m6aadfc6\u001b[m Init\n"
     ]
    }
   ],
   "source": [
    "git log --oneline --graph --all"
   ]
  },
  {
   "cell_type": "code",
   "execution_count": 30,
   "metadata": {
    "slideshow": {
     "slide_type": "subslide"
    }
   },
   "outputs": [
    {
     "name": "stdout",
     "output_type": "stream",
     "text": [
      "\u001b[31mTo /home/wyhasany/squashing\n",
      "\u001b[0m\u001b[31m ! [rejected]        \u001b[0m\u001b[31mmaster -> master\u001b[0m\u001b[31m (\u001b[0m\u001b[31mnon-fast-forward\u001b[0m\u001b[31m)\u001b[0m\u001b[31m\n",
      "\u001b[0m\u001b[31merror: failed to push some refs to '/home/wyhasany/squashing'\n",
      "\u001b[0m\u001b[31mhint: Updates were rejected because the tip of your current branch is behind\n",
      "\u001b[0m\u001b[31mhint: its remote counterpart. Integrate the remote changes (e.g.\n",
      "\u001b[0m\u001b[31mhint: 'git pull ...') before pushing again.\n",
      "\u001b[0m\u001b[31mhint: See the 'Note about fast-forwards' in 'git push --help' for details.\n",
      "\u001b[0m"
     ]
    },
    {
     "ename": "",
     "evalue": "1",
     "output_type": "error",
     "traceback": []
    }
   ],
   "source": [
    "git push origin"
   ]
  },
  {
   "cell_type": "markdown",
   "metadata": {
    "slideshow": {
     "slide_type": "subslide"
    }
   },
   "source": [
    "### Co się stanie jak spullujemy repo i spróbujemy pchnąć je na origin?"
   ]
  },
  {
   "cell_type": "code",
   "execution_count": 32,
   "metadata": {
    "slideshow": {
     "slide_type": "fragment"
    }
   },
   "outputs": [
    {
     "name": "stdout",
     "output_type": "stream",
     "text": [
      "\u001b[31mCounting objects: 3, done.\n",
      "\u001b[0m\u001b[31mWriting objects: 100% (3/3), 289 bytes | 289.00 KiB/s, done.\n",
      "\u001b[0m\u001b[31mTotal 3 (delta 0), reused 0 (delta 0)\n",
      "\u001b[0m\u001b[31mremote: error: refusing to update checked out branch: refs/heads/master\u001b[K\n",
      "\u001b[0m\u001b[31mremote: error: By default, updating the current branch in a non-bare repository\u001b[K\n",
      "\u001b[0m\u001b[31mremote: is denied, because it will make the index and work tree inconsistent\u001b[K\n",
      "\u001b[0m\u001b[31mremote: with what you pushed, and will require 'git reset --hard' to match\u001b[K\n",
      "\u001b[0m\u001b[31mremote: the work tree to HEAD.\u001b[K\n",
      "\u001b[0m\u001b[31mremote: \n",
      "\u001b[0m\u001b[31mremote: You can set the 'receive.denyCurrentBranch' configuration variable\u001b[K\n",
      "\u001b[0m\u001b[31mremote: to 'ignore' or 'warn' in the remote repository to allow pushing into\u001b[K\n",
      "\u001b[0m\u001b[31mremote: its current branch; however, this is not recommended unless you\u001b[K\n",
      "\u001b[0m\u001b[31mremote: arranged to update its work tree to match what you pushed in some\u001b[K\n",
      "\u001b[0m\u001b[31mremote: other way.\u001b[K\n",
      "\u001b[0m\u001b[31mremote: \n",
      "\u001b[0m\u001b[31mremote: To squelch this message and still keep the default behaviour, set\u001b[K\n",
      "\u001b[0m\u001b[31mremote: 'receive.denyCurrentBranch' configuration variable to 'refuse'.\u001b[K\n",
      "\u001b[0m\u001b[31mTo /home/wyhasany/squashing\n",
      "\u001b[0m\u001b[31m ! [remote rejected] \u001b[0m\u001b[31mmaster -> master\u001b[0m\u001b[31m (\u001b[0m\u001b[31mbranch is currently checked out\u001b[0m\u001b[31m)\u001b[0m\u001b[31m\n",
      "\u001b[0m\u001b[31merror: failed to push some refs to '/home/wyhasany/squashing'\n",
      "\u001b[0m"
     ]
    },
    {
     "ename": "",
     "evalue": "1",
     "output_type": "error",
     "traceback": []
    }
   ],
   "source": [
    "git push -f origin"
   ]
  },
  {
   "cell_type": "code",
   "execution_count": 33,
   "metadata": {
    "slideshow": {
     "slide_type": "fragment"
    }
   },
   "outputs": [],
   "source": [
    "cd ~/ && rm -rf squashing*"
   ]
  },
  {
   "cell_type": "markdown",
   "metadata": {
    "slideshow": {
     "slide_type": "subslide"
    }
   },
   "source": [
    "<img src=\"img/not_rebase_pushed_commits.jpg\" width=\"500px\" alt=\"Hunk WTF?!\" style=\"float:left; margin-right: 30px;\" />\n",
    "\n",
    "### A jak squashować kod, który jest na repo? (seems dangerous)\n",
    "\n",
    "```\n",
    "git rebase -i origin/master~4 master\n",
    "git push origin +master\n",
    "```\n",
    "\n",
    "* `+` robi force na jednym branchu\n",
    "* `--force` robi force na wszystkich branchach"
   ]
  },
  {
   "cell_type": "markdown",
   "metadata": {
    "slideshow": {
     "slide_type": "subslide"
    }
   },
   "source": [
    "### Ćwiczenie\n",
    "\n",
    "1. Wykmiń jak działają pozostałe funkcje przy `git rebase -i`\n",
    "2. Spróbuj użyć komendy `exec`\n",
    "3. Przećwicz squashowanie"
   ]
  },
  {
   "cell_type": "markdown",
   "metadata": {
    "slideshow": {
     "slide_type": "subslide"
    }
   },
   "source": [
    "# Status\n",
    "\n",
    "* [x] ~~...~~\n",
    "* [x] ~~Praca z wieloma repozytoriami~~\n",
    "* [x] ~~Git push~~\n",
    "* [x] ~~Git submodule~~\n",
    "* [x] ~~Git log~~\n",
    "* [x] ~~Git squash~~\n",
    "     * [x] ~~git rebase -i~~\n",
    "     * [x] ~~git rev-list~~\n",
    "* [ ] Repozytoria bare\n",
    "* [ ] Cherry picking and Three-Way Merges"
   ]
  },
  {
   "cell_type": "markdown",
   "metadata": {
    "slideshow": {
     "slide_type": "slide"
    }
   },
   "source": [
    "# Status\n",
    "\n",
    "* [x] ~~...~~\n",
    "* [x] ~~Cherry picking~~\n",
    "* [x] ~~Git rebase~~\n",
    "* [x] ~~Git bisect~~\n",
    "* [x] ~~Git fetch vs pull~~\n",
    "* [x] ~~Praca z wieloma repozytoriami~~\n",
    "* [x] ~~Git push~~\n",
    "* [x] ~~Git submodule~~\n",
    "* [x] ~~Git log~~\n",
    "* [x] ~~Git squash~~\n",
    "* [ ] Repozytoria bare\n",
    "* [ ] Cherry picking and Three-Way Merges"
   ]
  },
  {
   "cell_type": "code",
   "execution_count": 4,
   "metadata": {
    "slideshow": {
     "slide_type": "subslide"
    }
   },
   "outputs": [
    {
     "name": "stdout",
     "output_type": "stream",
     "text": [
      "Initialized empty Git repository in /home/wyhasany/bare-repo/\n",
      "\u001b[01;34m.\u001b[00m\n",
      "├── \u001b[01;34mbranches\u001b[00m\n",
      "├── config\n",
      "├── description\n",
      "├── HEAD\n",
      "├── \u001b[01;34mhooks\u001b[00m\n",
      "│   ├── \u001b[01;32mapplypatch-msg.sample\u001b[00m\n",
      "│   ├── \u001b[01;32mcommit-msg.sample\u001b[00m\n",
      "│   ├── \u001b[01;32mfsmonitor-watchman.sample\u001b[00m\n",
      "│   ├── \u001b[01;32mpost-update.sample\u001b[00m\n",
      "│   ├── \u001b[01;32mpre-applypatch.sample\u001b[00m\n",
      "│   ├── \u001b[01;32mpre-commit.sample\u001b[00m\n",
      "│   ├── \u001b[01;32mprepare-commit-msg.sample\u001b[00m\n",
      "│   ├── \u001b[01;32mpre-push.sample\u001b[00m\n",
      "│   ├── \u001b[01;32mpre-rebase.sample\u001b[00m\n",
      "│   ├── \u001b[01;32mpre-receive.sample\u001b[00m\n",
      "│   └── \u001b[01;32mupdate.sample\u001b[00m\n",
      "├── \u001b[01;34minfo\u001b[00m\n",
      "│   └── exclude\n",
      "├── \u001b[01;34mobjects\u001b[00m\n",
      "│   ├── \u001b[01;34minfo\u001b[00m\n",
      "│   └── \u001b[01;34mpack\u001b[00m\n",
      "└── \u001b[01;34mrefs\u001b[00m\n",
      "    ├── \u001b[01;34mheads\u001b[00m\n",
      "    └── \u001b[01;34mtags\u001b[00m\n",
      "\n",
      "9 directories, 15 files\n",
      "\n",
      "[core]\n",
      "\trepositoryformatversion = 0\n",
      "\tfilemode = true\n",
      "\tbare = true\n"
     ]
    }
   ],
   "source": [
    "cd ~/ && rm -rf bare-repo && mkdir bare-repo && cd bare-repo && git init --bare\n",
    "tree -a\n",
    "echo\n",
    "cat config"
   ]
  },
  {
   "cell_type": "code",
   "execution_count": 5,
   "metadata": {
    "slideshow": {
     "slide_type": "subslide"
    }
   },
   "outputs": [
    {
     "name": "stdout",
     "output_type": "stream",
     "text": [
      "\u001b[31mCloning into 'bare-repo-alice'...\n",
      "\u001b[0m\u001b[31mwarning: You appear to have cloned an empty repository.\n",
      "\u001b[0m\u001b[31mdone.\n",
      "\u001b[0m\u001b[31mCloning into 'bare-repo-bob'...\n",
      "\u001b[0m\u001b[31mwarning: You appear to have cloned an empty repository.\n",
      "\u001b[0m\u001b[31mdone.\n",
      "\u001b[0m"
     ]
    }
   ],
   "source": [
    "cd ~/\n",
    "rm -rf bare-repo-alice\n",
    "rm -rf bare-repo-bob\n",
    "git clone bare-repo bare-repo-alice\n",
    "git clone bare-repo bare-repo-bob"
   ]
  },
  {
   "cell_type": "code",
   "execution_count": 6,
   "metadata": {
    "scrolled": true,
    "slideshow": {
     "slide_type": "fragment"
    }
   },
   "outputs": [
    {
     "name": "stdout",
     "output_type": "stream",
     "text": [
      "origin\t/home/wyhasany/bare-repo (fetch)\n",
      "origin\t/home/wyhasany/bare-repo (push)\n",
      "[master (root-commit) 043aaa1] init\n",
      " 1 file changed, 0 insertions(+), 0 deletions(-)\n",
      " create mode 100644 file\n",
      "[master cd1be54] commit:1\n",
      " 1 file changed, 1 insertion(+)\n",
      "[master 7ca726d] commit:2\n",
      " 1 file changed, 1 insertion(+)\n",
      "[master 2e0118f] commit:3\n",
      " 1 file changed, 1 insertion(+)\n",
      "[master 545e5a9] commit:4\n",
      " 1 file changed, 1 insertion(+)\n",
      "[master 4ebcdb5] commit:5\n",
      " 1 file changed, 1 insertion(+)\n",
      "[master 37de892] commit:6\n",
      " 1 file changed, 1 insertion(+)\n",
      "[master 7bf1219] commit:7\n",
      " 1 file changed, 1 insertion(+)\n",
      "[master d133a32] commit:8\n",
      " 1 file changed, 1 insertion(+)\n",
      "[master b89d366] commit:9\n",
      " 1 file changed, 1 insertion(+)\n",
      "[master ea38ecd] commit:10\n",
      " 1 file changed, 1 insertion(+)\n",
      "\u001b[33mea38ecd\u001b[m\u001b[33m (\u001b[m\u001b[1;36mHEAD -> \u001b[m\u001b[1;32mmaster\u001b[m\u001b[33m)\u001b[m commit:10\n",
      "\u001b[33mb89d366\u001b[m commit:9\n",
      "\u001b[33md133a32\u001b[m commit:8\n",
      "\u001b[33m7bf1219\u001b[m commit:7\n",
      "\u001b[33m37de892\u001b[m commit:6\n",
      "\u001b[33m4ebcdb5\u001b[m commit:5\n",
      "\u001b[33m545e5a9\u001b[m commit:4\n",
      "\u001b[33m2e0118f\u001b[m commit:3\n",
      "\u001b[33m7ca726d\u001b[m commit:2\n",
      "\u001b[33mcd1be54\u001b[m commit:1\n",
      "\u001b[33m043aaa1\u001b[m init\n",
      "\u001b[31mCounting objects: 33, done.\n",
      "\u001b[0m\u001b[31mDelta compression using up to 4 threads.\n",
      "\u001b[0m\u001b[31mCompressing objects: 100% (11/11), done.\n",
      "\u001b[0m\u001b[31mWriting objects: 100% (33/33), 2.29 KiB | 587.00 KiB/s, done.\n",
      "\u001b[0m\u001b[31mTotal 33 (delta 1), reused 0 (delta 0)\n",
      "\u001b[0m\u001b[31mTo /home/wyhasany/bare-repo\n",
      "\u001b[0m\u001b[31m * [new branch]      \u001b[0m\u001b[31mmaster -> master\u001b[0m\u001b[31m\n",
      "\u001b[0m"
     ]
    }
   ],
   "source": [
    "cd ~/bare-repo-alice\n",
    "git config commit.gpgsign false\n",
    "git remote -v\n",
    "touch file\n",
    "git add file\n",
    "git commit -m 'init'\n",
    "for i in {1..10}\n",
    "do\n",
    "echo $i >> file\n",
    "git commit -am \"commit:${i}\"\n",
    "done\n",
    "git log --oneline\n",
    "git push"
   ]
  },
  {
   "cell_type": "code",
   "execution_count": 7,
   "metadata": {
    "slideshow": {
     "slide_type": "subslide"
    }
   },
   "outputs": [
    {
     "name": "stdout",
     "output_type": "stream",
     "text": [
      "\u001b[31mfatal: your current branch 'master' does not have any commits yet\n",
      "\u001b[0m"
     ]
    },
    {
     "ename": "",
     "evalue": "128",
     "output_type": "error",
     "traceback": []
    }
   ],
   "source": [
    "cd ../bare-repo-bob\n",
    "git log --oneline"
   ]
  },
  {
   "cell_type": "code",
   "execution_count": 8,
   "metadata": {
    "slideshow": {
     "slide_type": "fragment"
    }
   },
   "outputs": [
    {
     "name": "stdout",
     "output_type": "stream",
     "text": [
      "\u001b[31mremote: Counting objects: 33, done.\u001b[K\n",
      "\u001b[0m\u001b[31mremote: Compressing objects: 100% (11/11), done.\u001b[K\n",
      "\u001b[0m\u001b[31mremote: Total 33 (delta 1), reused 0 (delta 0)\u001b[K\n",
      "\u001b[0m\u001b[31mUnpacking objects: 100% (33/33), done.\n",
      "\u001b[0m\u001b[31mFrom /home/wyhasany/bare-repo\n",
      "\u001b[0m\u001b[31m * [new branch]      master     -> origin/master\n",
      "\u001b[0m\u001b[33mea38ecd\u001b[m\u001b[33m (\u001b[m\u001b[1;36mHEAD -> \u001b[m\u001b[1;32mmaster\u001b[m\u001b[33m, \u001b[m\u001b[1;31morigin/master\u001b[m\u001b[33m)\u001b[m commit:10\n",
      "\u001b[33mb89d366\u001b[m commit:9\n",
      "\u001b[33md133a32\u001b[m commit:8\n",
      "\u001b[33m7bf1219\u001b[m commit:7\n",
      "\u001b[33m37de892\u001b[m commit:6\n",
      "\u001b[33m4ebcdb5\u001b[m commit:5\n",
      "\u001b[33m545e5a9\u001b[m commit:4\n",
      "\u001b[33m2e0118f\u001b[m commit:3\n",
      "\u001b[33m7ca726d\u001b[m commit:2\n",
      "\u001b[33mcd1be54\u001b[m commit:1\n",
      "\u001b[33m043aaa1\u001b[m init\n"
     ]
    }
   ],
   "source": [
    "git fetch origin\n",
    "git merge origin/master\n",
    "git log --oneline"
   ]
  },
  {
   "cell_type": "markdown",
   "metadata": {
    "slideshow": {
     "slide_type": "subslide"
    }
   },
   "source": [
    "## Alice znów squashuje :)"
   ]
  },
  {
   "cell_type": "code",
   "execution_count": 9,
   "metadata": {
    "slideshow": {
     "slide_type": "fragment"
    }
   },
   "outputs": [
    {
     "name": "stdout",
     "output_type": "stream",
     "text": [
      "\u001b[33m728bc20\u001b[m\u001b[33m (\u001b[m\u001b[1;36mHEAD -> \u001b[m\u001b[1;32mmaster\u001b[m\u001b[33m)\u001b[m commit:1\n",
      "\u001b[33m043aaa1\u001b[m init\n"
     ]
    }
   ],
   "source": [
    "cd ~/bare-repo-alice\n",
    "git log --oneline"
   ]
  },
  {
   "cell_type": "code",
   "execution_count": 10,
   "metadata": {
    "slideshow": {
     "slide_type": "fragment"
    }
   },
   "outputs": [
    {
     "name": "stdout",
     "output_type": "stream",
     "text": [
      "\u001b[31mTo /home/wyhasany/bare-repo\n",
      "\u001b[0m\u001b[31m ! [rejected]        \u001b[0m\u001b[31mmaster -> master\u001b[0m\u001b[31m (\u001b[0m\u001b[31mnon-fast-forward\u001b[0m\u001b[31m)\u001b[0m\u001b[31m\n",
      "\u001b[0m\u001b[31merror: failed to push some refs to '/home/wyhasany/bare-repo'\n",
      "\u001b[0m\u001b[31mhint: Updates were rejected because the tip of your current branch is behind\n",
      "\u001b[0m\u001b[31mhint: its remote counterpart. Integrate the remote changes (e.g.\n",
      "\u001b[0m\u001b[31mhint: 'git pull ...') before pushing again.\n",
      "\u001b[0m\u001b[31mhint: See the 'Note about fast-forwards' in 'git push --help' for details.\n",
      "\u001b[0m"
     ]
    },
    {
     "ename": "",
     "evalue": "1",
     "output_type": "error",
     "traceback": []
    }
   ],
   "source": [
    "git push origin master"
   ]
  },
  {
   "cell_type": "code",
   "execution_count": 11,
   "metadata": {
    "slideshow": {
     "slide_type": "subslide"
    }
   },
   "outputs": [
    {
     "name": "stdout",
     "output_type": "stream",
     "text": [
      "\u001b[31mCounting objects: 3, done.\n",
      "\u001b[0m\u001b[31mWriting objects: 100% (3/3), 265 bytes | 265.00 KiB/s, done.\n",
      "\u001b[0m\u001b[31mTotal 3 (delta 0), reused 0 (delta 0)\n",
      "\u001b[0m\u001b[31mTo /home/wyhasany/bare-repo\n",
      "\u001b[0m\u001b[31m + ea38ecd...728bc20 \u001b[0m\u001b[31mmaster -> master\u001b[0m\u001b[31m (\u001b[0m\u001b[31mforced update\u001b[0m\u001b[31m)\u001b[0m\u001b[31m\n",
      "\u001b[0m* \u001b[33m728bc20\u001b[m\u001b[33m (\u001b[m\u001b[1;36mHEAD -> \u001b[m\u001b[1;32mmaster\u001b[m\u001b[33m, \u001b[m\u001b[1;31morigin/master\u001b[m\u001b[33m)\u001b[m commit:1\n",
      "* \u001b[33m043aaa1\u001b[m init\n"
     ]
    }
   ],
   "source": [
    "git push -f origin master\n",
    "git log --oneline --graph --all"
   ]
  },
  {
   "cell_type": "markdown",
   "metadata": {
    "slideshow": {
     "slide_type": "fragment"
    }
   },
   "source": [
    "## A co na to Bob?"
   ]
  },
  {
   "cell_type": "code",
   "execution_count": 12,
   "metadata": {
    "slideshow": {
     "slide_type": "subslide"
    }
   },
   "outputs": [
    {
     "name": "stdout",
     "output_type": "stream",
     "text": [
      "On branch master\n",
      "Your branch is up to date with 'origin/master'.\n",
      "\n",
      "nothing to commit, working tree clean\n",
      "\u001b[31mremote: Counting objects: 3, done.\u001b[K\n",
      "\u001b[0m\u001b[31mremote: Total 3 (delta 0), reused 0 (delta 0)\u001b[K\n",
      "\u001b[0m\u001b[31mUnpacking objects: 100% (3/3), done.\n",
      "\u001b[0m\u001b[31mFrom /home/wyhasany/bare-repo\n",
      "\u001b[0m\u001b[31m + ea38ecd...728bc20 master     -> origin/master  (forced update)\n",
      "\u001b[0mMerge made by the 'recursive' strategy.\n"
     ]
    }
   ],
   "source": [
    "cd ~/bare-repo-bob\n",
    "git status\n",
    "git pull --no-edit"
   ]
  },
  {
   "cell_type": "code",
   "execution_count": 14,
   "metadata": {
    "slideshow": {
     "slide_type": "fragment"
    }
   },
   "outputs": [
    {
     "name": "stdout",
     "output_type": "stream",
     "text": [
      "*   \u001b[33m8865a43\u001b[m\u001b[33m (\u001b[m\u001b[1;36mHEAD -> \u001b[m\u001b[1;32mmaster\u001b[m\u001b[33m)\u001b[m Merge branch 'master' of /home/wyhasany/bare-repo\n",
      "\u001b[31m|\u001b[m\u001b[32m\\\u001b[m  \n",
      "\u001b[31m|\u001b[m * \u001b[33m728bc20\u001b[m\u001b[33m (\u001b[m\u001b[1;31morigin/master\u001b[m\u001b[33m)\u001b[m commit:1\n",
      "* \u001b[32m|\u001b[m \u001b[33mea38ecd\u001b[m commit:10\n",
      "* \u001b[32m|\u001b[m \u001b[33mb89d366\u001b[m commit:9\n",
      "* \u001b[32m|\u001b[m \u001b[33md133a32\u001b[m commit:8\n",
      "* \u001b[32m|\u001b[m \u001b[33m7bf1219\u001b[m commit:7\n",
      "* \u001b[32m|\u001b[m \u001b[33m37de892\u001b[m commit:6\n",
      "* \u001b[32m|\u001b[m \u001b[33m4ebcdb5\u001b[m commit:5\n",
      "* \u001b[32m|\u001b[m \u001b[33m545e5a9\u001b[m commit:4\n",
      "* \u001b[32m|\u001b[m \u001b[33m2e0118f\u001b[m commit:3\n",
      "* \u001b[32m|\u001b[m \u001b[33m7ca726d\u001b[m commit:2\n",
      "* \u001b[32m|\u001b[m \u001b[33mcd1be54\u001b[m commit:1\n",
      "\u001b[32m|\u001b[m\u001b[32m/\u001b[m  \n",
      "* \u001b[33m043aaa1\u001b[m init\n"
     ]
    }
   ],
   "source": [
    "git log --oneline --graph --all"
   ]
  },
  {
   "cell_type": "code",
   "execution_count": 15,
   "metadata": {
    "slideshow": {
     "slide_type": "subslide"
    }
   },
   "outputs": [
    {
     "name": "stdout",
     "output_type": "stream",
     "text": [
      "\u001b[31mCounting objects: 29, done.\n",
      "\u001b[0m\u001b[31mDelta compression using up to 4 threads.\n",
      "\u001b[0m\u001b[31mCompressing objects: 100% (11/11), done.\n",
      "\u001b[0m\u001b[31mWriting objects: 100% (29/29), 2.63 KiB | 899.00 KiB/s, done.\n",
      "\u001b[0m\u001b[31mTotal 29 (delta 1), reused 0 (delta 0)\n",
      "\u001b[0m\u001b[31mTo /home/wyhasany/bare-repo\n",
      "\u001b[0m\u001b[31m   728bc20..8865a43  \u001b[0m\u001b[31mmaster -> master\u001b[0m\u001b[31m\n",
      "\u001b[0m"
     ]
    }
   ],
   "source": [
    "git push"
   ]
  },
  {
   "cell_type": "code",
   "execution_count": 16,
   "metadata": {
    "slideshow": {
     "slide_type": "subslide"
    }
   },
   "outputs": [
    {
     "name": "stdout",
     "output_type": "stream",
     "text": [
      "\u001b[31mremote: Counting objects: 29, done.\u001b[K\n",
      "\u001b[0m\u001b[31mremote: Compressing objects: 100% (11/11), done.\u001b[K\n",
      "\u001b[0m\u001b[31mremote: Total 29 (delta 1), reused 0 (delta 0)\u001b[K\n",
      "\u001b[0m\u001b[31mUnpacking objects: 100% (29/29), done.\n",
      "\u001b[0m\u001b[31mFrom /home/wyhasany/bare-repo\n",
      "\u001b[0m\u001b[31m   728bc20..8865a43  master     -> origin/master\n",
      "\u001b[0mUpdating 728bc20..8865a43\n",
      "Fast-forward\n",
      "\n",
      "*   \u001b[33m8865a43\u001b[m\u001b[33m (\u001b[m\u001b[1;36mHEAD -> \u001b[m\u001b[1;32mmaster\u001b[m\u001b[33m, \u001b[m\u001b[1;31morigin/master\u001b[m\u001b[33m)\u001b[m Merge branch 'master' of /home/wyhasany/bare-repo\n",
      "\u001b[31m|\u001b[m\u001b[32m\\\u001b[m  \n",
      "\u001b[31m|\u001b[m * \u001b[33m728bc20\u001b[m commit:1\n",
      "* \u001b[32m|\u001b[m \u001b[33mea38ecd\u001b[m commit:10\n",
      "* \u001b[32m|\u001b[m \u001b[33mb89d366\u001b[m commit:9\n",
      "* \u001b[32m|\u001b[m \u001b[33md133a32\u001b[m commit:8\n",
      "* \u001b[32m|\u001b[m \u001b[33m7bf1219\u001b[m commit:7\n",
      "* \u001b[32m|\u001b[m \u001b[33m37de892\u001b[m commit:6\n",
      "* \u001b[32m|\u001b[m \u001b[33m4ebcdb5\u001b[m commit:5\n",
      "* \u001b[32m|\u001b[m \u001b[33m545e5a9\u001b[m commit:4\n",
      "* \u001b[32m|\u001b[m \u001b[33m2e0118f\u001b[m commit:3\n",
      "* \u001b[32m|\u001b[m \u001b[33m7ca726d\u001b[m commit:2\n",
      "* \u001b[32m|\u001b[m \u001b[33mcd1be54\u001b[m commit:1\n",
      "\u001b[32m|\u001b[m\u001b[32m/\u001b[m  \n",
      "* \u001b[33m043aaa1\u001b[m init\n",
      "\n",
      "On branch master\n",
      "Your branch is up to date with 'origin/master'.\n",
      "\n",
      "nothing to commit, working tree clean\n"
     ]
    }
   ],
   "source": [
    "cd ../bare-repo-alice\n",
    "git pull --no-edit\n",
    "echo\n",
    "git log --oneline --graph --all\n",
    "echo\n",
    "git status"
   ]
  },
  {
   "cell_type": "code",
   "execution_count": 17,
   "metadata": {
    "slideshow": {
     "slide_type": "fragment"
    }
   },
   "outputs": [],
   "source": [
    "#WTF per minute?\n",
    "cd ~/\n",
    "rm -rf bare-repo*"
   ]
  },
  {
   "cell_type": "markdown",
   "metadata": {
    "slideshow": {
     "slide_type": "subslide"
    }
   },
   "source": [
    "## Ćwiczenie\n",
    "\n",
    "1. Załóż repo na GitHubie i spróbuj je pobrać przez ssh (`git://...`)"
   ]
  },
  {
   "cell_type": "markdown",
   "metadata": {
    "slideshow": {
     "slide_type": "slide"
    }
   },
   "source": [
    "# Status\n",
    "\n",
    "* [x] ~~...~~\n",
    "* [x] ~~Git rebase~~\n",
    "* [x] ~~Git bisect~~\n",
    "* [x] ~~Git fetch vs pull~~\n",
    "* [x] ~~Praca z wieloma repozytoriami~~\n",
    "* [x] ~~Git push~~\n",
    "* [x] ~~Git submodule~~\n",
    "* [x] ~~Git log~~\n",
    "* [x] ~~Git squash~~\n",
    "* [x] ~~Repozytoria bare~~\n",
    "* [ ] Cherry picking and Three-Way Merges\n",
    "    * [ ] `cherry pick` może zrobić coś czego się nie spodziewasz\n",
    "    * [ ] `git diff-tree` i `git apply` komendy\n",
    "    * [ ] co to `three-way merge`"
   ]
  },
  {
   "cell_type": "code",
   "execution_count": 21,
   "metadata": {
    "scrolled": true,
    "slideshow": {
     "slide_type": "subslide"
    }
   },
   "outputs": [
    {
     "name": "stdout",
     "output_type": "stream",
     "text": [
      "Initialized empty Git repository in /home/wyhasany/patch-and-apply/.git/\n",
      "[master (root-commit) 6fff009] file added\n",
      " 1 file changed, 0 insertions(+), 0 deletions(-)\n",
      " create mode 100644 afile\n",
      "[master 5d6fc26] First change, on master added\n",
      " 1 file changed, 1 insertion(+)\n",
      "[master 2882ce9] Second change, on master added\n",
      " 1 file changed, 1 insertion(+)\n",
      "\u001b[31mSwitched to branch 'abranch'\n",
      "\u001b[0m[abranch e327190] First change, on abranch added\n",
      " 1 file changed, 1 insertion(+)\n",
      "[abranch a782fdd] Second change, on abranch added\n",
      " 2 files changed, 2 insertions(+)\n",
      " create mode 100644 newfile\n",
      "\n",
      "First change, on master\n",
      "First change, on abranch\n",
      "Second change, on abranch\n",
      "\n",
      "\u001b[31mSwitched to branch 'master'\n",
      "\u001b[0m\n",
      "First change, on master\n",
      "Second change, on master\n",
      "\n",
      "* \u001b[33ma782fdd\u001b[m\u001b[33m (\u001b[m\u001b[1;33mtag: abranchtag\u001b[m\u001b[33m, \u001b[m\u001b[1;32mabranch\u001b[m\u001b[33m)\u001b[m Second change, on abranch added\n",
      "* \u001b[33me327190\u001b[m First change, on abranch added\n",
      "\u001b[31m|\u001b[m * \u001b[33m2882ce9\u001b[m\u001b[33m (\u001b[m\u001b[1;36mHEAD -> \u001b[m\u001b[1;32mmaster\u001b[m\u001b[33m)\u001b[m Second change, on master added\n",
      "\u001b[31m|\u001b[m\u001b[31m/\u001b[m  \n",
      "* \u001b[33m5d6fc26\u001b[m First change, on master added\n",
      "* \u001b[33m6fff009\u001b[m file added\n"
     ]
    }
   ],
   "source": [
    "cd ~/ && rm -rf patch-and-apply && mkdir patch-and-apply && cd patch-and-apply && git init && git config commit.gpgsign false\n",
    "touch afile\n",
    "git add afile\n",
    "git commit -m 'file added'\n",
    "echo First change, on master >> afile\n",
    "git commit -am 'First change, on master added'\n",
    "git branch abranch\n",
    "echo Second change, on master >> afile\n",
    "git commit -am 'Second change, on master added'\n",
    "git checkout abranch\n",
    "echo First change, on abranch >> afile\n",
    "git commit -am 'First change, on abranch added'\n",
    "echo Second change, on abranch >> afile\n",
    "echo New file, on abranch >> newfile\n",
    "git add newfile\n",
    "git commit -am 'Second change, on abranch added'\n",
    "git tag abranchtag\n",
    "echo\n",
    "cat afile\n",
    "echo\n",
    "git checkout master\n",
    "echo\n",
    "cat afile\n",
    "echo\n",
    "git log --oneline --graph --all"
   ]
  },
  {
   "cell_type": "code",
   "execution_count": 22,
   "metadata": {
    "slideshow": {
     "slide_type": "subslide"
    }
   },
   "outputs": [
    {
     "name": "stdout",
     "output_type": "stream",
     "text": [
      "\u001b[33mcommit a782fdd12afd02fd63baa54833893d78f117135f\u001b[m\u001b[33m (\u001b[m\u001b[1;33mtag: abranchtag\u001b[m\u001b[33m, \u001b[m\u001b[1;32mabranch\u001b[m\u001b[33m)\u001b[m\n",
      "Author: Michał Rowicki <mirowicki@gmail.com>\n",
      "Date:   Thu Dec 6 23:38:52 2018 +0100\n",
      "\n",
      "    Second change, on abranch added\n",
      "\n",
      "\u001b[1mdiff --git a/afile b/afile\u001b[m\n",
      "\u001b[1mindex f106a1d..c538437 100644\u001b[m\n",
      "\u001b[1m--- a/afile\u001b[m\n",
      "\u001b[1m+++ b/afile\u001b[m\n",
      "\u001b[36m@@ -1,2 +1,3 @@\u001b[m\n",
      " First change, on master\u001b[m\n",
      " First change, on abranch\u001b[m\n",
      "\u001b[32m+\u001b[m\u001b[32mSecond change, on abranch\u001b[m\n",
      "\u001b[1mdiff --git a/newfile b/newfile\u001b[m\n",
      "\u001b[1mnew file mode 100644\u001b[m\n",
      "\u001b[1mindex 0000000..a245469\u001b[m\n",
      "\u001b[1m--- /dev/null\u001b[m\n",
      "\u001b[1m+++ b/newfile\u001b[m\n",
      "\u001b[36m@@ -0,0 +1 @@\u001b[m\n",
      "\u001b[32m+\u001b[m\u001b[32mNew file, on abranch\u001b[m\n"
     ]
    }
   ],
   "source": [
    "git show abranchtag"
   ]
  },
  {
   "cell_type": "code",
   "execution_count": 24,
   "metadata": {
    "slideshow": {
     "slide_type": "subslide"
    }
   },
   "outputs": [
    {
     "name": "stdout",
     "output_type": "stream",
     "text": [
      "\u001b[31merror: could not apply a782fdd... Second change, on abranch added\n",
      "\u001b[0m\u001b[31mhint: after resolving the conflicts, mark the corrected paths\n",
      "\u001b[0m\u001b[31mhint: with 'git add <paths>' or 'git rm <paths>'\n",
      "\u001b[0m\u001b[31mhint: and commit the result with 'git commit'\n",
      "\u001b[0m\n",
      "First change, on master\n",
      "<<<<<<< HEAD\n",
      "Second change, on master\n",
      "=======\n",
      "First change, on abranch\n",
      "Second change, on abranch\n",
      ">>>>>>> a782fdd... Second change, on abranch added\n",
      "\n",
      "New file, on abranch\n"
     ]
    }
   ],
   "source": [
    "git cherry-pick abranchtag\n",
    "echo\n",
    "cat afile\n",
    "echo\n",
    "cat newfile"
   ]
  },
  {
   "cell_type": "code",
   "execution_count": 25,
   "metadata": {
    "scrolled": true,
    "slideshow": {
     "slide_type": "subslide"
    }
   },
   "outputs": [
    {
     "name": "stdout",
     "output_type": "stream",
     "text": [
      "a782fdd12afd02fd63baa54833893d78f117135f\n",
      "diff --git a/afile b/afile\n",
      "index f106a1d..c538437 100644\n",
      "--- a/afile\n",
      "+++ b/afile\n",
      "@@ -1,2 +1,3 @@\n",
      " First change, on master\n",
      " First change, on abranch\n",
      "+Second change, on abranch\n",
      "diff --git a/newfile b/newfile\n",
      "new file mode 100644\n",
      "index 0000000..a245469\n",
      "--- /dev/null\n",
      "+++ b/newfile\n",
      "@@ -0,0 +1 @@\n",
      "+New file, on abranch\n"
     ]
    }
   ],
   "source": [
    "git cherry-pick --abort\n",
    "#create patch\n",
    "git diff-tree -p abranchtag > abranchtag.patch\n",
    "cat abranchtag.patch"
   ]
  },
  {
   "cell_type": "code",
   "execution_count": 27,
   "metadata": {
    "slideshow": {
     "slide_type": "fragment"
    }
   },
   "outputs": [
    {
     "name": "stdout",
     "output_type": "stream",
     "text": [
      "\u001b[31merror: patch failed: afile:1\n",
      "\u001b[0m\u001b[31merror: afile: patch does not apply\n",
      "\u001b[0mOn branch master\n",
      "Untracked files:\n",
      "  (use \"git add <file>...\" to include in what will be committed)\n",
      "\n",
      "\t\u001b[31mabranchtag.patch\u001b[m\n",
      "\n",
      "nothing added to commit but untracked files present (use \"git add\" to track)\n",
      "* \u001b[33ma782fdd\u001b[m\u001b[33m (\u001b[m\u001b[1;33mtag: abranchtag\u001b[m\u001b[33m, \u001b[m\u001b[1;32mabranch\u001b[m\u001b[33m)\u001b[m Second change, on abranch added\n",
      "* \u001b[33me327190\u001b[m First change, on abranch added\n",
      "\u001b[31m|\u001b[m * \u001b[33m2882ce9\u001b[m\u001b[33m (\u001b[m\u001b[1;36mHEAD -> \u001b[m\u001b[1;32mmaster\u001b[m\u001b[33m)\u001b[m Second change, on master added\n",
      "\u001b[31m|\u001b[m\u001b[31m/\u001b[m  \n",
      "* \u001b[33m5d6fc26\u001b[m First change, on master added\n",
      "* \u001b[33m6fff009\u001b[m file added\n"
     ]
    }
   ],
   "source": [
    "cat abranchtag.patch | git apply\n",
    "git status\n",
    "git log --oneline --graph --all"
   ]
  },
  {
   "cell_type": "code",
   "execution_count": 28,
   "metadata": {
    "slideshow": {
     "slide_type": "subslide"
    }
   },
   "outputs": [
    {
     "name": "stdout",
     "output_type": "stream",
     "text": [
      "\u001b[31mChecking patch afile...\u001b[0m\u001b[31m\n",
      "\u001b[0m\u001b[31merror: while searching for:\n",
      "First change, on master\n",
      "First change, on abranch\n",
      "\n",
      "\u001b[0m\u001b[31merror: patch failed: afile:1\n",
      "\u001b[0m\u001b[31mChecking patch newfile...\u001b[0m\u001b[31m\n",
      "\u001b[0m\u001b[31mApplying patch afile with 1 reject...\u001b[0m\u001b[31m\n",
      "\u001b[0mRejected hunk #1.\n",
      "\u001b[31mApplied patch newfile cleanly.\u001b[0m\u001b[31m\n",
      "\u001b[0m"
     ]
    },
    {
     "ename": "",
     "evalue": "1",
     "output_type": "error",
     "traceback": []
    }
   ],
   "source": [
    "cat abranchtag.patch | git apply --reject"
   ]
  },
  {
   "cell_type": "code",
   "execution_count": 29,
   "metadata": {
    "slideshow": {
     "slide_type": "subslide"
    }
   },
   "outputs": [
    {
     "name": "stdout",
     "output_type": "stream",
     "text": [
      "diff a/afile b/afile\t(rejected hunks)\n",
      "@@ -1,2 +1,3 @@\n",
      " First change, on master\n",
      " First change, on abranch\n",
      "+Second change, on abranch\n"
     ]
    }
   ],
   "source": [
    "cat afile.rej"
   ]
  },
  {
   "cell_type": "code",
   "execution_count": 2,
   "metadata": {
    "slideshow": {
     "slide_type": "fragment"
    }
   },
   "outputs": [
    {
     "name": "stdout",
     "output_type": "stream",
     "text": [
      "\u001b[31merror: corrupt patch at line 9\n",
      "\u001b[0m"
     ]
    },
    {
     "ename": "",
     "evalue": "128",
     "output_type": "error",
     "traceback": []
    }
   ],
   "source": [
    "cd ~/patch-and-apply\n",
    "sed -i '8d' abranchtag.patch\n",
    "cat abranchtag.patch | git apply"
   ]
  },
  {
   "cell_type": "markdown",
   "metadata": {
    "slideshow": {
     "slide_type": "slide"
    }
   },
   "source": [
    "<img src=\"img/33-sha-1-collision.png\" width=\"500px\" alt=\"Hunk WTF?!\" style=\"float:left; margin-right: 30px;\" />\n",
    "\n",
    "## Jak liczone są skróty commitów?\n",
    "\n",
    "Liczymy SHA1 z:\n",
    "* całego kodu źródłowego bez ignorowanych i niekomitowanych plików\n",
    "* z SHA1 ostatniego commitu\n",
    "* z informacji o autorze\n",
    "* z informacji o commiterze (tak mogą być różni 😅)\n",
    "* z treści commita"
   ]
  },
  {
   "cell_type": "markdown",
   "metadata": {
    "slideshow": {
     "slide_type": "subslide"
    }
   },
   "source": [
    "# Przykład"
   ]
  },
  {
   "cell_type": "code",
   "execution_count": 3,
   "metadata": {
    "slideshow": {
     "slide_type": "fragment"
    }
   },
   "outputs": [
    {
     "name": "stdout",
     "output_type": "stream",
     "text": [
      "Initialized empty Git repository in /home/wyhasany/tmp-sha1/.git/\n",
      "[master (root-commit) 24ce8f9] A\n",
      " 1 file changed, 0 insertions(+), 0 deletions(-)\n",
      " create mode 100644 A\n",
      "\u001b[33mcommit 24ce8f9676fd7228d876b518d72f9a341a6981bc\u001b[m\u001b[33m (\u001b[m\u001b[1;36mHEAD -> \u001b[m\u001b[1;32mmaster\u001b[m\u001b[33m)\u001b[m\n",
      "Author: Michał Rowicki <mirowicki@gmail.com>\n",
      "Date:   Fri Dec 7 11:11:10 2018 +0100\n",
      "\n",
      "    A\n"
     ]
    }
   ],
   "source": [
    "cd ~/ && rm -rf tmp-sha1\n",
    "mkdir tmp-sha1\n",
    "cd tmp-sha1\n",
    "git init\n",
    "touch A\n",
    "git config commit.gpgsign no\n",
    "git add A\n",
    "git commit -am 'A'\n",
    "git log"
   ]
  },
  {
   "cell_type": "code",
   "execution_count": 4,
   "metadata": {
    "slideshow": {
     "slide_type": "fragment"
    }
   },
   "outputs": [
    {
     "name": "stdout",
     "output_type": "stream",
     "text": [
      "24ce8f9676fd7228d876b518d72f9a341a6981bc"
     ]
    }
   ],
   "source": [
    "git log --format=format:%H"
   ]
  },
  {
   "cell_type": "code",
   "execution_count": 6,
   "metadata": {
    "slideshow": {
     "slide_type": "subslide"
    }
   },
   "outputs": [
    {
     "name": "stdout",
     "output_type": "stream",
     "text": [
      "tree 7c178d1296d8b87e83382c324aeb32e2def2a5af\n",
      "author Michał Rowicki <mirowicki@gmail.com> 1544177470 +0100\n",
      "committer Michał Rowicki <mirowicki@gmail.com> 1544177470 +0100\n",
      "\n",
      "A\n"
     ]
    }
   ],
   "source": [
    "git cat-file commit HEAD"
   ]
  },
  {
   "cell_type": "code",
   "execution_count": 7,
   "metadata": {
    "slideshow": {
     "slide_type": "fragment"
    }
   },
   "outputs": [
    {
     "name": "stdout",
     "output_type": "stream",
     "text": [
      "commit 176\u0000"
     ]
    }
   ],
   "source": [
    "printf \"commit %s\\0\" $(git cat-file commit HEAD | wc -c)"
   ]
  },
  {
   "cell_type": "code",
   "execution_count": 8,
   "metadata": {
    "slideshow": {
     "slide_type": "fragment"
    }
   },
   "outputs": [
    {
     "name": "stdout",
     "output_type": "stream",
     "text": [
      "24ce8f9676fd7228d876b518d72f9a341a6981bc  -\n"
     ]
    }
   ],
   "source": [
    "(printf \"commit %s\\0\" $(git cat-file commit HEAD | wc -c); git cat-file commit HEAD) | sha1sum"
   ]
  },
  {
   "cell_type": "code",
   "execution_count": 9,
   "metadata": {
    "slideshow": {
     "slide_type": "fragment"
    }
   },
   "outputs": [],
   "source": [
    "cd ~/ && rm -rf tmp-sha1"
   ]
  },
  {
   "cell_type": "markdown",
   "metadata": {
    "slideshow": {
     "slide_type": "subslide"
    }
   },
   "source": [
    "### Polskie znaki w nazwach plików"
   ]
  },
  {
   "cell_type": "code",
   "execution_count": 10,
   "metadata": {
    "slideshow": {
     "slide_type": "fragment"
    }
   },
   "outputs": [
    {
     "name": "stdout",
     "output_type": "stream",
     "text": [
      "Initialized empty Git repository in /home/wyhasany/git-diacritics/.git/\n",
      "On branch master\n",
      "\n",
      "No commits yet\n",
      "\n",
      "Untracked files:\n",
      "  (use \"git add <file>...\" to include in what will be committed)\n",
      "\n",
      "\t\u001b[31m\"\\305\\271r\\303\\263d\\305\\202o\"\u001b[m\n",
      "\n",
      "nothing added to commit but untracked files present (use \"git add\" to track)\n"
     ]
    }
   ],
   "source": [
    "cd ~/ && rm -rf git-diacritics && mkdir git-diacritics && cd git-diacritics\n",
    "git init\n",
    "git config commit.gpgsign false\n",
    "touch Źródło\n",
    "git status\n",
    "cd ~/ && rm -rf git-diacritics"
   ]
  },
  {
   "cell_type": "markdown",
   "metadata": {
    "slideshow": {
     "slide_type": "slide"
    }
   },
   "source": [
    "## Aliasy dla komend gita?"
   ]
  },
  {
   "cell_type": "code",
   "execution_count": 13,
   "metadata": {
    "slideshow": {
     "slide_type": "fragment"
    }
   },
   "outputs": [
    {
     "ename": "",
     "evalue": "1",
     "output_type": "error",
     "traceback": []
    }
   ],
   "source": [
    "alias | grep git"
   ]
  },
  {
   "cell_type": "markdown",
   "metadata": {
    "slideshow": {
     "slide_type": "slide"
    }
   },
   "source": [
    "## Nakładki na gita, np. IntellIJ (demo)"
   ]
  },
  {
   "cell_type": "markdown",
   "metadata": {
    "slideshow": {
     "slide_type": "slide"
    }
   },
   "source": [
    "<img src=\"img/git-blame.jpg\" width=\"500px\" alt=\"Hunk WTF?!\" style=\"float:left; margin-right: 30px;\" />\n",
    "\n",
    "# Przydatne linki\n",
    "\n",
    "<br />\n",
    "\n",
    "1. [To nie działa WTF?!](http://justinhileman.info/article/git-pretty/git-pretty.png)\n",
    "2. [Cheat sheet powiązany z fazami życia kontentu w gicie](http://ndpsoftware.com/git-cheatsheet.html)"
   ]
  },
  {
   "cell_type": "markdown",
   "metadata": {
    "slideshow": {
     "slide_type": "subslide"
    }
   },
   "source": [
    "<center><img src=\"img/git-pretty.png\" width=\"900px\" alt=\"Orange Logo\" style=\"position:center\" /></center>"
   ]
  }
 ],
 "metadata": {
  "celltoolbar": "Slideshow",
  "kernelspec": {
   "display_name": "Bash",
   "language": "bash",
   "name": "bash"
  },
  "language_info": {
   "codemirror_mode": "shell",
   "file_extension": ".sh",
   "mimetype": "text/x-sh",
   "name": "bash"
  }
 },
 "nbformat": 4,
 "nbformat_minor": 2
}

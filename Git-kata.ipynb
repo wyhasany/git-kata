{
 "cells": [
  {
   "cell_type": "markdown",
   "metadata": {
    "slideshow": {
     "slide_type": "slide"
    }
   },
   "source": [
    "<img style=\"float: right;\" src=\"img/git.png\">\n",
    "\n",
    "Git kata - poznajmy się bliżej\n",
    "==============\n",
    "<br>\n",
    "\n",
    "### *Developer Days, 07.12.2018* "
   ]
  },
  {
   "cell_type": "markdown",
   "metadata": {
    "slideshow": {
     "slide_type": "fragment"
    }
   },
   "source": [
    "<br><br>\n",
    "Michał Rowicki\n",
    "<br><br>\n",
    "[@wyhasany](https://twitter.com/wyhasany)"
   ]
  },
  {
   "cell_type": "markdown",
   "metadata": {
    "slideshow": {
     "slide_type": "slide"
    }
   },
   "source": [
    "# WORK WORK\n",
    "<center><img src=\"img/Orange.jpg\" width=\"900px\" alt=\"Orange Logo\" style=\"position:center\" /></center>"
   ]
  },
  {
   "cell_type": "markdown",
   "metadata": {
    "slideshow": {
     "slide_type": "slide"
    }
   },
   "source": [
    "### Work work od ~6lat\n",
    "<br>"
   ]
  },
  {
   "cell_type": "markdown",
   "metadata": {
    "slideshow": {
     "slide_type": "fragment"
    }
   },
   "source": [
    "* Developer Testbencha dla Odnowy"
   ]
  },
  {
   "cell_type": "markdown",
   "metadata": {
    "slideshow": {
     "slide_type": "fragment"
    }
   },
   "source": [
    "* Co to odnowa to może później..."
   ]
  },
  {
   "cell_type": "markdown",
   "metadata": {
    "slideshow": {
     "slide_type": "fragment"
    }
   },
   "source": [
    "* Dużo Javy i sieci komputerowych"
   ]
  },
  {
   "cell_type": "markdown",
   "metadata": {
    "slideshow": {
     "slide_type": "slide"
    }
   },
   "source": [
    "# Agenda\n",
    "\n",
    "* [ ] Krótkie wprowadzenie do systemów kontroli wersji\n",
    "* [ ] Podstawy gita\n"
   ]
  },
  {
   "cell_type": "markdown",
   "metadata": {
    "slideshow": {
     "slide_type": "slide"
    }
   },
   "source": [
    "# Jak żyć panie premierze bez systemów kontroli wersji?\n",
    "\n",
    "* wysyłać wszystkim zaktualizowane pliki"
   ]
  },
  {
   "cell_type": "markdown",
   "metadata": {
    "slideshow": {
     "slide_type": "fragment"
    }
   },
   "source": [
    "* informować o tym wszystkich mailowo"
   ]
  },
  {
   "cell_type": "markdown",
   "metadata": {
    "slideshow": {
     "slide_type": "fragment"
    }
   },
   "source": [
    "* trzymać pliki tar w centralnej lokalizacji z numerami wersji"
   ]
  },
  {
   "cell_type": "markdown",
   "metadata": {
    "slideshow": {
     "slide_type": "fragment"
    }
   },
   "source": [
    "# Jaki jest z tym problem?"
   ]
  },
  {
   "cell_type": "markdown",
   "metadata": {
    "slideshow": {
     "slide_type": "fragment"
    }
   },
   "source": [
    "**To się nie skaluje!!!**"
   ]
  },
  {
   "cell_type": "markdown",
   "metadata": {
    "slideshow": {
     "slide_type": "subslide"
    }
   },
   "source": [
    "## Why?"
   ]
  },
  {
   "cell_type": "markdown",
   "metadata": {
    "slideshow": {
     "slide_type": "fragment"
    }
   },
   "source": [
    "* Im więcej deweloperów tym większy narzut roboty"
   ]
  },
  {
   "cell_type": "markdown",
   "metadata": {
    "slideshow": {
     "slide_type": "fragment"
    }
   },
   "source": [
    "* jeżeli inne projekty zależą od naszego to hardcorem jest zapanować od jakiej wersji zależymy"
   ]
  },
  {
   "cell_type": "markdown",
   "metadata": {
    "slideshow": {
     "slide_type": "fragment"
    }
   },
   "source": [
    "* jeżeli wiele osób pracuje nad tym samym plikiem to jak to połączyć"
   ]
  },
  {
   "cell_type": "markdown",
   "metadata": {
    "slideshow": {
     "slide_type": "slide"
    }
   },
   "source": [
    "## Dlaczego git a nie cvs/svn?"
   ]
  },
  {
   "cell_type": "markdown",
   "metadata": {
    "slideshow": {
     "slide_type": "fragment"
    }
   },
   "source": [
    "* system [rosproszony](https://git-scm.com/about/distributed) vs scentralizowany"
   ]
  },
  {
   "cell_type": "markdown",
   "metadata": {
    "slideshow": {
     "slide_type": "fragment"
    }
   },
   "source": [
    "* no to dlatego tak łatwo zrobić forka i pull request"
   ]
  },
  {
   "cell_type": "markdown",
   "metadata": {
    "slideshow": {
     "slide_type": "fragment"
    }
   },
   "source": [
    "* [działa szybciej](https://git-scm.com/about/small-and-fast)"
   ]
  },
  {
   "cell_type": "markdown",
   "metadata": {
    "slideshow": {
     "slide_type": "fragment"
    }
   },
   "source": [
    "* śledzi treść, a nie pliki"
   ]
  },
  {
   "cell_type": "markdown",
   "metadata": {
    "slideshow": {
     "slide_type": "fragment"
    }
   },
   "source": [
    "* repozytorium jest mniejsze"
   ]
  },
  {
   "cell_type": "markdown",
   "metadata": {
    "slideshow": {
     "slide_type": "fragment"
    }
   },
   "source": [
    "> *Zapamiętaj git nie jest lepszy od svn jest inny*"
   ]
  },
  {
   "cell_type": "markdown",
   "metadata": {
    "slideshow": {
     "slide_type": "subslide"
    }
   },
   "source": [
    "# bazaar?"
   ]
  },
  {
   "cell_type": "markdown",
   "metadata": {
    "slideshow": {
     "slide_type": "fragment"
    }
   },
   "source": [
    "* najlepsze rozwiązanie jeśli pracujesz nad aplikacjami dla Ubuntu"
   ]
  },
  {
   "cell_type": "markdown",
   "metadata": {
    "slideshow": {
     "slide_type": "fragment"
    }
   },
   "source": [
    "* git hub rocks 🎆 vs launchpad not so much 😓"
   ]
  },
  {
   "cell_type": "markdown",
   "metadata": {
    "slideshow": {
     "slide_type": "fragment"
    }
   },
   "source": [
    "> ... ale istnieje pythonowe narzędzie przerzucające git w bazaar"
   ]
  },
  {
   "cell_type": "markdown",
   "metadata": {
    "slideshow": {
     "slide_type": "slide"
    }
   },
   "source": [
    "# Zaczynajmy - konfiguracja"
   ]
  },
  {
   "cell_type": "code",
   "execution_count": 1,
   "metadata": {
    "slideshow": {
     "slide_type": "fragment"
    }
   },
   "outputs": [
    {
     "name": "stdout",
     "output_type": "stream",
     "text": [
      "git version 2.17.1\n"
     ]
    }
   ],
   "source": [
    "git --version"
   ]
  },
  {
   "cell_type": "code",
   "execution_count": 2,
   "metadata": {
    "slideshow": {
     "slide_type": "fragment"
    }
   },
   "outputs": [
    {
     "name": "stdout",
     "output_type": "stream",
     "text": [
      "[user]\n",
      "\temail = mirowicki@gmail.com\n",
      "\tname = Michał Rowicki\n",
      "\tsigningkey = 270F777CEA4DE4CE \n",
      "[core]\n",
      "\teditor = vim\n",
      "[commit]\n",
      "\tgpgsign = true\n",
      "[gpg]\n",
      "\tprogram = gpg2\n",
      "[color]\n",
      "\tui = auto\n"
     ]
    }
   ],
   "source": [
    "cat ~/.gitconfig"
   ]
  },
  {
   "cell_type": "code",
   "execution_count": 3,
   "metadata": {
    "slideshow": {
     "slide_type": "fragment"
    }
   },
   "outputs": [],
   "source": [
    "git config --global user.name \"Michał Rowicki\"\n",
    "git config --global user.email \"mirowicki@gmail.com\"\n",
    "git config --global core.editor \"vim\""
   ]
  },
  {
   "cell_type": "markdown",
   "metadata": {
    "slideshow": {
     "slide_type": "slide"
    }
   },
   "source": [
    "# Fazy życia kodu w gicie\n",
    "<br/>\n",
    "<center><img src=\"four_phases.png\" alt=\"Lifecycle of git content\" style=\"position:center\" /></center>\n",
    "<br/>\n",
    "\n",
    "> Źródło: Learn git the hard way"
   ]
  },
  {
   "cell_type": "markdown",
   "metadata": {
    "slideshow": {
     "slide_type": "slide"
    }
   },
   "source": [
    "# Status\n",
    "\n",
    "* [x] ~~Krótkie wprowadzenie do systemów kontroli wersji~~\n",
    "* [ ] Podstawy gita\n",
    "     * [ ] git init\n",
    "     * [ ] .git folder\n",
    "     * [ ] git log\n",
    "     * [ ] git status\n",
    "     * [ ] git add\n",
    "     * [ ] git commit\n",
    "     * [ ] git diff"
   ]
  },
  {
   "cell_type": "markdown",
   "metadata": {
    "slideshow": {
     "slide_type": "subslide"
    }
   },
   "source": [
    "# Pierwsze repozytorium"
   ]
  },
  {
   "cell_type": "code",
   "execution_count": 4,
   "metadata": {
    "scrolled": true,
    "slideshow": {
     "slide_type": "fragment"
    }
   },
   "outputs": [
    {
     "name": "stdout",
     "output_type": "stream",
     "text": [
      "Initialized empty Git repository in /home/wyhasany/git-basics/.git/\n",
      "\u001b[01;34m.\u001b[00m\n",
      "└── \u001b[01;34m.git\u001b[00m\n",
      "    ├── \u001b[01;34mbranches\u001b[00m\n",
      "    ├── config\n",
      "    ├── description\n",
      "    ├── HEAD\n",
      "    ├── \u001b[01;34mhooks\u001b[00m\n",
      "    │   ├── \u001b[01;32mapplypatch-msg.sample\u001b[00m\n",
      "    │   ├── \u001b[01;32mcommit-msg.sample\u001b[00m\n",
      "    │   ├── \u001b[01;32mfsmonitor-watchman.sample\u001b[00m\n",
      "    │   ├── \u001b[01;32mpost-update.sample\u001b[00m\n",
      "    │   ├── \u001b[01;32mpre-applypatch.sample\u001b[00m\n",
      "    │   ├── \u001b[01;32mpre-commit.sample\u001b[00m\n",
      "    │   ├── \u001b[01;32mprepare-commit-msg.sample\u001b[00m\n",
      "    │   ├── \u001b[01;32mpre-push.sample\u001b[00m\n",
      "    │   ├── \u001b[01;32mpre-rebase.sample\u001b[00m\n",
      "    │   ├── \u001b[01;32mpre-receive.sample\u001b[00m\n",
      "    │   └── \u001b[01;32mupdate.sample\u001b[00m\n",
      "    ├── \u001b[01;34minfo\u001b[00m\n",
      "    │   └── exclude\n",
      "    ├── \u001b[01;34mobjects\u001b[00m\n",
      "    │   ├── \u001b[01;34minfo\u001b[00m\n",
      "    │   └── \u001b[01;34mpack\u001b[00m\n",
      "    └── \u001b[01;34mrefs\u001b[00m\n",
      "        ├── \u001b[01;34mheads\u001b[00m\n",
      "        └── \u001b[01;34mtags\u001b[00m\n",
      "\n",
      "10 directories, 15 files\n"
     ]
    }
   ],
   "source": [
    "cd ~/\n",
    "rm -rf git-basics\n",
    "mkdir git-basics && cd git-basics\n",
    "git init\n",
    "tree -a"
   ]
  },
  {
   "cell_type": "code",
   "execution_count": 5,
   "metadata": {
    "slideshow": {
     "slide_type": "subslide"
    }
   },
   "outputs": [
    {
     "name": "stdout",
     "output_type": "stream",
     "text": [
      "ref: refs/heads/master\n"
     ]
    }
   ],
   "source": [
    "cat .git/HEAD"
   ]
  },
  {
   "cell_type": "code",
   "execution_count": 6,
   "metadata": {
    "slideshow": {
     "slide_type": "fragment"
    }
   },
   "outputs": [
    {
     "name": "stdout",
     "output_type": "stream",
     "text": [
      "[core]\n",
      "\trepositoryformatversion = 0\n",
      "\tfilemode = true\n",
      "\tbare = false\n",
      "\tlogallrefupdates = true\n"
     ]
    }
   ],
   "source": [
    "cat .git/config"
   ]
  },
  {
   "cell_type": "markdown",
   "metadata": {
    "slideshow": {
     "slide_type": "fragment"
    }
   },
   "source": [
    "# Historia"
   ]
  },
  {
   "cell_type": "code",
   "execution_count": 7,
   "metadata": {
    "slideshow": {
     "slide_type": "fragment"
    }
   },
   "outputs": [
    {
     "name": "stdout",
     "output_type": "stream",
     "text": [
      "\u001b[31mfatal: your current branch 'master' does not have any commits yet\n",
      "\u001b[0m"
     ]
    },
    {
     "ename": "",
     "evalue": "128",
     "output_type": "error",
     "traceback": []
    }
   ],
   "source": [
    "git log"
   ]
  },
  {
   "cell_type": "code",
   "execution_count": 8,
   "metadata": {
    "slideshow": {
     "slide_type": "fragment"
    }
   },
   "outputs": [
    {
     "name": "stdout",
     "output_type": "stream",
     "text": [
      "On branch master\n",
      "\n",
      "No commits yet\n",
      "\n",
      "nothing to commit (create/copy files and use \"git add\" to track)\n"
     ]
    }
   ],
   "source": [
    "git status"
   ]
  },
  {
   "cell_type": "code",
   "execution_count": 9,
   "metadata": {
    "slideshow": {
     "slide_type": "subslide"
    }
   },
   "outputs": [
    {
     "name": "stdout",
     "output_type": "stream",
     "text": [
      "On branch master\n",
      "\n",
      "No commits yet\n",
      "\n",
      "Untracked files:\n",
      "  (use \"git add <file>...\" to include in what will be committed)\n",
      "\n",
      "\t\u001b[31matom.py\u001b[m\n",
      "\n",
      "nothing added to commit but untracked files present (use \"git add\" to track)\n"
     ]
    }
   ],
   "source": [
    "touch atom.py\n",
    "git status"
   ]
  },
  {
   "cell_type": "code",
   "execution_count": 10,
   "metadata": {
    "slideshow": {
     "slide_type": "fragment"
    }
   },
   "outputs": [
    {
     "name": "stdout",
     "output_type": "stream",
     "text": [
      "On branch master\n",
      "\n",
      "No commits yet\n",
      "\n",
      "Changes to be committed:\n",
      "  (use \"git rm --cached <file>...\" to unstage)\n",
      "\n",
      "\t\u001b[32mnew file:   atom.py\u001b[m\n",
      "\n"
     ]
    }
   ],
   "source": [
    "git add atom.py\n",
    "git status"
   ]
  },
  {
   "cell_type": "code",
   "execution_count": 11,
   "metadata": {
    "slideshow": {
     "slide_type": "fragment"
    }
   },
   "outputs": [
    {
     "name": "stdout",
     "output_type": "stream",
     "text": [
      "\u001b[31mfatal: your current branch 'master' does not have any commits yet\n",
      "\u001b[0m"
     ]
    },
    {
     "ename": "",
     "evalue": "128",
     "output_type": "error",
     "traceback": []
    }
   ],
   "source": [
    "git log"
   ]
  },
  {
   "cell_type": "markdown",
   "metadata": {
    "slideshow": {
     "slide_type": "slide"
    }
   },
   "source": [
    "# Commit"
   ]
  },
  {
   "cell_type": "code",
   "execution_count": 12,
   "metadata": {
    "slideshow": {
     "slide_type": "fragment"
    }
   },
   "outputs": [
    {
     "name": "stdout",
     "output_type": "stream",
     "text": [
      "[master (root-commit) 4c78afa] Atom rocks\n",
      " 1 file changed, 0 insertions(+), 0 deletions(-)\n",
      " create mode 100644 atom.py\n"
     ]
    }
   ],
   "source": [
    "#wpisz:\n",
    "#git commit\n",
    "git commit -m \"Atom rocks\""
   ]
  },
  {
   "cell_type": "code",
   "execution_count": 13,
   "metadata": {
    "slideshow": {
     "slide_type": "fragment"
    }
   },
   "outputs": [
    {
     "name": "stdout",
     "output_type": "stream",
     "text": [
      "\u001b[33mcommit 4c78afa04d936c2e039e037378a54b4f0bcb5613\u001b[m\u001b[33m (\u001b[m\u001b[1;36mHEAD -> \u001b[m\u001b[1;32mmaster\u001b[m\u001b[33m)\u001b[m\n",
      "Author: Michał Rowicki <mirowicki@gmail.com>\n",
      "Date:   Sun Nov 25 18:11:04 2018 +0100\n",
      "\n",
      "    Atom rocks\n"
     ]
    }
   ],
   "source": [
    "git log"
   ]
  },
  {
   "cell_type": "markdown",
   "metadata": {
    "slideshow": {
     "slide_type": "subslide"
    }
   },
   "source": [
    "# git diff"
   ]
  },
  {
   "cell_type": "code",
   "execution_count": 14,
   "metadata": {
    "slideshow": {
     "slide_type": "fragment"
    }
   },
   "outputs": [
    {
     "name": "stdout",
     "output_type": "stream",
     "text": [
      "\u001b[1mdiff --git a/atom.py b/atom.py\u001b[m\n",
      "\u001b[1mindex e69de29..2a89703 100644\u001b[m\n",
      "\u001b[1m--- a/atom.py\u001b[m\n",
      "\u001b[1m+++ b/atom.py\u001b[m\n",
      "\u001b[36m@@ -0,0 +1 @@\u001b[m\n",
      "\u001b[32m+\u001b[m\u001b[32mfrom a import b\u001b[m\n"
     ]
    }
   ],
   "source": [
    "echo \"from a import b\" >> atom.py\n",
    "git diff"
   ]
  },
  {
   "cell_type": "code",
   "execution_count": 15,
   "metadata": {
    "slideshow": {
     "slide_type": "fragment"
    }
   },
   "outputs": [
    {
     "name": "stdout",
     "output_type": "stream",
     "text": [
      "On branch master\n",
      "Changes not staged for commit:\n",
      "  (use \"git add <file>...\" to update what will be committed)\n",
      "  (use \"git checkout -- <file>...\" to discard changes in working directory)\n",
      "\n",
      "\t\u001b[31mmodified:   atom.py\u001b[m\n",
      "\n",
      "no changes added to commit (use \"git add\" and/or \"git commit -a\")\n",
      "[master 795ec01] Add import\n",
      " 1 file changed, 1 insertion(+)\n",
      "On branch master\n",
      "nothing to commit, working tree clean\n"
     ]
    }
   ],
   "source": [
    "git status\n",
    "git commit -am \"Add import\"\n",
    "git status"
   ]
  },
  {
   "cell_type": "code",
   "execution_count": 17,
   "metadata": {
    "slideshow": {
     "slide_type": "fragment"
    }
   },
   "outputs": [
    {
     "name": "stdout",
     "output_type": "stream",
     "text": [
      "\u001b[33mcommit 795ec01e816feb3178994403d1eb5f7134ae4f40\u001b[m\u001b[33m (\u001b[m\u001b[1;36mHEAD -> \u001b[m\u001b[1;32mmaster\u001b[m\u001b[33m)\u001b[m\n",
      "Author: Michał Rowicki <mirowicki@gmail.com>\n",
      "Date:   Sun Nov 25 18:11:21 2018 +0100\n",
      "\n",
      "    Add import\n",
      "\n",
      "\u001b[33mcommit 4c78afa04d936c2e039e037378a54b4f0bcb5613\u001b[m\n",
      "Author: Michał Rowicki <mirowicki@gmail.com>\n",
      "Date:   Sun Nov 25 18:11:04 2018 +0100\n",
      "\n",
      "    Atom rocks\n"
     ]
    }
   ],
   "source": [
    "git log\n",
    "cd ..\n",
    "rm -rf git-basics"
   ]
  },
  {
   "cell_type": "markdown",
   "metadata": {
    "slideshow": {
     "slide_type": "subslide"
    }
   },
   "source": [
    "## Ćwiczenie\n",
    "1. Stwórz repozytorium\n",
    "2. Dodaj i skomituj plik do repozytorium\n",
    "3. Skomituj pare dodatkowych commitów i zobacz git log i git diff\n",
    "---\n",
    "> czas 5 minut"
   ]
  },
  {
   "cell_type": "markdown",
   "metadata": {
    "slideshow": {
     "slide_type": "subslide"
    }
   },
   "source": [
    "# Status\n",
    "\n",
    "* [x] ~~Krótkie wprowadzenie do systemów kontroli wersji~~\n",
    "* [x] ~~Podstawy gita~~\n",
    "     * [x] ~~git init~~\n",
    "     * [x] ~~.git folder~~\n",
    "     * [x] ~~git log~~\n",
    "     * [x] ~~git status~~\n",
    "     * [x] ~~git add~~\n",
    "     * [x] ~~git commit~~\n",
    "     * [x] ~~git diff~~"
   ]
  },
  {
   "cell_type": "markdown",
   "metadata": {
    "slideshow": {
     "slide_type": "slide"
    }
   },
   "source": [
    "## Jak liczone są skróty commitów?\n",
    "\n",
    "Liczymy SHA1 z:\n",
    "* całego kodu źródłowego bez ignorowanych i niekomitowanych plików\n",
    "* z SHA1 ostatniego commitu\n",
    "* z informacji o autorze\n",
    "* z informacji o commiterze (tak mogą być różni 😅)\n",
    "* z treści commita"
   ]
  },
  {
   "cell_type": "markdown",
   "metadata": {
    "slideshow": {
     "slide_type": "slide"
    }
   },
   "source": [
    "# Przykład"
   ]
  },
  {
   "cell_type": "code",
   "execution_count": null,
   "metadata": {
    "slideshow": {
     "slide_type": "fragment"
    }
   },
   "outputs": [],
   "source": [
    "%%bash\n",
    "mkdir tmp\n",
    "cd tmp\n",
    "git init\n",
    "touch A\n",
    "git config commit.gpgsign no\n",
    "git add A\n",
    "git commit -am 'A'\n",
    "git log"
   ]
  },
  {
   "cell_type": "code",
   "execution_count": null,
   "metadata": {
    "slideshow": {
     "slide_type": "fragment"
    }
   },
   "outputs": [],
   "source": [
    "!cd tmp && git log --format=format:%H"
   ]
  },
  {
   "cell_type": "code",
   "execution_count": null,
   "metadata": {
    "slideshow": {
     "slide_type": "subslide"
    }
   },
   "outputs": [],
   "source": [
    "!cd tmp && ffgit cat-file commit HEAD"
   ]
  },
  {
   "cell_type": "code",
   "execution_count": null,
   "metadata": {
    "slideshow": {
     "slide_type": "fragment"
    }
   },
   "outputs": [],
   "source": [
    "!cd tmp && printf \"commit %s\\0\" $(git cat-file commit HEAD | wc -c)"
   ]
  },
  {
   "cell_type": "code",
   "execution_count": null,
   "metadata": {
    "slideshow": {
     "slide_type": "fragment"
    }
   },
   "outputs": [],
   "source": [
    "!cd tmp && (printf \"commit %s\\0\" $(git cat-file commit HEAD | wc -c); git cat-file commit HEAD) | sha1sum"
   ]
  },
  {
   "cell_type": "code",
   "execution_count": null,
   "metadata": {
    "slideshow": {
     "slide_type": "fragment"
    }
   },
   "outputs": [],
   "source": [
    "!rm -rf tmp"
   ]
  },
  {
   "cell_type": "markdown",
   "metadata": {
    "slideshow": {
     "slide_type": "slide"
    }
   },
   "source": [
    "# Przydatne linki\n",
    "\n",
    "<br />\n",
    "\n",
    "1. [To nie działa WTF?!](http://justinhileman.info/article/git-pretty/git-pretty.png)\n",
    "2. [Cheat sheet powiązany z fazami życia kontentu w gicie](http://ndpsoftware.com/git-cheatsheet.html)"
   ]
  }
 ],
 "metadata": {
  "celltoolbar": "Slideshow",
  "kernelspec": {
   "display_name": "Bash",
   "language": "bash",
   "name": "bash"
  },
  "language_info": {
   "codemirror_mode": "shell",
   "file_extension": ".sh",
   "mimetype": "text/x-sh",
   "name": "bash"
  }
 },
 "nbformat": 4,
 "nbformat_minor": 2
}

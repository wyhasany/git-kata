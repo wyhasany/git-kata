{
 "cells": [
  {
   "cell_type": "markdown",
   "metadata": {
    "slideshow": {
     "slide_type": "slide"
    }
   },
   "source": [
    "<img style=\"float: right;\" src=\"img/git.png\">\n",
    "\n",
    "Git kata - poznajmy się bliżej\n",
    "==============\n",
    "<br>\n",
    "\n",
    "### *Developer Days, 07.12.2018* "
   ]
  },
  {
   "cell_type": "markdown",
   "metadata": {
    "slideshow": {
     "slide_type": "fragment"
    }
   },
   "source": [
    "<br><br>\n",
    "Michał Rowicki\n",
    "<br><br>\n",
    "[@wyhasany](https://twitter.com/wyhasany)"
   ]
  },
  {
   "cell_type": "markdown",
   "metadata": {
    "slideshow": {
     "slide_type": "slide"
    }
   },
   "source": [
    "# WORK WORK\n",
    "<center><img src=\"img/Orange.jpg\" width=\"900px\" alt=\"Orange Logo\" style=\"position:center\" /></center>"
   ]
  },
  {
   "cell_type": "markdown",
   "metadata": {
    "slideshow": {
     "slide_type": "slide"
    }
   },
   "source": [
    "### Work work od ~6lat\n",
    "<br>"
   ]
  },
  {
   "cell_type": "markdown",
   "metadata": {
    "slideshow": {
     "slide_type": "fragment"
    }
   },
   "source": [
    "* Developer Testbencha dla Odnowy"
   ]
  },
  {
   "cell_type": "markdown",
   "metadata": {
    "slideshow": {
     "slide_type": "fragment"
    }
   },
   "source": [
    "* Co to odnowa to może później..."
   ]
  },
  {
   "cell_type": "markdown",
   "metadata": {
    "slideshow": {
     "slide_type": "fragment"
    }
   },
   "source": [
    "* Dużo Javy i sieci komputerowych"
   ]
  },
  {
   "cell_type": "markdown",
   "metadata": {
    "slideshow": {
     "slide_type": "slide"
    }
   },
   "source": [
    "# Agenda\n",
    "\n",
    "* [ ] Krótkie wprowadzenie do systemów kontroli wersji\n",
    "* [ ] Podstawy gita\n",
    "* [ ] Klonowanie repo\n",
    "* [ ] Gałęzie gita\n",
    "* [ ] Merge (łączenie zmian\n",
    "* [ ] Git stash\n",
    "* [ ] Git add interactive\n",
    "* [ ] Reflog\n",
    "* [ ] Cherry picking\n",
    "* [ ] Git rebase\n",
    "* [ ] Git bisect\n",
    "* [ ] Git fetch vs pull\n",
    "* [ ] Praca z wieloma repozytoriami"
   ]
  },
  {
   "cell_type": "markdown",
   "metadata": {
    "slideshow": {
     "slide_type": "subslide"
    }
   },
   "source": [
    "* [ ] Git push\n",
    "* [ ] Git submodule\n",
    "* [ ] Git log\n",
    "* [ ] Git squash\n",
    "* [ ] Repozytoria bare\n",
    "* [ ] Cherry picking and Three-Way Merges"
   ]
  },
  {
   "cell_type": "markdown",
   "metadata": {
    "slideshow": {
     "slide_type": "slide"
    }
   },
   "source": [
    "# Jak żyć panie premierze bez systemów kontroli wersji?\n",
    "\n",
    "* wysyłać wszystkim zaktualizowane pliki"
   ]
  },
  {
   "cell_type": "markdown",
   "metadata": {
    "slideshow": {
     "slide_type": "fragment"
    }
   },
   "source": [
    "* informować o tym wszystkich mailowo"
   ]
  },
  {
   "cell_type": "markdown",
   "metadata": {
    "slideshow": {
     "slide_type": "fragment"
    }
   },
   "source": [
    "* trzymać pliki tar w centralnej lokalizacji z numerami wersji"
   ]
  },
  {
   "cell_type": "markdown",
   "metadata": {
    "slideshow": {
     "slide_type": "fragment"
    }
   },
   "source": [
    "# Jaki jest z tym problem?"
   ]
  },
  {
   "cell_type": "markdown",
   "metadata": {
    "slideshow": {
     "slide_type": "fragment"
    }
   },
   "source": [
    "**To się nie skaluje!!!**"
   ]
  },
  {
   "cell_type": "markdown",
   "metadata": {
    "slideshow": {
     "slide_type": "subslide"
    }
   },
   "source": [
    "## Why?"
   ]
  },
  {
   "cell_type": "markdown",
   "metadata": {
    "slideshow": {
     "slide_type": "fragment"
    }
   },
   "source": [
    "* Im więcej deweloperów tym większy narzut roboty"
   ]
  },
  {
   "cell_type": "markdown",
   "metadata": {
    "slideshow": {
     "slide_type": "fragment"
    }
   },
   "source": [
    "* jeżeli inne projekty zależą od naszego to hardcorem jest zapanować od jakiej wersji zależymy"
   ]
  },
  {
   "cell_type": "markdown",
   "metadata": {
    "slideshow": {
     "slide_type": "fragment"
    }
   },
   "source": [
    "* jeżeli wiele osób pracuje nad tym samym plikiem to jak to połączyć"
   ]
  },
  {
   "cell_type": "markdown",
   "metadata": {
    "slideshow": {
     "slide_type": "slide"
    }
   },
   "source": [
    "## Dlaczego git a nie cvs/svn?"
   ]
  },
  {
   "cell_type": "markdown",
   "metadata": {
    "slideshow": {
     "slide_type": "fragment"
    }
   },
   "source": [
    "* system [rosproszony](https://git-scm.com/about/distributed) vs scentralizowany"
   ]
  },
  {
   "cell_type": "markdown",
   "metadata": {
    "slideshow": {
     "slide_type": "fragment"
    }
   },
   "source": [
    "* no to dlatego tak łatwo zrobić forka i pull request"
   ]
  },
  {
   "cell_type": "markdown",
   "metadata": {
    "slideshow": {
     "slide_type": "fragment"
    }
   },
   "source": [
    "* [działa szybciej](https://git-scm.com/about/small-and-fast)"
   ]
  },
  {
   "cell_type": "markdown",
   "metadata": {
    "slideshow": {
     "slide_type": "fragment"
    }
   },
   "source": [
    "* śledzi treść, a nie pliki"
   ]
  },
  {
   "cell_type": "markdown",
   "metadata": {
    "slideshow": {
     "slide_type": "fragment"
    }
   },
   "source": [
    "* repozytorium jest mniejsze"
   ]
  },
  {
   "cell_type": "markdown",
   "metadata": {
    "slideshow": {
     "slide_type": "fragment"
    }
   },
   "source": [
    "> *Zapamiętaj git nie jest lepszy od svn jest inny*"
   ]
  },
  {
   "cell_type": "markdown",
   "metadata": {
    "slideshow": {
     "slide_type": "subslide"
    }
   },
   "source": [
    "# bazaar?"
   ]
  },
  {
   "cell_type": "markdown",
   "metadata": {
    "slideshow": {
     "slide_type": "fragment"
    }
   },
   "source": [
    "* najlepsze rozwiązanie jeśli pracujesz nad aplikacjami dla Ubuntu"
   ]
  },
  {
   "cell_type": "markdown",
   "metadata": {
    "slideshow": {
     "slide_type": "fragment"
    }
   },
   "source": [
    "* git hub rocks 🎆 vs launchpad not so much 😓"
   ]
  },
  {
   "cell_type": "markdown",
   "metadata": {
    "slideshow": {
     "slide_type": "fragment"
    }
   },
   "source": [
    "> ... ale istnieje pythonowe narzędzie przerzucające git w bazaar"
   ]
  },
  {
   "cell_type": "markdown",
   "metadata": {
    "slideshow": {
     "slide_type": "slide"
    }
   },
   "source": [
    "# Zaczynajmy - konfiguracja"
   ]
  },
  {
   "cell_type": "code",
   "execution_count": 1,
   "metadata": {
    "slideshow": {
     "slide_type": "fragment"
    }
   },
   "outputs": [
    {
     "name": "stdout",
     "output_type": "stream",
     "text": [
      "git version 2.17.1\n"
     ]
    }
   ],
   "source": [
    "git --version"
   ]
  },
  {
   "cell_type": "code",
   "execution_count": 2,
   "metadata": {
    "slideshow": {
     "slide_type": "fragment"
    }
   },
   "outputs": [
    {
     "name": "stdout",
     "output_type": "stream",
     "text": [
      "[user]\n",
      "\temail = mirowicki@gmail.com\n",
      "\tname = Michał Rowicki\n",
      "\tsigningkey = 270F777CEA4DE4CE \n",
      "[core]\n",
      "\teditor = vim\n",
      "[commit]\n",
      "\tgpgsign = true\n",
      "[gpg]\n",
      "\tprogram = gpg2\n",
      "[color]\n",
      "\tui = auto\n"
     ]
    }
   ],
   "source": [
    "cat ~/.gitconfig"
   ]
  },
  {
   "cell_type": "code",
   "execution_count": 3,
   "metadata": {
    "slideshow": {
     "slide_type": "fragment"
    }
   },
   "outputs": [],
   "source": [
    "git config --global user.name \"Michał Rowicki\"\n",
    "git config --global user.email \"mirowicki@gmail.com\"\n",
    "git config --global core.editor \"vim\""
   ]
  },
  {
   "cell_type": "markdown",
   "metadata": {
    "slideshow": {
     "slide_type": "slide"
    }
   },
   "source": [
    "# Fazy życia kodu w gicie\n",
    "<br/>\n",
    "<center><img src=\"img/four_phases.png\" alt=\"Lifecycle of git content\" style=\"position:center\" /></center>\n",
    "<br/>\n",
    "\n",
    "> Źródło: Learn git the hard way"
   ]
  },
  {
   "cell_type": "markdown",
   "metadata": {
    "slideshow": {
     "slide_type": "slide"
    }
   },
   "source": [
    "# Status\n",
    "\n",
    "* [x] ~~Krótkie wprowadzenie do systemów kontroli wersji~~\n",
    "* [ ] Podstawy gita\n",
    "     * [ ] git init\n",
    "     * [ ] .git folder\n",
    "     * [ ] git log\n",
    "     * [ ] git status\n",
    "     * [ ] git add\n",
    "     * [ ] git commit\n",
    "     * [ ] git diff\n",
    "* [ ] Klonowanie repo\n",
    "* [ ] Gałęzie gita\n",
    "* [ ] Merge (łączenie zmian\n",
    "* [ ] Git stash\n",
    "* [ ] ..."
   ]
  },
  {
   "cell_type": "markdown",
   "metadata": {
    "slideshow": {
     "slide_type": "subslide"
    }
   },
   "source": [
    "# Pierwsze repozytorium"
   ]
  },
  {
   "cell_type": "code",
   "execution_count": 4,
   "metadata": {
    "scrolled": true,
    "slideshow": {
     "slide_type": "fragment"
    }
   },
   "outputs": [
    {
     "name": "stdout",
     "output_type": "stream",
     "text": [
      "Initialized empty Git repository in /home/wyhasany/git-basics/.git/\n",
      "\u001b[01;34m.\u001b[00m\n",
      "└── \u001b[01;34m.git\u001b[00m\n",
      "    ├── \u001b[01;34mbranches\u001b[00m\n",
      "    ├── config\n",
      "    ├── description\n",
      "    ├── HEAD\n",
      "    ├── \u001b[01;34mhooks\u001b[00m\n",
      "    │   ├── \u001b[01;32mapplypatch-msg.sample\u001b[00m\n",
      "    │   ├── \u001b[01;32mcommit-msg.sample\u001b[00m\n",
      "    │   ├── \u001b[01;32mfsmonitor-watchman.sample\u001b[00m\n",
      "    │   ├── \u001b[01;32mpost-update.sample\u001b[00m\n",
      "    │   ├── \u001b[01;32mpre-applypatch.sample\u001b[00m\n",
      "    │   ├── \u001b[01;32mpre-commit.sample\u001b[00m\n",
      "    │   ├── \u001b[01;32mprepare-commit-msg.sample\u001b[00m\n",
      "    │   ├── \u001b[01;32mpre-push.sample\u001b[00m\n",
      "    │   ├── \u001b[01;32mpre-rebase.sample\u001b[00m\n",
      "    │   ├── \u001b[01;32mpre-receive.sample\u001b[00m\n",
      "    │   └── \u001b[01;32mupdate.sample\u001b[00m\n",
      "    ├── \u001b[01;34minfo\u001b[00m\n",
      "    │   └── exclude\n",
      "    ├── \u001b[01;34mobjects\u001b[00m\n",
      "    │   ├── \u001b[01;34minfo\u001b[00m\n",
      "    │   └── \u001b[01;34mpack\u001b[00m\n",
      "    └── \u001b[01;34mrefs\u001b[00m\n",
      "        ├── \u001b[01;34mheads\u001b[00m\n",
      "        └── \u001b[01;34mtags\u001b[00m\n",
      "\n",
      "10 directories, 15 files\n"
     ]
    }
   ],
   "source": [
    "cd ~/\n",
    "rm -rf git-basics\n",
    "mkdir git-basics && cd git-basics\n",
    "git init\n",
    "tree -a"
   ]
  },
  {
   "cell_type": "code",
   "execution_count": 5,
   "metadata": {
    "slideshow": {
     "slide_type": "subslide"
    }
   },
   "outputs": [
    {
     "name": "stdout",
     "output_type": "stream",
     "text": [
      "ref: refs/heads/master\n"
     ]
    }
   ],
   "source": [
    "cat .git/HEAD"
   ]
  },
  {
   "cell_type": "code",
   "execution_count": 6,
   "metadata": {
    "slideshow": {
     "slide_type": "fragment"
    }
   },
   "outputs": [
    {
     "name": "stdout",
     "output_type": "stream",
     "text": [
      "[core]\n",
      "\trepositoryformatversion = 0\n",
      "\tfilemode = true\n",
      "\tbare = false\n",
      "\tlogallrefupdates = true\n"
     ]
    }
   ],
   "source": [
    "cat .git/config"
   ]
  },
  {
   "cell_type": "markdown",
   "metadata": {
    "slideshow": {
     "slide_type": "fragment"
    }
   },
   "source": [
    "# Historia"
   ]
  },
  {
   "cell_type": "code",
   "execution_count": 7,
   "metadata": {
    "slideshow": {
     "slide_type": "fragment"
    }
   },
   "outputs": [
    {
     "name": "stdout",
     "output_type": "stream",
     "text": [
      "\u001b[31mfatal: your current branch 'master' does not have any commits yet\n",
      "\u001b[0m"
     ]
    },
    {
     "ename": "",
     "evalue": "128",
     "output_type": "error",
     "traceback": []
    }
   ],
   "source": [
    "git log"
   ]
  },
  {
   "cell_type": "code",
   "execution_count": 8,
   "metadata": {
    "slideshow": {
     "slide_type": "fragment"
    }
   },
   "outputs": [
    {
     "name": "stdout",
     "output_type": "stream",
     "text": [
      "On branch master\n",
      "\n",
      "No commits yet\n",
      "\n",
      "nothing to commit (create/copy files and use \"git add\" to track)\n"
     ]
    }
   ],
   "source": [
    "git status"
   ]
  },
  {
   "cell_type": "code",
   "execution_count": 9,
   "metadata": {
    "slideshow": {
     "slide_type": "subslide"
    }
   },
   "outputs": [
    {
     "name": "stdout",
     "output_type": "stream",
     "text": [
      "On branch master\n",
      "\n",
      "No commits yet\n",
      "\n",
      "Untracked files:\n",
      "  (use \"git add <file>...\" to include in what will be committed)\n",
      "\n",
      "\t\u001b[31matom.py\u001b[m\n",
      "\n",
      "nothing added to commit but untracked files present (use \"git add\" to track)\n"
     ]
    }
   ],
   "source": [
    "touch atom.py\n",
    "git status"
   ]
  },
  {
   "cell_type": "code",
   "execution_count": 10,
   "metadata": {
    "slideshow": {
     "slide_type": "fragment"
    }
   },
   "outputs": [
    {
     "name": "stdout",
     "output_type": "stream",
     "text": [
      "On branch master\n",
      "\n",
      "No commits yet\n",
      "\n",
      "Changes to be committed:\n",
      "  (use \"git rm --cached <file>...\" to unstage)\n",
      "\n",
      "\t\u001b[32mnew file:   atom.py\u001b[m\n",
      "\n"
     ]
    }
   ],
   "source": [
    "git add atom.py\n",
    "git status"
   ]
  },
  {
   "cell_type": "code",
   "execution_count": 11,
   "metadata": {
    "slideshow": {
     "slide_type": "fragment"
    }
   },
   "outputs": [
    {
     "name": "stdout",
     "output_type": "stream",
     "text": [
      "\u001b[31mfatal: your current branch 'master' does not have any commits yet\n",
      "\u001b[0m"
     ]
    },
    {
     "ename": "",
     "evalue": "128",
     "output_type": "error",
     "traceback": []
    }
   ],
   "source": [
    "git log"
   ]
  },
  {
   "cell_type": "markdown",
   "metadata": {
    "slideshow": {
     "slide_type": "subslide"
    }
   },
   "source": [
    "# Commit"
   ]
  },
  {
   "cell_type": "code",
   "execution_count": 12,
   "metadata": {
    "slideshow": {
     "slide_type": "fragment"
    }
   },
   "outputs": [
    {
     "name": "stdout",
     "output_type": "stream",
     "text": [
      "[master (root-commit) 4c78afa] Atom rocks\n",
      " 1 file changed, 0 insertions(+), 0 deletions(-)\n",
      " create mode 100644 atom.py\n"
     ]
    }
   ],
   "source": [
    "#wpisz:\n",
    "#git commit\n",
    "git commit -m \"Atom rocks\""
   ]
  },
  {
   "cell_type": "code",
   "execution_count": 13,
   "metadata": {
    "slideshow": {
     "slide_type": "fragment"
    }
   },
   "outputs": [
    {
     "name": "stdout",
     "output_type": "stream",
     "text": [
      "\u001b[33mcommit 4c78afa04d936c2e039e037378a54b4f0bcb5613\u001b[m\u001b[33m (\u001b[m\u001b[1;36mHEAD -> \u001b[m\u001b[1;32mmaster\u001b[m\u001b[33m)\u001b[m\n",
      "Author: Michał Rowicki <mirowicki@gmail.com>\n",
      "Date:   Sun Nov 25 18:11:04 2018 +0100\n",
      "\n",
      "    Atom rocks\n"
     ]
    }
   ],
   "source": [
    "git log"
   ]
  },
  {
   "cell_type": "markdown",
   "metadata": {
    "slideshow": {
     "slide_type": "subslide"
    }
   },
   "source": [
    "# git diff"
   ]
  },
  {
   "cell_type": "code",
   "execution_count": 14,
   "metadata": {
    "slideshow": {
     "slide_type": "fragment"
    }
   },
   "outputs": [
    {
     "name": "stdout",
     "output_type": "stream",
     "text": [
      "\u001b[1mdiff --git a/atom.py b/atom.py\u001b[m\n",
      "\u001b[1mindex e69de29..2a89703 100644\u001b[m\n",
      "\u001b[1m--- a/atom.py\u001b[m\n",
      "\u001b[1m+++ b/atom.py\u001b[m\n",
      "\u001b[36m@@ -0,0 +1 @@\u001b[m\n",
      "\u001b[32m+\u001b[m\u001b[32mfrom a import b\u001b[m\n"
     ]
    }
   ],
   "source": [
    "echo \"from a import b\" >> atom.py\n",
    "git diff"
   ]
  },
  {
   "cell_type": "code",
   "execution_count": 15,
   "metadata": {
    "slideshow": {
     "slide_type": "fragment"
    }
   },
   "outputs": [
    {
     "name": "stdout",
     "output_type": "stream",
     "text": [
      "On branch master\n",
      "Changes not staged for commit:\n",
      "  (use \"git add <file>...\" to update what will be committed)\n",
      "  (use \"git checkout -- <file>...\" to discard changes in working directory)\n",
      "\n",
      "\t\u001b[31mmodified:   atom.py\u001b[m\n",
      "\n",
      "no changes added to commit (use \"git add\" and/or \"git commit -a\")\n",
      "[master 795ec01] Add import\n",
      " 1 file changed, 1 insertion(+)\n",
      "On branch master\n",
      "nothing to commit, working tree clean\n"
     ]
    }
   ],
   "source": [
    "git status\n",
    "git commit -am \"Add import\"\n",
    "git status"
   ]
  },
  {
   "cell_type": "code",
   "execution_count": 17,
   "metadata": {
    "slideshow": {
     "slide_type": "subslide"
    }
   },
   "outputs": [
    {
     "name": "stdout",
     "output_type": "stream",
     "text": [
      "\u001b[33mcommit 795ec01e816feb3178994403d1eb5f7134ae4f40\u001b[m\u001b[33m (\u001b[m\u001b[1;36mHEAD -> \u001b[m\u001b[1;32mmaster\u001b[m\u001b[33m)\u001b[m\n",
      "Author: Michał Rowicki <mirowicki@gmail.com>\n",
      "Date:   Sun Nov 25 18:11:21 2018 +0100\n",
      "\n",
      "    Add import\n",
      "\n",
      "\u001b[33mcommit 4c78afa04d936c2e039e037378a54b4f0bcb5613\u001b[m\n",
      "Author: Michał Rowicki <mirowicki@gmail.com>\n",
      "Date:   Sun Nov 25 18:11:04 2018 +0100\n",
      "\n",
      "    Atom rocks\n"
     ]
    }
   ],
   "source": [
    "git log\n",
    "cd ..\n",
    "rm -rf git-basics"
   ]
  },
  {
   "cell_type": "markdown",
   "metadata": {
    "slideshow": {
     "slide_type": "subslide"
    }
   },
   "source": [
    "## Ćwiczenie\n",
    "1. Stwórz repozytorium\n",
    "2. Dodaj i skomituj plik do repozytorium\n",
    "3. Skomituj pare dodatkowych commitów i zobacz git log i git diff\n",
    "---\n",
    "> czas 5 minut"
   ]
  },
  {
   "cell_type": "markdown",
   "metadata": {
    "slideshow": {
     "slide_type": "subslide"
    }
   },
   "source": [
    "# Status\n",
    "\n",
    "* [x] ~~Krótkie wprowadzenie do systemów kontroli wersji~~\n",
    "* [x] ~~Podstawy gita~~\n",
    "     * [x] ~~git init~~\n",
    "     * [x] ~~.git folder~~\n",
    "     * [x] ~~git log~~\n",
    "     * [x] ~~git status~~\n",
    "     * [x] ~~git add~~\n",
    "     * [x] ~~git commit~~\n",
    "     * [x] ~~git diff~~\n",
    "* [ ] Klonowanie repo\n",
    "* [ ] Gałęzie gita\n",
    "* [ ] Merge (łączenie zmian\n",
    "* [ ] Git stash\n",
    "* [ ] ..."
   ]
  },
  {
   "cell_type": "markdown",
   "metadata": {
    "slideshow": {
     "slide_type": "slide"
    }
   },
   "source": [
    "# Status\n",
    "\n",
    "* [x] ~~Krótkie wprowadzenie do systemów kontroli wersji~~\n",
    "* [x] ~~Podstawy gita~~\n",
    "* [ ] Klonowanie repo\n",
    "     * [ ] git clone\n",
    "     * [ ] git reset\n",
    "* [ ] Gałęzie gita\n",
    "* [ ] Merge (łączenie zmian\n",
    "* [ ] Git stash\n",
    "* [ ] ..."
   ]
  },
  {
   "cell_type": "markdown",
   "metadata": {
    "slideshow": {
     "slide_type": "subslide"
    }
   },
   "source": [
    "# Klonowanie\n",
    "\n",
    "To robienie kopii repozytorium"
   ]
  },
  {
   "cell_type": "code",
   "execution_count": 35,
   "metadata": {
    "slideshow": {
     "slide_type": "fragment"
    }
   },
   "outputs": [
    {
     "name": "stdout",
     "output_type": "stream",
     "text": [
      "\u001b[31mCloning into 'elementary-as-a-code'...\n",
      "\u001b[0m\u001b[31mremote: Enumerating objects: 75, done.\u001b[K\n",
      "\u001b[0m\u001b[31mremote: Counting objects: 100% (75/75), done.\u001b[K\n",
      "\u001b[0m\u001b[31mremote: Compressing objects: 100% (56/56), done.\u001b[K\n",
      "\u001b[0m\u001b[31mremote: Total 999 (delta 36), reused 48 (delta 17), pack-reused 924\u001b[K\n",
      "\u001b[0m\u001b[31mReceiving objects: 100% (999/999), 497.23 KiB | 1.28 MiB/s, done.\n",
      "\u001b[0m\u001b[31mResolving deltas: 100% (557/557), done.\n",
      "\u001b[0m[\u001b[01;31m\u001b[Kremote\u001b[m\u001b[K \"origin\"]\n",
      "\turl = https://github.com/wyhasany/elementary-as-a-code\n",
      "\tfetch = +refs/heads/*:refs/\u001b[01;31m\u001b[Kremote\u001b[m\u001b[Ks/origin/*\n",
      "[branch \"master\"]\n",
      "\t\u001b[01;31m\u001b[Kremote\u001b[m\u001b[K = origin\n",
      "\tmerge = refs/heads/master\n"
     ]
    }
   ],
   "source": [
    "cd ~/\n",
    "rm -rf git-clone\n",
    "mkdir git-clone\n",
    "cd git-clone\n",
    "git clone https://github.com/wyhasany/elementary-as-a-code\n",
    "cd elementary-as-a-code\n",
    "cat .git/config | grep remote -A 2"
   ]
  },
  {
   "cell_type": "markdown",
   "metadata": {
    "slideshow": {
     "slide_type": "subslide"
    }
   },
   "source": [
    "# Git log parę słów więcej"
   ]
  },
  {
   "cell_type": "code",
   "execution_count": 27,
   "metadata": {
    "slideshow": {
     "slide_type": "fragment"
    }
   },
   "outputs": [
    {
     "name": "stdout",
     "output_type": "stream",
     "text": [
      "\u001b[33mcommit 4b07acfc8b8836defd043147ca5809d954bae5bb\u001b[m\u001b[33m (\u001b[m\u001b[1;36mHEAD -> \u001b[m\u001b[1;32mmaster\u001b[m\u001b[33m, \u001b[m\u001b[1;31morigin/master\u001b[m\u001b[33m, \u001b[m\u001b[1;31morigin/HEAD\u001b[m\u001b[33m)\u001b[m\n",
      "Author: Michał Rowicki <mirowicki@gmail.com>\n",
      "Date:   Sun Nov 25 11:06:25 2018 +0100\n",
      "\n",
      "    Make zsh autosuggestions grey again\n",
      "    \n",
      "    Based on colors provided at:\n",
      "    https://coderwall.com/p/pb1uzq/z-shell-colors\n",
      "\n",
      "\u001b[33mcommit 468004fdcc2b3b3bec451cf0042a5126712251c9\u001b[m\n",
      "Author: Michał Rowicki <mirowicki@gmail.com>\n",
      "Date:   Sat Nov 24 19:17:18 2018 +0100\n",
      "\n",
      "    Add notes about installation of jupyter notebook\n",
      "\n",
      "\u001b[33mcommit ae5cadfdf945aeabf7e972ec7ac818961b37544d\u001b[m\n",
      "Author: Michał Rowicki <mirowicki@gmail.com>\n",
      "Date:   Sat Nov 24 12:45:43 2018 +0100\n",
      "\n",
      "    Fix qnapi installation and small fix to wallpapers playbook\n",
      "\n",
      "\u001b[33mcommit aff3e1cf894e1d9cb5b9f1d6de3288e91e54899d\u001b[m\n",
      "Author: Michał Rowicki <mirowicki@gmail.com>\n",
      "Date:   Sat Nov 24 11:40:35 2018 +0100\n",
      "\n",
      "    Update readme, add information about cloning repo\n",
      "\n",
      "\u001b[33mcommit b09c53bd5db6341de81e89b87037a204528bd130\u001b[m\n",
      "Author: Michał Rowicki <mirowicki@gmail.com>\n",
      "Date:   Sat Nov 24 11:36:40 2018 +0100\n",
      "\n",
      "    Remove working unproperly libdvd-pkg\n",
      "\n",
      "\u001b[33mcommit a25c089b29554b11023bf951878fdeff0700aea5\u001b[m\n",
      "Author: Michał Rowicki <mirowicki@gmail.com>\n",
      "Date:   Sat Nov 24 11:34:58 2018 +0100\n",
      "\n",
      "    Remove debug unnecessary debug statement\n",
      "\n",
      "\u001b[33mcommit 0f89387a6e98954d63380ed8a4c8a34b3863fef4\u001b[m\n",
      "Author: Michał Rowicki <mirowicki@gmail.com>\n",
      "Date:   Sat Nov 24 11:33:00 2018 +0100\n",
      "\n",
      "    Authomatic installation of Oracle Java 8 is impossible\n",
      "\n",
      "\u001b[33mcommit a7c2631bc07eb747cee65fead0e82eed5bf5ed28\u001b[m\n",
      "Author: Michał Rowicki <mirowicki@gmail.com>\n",
      "Date:   Sat Nov 24 11:31:38 2018 +0100\n",
      "\n",
      "    Do not add repo twice to protect repos consistency\n",
      "\n",
      "\u001b[33mcommit 73ae1f200549c9ccc6d9b01740156c471886202e\u001b[m\n",
      "Author: Michał Rowicki <mirowicki@gmail.com>\n",
      "Date:   Sat Nov 24 11:29:50 2018 +0100\n",
      "\n",
      "    Move installation DNS oon the end to fix apt repo adding\n",
      "\n",
      "\u001b[33mcommit e97cf2964f674cd39a934dbcb80390ecaf2a5e60\u001b[m\n",
      "Author: Michał Rowicki <mirowicki@gmail.com>\n",
      "Date:   Sat Nov 17 15:31:10 2018 +0100\n",
      "\n",
      "    Add instalation of certtool\n",
      "\n",
      "\u001b[33mcommit 3235c9d0faaec7f2ea5e730de0b92cb8973c28f4\u001b[m\n",
      "Author: Michał Rowicki <mirowicki@gmail.com>\n",
      "Date:   Sat Nov 17 15:28:36 2018 +0100\n",
      "\n",
      "    Add instalation of network debugging tools\n",
      "\n",
      "\u001b[33mcommit b6f88fb5d8e4c23325a3832e2c3cc72e42870725\u001b[m\n",
      "Author: Michał Rowicki <mirowicki@gmail.com>\n",
      "Date:   Sat Nov 17 14:54:35 2018 +0100\n",
      "\n",
      "    Add installation of htop\n",
      "\n",
      "\u001b[33mcommit 3bd9b39bf679d79b1bfa5d761f311438ad642c18\u001b[m\n",
      "Author: Michał Rowicki <mirowicki@gmail.com>\n",
      "Date:   Thu Nov 15 21:01:35 2018 +0100\n",
      "\n",
      "    Add instalation of cryptographic packages\n",
      "    \n",
      "    You can miss installation of them by adding flag\n",
      "    --skip-tags \"crypto\"\n",
      "\n",
      "\u001b[33mcommit d3d18858ef906da0704582ef5d71becf20fe0796\u001b[m\u001b[33m (\u001b[m\u001b[1;31morigin/custom-debs\u001b[m\u001b[33m)\u001b[m\n",
      "Author: Michał Rowicki <mirowicki@gmail.com>\n",
      "Date:   Thu Nov 15 20:39:27 2018 +0100\n",
      "\n",
      "    Add instalation of custom debs\n",
      "\n",
      "\u001b[33mcommit 0484fc2f454d7bd28554dc49aa3ef683ae6168ea\u001b[m\u001b[33m (\u001b[m\u001b[1;31morigin/elementary-os\u001b[m\u001b[33m)\u001b[m\n",
      "Author: Michał Rowicki <mirowicki@gmail.com>\n",
      "Date:   Thu Nov 15 20:02:20 2018 +0100\n",
      "\n",
      "    Do not require flag --skip-tags \"elementary-os\" on other distros\n",
      "\n",
      "\u001b[33mcommit c64a6edc7447cfc2e8a3794436149f347f4c1bed\u001b[m\n",
      "Author: Michał Rowicki <mirowicki@gmail.com>\n",
      "Date:   Thu Nov 15 19:50:42 2018 +0100\n",
      "\n",
      "    ✅ Accept zsh-completions\n",
      "\n",
      "\u001b[33mcommit d73e9e6cb81ed0d124637d7c1eb5eeaa8aa13d15\u001b[m\n",
      "Author: Michał Rowicki <mirowicki@gmail.com>\n",
      "Date:   Thu Nov 15 19:41:21 2018 +0100\n",
      "\n",
      "    🐧 Add zsh-completions plugin to zsh\n",
      "\n",
      "\u001b[33mcommit 1670edb438fc9c3fd6eba758034754e17d67d975\u001b[m\n",
      "Author: Michał Rowicki <mirowicki@gmail.com>\n",
      "Date:   Tue Nov 13 21:34:30 2018 +0100\n",
      "\n",
      "    🐧 add support for other ubuntu based systems\n",
      "    \n",
      "    I mean systems based on:\n",
      "    cuttlefish\n",
      "    bionic\n",
      "    xenial\n",
      "    trusty\n",
      "\n",
      "\u001b[33mcommit cc7ac064a79558915d94dcbf0bf799bd73f279f6\u001b[m\n",
      "Author: Michał Rowicki <mirowicki@gmail.com>\n",
      "Date:   Tue Nov 13 21:25:47 2018 +0100\n",
      "\n",
      "    Check original codename only if upstream is not available\n",
      "\n",
      "\u001b[33mcommit 60cc693a78d4ec1ce2b35b195208dc80b7dac880\u001b[m\n",
      "Author: Michał Rowicki <mirowicki@gmail.com>\n",
      "Date:   Tue Nov 13 21:23:57 2018 +0100\n",
      "\n",
      "    Handle situation when upstream is not available\n",
      "\n",
      "\u001b[33mcommit b84c544a8eafee1324248cfa67d2c2d2e2a04052\u001b[m\n",
      "Author: Michał Rowicki <mirowicki@gmail.com>\n",
      "Date:   Tue Nov 13 21:14:11 2018 +0100\n",
      "\n",
      "    Support scripts for \"all\" ubuntu releases\n",
      "    \n",
      "    After that change you can use playbooks on system based on Ubuntu:\n",
      "    * trusty\n",
      "    * xenial\n",
      "    * bionic\n",
      "    * cuttlefish\n",
      "\n",
      "\u001b[33mcommit 75c19ab4eaee4879f72a88c71c5fd4e81600df11\u001b[m\n",
      "Author: Michał Rowicki <mirowicki@gmail.com>\n",
      "Date:   Tue Nov 13 20:51:54 2018 +0100\n",
      "\n",
      "    Add notes to make playbook for gpg conf for yubikey\n",
      "\n",
      "\u001b[33mcommit f4107404b8a9440ef7e200da3d4d2fed5ecaefdd\u001b[m\n",
      "Author: Michał Rowicki <mirowicki@gmail.com>\n",
      "Date:   Sun Nov 11 21:51:09 2018 +0100\n",
      "\n",
      "    ✅ do not restart resolv.conf\n",
      "    \n",
      "    It caused break down of adding apt repositories\n",
      "\n",
      "\u001b[33mcommit 9a830d2f3161e3f1b66e66b4ccf60a947fc8dbd8\u001b[m\n",
      "Author: Michał Rowicki <mirowicki@gmail.com>\n",
      "Date:   Sun Nov 11 21:47:12 2018 +0100\n",
      "\n",
      "    Fix all replaces with home overwriting\n",
      "\n",
      "\u001b[33mcommit 5a93a4fa90cd1bfb38c5aaadbe39a3e86baaa706\u001b[m\n",
      "Author: Michał Rowicki <mirowicki@gmail.com>\n",
      "Date:   Sat Nov 10 22:58:35 2018 +0100\n",
      "\n",
      "    Fix paths in authomatic wallpapers script\n",
      "\n",
      "\u001b[33mcommit 3efa442bbed04fa6780f435b73793960e3b5fd55\u001b[m\n",
      "Author: Michał Rowicki <mirowicki@gmail.com>\n",
      "Date:   Sat Nov 10 20:22:33 2018 +0100\n",
      "\n",
      "    Update readme\n",
      "\n",
      "\u001b[33mcommit a2111ea0211fe326865e3956debbccc887db30c7\u001b[m\n",
      "Author: Michał Rowicki <mirowicki@gmail.com>\n",
      "Date:   Sat Nov 10 13:47:33 2018 +0100\n",
      "\n",
      "    Remove keepassxc folder from root project\n",
      "\n",
      "\u001b[33mcommit 9c666647218816e8ab9b65c491db309f4896301c\u001b[m\n",
      "Author: Michał Rowicki <mirowicki@gmail.com>\n",
      "Date:   Fri Nov 9 21:45:54 2018 +0100\n",
      "\n",
      "    Use pipelining to accelerate tests\n",
      "\n",
      "\u001b[33mcommit 59faeb982671483f0e2f0be51a00639aa1c8f3af\u001b[m\n",
      "Author: Michał Rowicki <mirowicki@gmail.com>\n",
      "Date:   Fri Nov 9 21:22:30 2018 +0100\n",
      "\n",
      "    Add packages to dockerfile image\n",
      "\n",
      "\u001b[33mcommit 021626f6bdcd63dc72784bcabb52d9f567ad1d42\u001b[m\n",
      "Author: Michał Rowicki <mirowicki@gmail.com>\n",
      "Date:   Fri Nov 9 20:45:21 2018 +0100\n",
      "\n",
      "    Accelerate testing ansible (fix)\n",
      "\n",
      "\u001b[33mcommit 8f453ed337602a224489f0a2d78efc030a50daae\u001b[m\n",
      "Author: Michał Rowicki <mirowicki@gmail.com>\n",
      "Date:   Fri Nov 9 20:35:14 2018 +0100\n",
      "\n",
      "    Accelerate testing ansible\n",
      "\n",
      "\u001b[33mcommit ea731a96ec59760a9fafde2d70f7cfd6fbfafae1\u001b[m\n",
      "Author: Michał Rowicki <mirowicki@gmail.com>\n",
      "Date:   Fri Nov 9 14:55:55 2018 +0100\n",
      "\n",
      "    Dix dockerfile\n",
      "\n",
      "\u001b[33mcommit 581b7016f869fe988bab0630f2cc6d801ded080d\u001b[m\n",
      "Author: Michał Rowicki <mirowicki@gmail.com>\n",
      "Date:   Fri Nov 9 14:48:46 2018 +0100\n",
      "\n",
      "    Do not check valid cache time on nordvpn install\n",
      "\n",
      "\u001b[33mcommit 3f9017df7ab682fd3b5a9c7ca9974c13dcaa47e8\u001b[m\n",
      "Author: Michał Rowicki <mirowicki@gmail.com>\n",
      "Date:   Fri Nov 9 14:30:17 2018 +0100\n",
      "\n",
      "    Try to cache deb repository\n",
      "\n",
      "\u001b[33mcommit ab8d9272b3236f3e566392e3c8331cbbdf15164e\u001b[m\n",
      "Author: Michał Rowicki <mirowicki@gmail.com>\n",
      "Date:   Fri Nov 9 14:18:14 2018 +0100\n",
      "\n",
      "    Remove unsupported parameter\n",
      "\n",
      "\u001b[33mcommit ac85bed77a6254723140c574c1c37fe495290b18\u001b[m\n",
      "Author: Michał Rowicki <mirowicki@gmail.com>\n",
      "Date:   Fri Nov 9 13:36:47 2018 +0100\n",
      "\n",
      "    Set cache_valid_time: 7200 (2h) for apt update\n",
      "\n",
      "\u001b[33mcommit e572f15d690083e3d51be120d4579c761b1ab1af\u001b[m\n",
      "Author: Michał Rowicki <mirowicki@gmail.com>\n",
      "Date:   Thu Nov 8 15:47:32 2018 +0100\n",
      "\n",
      "    Rearrange project structure\n",
      "    \n",
      "    Move all playbooks under playbooks folder\n",
      "    Update readme\n",
      "    Add script to run playbooks\n",
      "    Update .gitignor\n",
      "\n",
      "\u001b[33mcommit 1430680b235d97522458626408c0efe94f395c94\u001b[m\n",
      "Author: Michał Rowicki <mirowicki@gmail.com>\n",
      "Date:   Thu Nov 8 15:15:41 2018 +0100\n",
      "\n",
      "    Update gitignore to enable saving config backup\n",
      "    \n",
      "    Under conf-files we can backup configuration from home directory\n",
      "\n",
      "\u001b[33mcommit 43ab01ce1783616d7106b0e46bb8299abdff831b\u001b[m\n",
      "Author: Michał Rowicki <mirowicki@gmail.com>\n",
      "Date:   Thu Nov 8 14:20:05 2018 +0100\n",
      "\n",
      "    Use original bendews.cloudflared role\n",
      "\n",
      "\u001b[33mcommit d47ab0962e5330ac6011e02beab788f1fc170dc4\u001b[m\n",
      "Author: Michał Rowicki <mirowicki@gmail.com>\n",
      "Date:   Thu Nov 8 14:14:00 2018 +0100\n"
     ]
    },
    {
     "name": "stdout",
     "output_type": "stream",
     "text": [
      "\n",
      "    Miss installation caprine on test because service won't start\n",
      "\n",
      "\u001b[33mcommit a156b6cad9053dbaa7304342f696d056805e885f\u001b[m\n",
      "Author: Michał Rowicki <mirowicki@gmail.com>\n",
      "Date:   Thu Nov 8 14:06:30 2018 +0100\n",
      "\n",
      "    Start service with sudo\n",
      "\n",
      "\u001b[33mcommit 48316e2359495c7cc39bba4cbb4b90c20a845d3a\u001b[m\n",
      "Author: Michał Rowicki <mirowicki@gmail.com>\n",
      "Date:   Thu Nov 8 14:00:08 2018 +0100\n",
      "\n",
      "    Try to test installation of caprine\n",
      "\n",
      "\u001b[33mcommit 6b40feba35f2bdad4aa8f840ee3871fa73d313fb\u001b[m\n",
      "Author: Michał Rowicki <mirowicki@gmail.com>\n",
      "Date:   Thu Nov 8 13:45:16 2018 +0100\n",
      "\n",
      "    Remove debug test\n",
      "\n",
      "\u001b[33mcommit 5433d59d3e925332a9bc609bcff8cb276585dd26\u001b[m\n",
      "Author: Michał Rowicki <mirowicki@gmail.com>\n",
      "Date:   Thu Nov 8 13:19:42 2018 +0100\n",
      "\n",
      "    Move caching to dockerfile\n",
      "\n",
      "\u001b[33mcommit 832fd095a776f7e4f0c1f051f905ecd9180001f3\u001b[m\n",
      "Author: Michał Rowicki <mirowicki@gmail.com>\n",
      "Date:   Thu Nov 8 13:14:52 2018 +0100\n",
      "\n",
      "    Revert import playbook changes and cache facts\n",
      "\n",
      "\u001b[33mcommit fa1bd4003d97f58c65ac19c93104fb56cad227a5\u001b[m\n",
      "Author: Michał Rowicki <mirowicki@gmail.com>\n",
      "Date:   Thu Nov 8 12:47:13 2018 +0100\n",
      "\n",
      "    Include playbooks tasks instead of importing\n",
      "\n",
      "\u001b[33mcommit 3b719852dcd57318e5f2475e0cfd63cc0744f8c6\u001b[m\n",
      "Author: Michał Rowicki <mirowicki@gmail.com>\n",
      "Date:   Thu Nov 8 12:20:06 2018 +0100\n",
      "\n",
      "    Give names for plays and make them idempotent\n",
      "\n",
      "\u001b[33mcommit 6edf9c38b57fdfdc1d5d21db2fcf266ee1c52b23\u001b[m\n",
      "Author: Michał Rowicki <mirowicki@gmail.com>\n",
      "Date:   Thu Nov 8 11:05:47 2018 +0100\n",
      "\n",
      "    See no indempotent tasks\n",
      "\n",
      "\u001b[33mcommit 273b1b1e36e3dcaf46b2f6479cf0812fc188a17f\u001b[m\n",
      "Author: Michał Rowicki <mirowicki@gmail.com>\n",
      "Date:   Thu Nov 8 10:44:53 2018 +0100\n",
      "\n",
      "    Logs with lower vulnerability\n",
      "    \n",
      "    Check idemptotence of scripts\n",
      "\n",
      "\u001b[33mcommit 4970b76a366de664cd8123cdfa211a2396323d25\u001b[m\n",
      "Author: Michał Rowicki <mirowicki@gmail.com>\n",
      "Date:   Thu Nov 8 10:24:12 2018 +0100\n",
      "\n",
      "    Make full test\n",
      "\n",
      "\u001b[33mcommit ac8c00bf07cfca2e56507944c84e4c7a9a1e9532\u001b[m\n",
      "Author: Michał Rowicki <mirowicki@gmail.com>\n",
      "Date:   Thu Nov 8 10:14:47 2018 +0100\n",
      "\n",
      "    Install missing dependency\n",
      "\n",
      "\u001b[33mcommit 7aed805d70f6ecdb5b11ea999094d2ccb3e4e1b6\u001b[m\n",
      "Author: Michał Rowicki <mirowicki@gmail.com>\n",
      "Date:   Thu Nov 8 10:07:03 2018 +0100\n",
      "\n",
      "    Fix home paths\n",
      "\n",
      "\u001b[33mcommit ac16efcf7e11043bc1b0af49dc10f6f0b3f7866e\u001b[m\n",
      "Author: Michał Rowicki <mirowicki@gmail.com>\n",
      "Date:   Thu Nov 8 09:57:53 2018 +0100\n",
      "\n",
      "    Fix path\n",
      "\n",
      "\u001b[33mcommit 0e82de2543dab2b5ea36473769984de4d3131a35\u001b[m\n",
      "Author: Michał Rowicki <mirowicki@gmail.com>\n",
      "Date:   Thu Nov 8 09:45:24 2018 +0100\n",
      "\n",
      "    Add missing dependency\n",
      "\n",
      "\u001b[33mcommit 27b5953b20f6ebad1538d245381dcddcdcc36781\u001b[m\n",
      "Author: Michał Rowicki <mirowicki@gmail.com>\n",
      "Date:   Thu Nov 8 09:38:41 2018 +0100\n",
      "\n",
      "    Fix installation fzf\n",
      "\n",
      "\u001b[33mcommit e877a3ef76a4952c21140b3075bf4d1c719fbbd3\u001b[m\n",
      "Author: Michał Rowicki <mirowicki@gmail.com>\n",
      "Date:   Thu Nov 8 09:27:05 2018 +0100\n",
      "\n",
      "    Fix indentation\n",
      "\n",
      "\u001b[33mcommit d0425a74a7954907ad4bf4504b33259f71d76da3\u001b[m\n",
      "Author: Michał Rowicki <mirowicki@gmail.com>\n",
      "Date:   Thu Nov 8 09:21:28 2018 +0100\n",
      "\n",
      "    Add missing dependency on yakuake installation rsync\n",
      "\n",
      "\u001b[33mcommit 9c7611d2a2624bbadb771f912f5050731ffc28ad\u001b[m\n",
      "Author: Michał Rowicki <mirowicki@gmail.com>\n",
      "Date:   Thu Nov 8 09:14:12 2018 +0100\n",
      "\n",
      "    Fix typo\n",
      "\n",
      "\u001b[33mcommit c1d184965d83e949f6d5601fbcf19103807faede\u001b[m\n",
      "Author: Michał Rowicki <mirowicki@gmail.com>\n",
      "Date:   Thu Nov 8 09:08:53 2018 +0100\n",
      "\n",
      "    Do not test of wingpanel installation\n",
      "\n",
      "\u001b[33mcommit b8ec0e70fbae756e749bad915ad9b90a756a4a18\u001b[m\n",
      "Author: Michał Rowicki <mirowicki@gmail.com>\n",
      "Date:   Thu Nov 8 09:03:45 2018 +0100\n",
      "\n",
      "    Fix wingpanel-ayatane testing\n",
      "\n",
      "\u001b[33mcommit 90c3e021111dec31601770126eedea4673d77c1f\u001b[m\n",
      "Author: Michał Rowicki <mirowicki@gmail.com>\n",
      "Date:   Thu Nov 8 08:58:36 2018 +0100\n",
      "\n",
      "    Fix wingpanel-ayatane testing\n",
      "\n",
      "\u001b[33mcommit c37e4673a975ca302dcd44dec8e52bc6295d2bb1\u001b[m\n",
      "Author: Michał Rowicki <mirowicki@gmail.com>\n",
      "Date:   Thu Nov 8 08:48:57 2018 +0100\n",
      "\n",
      "    Remove unnecessary when clauses on wallpapers.yml\n",
      "\n",
      "\u001b[33mcommit 74ad80a2dc6c3d1e2ee660e60efc4682d76a1a26\u001b[m\n",
      "Author: Michał Rowicki <mirowicki@gmail.com>\n",
      "Date:   Thu Nov 8 08:39:49 2018 +0100\n",
      "\n",
      "    Fix virtualbox tests\n",
      "\n",
      "\u001b[33mcommit ceee7fbadd74dec8ff892fe0a34bf04c3e41c447\u001b[m\n",
      "Author: Michał Rowicki <mirowicki@gmail.com>\n",
      "Date:   Thu Nov 8 00:57:26 2018 +0100\n",
      "\n",
      "    Fix utilities tests\n",
      "\n",
      "\u001b[33mcommit ef6b47f62b568717618688b9f8efca431118120e\u001b[m\n",
      "Author: Michał Rowicki <mirowicki@gmail.com>\n",
      "Date:   Thu Nov 8 00:51:00 2018 +0100\n",
      "\n",
      "    Qnapi is impossible to install under bionic\n",
      "\n",
      "\u001b[33mcommit 1afd0dd7ad6253b6c76e016bd9b952abf0aafaa7\u001b[m\n",
      "Author: Michał Rowicki <mirowicki@gmail.com>\n",
      "Date:   Thu Nov 8 00:44:32 2018 +0100\n",
      "\n",
      "    Do not restart plank during tests\n",
      "\n",
      "\u001b[33mcommit 121662328e35a5ada9b3da1f041b7f3077e50a41\u001b[m\n",
      "Author: Michał Rowicki <mirowicki@gmail.com>\n",
      "Date:   Thu Nov 8 00:38:46 2018 +0100\n",
      "\n",
      "    Add killall package\n",
      "\n",
      "\u001b[33mcommit 597525b7e8456f105e4a1b7ba1033bfb3be32e8b\u001b[m\n",
      "Author: Michał Rowicki <mirowicki@gmail.com>\n",
      "Date:   Thu Nov 8 00:32:06 2018 +0100\n",
      "\n",
      "    Fix Plank installation\n",
      "\n",
      "\u001b[33mcommit 01ba7c2693cf4d025e2ecabdf24be691035d53c5\u001b[m\n",
      "Author: Michał Rowicki <mirowicki@gmail.com>\n",
      "Date:   Thu Nov 8 00:21:36 2018 +0100\n",
      "\n",
      "    Do not install jetbrains toolbox on docker\n",
      "\n",
      "\u001b[33mcommit 5f9967b0c675bf976220f2fd5f309c237fb4db4f\u001b[m\n",
      "Author: Michał Rowicki <mirowicki@gmail.com>\n",
      "Date:   Thu Nov 8 00:11:52 2018 +0100\n",
      "\n",
      "    Test jetbrains-toolbox\n",
      "\n",
      "\u001b[33mcommit b59a363a090ee3000db1763dc0716f54d21ec815\u001b[m\n",
      "Author: Michał Rowicki <mirowicki@gmail.com>\n",
      "Date:   Thu Nov 8 00:03:19 2018 +0100\n",
      "\n",
      "    Do not install oracle java 8 on tests\n",
      "\n",
      "\u001b[33mcommit a8e7b87a3f6b377ed52eb1b57d138fc938f7eec9\u001b[m\n",
      "Author: Michał Rowicki <mirowicki@gmail.com>\n",
      "Date:   Wed Nov 7 23:57:13 2018 +0100\n",
      "\n",
      "    Install apt-utils in other task\n",
      "\n",
      "\u001b[33mcommit 2eb2f51a15d13aac852868c78dba1fba88a2c3fa\u001b[m\n",
      "Author: Michał Rowicki <mirowicki@gmail.com>\n",
      "Date:   Wed Nov 7 23:51:52 2018 +0100\n",
      "\n",
      "    Add apt-utils for installing jdks\n",
      "\n",
      "\u001b[33mcommit 85618941d7437092e9a86a8feb433d2965068acf\u001b[m\n",
      "Author: Michał Rowicki <mirowicki@gmail.com>\n",
      "Date:   Wed Nov 7 23:45:14 2018 +0100\n",
      "\n",
      "    Fix paths\n",
      "\n",
      "\u001b[33mcommit 456b1d521552d180af7702220941cc4d4d5bffd1\u001b[m\n",
      "Author: Michał Rowicki <mirowicki@gmail.com>\n",
      "Date:   Wed Nov 7 23:42:15 2018 +0100\n",
      "\n",
      "    Fix paths\n",
      "\n",
      "\u001b[33mcommit 50f12713c2111f29edd0e3bec4704d720e3ea7b7\u001b[m\n",
      "Author: Michał Rowicki <mirowicki@gmail.com>\n",
      "Date:   Wed Nov 7 23:37:19 2018 +0100\n",
      "\n",
      "    Fix home location and fusuma dconf\n",
      "\n",
      "\u001b[33mcommit 4569770077082cd6c094a8eed99462028aa3d633\u001b[m\n",
      "Author: Michał Rowicki <mirowicki@gmail.com>\n",
      "Date:   Wed Nov 7 23:34:03 2018 +0100\n",
      "\n",
      "    Fix home location and fusuma dconf\n",
      "\n",
      "\u001b[33mcommit 7031f028a4905266829a47466874333e9a73c9f6\u001b[m\n",
      "Author: Michał Rowicki <mirowicki@gmail.com>\n",
      "Date:   Wed Nov 7 23:25:31 2018 +0100\n",
      "\n",
      "    Fix home location and fusuma dconf\n",
      "\n",
      "\u001b[33mcommit 045069bdfe6d9c41f0cd91e36078225dbde9a491\u001b[m\n",
      "Author: Michał Rowicki <mirowicki@gmail.com>\n",
      "Date:   Wed Nov 7 23:19:33 2018 +0100\n",
      "\n",
      "    use std_out from user_home\n",
      "\n",
      "\u001b[33mcommit 2f462ecc18def2d3ab9f46c669aa592c57c1d150\u001b[m\n",
      "Author: Michał Rowicki <mirowicki@gmail.com>\n",
      "Date:   Wed Nov 7 23:10:18 2018 +0100\n",
      "\n",
      "    Add dconf-cli\n",
      "\n",
      "\u001b[33mcommit 8649e1d73ed5394e33b2b503ea6abbaf099818e1\u001b[m\n",
      "Author: Michał Rowicki <mirowicki@gmail.com>\n",
      "Date:   Wed Nov 7 22:54:40 2018 +0100\n",
      "\n",
      "    Fix fusuma test\n",
      "\n",
      "\u001b[33mcommit 9e840cee804e1c6135a9d7594c02edcad4fe823d\u001b[m\n",
      "Author: Michał Rowicki <mirowicki@gmail.com>\n",
      "Date:   Wed Nov 7 22:48:37 2018 +0100\n",
      "\n",
      "    Fix elementary tweaks\n",
      "\n",
      "\u001b[33mcommit 4b048fd931194d25810e9faed8bbea2e02203abe\u001b[m\n",
      "Author: Michał Rowicki <mirowicki@gmail.com>\n",
      "Date:   Wed Nov 7 22:41:28 2018 +0100\n",
      "\n",
      "    Add wget dependency for dropbox installation\n",
      "\n",
      "\u001b[33mcommit f664d3a8141f32f7143bd2d60c3dc666a803c6d1\u001b[m\n",
      "Author: Michał Rowicki <mirowicki@gmail.com>\n",
      "Date:   Wed Nov 7 22:34:20 2018 +0100\n",
      "\n",
      "    Use generic home\n",
      "\n",
      "\u001b[33mcommit 51d4ebe34ef1181c7a6df229d7b851b8b6b8270f\u001b[m\n",
      "Author: Michał Rowicki <mirowicki@gmail.com>\n",
      "Date:   Wed Nov 7 21:49:33 2018 +0100\n",
      "\n",
      "    Retrieve proper home location 3\n",
      "\n",
      "\u001b[33mcommit be8ba87ffa3209edd04dcd944f0a41efc69f0f7a\u001b[m\n",
      "Author: Michał Rowicki <mirowicki@gmail.com>\n",
      "Date:   Wed Nov 7 21:35:05 2018 +0100\n",
      "\n",
      "    Retrieve proper home location 2\n",
      "\n",
      "\u001b[33mcommit bc8fd9ee1613eaaa23053758b1fa4dd125027cfc\u001b[m\n",
      "Author: Michał Rowicki <mirowicki@gmail.com>\n",
      "Date:   Wed Nov 7 21:31:46 2018 +0100\n"
     ]
    },
    {
     "name": "stdout",
     "output_type": "stream",
     "text": [
      "\n",
      "    Retrieve proper home location\n",
      "\n",
      "\u001b[33mcommit e9a6241dc533e05850fd129a1752784de3ca88d2\u001b[m\n",
      "Author: Michał Rowicki <mirowicki@gmail.com>\n",
      "Date:   Wed Nov 7 20:43:41 2018 +0100\n",
      "\n",
      "    Fix checking dropbox installation\n",
      "\n",
      "\u001b[33mcommit fbb5806cbf6ae4a3557f96802e42e77accabc23d\u001b[m\n",
      "Author: Michał Rowicki <mirowicki@gmail.com>\n",
      "Date:   Wed Nov 7 20:16:10 2018 +0100\n",
      "\n",
      "    Print more verbose info\n",
      "\n",
      "\u001b[33mcommit 65c72fb998493e3666a2178ca634cd1bc7527d89\u001b[m\n",
      "Author: Michał Rowicki <mirowicki@gmail.com>\n",
      "Date:   Wed Nov 7 19:52:20 2018 +0100\n",
      "\n",
      "    Try to fix dropbox condition\n",
      "\n",
      "\u001b[33mcommit 1f427a0d8b6149e9fdc24ae0ddcc4f34d5c8887e\u001b[m\n",
      "Author: Michał Rowicki <mirowicki@gmail.com>\n",
      "Date:   Wed Nov 7 19:35:10 2018 +0100\n",
      "\n",
      "    Miss no-tests tagged tasks\n",
      "\n",
      "\u001b[33mcommit 7a6f974bda9071b320378fa5a6108f3f68b49782\u001b[m\n",
      "Author: Michał Rowicki <mirowicki@gmail.com>\n",
      "Date:   Wed Nov 7 19:26:04 2018 +0100\n",
      "\n",
      "    Show resolv.conf\n",
      "\n",
      "\u001b[33mcommit 11549026e2db9d2e064ba9cd83ee3b2f215be110\u001b[m\n",
      "Author: Michał Rowicki <mirowicki@gmail.com>\n",
      "Date:   Wed Nov 7 19:20:06 2018 +0100\n",
      "\n",
      "    Show resolv.conf\n",
      "\n",
      "\u001b[33mcommit d0371a98450cc282170edfccd1d3ee6c739d54c4\u001b[m\n",
      "Author: Michał Rowicki <mirowicki@gmail.com>\n",
      "Date:   Wed Nov 7 19:12:46 2018 +0100\n",
      "\n",
      "    Print resolv.conf fix2\n",
      "\n",
      "\u001b[33mcommit 190f005413f3be3856a7e07386f340b9417545a4\u001b[m\n",
      "Author: Michał Rowicki <mirowicki@gmail.com>\n",
      "Date:   Wed Nov 7 19:06:22 2018 +0100\n",
      "\n",
      "    Print resolv.conf fix\n",
      "\n",
      "\u001b[33mcommit d5fe36a2e2568086bb6b3abd189f454c6b04bac0\u001b[m\n",
      "Author: Michał Rowicki <mirowicki@gmail.com>\n",
      "Date:   Wed Nov 7 19:00:39 2018 +0100\n",
      "\n",
      "    Print resolv.conf\n",
      "\n",
      "\u001b[33mcommit 1c857bea9f8335b4aea925accbeeeb130e3ca96a\u001b[m\n",
      "Author: Michał Rowicki <mirowicki@gmail.com>\n",
      "Date:   Wed Nov 7 18:43:09 2018 +0100\n",
      "\n",
      "    Fix setting link to proper resolv.conf\n",
      "\n",
      "\u001b[33mcommit 63520d6c6b386eb27d6b4f568565c58358d44a18\u001b[m\n",
      "Author: Michał Rowicki <mirowicki@gmail.com>\n",
      "Date:   Wed Nov 7 18:31:11 2018 +0100\n",
      "\n",
      "    Fix installation getcap/setcap on test machine\n",
      "\n",
      "\u001b[33mcommit cd8f9d3017cd410436ad835280939ed870302b06\u001b[m\n",
      "Author: Michał Rowicki <mirowicki@gmail.com>\n",
      "Date:   Wed Nov 7 18:19:02 2018 +0100\n",
      "\n",
      "    Miss caprine for tessts purposes\n",
      "    \n",
      "    Install role for dns test\n",
      "\n",
      "\u001b[33mcommit a322db75afec6487841b5a6707d43d2b59bcb734\u001b[m\n",
      "Author: Michał Rowicki <mirowicki@gmail.com>\n",
      "Date:   Wed Nov 7 18:05:50 2018 +0100\n",
      "\n",
      "    Try to run full playbook\n",
      "\n",
      "\u001b[33mcommit f821b316cf443a0c51e51f5f260b10237bdef59b\u001b[m\n",
      "Author: Michał Rowicki <mirowicki@gmail.com>\n",
      "Date:   Wed Nov 7 18:03:40 2018 +0100\n",
      "\n",
      "    Update readme.md\n",
      "\n",
      "\u001b[33mcommit cbc8ed0bc307d4067a32d4062c7fe76fb151af89\u001b[m\n",
      "Author: Michał Rowicki <mirowicki@gmail.com>\n",
      "Date:   Wed Nov 7 17:59:24 2018 +0100\n",
      "\n",
      "    Fix travis-ci checking style\n",
      "\n",
      "\u001b[33mcommit a5249daa5ea177454d585a91118ea3157ca96fbe\u001b[m\n",
      "Author: Michał Rowicki <mirowicki@gmail.com>\n",
      "Date:   Wed Nov 7 17:51:55 2018 +0100\n",
      "\n",
      "    Fix bionic dockerfile\n",
      "\n",
      "\u001b[33mcommit 0bcdc44396086a3683210df8b223b5a43a42b5b7\u001b[m\n",
      "Author: Michał Rowicki <mirowicki@gmail.com>\n",
      "Date:   Wed Nov 7 17:37:54 2018 +0100\n",
      "\n",
      "    Add travis-ci configuration for sudo\n",
      "\n",
      "\u001b[33mcommit 1bf08c98a095e9f549df76b7fdf54a417d878b51\u001b[m\n",
      "Author: Michał Rowicki <mirowicki@gmail.com>\n",
      "Date:   Wed Nov 7 17:32:55 2018 +0100\n",
      "\n",
      "    Add CI Travis build status\n",
      "\n",
      "\u001b[33mcommit bd6e658914bc6b2f0b3980ae078ebf3e31c21442\u001b[m\n",
      "Author: Michał Rowicki <mirowicki@gmail.com>\n",
      "Date:   Wed Nov 7 17:23:18 2018 +0100\n",
      "\n",
      "    Add travis-ci configuration\n",
      "\n",
      "\u001b[33mcommit 5659b8beaf922f89f05cf3b795c784ba6d69e437\u001b[m\n",
      "Author: Michał Rowicki <mirowicki@gmail.com>\n",
      "Date:   Tue Nov 6 22:11:03 2018 +0100\n",
      "\n",
      "    Install shutter\n",
      "\n",
      "\u001b[33mcommit b30b7f73c8a6efe57ff3901bed793f3d4baade28\u001b[m\n",
      "Author: Michał Rowicki <mirowicki@gmail.com>\n",
      "Date:   Tue Nov 6 22:08:05 2018 +0100\n",
      "\n",
      "    Install ffmpeg\n",
      "\n",
      "\u001b[33mcommit 0611ee55d6fbb6cf1715c96a88d575f5d29943af\u001b[m\n",
      "Author: Michał Rowicki <mirowicki@gmail.com>\n",
      "Date:   Tue Nov 6 22:07:52 2018 +0100\n",
      "\n",
      "    Install Archive Formats and Restricted Extras\n",
      "\n",
      "\u001b[33mcommit 2cd0f01efc39ad23e9ef19b6e5f1f7270bacc38b\u001b[m\n",
      "Author: Michał Rowicki <mirowicki@gmail.com>\n",
      "Date:   Tue Nov 6 21:57:38 2018 +0100\n",
      "\n",
      "    Add installation of jdk\n",
      "\n",
      "\u001b[33mcommit 35d9c1501c0433f62e2ebb5e517c0e3f7116e119\u001b[m\n",
      "Author: Michał Rowicki <mirowicki@gmail.com>\n",
      "Date:   Tue Nov 6 21:44:09 2018 +0100\n",
      "\n",
      "    Add installation of Virtualbox\n",
      "\n",
      "\u001b[33mcommit 081b71fc4e18144493b49f304b6bea2fbc8222b1\u001b[m\n",
      "Author: Michał Rowicki <mirowicki@gmail.com>\n",
      "Date:   Tue Nov 6 21:21:57 2018 +0100\n",
      "\n",
      "    Add installation of remmina\n",
      "\n",
      "\u001b[33mcommit f4f9d37505f3c697c732d75209b0474c7faa1ad2\u001b[m\n",
      "Author: Michał Rowicki <mirowicki@gmail.com>\n",
      "Date:   Tue Nov 6 21:17:32 2018 +0100\n",
      "\n",
      "    Add installation of elementary-tweaks\n",
      "\n",
      "\u001b[33mcommit f4f7e0d07afab8cdf86dbfe12dc0ee85840b12fe\u001b[m\n",
      "Author: Michał Rowicki <mirowicki@gmail.com>\n",
      "Date:   Tue Nov 6 21:16:15 2018 +0100\n",
      "\n",
      "    Fix repo ppa\n",
      "\n",
      "\u001b[33mcommit 131db57748a745cf5da5e849f13554b9bc9eadd0\u001b[m\n",
      "Author: Michał Rowicki <mirowicki@gmail.com>\n",
      "Date:   Tue Nov 6 21:07:45 2018 +0100\n",
      "\n",
      "    Install qnapi (linux version of NapiProjekt)\n",
      "\n",
      "\u001b[33mcommit 56ea8ee4e0695b5d6f96421250fb50a95e4e9d3c\u001b[m\n",
      "Author: Michał Rowicki <mirowicki@gmail.com>\n",
      "Date:   Tue Nov 6 21:00:58 2018 +0100\n",
      "\n",
      "    Fix tag\n",
      "\n",
      "\u001b[33mcommit 37ad6761abf4d4dc9a248ac9e7689a05e448ae6b\u001b[m\n",
      "Author: Michał Rowicki <mirowicki@gmail.com>\n",
      "Date:   Tue Nov 6 20:58:49 2018 +0100\n",
      "\n",
      "    Fix message\n",
      "\n",
      "\u001b[33mcommit 3425491d96082bb3136620d166b3638b7aaf7f84\u001b[m\n",
      "Author: Michał Rowicki <mirowicki@gmail.com>\n",
      "Date:   Tue Nov 6 20:58:25 2018 +0100\n",
      "\n",
      "    Add grub-customizer\n",
      "\n",
      "\u001b[33mcommit b8d04e0f2fdc5902403b9ae1ef32c35b58c4c3b9\u001b[m\n",
      "Author: Michał Rowicki <mirowicki@gmail.com>\n",
      "Date:   Tue Nov 6 20:53:39 2018 +0100\n",
      "\n",
      "    Provide one liner command to start installation\n",
      "\n",
      "\u001b[33mcommit fc979ef9eccac9a74d73d7c1c49cc6f05dcb3ee1\u001b[m\n",
      "Author: Michał Rowicki <mirowicki@gmail.com>\n",
      "Date:   Tue Nov 6 20:52:37 2018 +0100\n",
      "\n",
      "    Fix message\n",
      "\n",
      "\u001b[33mcommit 98215a277c80b5f9e91b29e5435447fd48c1c1b0\u001b[m\n",
      "Author: Michał Rowicki <mirowicki@gmail.com>\n",
      "Date:   Tue Nov 6 20:51:42 2018 +0100\n",
      "\n",
      "    Make installation dropbox idempotent\n",
      "\n",
      "\u001b[33mcommit d17d75c9a31d94acbc6ffd5ab7052455de607177\u001b[m\n",
      "Author: Michał Rowicki <mirowicki@gmail.com>\n",
      "Date:   Tue Nov 6 20:49:39 2018 +0100\n",
      "\n",
      "    Fix system service name\n",
      "\n",
      "\u001b[33mcommit b7f3f12e98cdc54588cb48df4d7fae7c597953ce\u001b[m\n",
      "Author: Michał Rowicki <mirowicki@gmail.com>\n",
      "Date:   Tue Nov 6 20:49:09 2018 +0100\n",
      "\n",
      "    Firstly install key then repository\n",
      "\n",
      "\u001b[33mcommit 31c19b0b3a029208e0af52fb5156cebf74d6038f\u001b[m\n",
      "Author: Michał Rowicki <mirowicki@gmail.com>\n",
      "Date:   Tue Nov 6 18:08:39 2018 +0100\n",
      "\n",
      "    Ignore files modified by ansible playbooks\n",
      "\n",
      "\u001b[33mcommit e888b19aa0115210ae89923c24594e0898d375fe\u001b[m\n",
      "Author: Michał Rowicki <mirowicki@gmail.com>\n",
      "Date:   Tue Nov 6 18:06:00 2018 +0100\n",
      "\n",
      "    Add your keepassxc configuration\n",
      "\n",
      "\u001b[33mcommit 0910961dc86b9a49d277b45531da76a0c1cc17bf\u001b[m\n",
      "Author: Michał Rowicki <mirowicki@gmail.com>\n",
      "Date:   Tue Nov 6 16:58:50 2018 +0100\n",
      "\n",
      "    Print stderr on red in terminal\n",
      "\n",
      "\u001b[33mcommit 6613f552de88c750e08cd75b31371286ae1ef154\u001b[m\n",
      "Author: Michał Rowicki <mirowicki@gmail.com>\n",
      "Date:   Tue Nov 6 16:46:31 2018 +0100\n",
      "\n",
      "    Update readme\n",
      "\n",
      "\u001b[33mcommit 04a4e6f40b0f46f748d57313828f259ebe103a23\u001b[m\n",
      "Author: Michał Rowicki <mirowicki@gmail.com>\n",
      "Date:   Tue Nov 6 16:29:29 2018 +0100\n",
      "\n",
      "    Remove conflicting shortcuts with IntellIJ IDEA from system\n",
      "\n",
      "\u001b[33mcommit 14d90acacdfd004ef1a64bc422ae5e4b9c5e885e\u001b[m\n",
      "Author: Michał Rowicki <mirowicki@gmail.com>\n",
      "Date:   Tue Nov 6 16:12:33 2018 +0100\n",
      "\n",
      "    Update script to install whole configuration\n",
      "\n",
      "\u001b[33mcommit 00e38971fc2c62889b161cc45ffa6803fdf88bec\u001b[m\n",
      "Author: Michał Rowicki <mirowicki@gmail.com>\n",
      "Date:   Tue Nov 6 16:07:18 2018 +0100\n",
      "\n",
      "    Update way of installation and list of tested playbooks\n",
      "\n",
      "\u001b[33mcommit c496cf9a30f0e25ffd8b8c535294d13bb1e083f2\u001b[m\n",
      "Author: Michał Rowicki <mirowicki@gmail.com>\n",
      "Date:   Tue Nov 6 16:06:12 2018 +0100\n",
      "\n",
      "    Tag playbooks\n",
      "\n",
      "\u001b[33mcommit 6c39a77c824ec72253718e7db697f4d8f5b460b9\u001b[m\n",
      "Author: Michał Rowicki <mirowicki@gmail.com>\n",
      "Date:   Tue Nov 6 16:05:28 2018 +0100\n",
      "\n",
      "    Refactor and tag wallpapers.yml playbook\n",
      "\n",
      "\u001b[33mcommit e9cbcd540888dfd6a5c7ecc8b283953c4c87b861\u001b[m\n",
      "Author: Michał Rowicki <mirowicki@gmail.com>\n",
      "Date:   Tue Nov 6 16:04:53 2018 +0100\n",
      "\n",
      "    Tag vivaldi.yml and change task order\n",
      "\n",
      "\u001b[33mcommit 59fbbdad19d434a12ac9fe0f10a5d79eb9ecf200\u001b[m\n",
      "Author: Michał Rowicki <mirowicki@gmail.com>\n",
      "Date:   Tue Nov 6 16:04:09 2018 +0100\n"
     ]
    },
    {
     "name": "stdout",
     "output_type": "stream",
     "text": [
      "\n",
      "    Tag vim.yml playbook\n",
      "\n",
      "\u001b[33mcommit f33710508bb4ce0aa6bd36f8aa5baf120cfa4445\u001b[m\n",
      "Author: Michał Rowicki <mirowicki@gmail.com>\n",
      "Date:   Tue Nov 6 16:03:43 2018 +0100\n",
      "\n",
      "    Refactor utilities.yml playbook\n",
      "\n",
      "\u001b[33mcommit 2d4b4c84d1741e05990af429413e0f23abaed01b\u001b[m\n",
      "Author: Michał Rowicki <mirowicki@gmail.com>\n",
      "Date:   Tue Nov 6 16:02:54 2018 +0100\n",
      "\n",
      "    Refactor terminal-tools playbook\n",
      "    \n",
      "    Terminal tools playbook was kind of big so it was decomposed in 4\n",
      "    playbooks:\n",
      "    terminal-tools.yml with installation of terminal tools\n",
      "    sdkman.yml with installation sdkman (it's kinda specific by bash)\n",
      "    yakuake.yml with configuration yakuake\n",
      "    zsh.yml with configuration zsh\n",
      "    \n",
      "    In case of zsh.yml it has been added installation of custof fonts to\n",
      "    fix gaps between segments.\n",
      "\n",
      "\u001b[33mcommit fc39d78be4bbd7a5d57753afae316d5602815d42\u001b[m\n",
      "Author: Michał Rowicki <mirowicki@gmail.com>\n",
      "Date:   Tue Nov 6 15:58:18 2018 +0100\n",
      "\n",
      "    Fix configuration plank\n",
      "    \n",
      "    Tags added\n",
      "    Fix used module\n",
      "    Fix dconf paths\n",
      "\n",
      "\u001b[33mcommit c883b923d4fd4dea99fe846b13f41f352fcd5486\u001b[m\n",
      "Author: Michał Rowicki <mirowicki@gmail.com>\n",
      "Date:   Tue Nov 6 15:55:41 2018 +0100\n",
      "\n",
      "    Tag nord-vpn.yml playbook\n",
      "\n",
      "\u001b[33mcommit 8a143e6ceae7fa875e9d514958cf88da4a85fa89\u001b[m\n",
      "Author: Michał Rowicki <mirowicki@gmail.com>\n",
      "Date:   Tue Nov 6 15:55:11 2018 +0100\n",
      "\n",
      "    Refactor multimedia-codecs.yml playbook\n",
      "\n",
      "\u001b[33mcommit 14bf2b3fd9dbe7200f16a35dcb34497c74349eee\u001b[m\n",
      "Author: Michał Rowicki <mirowicki@gmail.com>\n",
      "Date:   Tue Nov 6 15:54:23 2018 +0100\n",
      "\n",
      "    Add tags keepassxc.yml playbook\n",
      "\n",
      "\u001b[33mcommit 60d304721f7acbf3e2273c673b15666340143204\u001b[m\n",
      "Author: Michał Rowicki <mirowicki@gmail.com>\n",
      "Date:   Tue Nov 6 15:53:52 2018 +0100\n",
      "\n",
      "    Refactorization of jetbrains-toolbox.yml playbook\n",
      "    \n",
      "    Added tags\n",
      "    Fix command\n",
      "\n",
      "\u001b[33mcommit 9463ebe6b60337ba116df9cd45e1402dac8b9385\u001b[m\n",
      "Author: Michał Rowicki <mirowicki@gmail.com>\n",
      "Date:   Tue Nov 6 15:52:58 2018 +0100\n",
      "\n",
      "    Refactorization of flatpak playbook\n",
      "    \n",
      "    Fix using dconf (there was missed quotes)\n",
      "    Fix installation gem (gem module seems not to work)\n",
      "    Add tags: fusuma, gestures\n",
      "\n",
      "\u001b[33mcommit 8721ec28249f77a498e2978621b544ebd76bb098\u001b[m\n",
      "Author: Michał Rowicki <mirowicki@gmail.com>\n",
      "Date:   Tue Nov 6 15:51:11 2018 +0100\n",
      "\n",
      "    Refactorization of flatpak playbook\n",
      "\n",
      "\u001b[33mcommit fa3389f3501fd10870470a655dc44ff55633b046\u001b[m\n",
      "Author: Michał Rowicki <mirowicki@gmail.com>\n",
      "Date:   Tue Nov 6 15:50:41 2018 +0100\n",
      "\n",
      "    Refactorization of elementary-os-apps playbook\n",
      "\n",
      "\u001b[33mcommit 97abe6583c0174970a23ac83d81f1e4a6e20344d\u001b[m\n",
      "Author: Michał Rowicki <mirowicki@gmail.com>\n",
      "Date:   Tue Nov 6 15:50:13 2018 +0100\n",
      "\n",
      "    Refactorization of dropbox for elementary playbook\n",
      "\n",
      "\u001b[33mcommit 248052f99a3948510c8eccdffc69ae60aa70abd4\u001b[m\n",
      "Author: Michał Rowicki <mirowicki@gmail.com>\n",
      "Date:   Tue Nov 6 15:49:35 2018 +0100\n",
      "\n",
      "    Refactorization of docker playbook\n",
      "\n",
      "\u001b[33mcommit 125901ef82e91da7fff63646a6120279f018fc9b\u001b[m\n",
      "Author: Michał Rowicki <mirowicki@gmail.com>\n",
      "Date:   Tue Nov 6 15:48:45 2018 +0100\n",
      "\n",
      "    Use forked modified role for cloudflared\n",
      "    \n",
      "    Playbook has been tagged and it was added system configuration to use\n",
      "    DNS over HTTPS before all other DNS servers.\n",
      "\n",
      "\u001b[33mcommit 44f5e9e7e67fd91df6b7054fea4683b226d534ae\u001b[m\n",
      "Author: Michał Rowicki <mirowicki@gmail.com>\n",
      "Date:   Tue Nov 6 15:40:54 2018 +0100\n",
      "\n",
      "    Set Chrome tag\n",
      "\n",
      "\u001b[33mcommit 8ff9708902ef96ed3d5f9db12768ca89af6176b7\u001b[m\n",
      "Author: Michał Rowicki <mirowicki@gmail.com>\n",
      "Date:   Tue Nov 6 15:40:15 2018 +0100\n",
      "\n",
      "    Set Caprine tag\n",
      "\n",
      "\u001b[33mcommit 5ab6d3a6729fc7b19dfc903b998364a07301f871\u001b[m\n",
      "Author: Michał Rowicki <mirowicki@gmail.com>\n",
      "Date:   Sun Nov 4 10:01:06 2018 +0100\n",
      "\n",
      "    Use modified role for installing cloudflared\n",
      "    \n",
      "    Fix installation with superuser permissions\n",
      "\n",
      "\u001b[33mcommit 04a64c9da35c4fa56c1032ddaf0fe7033cd70ac1\u001b[m\n",
      "Author: Michał Rowicki <mirowicki@gmail.com>\n",
      "Date:   Sat Nov 3 14:23:05 2018 +0100\n",
      "\n",
      "    ignore temp files\n",
      "\n",
      "\u001b[33mcommit 338eca7cd329dc11619464e91703b7c074ead7b4\u001b[m\n",
      "Author: Michał Rowicki <mirowicki@gmail.com>\n",
      "Date:   Sat Nov 3 14:21:48 2018 +0100\n",
      "\n",
      "    Fix wingpanel-ayatana pplaybook\n",
      "    \n",
      "    wingpanel-ayatana is intended for showing custom icons in top system\n",
      "    bar in elementary os. This script appends indicator-application to\n",
      "    gnome autostart, configured to handle Pantheon environment. Further\n",
      "    it install old package from elementary os loki for showing icons in\n",
      "    wingpanel (wingpanel-indicator-ayatana). In the end script modifies\n",
      "    system css to fix wide spacing of icons (there is a lot of space\n",
      "    between custom icons on default).\n",
      "    \n",
      "    There has been deleted installation of unofficial patched\n",
      "    indicator-application.\n",
      "\n",
      "\u001b[33mcommit d9a76ac121f24f865449a45277a9ad7068f04189\u001b[m\n",
      "Author: Michał Rowicki <mirowicki@gmail.com>\n",
      "Date:   Sat Nov 3 07:09:10 2018 +0100\n",
      "\n",
      "    Fix name for task vim installation\n",
      "\n",
      "\u001b[33mcommit 22055ea8f8f161aa07197ce8e1a69cd0f21932b7\u001b[m\n",
      "Author: Michał Rowicki <mirowicki@gmail.com>\n",
      "Date:   Fri Nov 2 23:04:37 2018 +0100\n",
      "\n",
      "    Add LICENSE\n",
      "\n",
      "\u001b[33mcommit 711654125cd95c31564c7ffd7518c351557b3a48\u001b[m\n",
      "Author: Michał Rowicki <mirowicki@gmail.com>\n",
      "Date:   Fri Nov 2 22:12:04 2018 +0100\n",
      "\n",
      "    Add playbook to install ayatana (to show indicators at top bar)\n",
      "\n",
      "\u001b[33mcommit ab69fe9b7226c0e3aef164ff19bdb86c71da19af\u001b[m\n",
      "Author: Michał Rowicki <mirowicki@gmail.com>\n",
      "Date:   Fri Nov 2 22:10:46 2018 +0100\n",
      "\n",
      "    Create readme with instruction for installing elementary as a code\n",
      "\n",
      "\u001b[33mcommit 07d80b2795df9d1e81b7c5dbf1c4ec3ef09b1d97\u001b[m\n",
      "Author: Michał Rowicki <mirowicki@gmail.com>\n",
      "Date:   Fri Nov 2 22:09:58 2018 +0100\n",
      "\n",
      "    Fix indentation and way of installing packages for yubikey\n",
      "\n",
      "\u001b[33mcommit ed7bf91fc97f1ce9286bcfcb50b1bc70f9d6e481\u001b[m\n",
      "Author: Michał Rowicki <mirowicki@gmail.com>\n",
      "Date:   Fri Nov 2 22:09:11 2018 +0100\n",
      "\n",
      "    Add root priviliges to task for installation wireshark\n",
      "\n",
      "\u001b[33mcommit 91d18def75728e9d12078b21807fd0d34381d93c\u001b[m\n",
      "Author: Michał Rowicki <mirowicki@gmail.com>\n",
      "Date:   Fri Nov 2 22:08:23 2018 +0100\n",
      "\n",
      "    Fix vim playbook installation\n",
      "\n",
      "\u001b[33mcommit 937dc41f849d1ba6c73385095d773aadebc5f388\u001b[m\n",
      "Author: Michał Rowicki <mirowicki@gmail.com>\n",
      "Date:   Fri Nov 2 22:07:52 2018 +0100\n",
      "\n",
      "    Fix keepassxc playbook indentation\n",
      "\n",
      "\u001b[33mcommit 5cd7e271de0f8a557f5907cc231764f7e2cf730c\u001b[m\n",
      "Author: Michał Rowicki <mirowicki@gmail.com>\n",
      "Date:   Fri Nov 2 22:06:57 2018 +0100\n",
      "\n",
      "    Remove gestures playbook\n",
      "\n",
      "\u001b[33mcommit d10c5cc036e3fb5dfcba105b2213e064e596bacc\u001b[m\n",
      "Author: Michał Rowicki <mirowicki@gmail.com>\n",
      "Date:   Fri Nov 2 22:06:25 2018 +0100\n",
      "\n",
      "    Install packages without loop, append dependencies for dconf module\n",
      "\n",
      "\u001b[33mcommit 9e0da6329950ed0c59258767747a6b2f87d26d6a\u001b[m\n",
      "Author: Michał Rowicki <mirowicki@gmail.com>\n",
      "Date:   Fri Nov 2 22:05:18 2018 +0100\n",
      "\n",
      "    Fix installation flatpak repo\n",
      "\n",
      "\u001b[33mcommit ed3fb360345243db2c7c4266c284ea5148f005e6\u001b[m\n",
      "Author: Michał Rowicki <mirowicki@gmail.com>\n",
      "Date:   Fri Nov 2 22:04:29 2018 +0100\n",
      "\n",
      "    Fix installation of dropbox on elementary os\n",
      "\n",
      "\u001b[33mcommit 05438c4bb10b0e3091a793cd2a7f06cb119b821a\u001b[m\n",
      "Author: Michał Rowicki <mirowicki@gmail.com>\n",
      "Date:   Fri Nov 2 22:03:36 2018 +0100\n",
      "\n",
      "    Add comments how to fix installation of cloudflared client\n",
      "\n",
      "\u001b[33mcommit e79597043aef011e3c5c6ffc7e88ebf46249b5fc\u001b[m\n",
      "Author: Michał Rowicki <mirowicki@gmail.com>\n",
      "Date:   Fri Nov 2 22:02:27 2018 +0100\n",
      "\n",
      "    Do not validate certificates of chrome repo\n",
      "\n",
      "\u001b[33mcommit eff8d1507e89daa7c4a7d53787696c45bc6f012c\u001b[m\n",
      "Author: Michał Rowicki <mirowicki@gmail.com>\n",
      "Date:   Fri Nov 2 22:01:54 2018 +0100\n",
      "\n",
      "    Install snapd before installing caprine with snap\n",
      "\n",
      "\u001b[33mcommit 3170093b4e0ee52412fb11cb2d39661627a633c4\u001b[m\n",
      "Author: Michał Rowicki <mirowicki@gmail.com>\n",
      "Date:   Fri Nov 2 22:01:10 2018 +0100\n",
      "\n",
      "    Fix autostart loop over files\n",
      "\n",
      "\u001b[33mcommit c1acb5717a58bacc6ecfa49d3dd5f46068994b17\u001b[m\n",
      "Author: Michał Rowicki <mirowicki@gmail.com>\n",
      "Date:   Fri Nov 2 22:00:27 2018 +0100\n",
      "\n",
      "    Ignore retry files\n",
      "\n",
      "\u001b[33mcommit 0124caeb003d38136c27cacb810d9323224ef0f6\u001b[m\n",
      "Author: Grzegorz Skupien <grzegorz@skupien.net>\n",
      "Date:   Fri Nov 2 12:40:36 2018 +0100\n",
      "\n",
      "    Use set instead of list to store all gsettings commands\n",
      "    \n",
      "    In case of checking partials enabled it is common to have some commands\n",
      "    duplicated. Such duplication may slow down automatic command execution.\n",
      "    To prevents such behaviour set instead of list has been introduced to\n"
     ]
    },
    {
     "name": "stdout",
     "output_type": "stream",
     "text": [
      "    store all_commands.\n",
      "\n",
      "\u001b[33mcommit b34f16d85254fc9cad9c5ef838e9e83ff23f08ed\u001b[m\n",
      "Author: Grzegorz Skupien <grzegorz@skupien.net>\n",
      "Date:   Fri Nov 2 12:37:59 2018 +0100\n",
      "\n",
      "    Add flag for checking partial keystroke coverage\n",
      "    \n",
      "    Checking partial is not turned off by default. Special flag has been\n",
      "    introduced to allow usage of this function if someone really needs it.\n",
      "\n",
      "\u001b[33mcommit b1a71c56ec4b63c86f1fe007a88e35b6f5779964\u001b[m\n",
      "Author: Grzegorz Skupien <grzegorz@skupien.net>\n",
      "Date:   Mon Oct 29 22:57:23 2018 +0100\n",
      "\n",
      "    Provide explanation for condition matching shortcuts\n",
      "\n",
      "\u001b[33mcommit 7691d228aae7dc7143998682345585b85e1c6237\u001b[m\n",
      "Author: Grzegorz Skupien <grzegorz@skupien.net>\n",
      "Date:   Mon Oct 29 22:16:38 2018 +0100\n",
      "\n",
      "    Fix incorrect matching of multiple shortcuts\n",
      "    \n",
      "    In the string below regex must find two matches.\n",
      "    \"... ['<Super><Shift>Page_Down', '<Control><Shift><Alt>Down'] ... \"\n",
      "    However, the result was single match:\n",
      "    '<SUPER><SHIFT>PAGE_DOWN', '<CONTROL><SHIFT><ALT>DOWN'\n",
      "    \n",
      "    After this commit the matches are:\n",
      "    '<SUPER><SHIFT>PAGE_DOWN'\n",
      "    '<CONTROL><SHIFT><ALT>DOWN'\n",
      "\n",
      "\u001b[33mcommit 3c54dba3d943c93867cf74af96e3999bbac1130a\u001b[m\n",
      "Author: Michał Rowicki <mirowicki@gmail.com>\n",
      "Date:   Fri Nov 2 10:04:32 2018 +0100\n",
      "\n",
      "    Add default gsettings for testing purposes\n",
      "\n",
      "\u001b[33mcommit 1adb1bf799df50ee581b42bcde829c4afd651a21\u001b[m\n",
      "Author: Michał Rowicki <mirowicki@gmail.com>\n",
      "Date:   Thu Nov 1 13:38:26 2018 +0100\n",
      "\n",
      "    Add vim configuration\n",
      "\n",
      "\u001b[33mcommit c1f794f328990731d8bbee62b450cf81f9ffb9a8\u001b[m\n",
      "Author: Michał Rowicki <mirowicki@gmail.com>\n",
      "Date:   Sun Oct 28 23:34:58 2018 +0100\n",
      "\n",
      "    Extract playbook for configuration plank (icons dock)\n",
      "    \n",
      "    More over there is new plank with zooming icons on hover (as in Mac)\n",
      "\n",
      "\u001b[33mcommit 06498a97e8a7026e602e35ddf54ea2a91fea35b4\u001b[m\n",
      "Author: Michał Rowicki <mirowicki@gmail.com>\n",
      "Date:   Sun Oct 28 22:25:01 2018 +0100\n",
      "\n",
      "    Add fusuma playbook to enable gestures at ElementaryOS\n",
      "\n",
      "\u001b[33mcommit ab01818d6b3e570c725693782d76c40a749941f7\u001b[m\n",
      "Author: Grzegorz Skupien <grzegorz@skupien.net>\n",
      "Date:   Sun Oct 28 20:19:18 2018 +0100\n",
      "\n",
      "    Fix keytroke replacing\n",
      "\n",
      "\u001b[33mcommit 42fced427f949f3f8ce4b9ae6919bee5e08b4dfb\u001b[m\n",
      "Author: Grzegorz Skupien <grzegorz@skupien.net>\n",
      "Date:   Sun Oct 28 18:49:04 2018 +0100\n",
      "\n",
      "    Correct commands generation and displaying\n",
      "\n",
      "\u001b[33mcommit 3c2515025e9eb610c8ba3d697a3b704e354dbc41\u001b[m\n",
      "Author: Grzegorz Skupien <grzegorz@skupien.net>\n",
      "Date:   Sun Oct 28 18:32:05 2018 +0100\n",
      "\n",
      "    Correct condition in shortcut script\n",
      "\n",
      "\u001b[33mcommit fc670f82645918f792c8ea94c6d3821d32d59335\u001b[m\n",
      "Author: Grzegorz Skupien <grzegorz@skupien.net>\n",
      "Date:   Sun Oct 28 16:46:01 2018 +0100\n",
      "\n",
      "    Refactor shortcut script\n",
      "\n",
      "\u001b[33mcommit c09514d4efbec91062f666d7c0c54fd45fc6e98f\u001b[m\n",
      "Author: Grzegorz Skupien <grzegorz@skupien.net>\n",
      "Date:   Sun Oct 28 15:57:57 2018 +0100\n",
      "\n",
      "    Replace generic regexps with plain python\n",
      "    \n",
      "    Following modification drastically speeds up the script.\n",
      "\n",
      "\u001b[33mcommit e4edc3f1aebee46a2524ae4d71514bbe41c361aa\u001b[m\n",
      "Author: Michał Rowicki <mirowicki@gmail.com>\n",
      "Date:   Sun Oct 28 13:38:26 2018 +0100\n",
      "\n",
      "    Appended informations about investigation with gestures\n",
      "    \n",
      "    For more info see gestures/readme.md\n",
      "    Changed configuration for elementaryOS plank to enable\n",
      "    maximizing icons\n",
      "\n",
      "\u001b[33mcommit c45bd736d5df5b8a0685c463aa6d28f413929221\u001b[m\n",
      "Author: Grzegorz Skupien <grzegorz@skupien.net>\n",
      "Date:   Sat Oct 27 22:23:24 2018 +0200\n",
      "\n",
      "    Speedup shortcuts script\n",
      "    \n",
      "    With this commit grep is run on gsettings list-recursively to omit lines\n",
      "    with no shortcut. It may speedup script a bit.\n",
      "\n",
      "\u001b[33mcommit 14807eceeaf8b6c8188592ec6d1a663839eb7102\u001b[m\n",
      "Author: Grzegorz Skupien <grzegorz@skupien.net>\n",
      "Date:   Sat Oct 27 22:14:18 2018 +0200\n",
      "\n",
      "    Provide command line arguments to shortcuts script\n",
      "\n",
      "\u001b[33mcommit cf2f35195b318245a285077d476d04808c56f091\u001b[m\n",
      "Author: Grzegorz Skupien <grzegorz@skupien.net>\n",
      "Date:   Sat Oct 27 20:28:59 2018 +0200\n",
      "\n",
      "    Refactor whole clearSystemShortcuts script\n",
      "    \n",
      "    All code fragments has been moved to functions with descriptive names.\n",
      "    Main function has been provided to execute those functions.\n",
      "    \n",
      "    Those changes increase readability of script.\n",
      "\n",
      "\u001b[33mcommit 6441a12685572c05942affb2983273a3f6f20687\u001b[m\n",
      "Author: Grzegorz Skupien <grzegorz@skupien.net>\n",
      "Date:   Sat Oct 27 20:14:39 2018 +0200\n",
      "\n",
      "    Add gsettings whitelisting\n",
      "    \n",
      "    Some shortcuts are related only to specific applications. Those\n",
      "    shortcuts should not be deleted or replaced. To make them safe a\n",
      "    following whitelisting mechanism has been provided.\n",
      "    \n",
      "    Only settings related to whitelisted register will be modified.\n",
      "\n",
      "\u001b[33mcommit 02588615ce7e165e5706e863b71da10f33bf6540\u001b[m\n",
      "Author: Grzegorz Skupien <grzegorz@skupien.net>\n",
      "Date:   Sat Oct 27 20:11:31 2018 +0200\n",
      "\n",
      "    Provide in-memory XML processing\n",
      "\n",
      "\u001b[33mcommit defa8eba3d5be7c361884958e3596084efb9f9a1\u001b[m\n",
      "Author: Grzegorz Skupien <grzegorz@skupien.net>\n",
      "Date:   Sat Oct 27 19:12:46 2018 +0200\n",
      "\n",
      "    Simplify regex building using join\n",
      "\n",
      "\u001b[33mcommit 8c6e211b3913d1fcf3426317c4b4b9aa1430929e\u001b[m\n",
      "Author: Grzegorz Skupien <grzegorz@skupien.net>\n",
      "Date:   Sat Oct 27 19:05:08 2018 +0200\n",
      "\n",
      "    Extract loops to functions\n",
      "\n",
      "\u001b[33mcommit b1dbfaf0d7bd5f6e736c5f926c797f4c3331ab76\u001b[m\n",
      "Author: Grzegorz Skupien <grzegorz@skupien.net>\n",
      "Date:   Sat Oct 27 18:55:42 2018 +0200\n",
      "\n",
      "    Correct condition of one-key shortcuts\n",
      "\n",
      "\u001b[33mcommit 407320e5a758ad3755772f61a87ade4402e1bdd8\u001b[m\n",
      "Author: Grzegorz Skupien <grzegorz@skupien.net>\n",
      "Date:   Sat Oct 27 18:51:27 2018 +0200\n",
      "\n",
      "    Split long lines for a few shorter\n",
      "    \n",
      "    Just because sparse is better than dense\n",
      "\n",
      "\u001b[33mcommit e7c782e1d5d4ff6cd0df9aaf3eb628d4549e0cfb\u001b[m\n",
      "Author: Grzegorz Skupien <grzegorz@skupien.net>\n",
      "Date:   Sat Oct 27 18:49:45 2018 +0200\n",
      "\n",
      "    Use brackets instead of function to get dict value\n",
      "\n",
      "\u001b[33mcommit 96b0c93a9d03ddc45fb79a1f90289df55e606653\u001b[m\n",
      "Author: Grzegorz Skupien <grzegorz@skupien.net>\n",
      "Date:   Sat Oct 27 18:43:56 2018 +0200\n",
      "\n",
      "    Remove unused printings\n",
      "\n",
      "\u001b[33mcommit f0d9de95a8bb6cd4726675d69226698a7ba65839\u001b[m\n",
      "Author: Grzegorz Skupien <grzegorz@skupien.net>\n",
      "Date:   Sat Oct 27 18:40:34 2018 +0200\n",
      "\n",
      "    Simplify condition of one-key shortcuts\n",
      "\n",
      "\u001b[33mcommit 683a520bcd06946af5b0cda6d67697af51146cb1\u001b[m\n",
      "Author: Grzegorz Skupien <grzegorz@skupien.net>\n",
      "Date:   Sat Oct 27 18:34:34 2018 +0200\n",
      "\n",
      "    Use list comprehension in mapped_key_stroke\n",
      "\n",
      "\u001b[33mcommit 33140357a244a7452aba1d41165a16ca2f9e092c\u001b[m\n",
      "Author: Grzegorz Skupien <grzegorz@skupien.net>\n",
      "Date:   Sat Oct 27 18:23:52 2018 +0200\n",
      "\n",
      "    Refactor main dictionary\n",
      "\n",
      "\u001b[33mcommit 6598bbfbac6a841d479e6941e596e131fcdb178c\u001b[m\n",
      "Author: Michał Rowicki <mirowicki@gmail.com>\n",
      "Date:   Sat Oct 27 17:49:44 2018 +0200\n",
      "\n",
      "    First version of script checking IDEA/system shortcut mismatch\n",
      "\n",
      "\u001b[33mcommit b40bb3ff0078224856c639c107b60caef00fdba4\u001b[m\n",
      "Author: Michał Rowicki <mirowicki@gmail.com>\n",
      "Date:   Sat Oct 27 12:25:11 2018 +0200\n",
      "\n",
      "    Fix script draft\n",
      "\n",
      "\u001b[33mcommit dccc22d83d831298651fcc6a7488e37069a2731e\u001b[m\n",
      "Author: Michał Rowicki <mirowicki@gmail.com>\n",
      "Date:   Sat Oct 27 12:22:32 2018 +0200\n",
      "\n",
      "    Draft for unlocking system shortcuts (by gsettings) for IntellIJ\n",
      "\n",
      "\u001b[33mcommit d60c7a45189b554802912df6dde097c16b4a8a31\u001b[m\n",
      "Author: Michał Rowicki <mirowicki@gmail.com>\n",
      "Date:   Thu Oct 25 22:37:16 2018 +0200\n",
      "\n",
      "    Install media codecs on new PC\n",
      "\n",
      "\u001b[33mcommit 9dc751b35956068d67718402d6c8da0f66ceeaea\u001b[m\n",
      "Author: Michał Rowicki <mirowicki@gmail.com>\n",
      "Date:   Wed Oct 24 21:57:26 2018 +0200\n",
      "\n",
      "    Copy all .desktop files from autostart folder to local config\n",
      "\n",
      "\u001b[33mcommit 503ff9a4fa3589ca051a845bbd5e8b801d33cdfb\u001b[m\n",
      "Author: Michał Rowicki <mirowicki@gmail.com>\n",
      "Date:   Wed Oct 24 21:30:09 2018 +0200\n",
      "\n",
      "    Replace username to support different accounts names\n",
      "\n",
      "\u001b[33mcommit f07939c319b49e383fb4c5dc19c39ac0039f0a51\u001b[m\n",
      "Author: Grzegorz Skupien <grzegorz@skupien.net>\n",
      "Date:   Wed Oct 24 20:35:48 2018 +0200\n",
      "\n",
      "    Add unetbootin installation to utilities\n",
      "    \n",
      "    Repo for unetbootin has been added, but unetbootins itself is not\n",
      "    installed.\n",
      "\n",
      "\u001b[33mcommit 7c6b3af4bf13796156fb9328b73fd51a1a94b2a5\u001b[m\n",
      "Author: Grzegorz Skupien <grzegorz@skupien.net>\n",
      "Date:   Wed Oct 24 20:32:37 2018 +0200\n",
      "\n",
      "    Fix tags in yubikey and flatpak\n",
      "    \n",
      "    Tags before this commit seems to be left by mistake during copy/paste.\n"
     ]
    },
    {
     "name": "stdout",
     "output_type": "stream",
     "text": [
      "\n",
      "\u001b[33mcommit 6267806f75dc9ed6c2720b34e7cbf2933e3b3437\u001b[m\n",
      "Author: Grzegorz Skupien <grzegorz@skupien.net>\n",
      "Date:   Wed Oct 24 20:14:09 2018 +0200\n",
      "\n",
      "    Fix syntax errors\n",
      "    \n",
      "    Syntax has been checked with following oneliner:\n",
      "    ls *.yml | xargs ansible-playbook --syntax-check\n",
      "    \n",
      "    This commit solves all syntax issues.\n",
      "\n",
      "\u001b[33mcommit bf71624e288eab4187d96533802dc08df6e7e348\u001b[m\n",
      "Author: Grzegorz Skupien <grzegorz@skupien.net>\n",
      "Date:   Wed Oct 24 19:40:36 2018 +0200\n",
      "\n",
      "    Remove autops from ubuntu-playbook\n",
      "\n",
      "\u001b[33mcommit d8cb12cd0e308d2985c3e3610837834a9ae65929\u001b[m\n",
      "Author: Michał Rowicki <mirowicki@gmail.com>\n",
      "Date:   Tue Oct 23 23:35:20 2018 +0200\n",
      "\n",
      "    Add gitignore\n",
      "\n",
      "\u001b[33mcommit ec5374bef6743268b83d7ebef0e6c64cd56c21f0\u001b[m\n",
      "Author: Michał Rowicki <mirowicki@gmail.com>\n",
      "Date:   Tue Oct 23 23:33:07 2018 +0200\n",
      "\n",
      "    Init repo\n",
      "\n",
      "\u001b[33mcommit 5a77c527625a6d0503d376c69c71ed994267d6ea\u001b[m\n",
      "Author: Michał Rowicki <mirowicki@gmail.com>\n",
      "Date:   Tue Oct 23 23:32:04 2018 +0200\n",
      "\n",
      "    Repo init\n"
     ]
    }
   ],
   "source": [
    "git log"
   ]
  },
  {
   "cell_type": "code",
   "execution_count": 28,
   "metadata": {
    "slideshow": {
     "slide_type": "subslide"
    }
   },
   "outputs": [
    {
     "name": "stdout",
     "output_type": "stream",
     "text": [
      "\u001b[33m4b07acf\u001b[m\u001b[33m (\u001b[m\u001b[1;36mHEAD -> \u001b[m\u001b[1;32mmaster\u001b[m\u001b[33m, \u001b[m\u001b[1;31morigin/master\u001b[m\u001b[33m, \u001b[m\u001b[1;31morigin/HEAD\u001b[m\u001b[33m)\u001b[m Make zsh autosuggestions grey again\n",
      "\u001b[33m468004f\u001b[m Add notes about installation of jupyter notebook\n",
      "\u001b[33mae5cadf\u001b[m Fix qnapi installation and small fix to wallpapers playbook\n",
      "\u001b[33maff3e1c\u001b[m Update readme, add information about cloning repo\n",
      "\u001b[33mb09c53b\u001b[m Remove working unproperly libdvd-pkg\n",
      "\u001b[33ma25c089\u001b[m Remove debug unnecessary debug statement\n",
      "\u001b[33m0f89387\u001b[m Authomatic installation of Oracle Java 8 is impossible\n",
      "\u001b[33ma7c2631\u001b[m Do not add repo twice to protect repos consistency\n",
      "\u001b[33m73ae1f2\u001b[m Move installation DNS oon the end to fix apt repo adding\n",
      "\u001b[33me97cf29\u001b[m Add instalation of certtool\n",
      "\u001b[33m3235c9d\u001b[m Add instalation of network debugging tools\n",
      "\u001b[33mb6f88fb\u001b[m Add installation of htop\n",
      "\u001b[33m3bd9b39\u001b[m Add instalation of cryptographic packages\n",
      "\u001b[33md3d1885\u001b[m\u001b[33m (\u001b[m\u001b[1;31morigin/custom-debs\u001b[m\u001b[33m)\u001b[m Add instalation of custom debs\n",
      "\u001b[33m0484fc2\u001b[m\u001b[33m (\u001b[m\u001b[1;31morigin/elementary-os\u001b[m\u001b[33m)\u001b[m Do not require flag --skip-tags \"elementary-os\" on other distros\n",
      "\u001b[33mc64a6ed\u001b[m ✅ Accept zsh-completions\n",
      "\u001b[33md73e9e6\u001b[m 🐧 Add zsh-completions plugin to zsh\n",
      "\u001b[33m1670edb\u001b[m 🐧 add support for other ubuntu based systems\n",
      "\u001b[33mcc7ac06\u001b[m Check original codename only if upstream is not available\n",
      "\u001b[33m60cc693\u001b[m Handle situation when upstream is not available\n",
      "\u001b[33mb84c544\u001b[m Support scripts for \"all\" ubuntu releases\n",
      "\u001b[33m75c19ab\u001b[m Add notes to make playbook for gpg conf for yubikey\n",
      "\u001b[33mf410740\u001b[m ✅ do not restart resolv.conf\n",
      "\u001b[33m9a830d2\u001b[m Fix all replaces with home overwriting\n",
      "\u001b[33m5a93a4f\u001b[m Fix paths in authomatic wallpapers script\n",
      "\u001b[33m3efa442\u001b[m Update readme\n",
      "\u001b[33ma2111ea\u001b[m Remove keepassxc folder from root project\n",
      "\u001b[33m9c66664\u001b[m Use pipelining to accelerate tests\n",
      "\u001b[33m59faeb9\u001b[m Add packages to dockerfile image\n",
      "\u001b[33m021626f\u001b[m Accelerate testing ansible (fix)\n",
      "\u001b[33m8f453ed\u001b[m Accelerate testing ansible\n",
      "\u001b[33mea731a9\u001b[m Dix dockerfile\n",
      "\u001b[33m581b701\u001b[m Do not check valid cache time on nordvpn install\n",
      "\u001b[33m3f9017d\u001b[m Try to cache deb repository\n",
      "\u001b[33mab8d927\u001b[m Remove unsupported parameter\n",
      "\u001b[33mac85bed\u001b[m Set cache_valid_time: 7200 (2h) for apt update\n",
      "\u001b[33me572f15\u001b[m Rearrange project structure\n",
      "\u001b[33m1430680\u001b[m Update gitignore to enable saving config backup\n",
      "\u001b[33m43ab01c\u001b[m Use original bendews.cloudflared role\n",
      "\u001b[33md47ab09\u001b[m Miss installation caprine on test because service won't start\n",
      "\u001b[33ma156b6c\u001b[m Start service with sudo\n",
      "\u001b[33m48316e2\u001b[m Try to test installation of caprine\n",
      "\u001b[33m6b40feb\u001b[m Remove debug test\n",
      "\u001b[33m5433d59\u001b[m Move caching to dockerfile\n",
      "\u001b[33m832fd09\u001b[m Revert import playbook changes and cache facts\n",
      "\u001b[33mfa1bd40\u001b[m Include playbooks tasks instead of importing\n",
      "\u001b[33m3b71985\u001b[m Give names for plays and make them idempotent\n",
      "\u001b[33m6edf9c3\u001b[m See no indempotent tasks\n",
      "\u001b[33m273b1b1\u001b[m Logs with lower vulnerability\n",
      "\u001b[33m4970b76\u001b[m Make full test\n",
      "\u001b[33mac8c00b\u001b[m Install missing dependency\n",
      "\u001b[33m7aed805\u001b[m Fix home paths\n",
      "\u001b[33mac16efc\u001b[m Fix path\n",
      "\u001b[33m0e82de2\u001b[m Add missing dependency\n",
      "\u001b[33m27b5953\u001b[m Fix installation fzf\n",
      "\u001b[33me877a3e\u001b[m Fix indentation\n",
      "\u001b[33md0425a7\u001b[m Add missing dependency on yakuake installation rsync\n",
      "\u001b[33m9c7611d\u001b[m Fix typo\n",
      "\u001b[33mc1d1849\u001b[m Do not test of wingpanel installation\n",
      "\u001b[33mb8ec0e7\u001b[m Fix wingpanel-ayatane testing\n",
      "\u001b[33m90c3e02\u001b[m Fix wingpanel-ayatane testing\n",
      "\u001b[33mc37e467\u001b[m Remove unnecessary when clauses on wallpapers.yml\n",
      "\u001b[33m74ad80a\u001b[m Fix virtualbox tests\n",
      "\u001b[33mceee7fb\u001b[m Fix utilities tests\n",
      "\u001b[33mef6b47f\u001b[m Qnapi is impossible to install under bionic\n",
      "\u001b[33m1afd0dd\u001b[m Do not restart plank during tests\n",
      "\u001b[33m1216623\u001b[m Add killall package\n",
      "\u001b[33m597525b\u001b[m Fix Plank installation\n",
      "\u001b[33m01ba7c2\u001b[m Do not install jetbrains toolbox on docker\n",
      "\u001b[33m5f9967b\u001b[m Test jetbrains-toolbox\n",
      "\u001b[33mb59a363\u001b[m Do not install oracle java 8 on tests\n",
      "\u001b[33ma8e7b87\u001b[m Install apt-utils in other task\n",
      "\u001b[33m2eb2f51\u001b[m Add apt-utils for installing jdks\n",
      "\u001b[33m8561894\u001b[m Fix paths\n",
      "\u001b[33m456b1d5\u001b[m Fix paths\n",
      "\u001b[33m50f1271\u001b[m Fix home location and fusuma dconf\n",
      "\u001b[33m4569770\u001b[m Fix home location and fusuma dconf\n",
      "\u001b[33m7031f02\u001b[m Fix home location and fusuma dconf\n",
      "\u001b[33m045069b\u001b[m use std_out from user_home\n",
      "\u001b[33m2f462ec\u001b[m Add dconf-cli\n",
      "\u001b[33m8649e1d\u001b[m Fix fusuma test\n",
      "\u001b[33m9e840ce\u001b[m Fix elementary tweaks\n",
      "\u001b[33m4b048fd\u001b[m Add wget dependency for dropbox installation\n",
      "\u001b[33mf664d3a\u001b[m Use generic home\n",
      "\u001b[33m51d4ebe\u001b[m Retrieve proper home location 3\n",
      "\u001b[33mbe8ba87\u001b[m Retrieve proper home location 2\n",
      "\u001b[33mbc8fd9e\u001b[m Retrieve proper home location\n",
      "\u001b[33me9a6241\u001b[m Fix checking dropbox installation\n",
      "\u001b[33mfbb5806\u001b[m Print more verbose info\n",
      "\u001b[33m65c72fb\u001b[m Try to fix dropbox condition\n",
      "\u001b[33m1f427a0\u001b[m Miss no-tests tagged tasks\n",
      "\u001b[33m7a6f974\u001b[m Show resolv.conf\n",
      "\u001b[33m1154902\u001b[m Show resolv.conf\n",
      "\u001b[33md0371a9\u001b[m Print resolv.conf fix2\n",
      "\u001b[33m190f005\u001b[m Print resolv.conf fix\n",
      "\u001b[33md5fe36a\u001b[m Print resolv.conf\n",
      "\u001b[33m1c857be\u001b[m Fix setting link to proper resolv.conf\n",
      "\u001b[33m63520d6\u001b[m Fix installation getcap/setcap on test machine\n",
      "\u001b[33mcd8f9d3\u001b[m Miss caprine for tessts purposes\n",
      "\u001b[33ma322db7\u001b[m Try to run full playbook\n",
      "\u001b[33mf821b31\u001b[m Update readme.md\n",
      "\u001b[33mcbc8ed0\u001b[m Fix travis-ci checking style\n",
      "\u001b[33ma5249da\u001b[m Fix bionic dockerfile\n",
      "\u001b[33m0bcdc44\u001b[m Add travis-ci configuration for sudo\n",
      "\u001b[33m1bf08c9\u001b[m Add CI Travis build status\n",
      "\u001b[33mbd6e658\u001b[m Add travis-ci configuration\n",
      "\u001b[33m5659b8b\u001b[m Install shutter\n",
      "\u001b[33mb30b7f7\u001b[m Install ffmpeg\n",
      "\u001b[33m0611ee5\u001b[m Install Archive Formats and Restricted Extras\n",
      "\u001b[33m2cd0f01\u001b[m Add installation of jdk\n",
      "\u001b[33m35d9c15\u001b[m Add installation of Virtualbox\n",
      "\u001b[33m081b71f\u001b[m Add installation of remmina\n",
      "\u001b[33mf4f9d37\u001b[m Add installation of elementary-tweaks\n",
      "\u001b[33mf4f7e0d\u001b[m Fix repo ppa\n",
      "\u001b[33m131db57\u001b[m Install qnapi (linux version of NapiProjekt)\n",
      "\u001b[33m56ea8ee\u001b[m Fix tag\n",
      "\u001b[33m37ad676\u001b[m Fix message\n",
      "\u001b[33m3425491\u001b[m Add grub-customizer\n",
      "\u001b[33mb8d04e0\u001b[m Provide one liner command to start installation\n",
      "\u001b[33mfc979ef\u001b[m Fix message\n",
      "\u001b[33m98215a2\u001b[m Make installation dropbox idempotent\n",
      "\u001b[33md17d75c\u001b[m Fix system service name\n",
      "\u001b[33mb7f3f12\u001b[m Firstly install key then repository\n",
      "\u001b[33m31c19b0\u001b[m Ignore files modified by ansible playbooks\n",
      "\u001b[33me888b19\u001b[m Add your keepassxc configuration\n",
      "\u001b[33m0910961\u001b[m Print stderr on red in terminal\n",
      "\u001b[33m6613f55\u001b[m Update readme\n",
      "\u001b[33m04a4e6f\u001b[m Remove conflicting shortcuts with IntellIJ IDEA from system\n",
      "\u001b[33m14d90ac\u001b[m Update script to install whole configuration\n",
      "\u001b[33m00e3897\u001b[m Update way of installation and list of tested playbooks\n",
      "\u001b[33mc496cf9\u001b[m Tag playbooks\n",
      "\u001b[33m6c39a77\u001b[m Refactor and tag wallpapers.yml playbook\n",
      "\u001b[33me9cbcd5\u001b[m Tag vivaldi.yml and change task order\n",
      "\u001b[33m59fbbda\u001b[m Tag vim.yml playbook\n",
      "\u001b[33mf337105\u001b[m Refactor utilities.yml playbook\n",
      "\u001b[33m2d4b4c8\u001b[m Refactor terminal-tools playbook\n",
      "\u001b[33mfc39d78\u001b[m Fix configuration plank\n",
      "\u001b[33mc883b92\u001b[m Tag nord-vpn.yml playbook\n",
      "\u001b[33m8a143e6\u001b[m Refactor multimedia-codecs.yml playbook\n",
      "\u001b[33m14bf2b3\u001b[m Add tags keepassxc.yml playbook\n",
      "\u001b[33m60d3047\u001b[m Refactorization of jetbrains-toolbox.yml playbook\n",
      "\u001b[33m9463ebe\u001b[m Refactorization of flatpak playbook\n",
      "\u001b[33m8721ec2\u001b[m Refactorization of flatpak playbook\n",
      "\u001b[33mfa3389f\u001b[m Refactorization of elementary-os-apps playbook\n",
      "\u001b[33m97abe65\u001b[m Refactorization of dropbox for elementary playbook\n",
      "\u001b[33m248052f\u001b[m Refactorization of docker playbook\n",
      "\u001b[33m125901e\u001b[m Use forked modified role for cloudflared\n",
      "\u001b[33m44f5e9e\u001b[m Set Chrome tag\n",
      "\u001b[33m8ff9708\u001b[m Set Caprine tag\n",
      "\u001b[33m5ab6d3a\u001b[m Use modified role for installing cloudflared\n",
      "\u001b[33m04a64c9\u001b[m ignore temp files\n",
      "\u001b[33m338eca7\u001b[m Fix wingpanel-ayatana pplaybook\n",
      "\u001b[33md9a76ac\u001b[m Fix name for task vim installation\n",
      "\u001b[33m22055ea\u001b[m Add LICENSE\n",
      "\u001b[33m7116541\u001b[m Add playbook to install ayatana (to show indicators at top bar)\n",
      "\u001b[33mab69fe9\u001b[m Create readme with instruction for installing elementary as a code\n",
      "\u001b[33m07d80b2\u001b[m Fix indentation and way of installing packages for yubikey\n",
      "\u001b[33med7bf91\u001b[m Add root priviliges to task for installation wireshark\n",
      "\u001b[33m91d18de\u001b[m Fix vim playbook installation\n",
      "\u001b[33m937dc41\u001b[m Fix keepassxc playbook indentation\n",
      "\u001b[33m5cd7e27\u001b[m Remove gestures playbook\n",
      "\u001b[33md10c5cc\u001b[m Install packages without loop, append dependencies for dconf module\n",
      "\u001b[33m9e0da63\u001b[m Fix installation flatpak repo\n"
     ]
    },
    {
     "name": "stdout",
     "output_type": "stream",
     "text": [
      "\u001b[33med3fb36\u001b[m Fix installation of dropbox on elementary os\n",
      "\u001b[33m05438c4\u001b[m Add comments how to fix installation of cloudflared client\n",
      "\u001b[33me795970\u001b[m Do not validate certificates of chrome repo\n",
      "\u001b[33meff8d15\u001b[m Install snapd before installing caprine with snap\n",
      "\u001b[33m3170093\u001b[m Fix autostart loop over files\n",
      "\u001b[33mc1acb57\u001b[m Ignore retry files\n",
      "\u001b[33m0124cae\u001b[m Use set instead of list to store all gsettings commands\n",
      "\u001b[33mb34f16d\u001b[m Add flag for checking partial keystroke coverage\n",
      "\u001b[33mb1a71c5\u001b[m Provide explanation for condition matching shortcuts\n",
      "\u001b[33m7691d22\u001b[m Fix incorrect matching of multiple shortcuts\n",
      "\u001b[33m3c54dba\u001b[m Add default gsettings for testing purposes\n",
      "\u001b[33m1adb1bf\u001b[m Add vim configuration\n",
      "\u001b[33mc1f794f\u001b[m Extract playbook for configuration plank (icons dock)\n",
      "\u001b[33m06498a9\u001b[m Add fusuma playbook to enable gestures at ElementaryOS\n",
      "\u001b[33mab01818\u001b[m Fix keytroke replacing\n",
      "\u001b[33m42fced4\u001b[m Correct commands generation and displaying\n",
      "\u001b[33m3c25150\u001b[m Correct condition in shortcut script\n",
      "\u001b[33mfc670f8\u001b[m Refactor shortcut script\n",
      "\u001b[33mc09514d\u001b[m Replace generic regexps with plain python\n",
      "\u001b[33me4edc3f\u001b[m Appended informations about investigation with gestures\n",
      "\u001b[33mc45bd73\u001b[m Speedup shortcuts script\n",
      "\u001b[33m14807ec\u001b[m Provide command line arguments to shortcuts script\n",
      "\u001b[33mcf2f351\u001b[m Refactor whole clearSystemShortcuts script\n",
      "\u001b[33m6441a12\u001b[m Add gsettings whitelisting\n",
      "\u001b[33m0258861\u001b[m Provide in-memory XML processing\n",
      "\u001b[33mdefa8eb\u001b[m Simplify regex building using join\n",
      "\u001b[33m8c6e211\u001b[m Extract loops to functions\n",
      "\u001b[33mb1dbfaf\u001b[m Correct condition of one-key shortcuts\n",
      "\u001b[33m407320e\u001b[m Split long lines for a few shorter\n",
      "\u001b[33me7c782e\u001b[m Use brackets instead of function to get dict value\n",
      "\u001b[33m96b0c93\u001b[m Remove unused printings\n",
      "\u001b[33mf0d9de9\u001b[m Simplify condition of one-key shortcuts\n",
      "\u001b[33m683a520\u001b[m Use list comprehension in mapped_key_stroke\n",
      "\u001b[33m3314035\u001b[m Refactor main dictionary\n",
      "\u001b[33m6598bbf\u001b[m First version of script checking IDEA/system shortcut mismatch\n",
      "\u001b[33mb40bb3f\u001b[m Fix script draft\n",
      "\u001b[33mdccc22d\u001b[m Draft for unlocking system shortcuts (by gsettings) for IntellIJ\n",
      "\u001b[33md60c7a4\u001b[m Install media codecs on new PC\n",
      "\u001b[33m9dc751b\u001b[m Copy all .desktop files from autostart folder to local config\n",
      "\u001b[33m503ff9a\u001b[m Replace username to support different accounts names\n",
      "\u001b[33mf07939c\u001b[m Add unetbootin installation to utilities\n",
      "\u001b[33m7c6b3af\u001b[m Fix tags in yubikey and flatpak\n",
      "\u001b[33m6267806\u001b[m Fix syntax errors\n",
      "\u001b[33mbf71624\u001b[m Remove autops from ubuntu-playbook\n",
      "\u001b[33md8cb12c\u001b[m Add gitignore\n",
      "\u001b[33mec5374b\u001b[m Init repo\n",
      "\u001b[33m5a77c52\u001b[m Repo init\n"
     ]
    }
   ],
   "source": [
    "git log --oneline"
   ]
  },
  {
   "cell_type": "code",
   "execution_count": 30,
   "metadata": {
    "slideshow": {
     "slide_type": "subslide"
    }
   },
   "outputs": [
    {
     "name": "stdout",
     "output_type": "stream",
     "text": [
      "* \u001b[33m4b07acf\u001b[m\u001b[33m (\u001b[m\u001b[1;36mHEAD -> \u001b[m\u001b[1;32mmaster\u001b[m\u001b[33m, \u001b[m\u001b[1;31morigin/master\u001b[m\u001b[33m, \u001b[m\u001b[1;31morigin/HEAD\u001b[m\u001b[33m)\u001b[m Make zsh autosuggestions grey again\n",
      "* \u001b[33m468004f\u001b[m Add notes about installation of jupyter notebook\n",
      "* \u001b[33mae5cadf\u001b[m Fix qnapi installation and small fix to wallpapers playbook\n",
      "* \u001b[33maff3e1c\u001b[m Update readme, add information about cloning repo\n",
      "* \u001b[33mb09c53b\u001b[m Remove working unproperly libdvd-pkg\n",
      "* \u001b[33ma25c089\u001b[m Remove debug unnecessary debug statement\n",
      "* \u001b[33m0f89387\u001b[m Authomatic installation of Oracle Java 8 is impossible\n",
      "* \u001b[33ma7c2631\u001b[m Do not add repo twice to protect repos consistency\n",
      "* \u001b[33m73ae1f2\u001b[m Move installation DNS oon the end to fix apt repo adding\n",
      "* \u001b[33me97cf29\u001b[m Add instalation of certtool\n",
      "* \u001b[33m3235c9d\u001b[m Add instalation of network debugging tools\n",
      "* \u001b[33mb6f88fb\u001b[m Add installation of htop\n",
      "* \u001b[33m3bd9b39\u001b[m Add instalation of cryptographic packages\n",
      "* \u001b[33md3d1885\u001b[m\u001b[33m (\u001b[m\u001b[1;31morigin/custom-debs\u001b[m\u001b[33m)\u001b[m Add instalation of custom debs\n",
      "* \u001b[33m0484fc2\u001b[m\u001b[33m (\u001b[m\u001b[1;31morigin/elementary-os\u001b[m\u001b[33m)\u001b[m Do not require flag --skip-tags \"elementary-os\" on other distros\n",
      "* \u001b[33mc64a6ed\u001b[m ✅ Accept zsh-completions\n",
      "* \u001b[33md73e9e6\u001b[m 🐧 Add zsh-completions plugin to zsh\n",
      "* \u001b[33m1670edb\u001b[m 🐧 add support for other ubuntu based systems\n",
      "* \u001b[33mcc7ac06\u001b[m Check original codename only if upstream is not available\n",
      "* \u001b[33m60cc693\u001b[m Handle situation when upstream is not available\n",
      "* \u001b[33mb84c544\u001b[m Support scripts for \"all\" ubuntu releases\n",
      "* \u001b[33m75c19ab\u001b[m Add notes to make playbook for gpg conf for yubikey\n",
      "* \u001b[33mf410740\u001b[m ✅ do not restart resolv.conf\n",
      "* \u001b[33m9a830d2\u001b[m Fix all replaces with home overwriting\n",
      "* \u001b[33m5a93a4f\u001b[m Fix paths in authomatic wallpapers script\n",
      "* \u001b[33m3efa442\u001b[m Update readme\n",
      "* \u001b[33ma2111ea\u001b[m Remove keepassxc folder from root project\n",
      "* \u001b[33m9c66664\u001b[m Use pipelining to accelerate tests\n",
      "* \u001b[33m59faeb9\u001b[m Add packages to dockerfile image\n",
      "* \u001b[33m021626f\u001b[m Accelerate testing ansible (fix)\n",
      "* \u001b[33m8f453ed\u001b[m Accelerate testing ansible\n",
      "* \u001b[33mea731a9\u001b[m Dix dockerfile\n",
      "* \u001b[33m581b701\u001b[m Do not check valid cache time on nordvpn install\n",
      "* \u001b[33m3f9017d\u001b[m Try to cache deb repository\n",
      "* \u001b[33mab8d927\u001b[m Remove unsupported parameter\n",
      "* \u001b[33mac85bed\u001b[m Set cache_valid_time: 7200 (2h) for apt update\n",
      "* \u001b[33me572f15\u001b[m Rearrange project structure\n",
      "* \u001b[33m1430680\u001b[m Update gitignore to enable saving config backup\n",
      "* \u001b[33m43ab01c\u001b[m Use original bendews.cloudflared role\n",
      "* \u001b[33md47ab09\u001b[m Miss installation caprine on test because service won't start\n",
      "* \u001b[33ma156b6c\u001b[m Start service with sudo\n",
      "* \u001b[33m48316e2\u001b[m Try to test installation of caprine\n",
      "* \u001b[33m6b40feb\u001b[m Remove debug test\n",
      "* \u001b[33m5433d59\u001b[m Move caching to dockerfile\n",
      "* \u001b[33m832fd09\u001b[m Revert import playbook changes and cache facts\n",
      "* \u001b[33mfa1bd40\u001b[m Include playbooks tasks instead of importing\n",
      "* \u001b[33m3b71985\u001b[m Give names for plays and make them idempotent\n",
      "* \u001b[33m6edf9c3\u001b[m See no indempotent tasks\n",
      "* \u001b[33m273b1b1\u001b[m Logs with lower vulnerability\n",
      "* \u001b[33m4970b76\u001b[m Make full test\n",
      "* \u001b[33mac8c00b\u001b[m Install missing dependency\n",
      "* \u001b[33m7aed805\u001b[m Fix home paths\n",
      "* \u001b[33mac16efc\u001b[m Fix path\n",
      "* \u001b[33m0e82de2\u001b[m Add missing dependency\n",
      "* \u001b[33m27b5953\u001b[m Fix installation fzf\n",
      "* \u001b[33me877a3e\u001b[m Fix indentation\n",
      "* \u001b[33md0425a7\u001b[m Add missing dependency on yakuake installation rsync\n",
      "* \u001b[33m9c7611d\u001b[m Fix typo\n",
      "* \u001b[33mc1d1849\u001b[m Do not test of wingpanel installation\n",
      "* \u001b[33mb8ec0e7\u001b[m Fix wingpanel-ayatane testing\n",
      "* \u001b[33m90c3e02\u001b[m Fix wingpanel-ayatane testing\n",
      "* \u001b[33mc37e467\u001b[m Remove unnecessary when clauses on wallpapers.yml\n",
      "* \u001b[33m74ad80a\u001b[m Fix virtualbox tests\n",
      "* \u001b[33mceee7fb\u001b[m Fix utilities tests\n",
      "* \u001b[33mef6b47f\u001b[m Qnapi is impossible to install under bionic\n",
      "* \u001b[33m1afd0dd\u001b[m Do not restart plank during tests\n",
      "* \u001b[33m1216623\u001b[m Add killall package\n",
      "* \u001b[33m597525b\u001b[m Fix Plank installation\n",
      "* \u001b[33m01ba7c2\u001b[m Do not install jetbrains toolbox on docker\n",
      "* \u001b[33m5f9967b\u001b[m Test jetbrains-toolbox\n",
      "* \u001b[33mb59a363\u001b[m Do not install oracle java 8 on tests\n",
      "* \u001b[33ma8e7b87\u001b[m Install apt-utils in other task\n",
      "* \u001b[33m2eb2f51\u001b[m Add apt-utils for installing jdks\n",
      "* \u001b[33m8561894\u001b[m Fix paths\n",
      "* \u001b[33m456b1d5\u001b[m Fix paths\n",
      "* \u001b[33m50f1271\u001b[m Fix home location and fusuma dconf\n",
      "* \u001b[33m4569770\u001b[m Fix home location and fusuma dconf\n",
      "* \u001b[33m7031f02\u001b[m Fix home location and fusuma dconf\n",
      "* \u001b[33m045069b\u001b[m use std_out from user_home\n",
      "* \u001b[33m2f462ec\u001b[m Add dconf-cli\n",
      "* \u001b[33m8649e1d\u001b[m Fix fusuma test\n",
      "* \u001b[33m9e840ce\u001b[m Fix elementary tweaks\n",
      "* \u001b[33m4b048fd\u001b[m Add wget dependency for dropbox installation\n",
      "* \u001b[33mf664d3a\u001b[m Use generic home\n",
      "* \u001b[33m51d4ebe\u001b[m Retrieve proper home location 3\n",
      "* \u001b[33mbe8ba87\u001b[m Retrieve proper home location 2\n",
      "* \u001b[33mbc8fd9e\u001b[m Retrieve proper home location\n",
      "* \u001b[33me9a6241\u001b[m Fix checking dropbox installation\n",
      "* \u001b[33mfbb5806\u001b[m Print more verbose info\n",
      "* \u001b[33m65c72fb\u001b[m Try to fix dropbox condition\n",
      "* \u001b[33m1f427a0\u001b[m Miss no-tests tagged tasks\n",
      "* \u001b[33m7a6f974\u001b[m Show resolv.conf\n",
      "* \u001b[33m1154902\u001b[m Show resolv.conf\n",
      "* \u001b[33md0371a9\u001b[m Print resolv.conf fix2\n",
      "* \u001b[33m190f005\u001b[m Print resolv.conf fix\n",
      "* \u001b[33md5fe36a\u001b[m Print resolv.conf\n",
      "* \u001b[33m1c857be\u001b[m Fix setting link to proper resolv.conf\n",
      "* \u001b[33m63520d6\u001b[m Fix installation getcap/setcap on test machine\n",
      "* \u001b[33mcd8f9d3\u001b[m Miss caprine for tessts purposes\n",
      "* \u001b[33ma322db7\u001b[m Try to run full playbook\n",
      "* \u001b[33mf821b31\u001b[m Update readme.md\n",
      "* \u001b[33mcbc8ed0\u001b[m Fix travis-ci checking style\n",
      "* \u001b[33ma5249da\u001b[m Fix bionic dockerfile\n",
      "* \u001b[33m0bcdc44\u001b[m Add travis-ci configuration for sudo\n",
      "* \u001b[33m1bf08c9\u001b[m Add CI Travis build status\n",
      "* \u001b[33mbd6e658\u001b[m Add travis-ci configuration\n",
      "* \u001b[33m5659b8b\u001b[m Install shutter\n",
      "* \u001b[33mb30b7f7\u001b[m Install ffmpeg\n",
      "* \u001b[33m0611ee5\u001b[m Install Archive Formats and Restricted Extras\n",
      "* \u001b[33m2cd0f01\u001b[m Add installation of jdk\n",
      "* \u001b[33m35d9c15\u001b[m Add installation of Virtualbox\n",
      "* \u001b[33m081b71f\u001b[m Add installation of remmina\n",
      "* \u001b[33mf4f9d37\u001b[m Add installation of elementary-tweaks\n",
      "* \u001b[33mf4f7e0d\u001b[m Fix repo ppa\n",
      "* \u001b[33m131db57\u001b[m Install qnapi (linux version of NapiProjekt)\n",
      "* \u001b[33m56ea8ee\u001b[m Fix tag\n",
      "* \u001b[33m37ad676\u001b[m Fix message\n",
      "* \u001b[33m3425491\u001b[m Add grub-customizer\n",
      "* \u001b[33mb8d04e0\u001b[m Provide one liner command to start installation\n",
      "* \u001b[33mfc979ef\u001b[m Fix message\n",
      "* \u001b[33m98215a2\u001b[m Make installation dropbox idempotent\n",
      "* \u001b[33md17d75c\u001b[m Fix system service name\n",
      "* \u001b[33mb7f3f12\u001b[m Firstly install key then repository\n",
      "* \u001b[33m31c19b0\u001b[m Ignore files modified by ansible playbooks\n",
      "* \u001b[33me888b19\u001b[m Add your keepassxc configuration\n",
      "* \u001b[33m0910961\u001b[m Print stderr on red in terminal\n",
      "* \u001b[33m6613f55\u001b[m Update readme\n",
      "* \u001b[33m04a4e6f\u001b[m Remove conflicting shortcuts with IntellIJ IDEA from system\n",
      "* \u001b[33m14d90ac\u001b[m Update script to install whole configuration\n",
      "* \u001b[33m00e3897\u001b[m Update way of installation and list of tested playbooks\n",
      "* \u001b[33mc496cf9\u001b[m Tag playbooks\n",
      "* \u001b[33m6c39a77\u001b[m Refactor and tag wallpapers.yml playbook\n",
      "* \u001b[33me9cbcd5\u001b[m Tag vivaldi.yml and change task order\n",
      "* \u001b[33m59fbbda\u001b[m Tag vim.yml playbook\n",
      "* \u001b[33mf337105\u001b[m Refactor utilities.yml playbook\n",
      "* \u001b[33m2d4b4c8\u001b[m Refactor terminal-tools playbook\n",
      "* \u001b[33mfc39d78\u001b[m Fix configuration plank\n",
      "* \u001b[33mc883b92\u001b[m Tag nord-vpn.yml playbook\n",
      "* \u001b[33m8a143e6\u001b[m Refactor multimedia-codecs.yml playbook\n",
      "* \u001b[33m14bf2b3\u001b[m Add tags keepassxc.yml playbook\n",
      "* \u001b[33m60d3047\u001b[m Refactorization of jetbrains-toolbox.yml playbook\n",
      "* \u001b[33m9463ebe\u001b[m Refactorization of flatpak playbook\n",
      "* \u001b[33m8721ec2\u001b[m Refactorization of flatpak playbook\n",
      "* \u001b[33mfa3389f\u001b[m Refactorization of elementary-os-apps playbook\n",
      "* \u001b[33m97abe65\u001b[m Refactorization of dropbox for elementary playbook\n",
      "* \u001b[33m248052f\u001b[m Refactorization of docker playbook\n",
      "* \u001b[33m125901e\u001b[m Use forked modified role for cloudflared\n",
      "* \u001b[33m44f5e9e\u001b[m Set Chrome tag\n",
      "* \u001b[33m8ff9708\u001b[m Set Caprine tag\n",
      "* \u001b[33m5ab6d3a\u001b[m Use modified role for installing cloudflared\n",
      "* \u001b[33m04a64c9\u001b[m ignore temp files\n",
      "* \u001b[33m338eca7\u001b[m Fix wingpanel-ayatana pplaybook\n",
      "* \u001b[33md9a76ac\u001b[m Fix name for task vim installation\n",
      "* \u001b[33m22055ea\u001b[m Add LICENSE\n",
      "* \u001b[33m7116541\u001b[m Add playbook to install ayatana (to show indicators at top bar)\n",
      "* \u001b[33mab69fe9\u001b[m Create readme with instruction for installing elementary as a code\n",
      "* \u001b[33m07d80b2\u001b[m Fix indentation and way of installing packages for yubikey\n",
      "* \u001b[33med7bf91\u001b[m Add root priviliges to task for installation wireshark\n"
     ]
    },
    {
     "name": "stdout",
     "output_type": "stream",
     "text": [
      "* \u001b[33m91d18de\u001b[m Fix vim playbook installation\n",
      "* \u001b[33m937dc41\u001b[m Fix keepassxc playbook indentation\n",
      "* \u001b[33m5cd7e27\u001b[m Remove gestures playbook\n",
      "* \u001b[33md10c5cc\u001b[m Install packages without loop, append dependencies for dconf module\n",
      "* \u001b[33m9e0da63\u001b[m Fix installation flatpak repo\n",
      "* \u001b[33med3fb36\u001b[m Fix installation of dropbox on elementary os\n",
      "* \u001b[33m05438c4\u001b[m Add comments how to fix installation of cloudflared client\n",
      "* \u001b[33me795970\u001b[m Do not validate certificates of chrome repo\n",
      "* \u001b[33meff8d15\u001b[m Install snapd before installing caprine with snap\n",
      "* \u001b[33m3170093\u001b[m Fix autostart loop over files\n",
      "* \u001b[33mc1acb57\u001b[m Ignore retry files\n",
      "* \u001b[33m0124cae\u001b[m Use set instead of list to store all gsettings commands\n",
      "* \u001b[33mb34f16d\u001b[m Add flag for checking partial keystroke coverage\n",
      "* \u001b[33mb1a71c5\u001b[m Provide explanation for condition matching shortcuts\n",
      "* \u001b[33m7691d22\u001b[m Fix incorrect matching of multiple shortcuts\n",
      "* \u001b[33m3c54dba\u001b[m Add default gsettings for testing purposes\n",
      "* \u001b[33m1adb1bf\u001b[m Add vim configuration\n",
      "* \u001b[33mc1f794f\u001b[m Extract playbook for configuration plank (icons dock)\n",
      "* \u001b[33m06498a9\u001b[m Add fusuma playbook to enable gestures at ElementaryOS\n",
      "* \u001b[33mab01818\u001b[m Fix keytroke replacing\n",
      "* \u001b[33m42fced4\u001b[m Correct commands generation and displaying\n",
      "* \u001b[33m3c25150\u001b[m Correct condition in shortcut script\n",
      "* \u001b[33mfc670f8\u001b[m Refactor shortcut script\n",
      "* \u001b[33mc09514d\u001b[m Replace generic regexps with plain python\n",
      "* \u001b[33me4edc3f\u001b[m Appended informations about investigation with gestures\n",
      "* \u001b[33mc45bd73\u001b[m Speedup shortcuts script\n",
      "* \u001b[33m14807ec\u001b[m Provide command line arguments to shortcuts script\n",
      "* \u001b[33mcf2f351\u001b[m Refactor whole clearSystemShortcuts script\n",
      "* \u001b[33m6441a12\u001b[m Add gsettings whitelisting\n",
      "* \u001b[33m0258861\u001b[m Provide in-memory XML processing\n",
      "* \u001b[33mdefa8eb\u001b[m Simplify regex building using join\n",
      "* \u001b[33m8c6e211\u001b[m Extract loops to functions\n",
      "* \u001b[33mb1dbfaf\u001b[m Correct condition of one-key shortcuts\n",
      "* \u001b[33m407320e\u001b[m Split long lines for a few shorter\n",
      "* \u001b[33me7c782e\u001b[m Use brackets instead of function to get dict value\n",
      "* \u001b[33m96b0c93\u001b[m Remove unused printings\n",
      "* \u001b[33mf0d9de9\u001b[m Simplify condition of one-key shortcuts\n",
      "* \u001b[33m683a520\u001b[m Use list comprehension in mapped_key_stroke\n",
      "* \u001b[33m3314035\u001b[m Refactor main dictionary\n",
      "* \u001b[33m6598bbf\u001b[m First version of script checking IDEA/system shortcut mismatch\n",
      "* \u001b[33mb40bb3f\u001b[m Fix script draft\n",
      "* \u001b[33mdccc22d\u001b[m Draft for unlocking system shortcuts (by gsettings) for IntellIJ\n",
      "* \u001b[33md60c7a4\u001b[m Install media codecs on new PC\n",
      "* \u001b[33m9dc751b\u001b[m Copy all .desktop files from autostart folder to local config\n",
      "* \u001b[33m503ff9a\u001b[m Replace username to support different accounts names\n",
      "* \u001b[33mf07939c\u001b[m Add unetbootin installation to utilities\n",
      "* \u001b[33m7c6b3af\u001b[m Fix tags in yubikey and flatpak\n",
      "* \u001b[33m6267806\u001b[m Fix syntax errors\n",
      "* \u001b[33mbf71624\u001b[m Remove autops from ubuntu-playbook\n",
      "* \u001b[33md8cb12c\u001b[m Add gitignore\n",
      "* \u001b[33mec5374b\u001b[m Init repo\n",
      "* \u001b[33m5a77c52\u001b[m Repo init\n"
     ]
    }
   ],
   "source": [
    "git log --oneline --graph"
   ]
  },
  {
   "cell_type": "markdown",
   "metadata": {
    "slideshow": {
     "slide_type": "subslide"
    }
   },
   "source": [
    "# Clone repozytorium nie musi być z Internetu!"
   ]
  },
  {
   "cell_type": "code",
   "execution_count": 36,
   "metadata": {
    "slideshow": {
     "slide_type": "fragment"
    }
   },
   "outputs": [
    {
     "name": "stdout",
     "output_type": "stream",
     "text": [
      "\u001b[31mCloning into 'cloned-repo'...\n",
      "\u001b[0m\u001b[31mdone.\n",
      "\u001b[0m[core]\n",
      "\trepositoryformatversion = 0\n",
      "\tfilemode = true\n",
      "\tbare = false\n",
      "\tlogallrefupdates = true\n",
      "[remote \"origin\"]\n",
      "\turl = /home/wyhasany/git-clone/elementary-as-a-code\n",
      "\tfetch = +refs/heads/*:refs/remotes/origin/*\n",
      "[branch \"master\"]\n",
      "\tremote = origin\n",
      "\tmerge = refs/heads/master\n"
     ]
    }
   ],
   "source": [
    "cd ..\n",
    "git clone elementary-as-a-code cloned-repo\n",
    "cd cloned-repo/\n",
    "cat .git/config"
   ]
  },
  {
   "cell_type": "markdown",
   "metadata": {
    "slideshow": {
     "slide_type": "subslide"
    }
   },
   "source": [
    "# A gdybyśmy przez przypadek stracili całą naszą pracę?"
   ]
  },
  {
   "cell_type": "code",
   "execution_count": 37,
   "metadata": {
    "slideshow": {
     "slide_type": "fragment"
    }
   },
   "outputs": [],
   "source": [
    "rm -rf *"
   ]
  },
  {
   "cell_type": "markdown",
   "metadata": {
    "slideshow": {
     "slide_type": "fragment"
    }
   },
   "source": [
    "##### Co proponujecie zrobić?"
   ]
  },
  {
   "cell_type": "code",
   "execution_count": 39,
   "metadata": {
    "slideshow": {
     "slide_type": "fragment"
    }
   },
   "outputs": [
    {
     "name": "stdout",
     "output_type": "stream",
     "text": [
      "\u001b[0m\u001b[01;34mbranches\u001b[0m  description  \u001b[01;34mhooks\u001b[0m  \u001b[01;34minfo\u001b[0m  \u001b[01;34mobjects\u001b[0m      \u001b[01;34mrefs\u001b[0m\n",
      "config    HEAD         index  \u001b[01;34mlogs\u001b[0m  packed-refs\n"
     ]
    }
   ],
   "source": [
    "ls .git"
   ]
  },
  {
   "cell_type": "markdown",
   "metadata": {
    "slideshow": {
     "slide_type": "subslide"
    }
   },
   "source": [
    "# Git reset\n",
    "* normalnie przywraca wszystko ze staging/index area (przestrzeń tymczasowa)\n",
    "* z flagą `--hard` przywraca nam ostatnią wersję repozytorium ignorując przestrzeń tymczasową **cała nasza praca, którą wykonaliśmy lokalnie idzie do kosza!**\n",
    "\n",
    "Skorzystajmy jednak z rady naszego starego kumpla git-status"
   ]
  },
  {
   "cell_type": "code",
   "execution_count": 41,
   "metadata": {
    "slideshow": {
     "slide_type": "fragment"
    }
   },
   "outputs": [
    {
     "name": "stdout",
     "output_type": "stream",
     "text": [
      "On branch master\n",
      "Your branch is up to date with 'origin/master'.\n",
      "\n",
      "Changes not staged for commit:\n",
      "  (use \"git add/rm <file>...\" to update what will be committed)\n",
      "  (use \"git checkout -- <file>...\" to discard changes in working directory)\n",
      "\n",
      "\t\u001b[31mdeleted:    LICENSE\u001b[m\n",
      "\t\u001b[31mdeleted:    playbooks/autostart.yml\u001b[m\n",
      "\t\u001b[31mdeleted:    playbooks/autostart/bluetooth_off.desktop\u001b[m\n",
      "\t\u001b[31mdeleted:    playbooks/autostart/yakuake.desktop\u001b[m\n",
      "\t\u001b[31mdeleted:    playbooks/caprine.yml\u001b[m\n",
      "\t\u001b[31mdeleted:    playbooks/chrome.yml\u001b[m\n",
      "\t\u001b[31mdeleted:    playbooks/conf-files/qnapi.desktop\u001b[m\n",
      "\t\u001b[31mdeleted:    playbooks/conf-files/qnapi.ini\u001b[m\n",
      "\t\u001b[31mdeleted:    playbooks/crypto.yml\u001b[m\n",
      "\t\u001b[31mdeleted:    playbooks/deb.yml\u001b[m\n",
      "\t\u001b[31mdeleted:    playbooks/debs/.gitignore\u001b[m\n",
      "\t\u001b[31mdeleted:    playbooks/dns-over-https.yml\u001b[m\n",
      "\t\u001b[31mdeleted:    playbooks/docker.yml\u001b[m\n",
      "\t\u001b[31mdeleted:    playbooks/dropbox.yml\u001b[m\n",
      "\t\u001b[31mdeleted:    playbooks/elementary-os-apps.yml\u001b[m\n",
      "\t\u001b[31mdeleted:    playbooks/elementary-tweaks.yml\u001b[m\n",
      "\t\u001b[31mdeleted:    playbooks/flatpak.yml\u001b[m\n",
      "\t\u001b[31mdeleted:    playbooks/fusuma.yml\u001b[m\n",
      "\t\u001b[31mdeleted:    playbooks/gestures/fusuma.desktop\u001b[m\n",
      "\t\u001b[31mdeleted:    playbooks/gestures/fusuma.yml\u001b[m\n",
      "\t\u001b[31mdeleted:    playbooks/gestures/libinput-gestures.conf\u001b[m\n",
      "\t\u001b[31mdeleted:    playbooks/gestures/readme.txt\u001b[m\n",
      "\t\u001b[31mdeleted:    playbooks/gestures/touchegg.conf\u001b[m\n",
      "\t\u001b[31mdeleted:    playbooks/gpg.txt\u001b[m\n",
      "\t\u001b[31mdeleted:    playbooks/grub-customizer.yml\u001b[m\n",
      "\t\u001b[31mdeleted:    playbooks/idea-shortcuts.yml\u001b[m\n",
      "\t\u001b[31mdeleted:    playbooks/java.yml\u001b[m\n",
      "\t\u001b[31mdeleted:    playbooks/jetbrains-toolbox.yml\u001b[m\n",
      "\t\u001b[31mdeleted:    playbooks/jetbrains-toolbox/jetbrains-toolbox.sh\u001b[m\n",
      "\t\u001b[31mdeleted:    playbooks/jupyter.txt\u001b[m\n",
      "\t\u001b[31mdeleted:    playbooks/keepassxc.yml\u001b[m\n",
      "\t\u001b[31mdeleted:    playbooks/keepassxc/.gitignore\u001b[m\n",
      "\t\u001b[31mdeleted:    playbooks/multimedia-codecs.yml\u001b[m\n",
      "\t\u001b[31mdeleted:    playbooks/nord-vpn.yml\u001b[m\n",
      "\t\u001b[31mdeleted:    playbooks/plank.yml\u001b[m\n",
      "\t\u001b[31mdeleted:    playbooks/qnapi.yml\u001b[m\n",
      "\t\u001b[31mdeleted:    playbooks/remmina.yml\u001b[m\n",
      "\t\u001b[31mdeleted:    playbooks/sdkman.yml\u001b[m\n",
      "\t\u001b[31mdeleted:    playbooks/shortcuts/clearSystemShortcuts.py\u001b[m\n",
      "\t\u001b[31mdeleted:    playbooks/shortcuts/gsettings-elementary_os_juno.txt\u001b[m\n",
      "\t\u001b[31mdeleted:    playbooks/shortcuts/gsettings-mint19.txt\u001b[m\n",
      "\t\u001b[31mdeleted:    playbooks/shortcuts/gsettings-ubuntu18_04.txt\u001b[m\n",
      "\t\u001b[31mdeleted:    playbooks/shortcuts/readme.md\u001b[m\n",
      "\t\u001b[31mdeleted:    playbooks/shortcuts/shortcuts.sh\u001b[m\n",
      "\t\u001b[31mdeleted:    playbooks/terminal-tools.yml\u001b[m\n",
      "\t\u001b[31mdeleted:    playbooks/utilities.yml\u001b[m\n",
      "\t\u001b[31mdeleted:    playbooks/vim.yml\u001b[m\n",
      "\t\u001b[31mdeleted:    playbooks/vim/vimrc\u001b[m\n",
      "\t\u001b[31mdeleted:    playbooks/virtualbox.yml\u001b[m\n",
      "\t\u001b[31mdeleted:    playbooks/vivaldi.yml\u001b[m\n",
      "\t\u001b[31mdeleted:    playbooks/wallpapers.yml\u001b[m\n",
      "\t\u001b[31mdeleted:    playbooks/wallpapers/lock.sh\u001b[m\n",
      "\t\u001b[31mdeleted:    playbooks/wallpapers/ls.desktop\u001b[m\n",
      "\t\u001b[31mdeleted:    playbooks/wallpapers/variety.conf\u001b[m\n",
      "\t\u001b[31mdeleted:    playbooks/wallpapers/variety.desktop\u001b[m\n",
      "\t\u001b[31mdeleted:    playbooks/wingpanel-ayatana.yml\u001b[m\n",
      "\t\u001b[31mdeleted:    playbooks/wireshark-installation.yml\u001b[m\n",
      "\t\u001b[31mdeleted:    playbooks/yakuake.yml\u001b[m\n",
      "\t\u001b[31mdeleted:    playbooks/yubikey.yml\u001b[m\n",
      "\t\u001b[31mdeleted:    playbooks/zsh.yml\u001b[m\n",
      "\t\u001b[31mdeleted:    playbooks/zsh_files/fonts/devicons-regular.sh\u001b[m\n",
      "\t\u001b[31mdeleted:    playbooks/zsh_files/fonts/devicons-regular.ttf\u001b[m\n",
      "\t\u001b[31mdeleted:    playbooks/zsh_files/fonts/fontawesome-regular.sh\u001b[m\n",
      "\t\u001b[31mdeleted:    playbooks/zsh_files/fonts/fontawesome-regular.ttf\u001b[m\n",
      "\t\u001b[31mdeleted:    playbooks/zsh_files/fonts/octicons-regular.sh\u001b[m\n",
      "\t\u001b[31mdeleted:    playbooks/zsh_files/fonts/octicons-regular.ttf\u001b[m\n",
      "\t\u001b[31mdeleted:    playbooks/zsh_files/fonts/pomicons-regular.sh\u001b[m\n",
      "\t\u001b[31mdeleted:    playbooks/zsh_files/fonts/pomicons-regular.ttf\u001b[m\n",
      "\t\u001b[31mdeleted:    playbooks/zsh_files/konsole_profiles/konsole/shell-transparent.colorscheme\u001b[m\n",
      "\t\u001b[31mdeleted:    playbooks/zsh_files/konsole_profiles/konsole/shell-transparent.profile\u001b[m\n",
      "\t\u001b[31mdeleted:    playbooks/zsh_files/konsole_profiles/konsole/shell.colorscheme\u001b[m\n",
      "\t\u001b[31mdeleted:    playbooks/zsh_files/konsole_profiles/konsole/shell.profile\u001b[m\n",
      "\t\u001b[31mdeleted:    playbooks/zsh_files/konsoleprofile\u001b[m\n",
      "\t\u001b[31mdeleted:    playbooks/zsh_files/yakuake_skins/skins/README\u001b[m\n",
      "\t\u001b[31mdeleted:    playbooks/zsh_files/yakuake_skins/skins/default/icon.png\u001b[m\n",
      "\t\u001b[31mdeleted:    playbooks/zsh_files/yakuake_skins/skins/default/tabs.skin\u001b[m\n",
      "\t\u001b[31mdeleted:    playbooks/zsh_files/yakuake_skins/skins/default/tabs/back_image.png\u001b[m\n",
      "\t\u001b[31mdeleted:    playbooks/zsh_files/yakuake_skins/skins/default/tabs/left_corner.png\u001b[m\n",
      "\t\u001b[31mdeleted:    playbooks/zsh_files/yakuake_skins/skins/default/tabs/lock.png\u001b[m\n",
      "\t\u001b[31mdeleted:    playbooks/zsh_files/yakuake_skins/skins/default/tabs/minus_down.png\u001b[m\n",
      "\t\u001b[31mdeleted:    playbooks/zsh_files/yakuake_skins/skins/default/tabs/minus_over.png\u001b[m\n",
      "\t\u001b[31mdeleted:    playbooks/zsh_files/yakuake_skins/skins/default/tabs/minus_up.png\u001b[m\n",
      "\t\u001b[31mdeleted:    playbooks/zsh_files/yakuake_skins/skins/default/tabs/plus_down.png\u001b[m\n",
      "\t\u001b[31mdeleted:    playbooks/zsh_files/yakuake_skins/skins/default/tabs/plus_over.png\u001b[m\n",
      "\t\u001b[31mdeleted:    playbooks/zsh_files/yakuake_skins/skins/default/tabs/plus_up.png\u001b[m\n",
      "\t\u001b[31mdeleted:    playbooks/zsh_files/yakuake_skins/skins/default/tabs/right_corner.png\u001b[m\n",
      "\t\u001b[31mdeleted:    playbooks/zsh_files/yakuake_skins/skins/default/tabs/selected_back.png\u001b[m\n",
      "\t\u001b[31mdeleted:    playbooks/zsh_files/yakuake_skins/skins/default/tabs/selected_left.png\u001b[m\n",
      "\t\u001b[31mdeleted:    playbooks/zsh_files/yakuake_skins/skins/default/tabs/selected_right.png\u001b[m\n",
      "\t\u001b[31mdeleted:    playbooks/zsh_files/yakuake_skins/skins/default/tabs/separator.png\u001b[m\n",
      "\t\u001b[31mdeleted:    playbooks/zsh_files/yakuake_skins/skins/default/tabs/unselected_back.png\u001b[m\n",
      "\t\u001b[31mdeleted:    playbooks/zsh_files/yakuake_skins/skins/default/title.skin\u001b[m\n",
      "\t\u001b[31mdeleted:    playbooks/zsh_files/yakuake_skins/skins/default/title/back.png\u001b[m\n",
      "\t\u001b[31mdeleted:    playbooks/zsh_files/yakuake_skins/skins/default/title/config_down.png\u001b[m\n",
      "\t\u001b[31mdeleted:    playbooks/zsh_files/yakuake_skins/skins/default/title/config_over.png\u001b[m\n",
      "\t\u001b[31mdeleted:    playbooks/zsh_files/yakuake_skins/skins/default/title/config_up.png\u001b[m\n",
      "\t\u001b[31mdeleted:    playbooks/zsh_files/yakuake_skins/skins/default/title/focus_down.png\u001b[m\n",
      "\t\u001b[31mdeleted:    playbooks/zsh_files/yakuake_skins/skins/default/title/focus_over.png\u001b[m\n",
      "\t\u001b[31mdeleted:    playbooks/zsh_files/yakuake_skins/skins/default/title/focus_up.png\u001b[m\n",
      "\t\u001b[31mdeleted:    playbooks/zsh_files/yakuake_skins/skins/default/title/left.png\u001b[m\n",
      "\t\u001b[31mdeleted:    playbooks/zsh_files/yakuake_skins/skins/default/title/quit_down.png\u001b[m\n",
      "\t\u001b[31mdeleted:    playbooks/zsh_files/yakuake_skins/skins/default/title/quit_over.png\u001b[m\n",
      "\t\u001b[31mdeleted:    playbooks/zsh_files/yakuake_skins/skins/default/title/quit_up.png\u001b[m\n",
      "\t\u001b[31mdeleted:    playbooks/zsh_files/yakuake_skins/skins/default/title/right.png\u001b[m\n",
      "\t\u001b[31mdeleted:    playbooks/zsh_files/yakuake_skins/skins/tabsonly/back.png\u001b[m\n",
      "\t\u001b[31mdeleted:    playbooks/zsh_files/yakuake_skins/skins/tabsonly/icon.png\u001b[m\n",
      "\t\u001b[31mdeleted:    playbooks/zsh_files/yakuake_skins/skins/tabsonly/tabs.skin\u001b[m\n",
      "\t\u001b[31mdeleted:    playbooks/zsh_files/yakuake_skins/skins/tabsonly/tabs/back_image.png\u001b[m\n",
      "\t\u001b[31mdeleted:    playbooks/zsh_files/yakuake_skins/skins/tabsonly/tabs/left_corner.png\u001b[m\n",
      "\t\u001b[31mdeleted:    playbooks/zsh_files/yakuake_skins/skins/tabsonly/tabs/minus_down.png\u001b[m\n",
      "\t\u001b[31mdeleted:    playbooks/zsh_files/yakuake_skins/skins/tabsonly/tabs/minus_over.png\u001b[m\n",
      "\t\u001b[31mdeleted:    playbooks/zsh_files/yakuake_skins/skins/tabsonly/tabs/minus_up.png\u001b[m\n",
      "\t\u001b[31mdeleted:    playbooks/zsh_files/yakuake_skins/skins/tabsonly/tabs/plus_down.png\u001b[m\n",
      "\t\u001b[31mdeleted:    playbooks/zsh_files/yakuake_skins/skins/tabsonly/tabs/plus_over.png\u001b[m\n",
      "\t\u001b[31mdeleted:    playbooks/zsh_files/yakuake_skins/skins/tabsonly/tabs/plus_up.png\u001b[m\n",
      "\t\u001b[31mdeleted:    playbooks/zsh_files/yakuake_skins/skins/tabsonly/tabs/right_corner.png\u001b[m\n",
      "\t\u001b[31mdeleted:    playbooks/zsh_files/yakuake_skins/skins/tabsonly/tabs/selected_back.png\u001b[m\n",
      "\t\u001b[31mdeleted:    playbooks/zsh_files/yakuake_skins/skins/tabsonly/tabs/selected_left.png\u001b[m\n",
      "\t\u001b[31mdeleted:    playbooks/zsh_files/yakuake_skins/skins/tabsonly/tabs/selected_right.png\u001b[m\n",
      "\t\u001b[31mdeleted:    playbooks/zsh_files/yakuake_skins/skins/tabsonly/tabs/separator.png\u001b[m\n"
     ]
    },
    {
     "name": "stdout",
     "output_type": "stream",
     "text": [
      "\t\u001b[31mdeleted:    playbooks/zsh_files/yakuake_skins/skins/tabsonly/tabs/unselected_back.png\u001b[m\n",
      "\t\u001b[31mdeleted:    playbooks/zsh_files/yakuake_skins/skins/tabsonly/title.skin\u001b[m\n",
      "\t\u001b[31mdeleted:    playbooks/zsh_files/yakuakerc\u001b[m\n",
      "\t\u001b[31mdeleted:    playbooks/zsh_files/zshrc\u001b[m\n",
      "\t\u001b[31mdeleted:    readme.md\u001b[m\n",
      "\t\u001b[31mdeleted:    run.sh\u001b[m\n",
      "\t\u001b[31mdeleted:    travis/Dockerfile.ubuntu-bionic-ansible\u001b[m\n",
      "\t\u001b[31mdeleted:    travis/test.yml\u001b[m\n",
      "\t\u001b[31mdeleted:    ubuntu-playbook.yml\u001b[m\n",
      "\n",
      "no changes added to commit (use \"git add\" and/or \"git commit -a\")\n"
     ]
    }
   ],
   "source": [
    "git status"
   ]
  },
  {
   "cell_type": "markdown",
   "metadata": {
    "slideshow": {
     "slide_type": "subslide"
    }
   },
   "source": [
    "Co to do cholery oznacza?! Zróbmy kolejny błąd"
   ]
  },
  {
   "cell_type": "code",
   "execution_count": 42,
   "metadata": {
    "slideshow": {
     "slide_type": "fragment"
    }
   },
   "outputs": [],
   "source": [
    "git add ."
   ]
  },
  {
   "cell_type": "markdown",
   "metadata": {
    "slideshow": {
     "slide_type": "fragment"
    }
   },
   "source": [
    "oł maj gosz nie dość, że usunęliśmy kod to jeszcze dodaliśmy to usunięcie do przestrzeni tymczasowej!\n",
    "\n",
    "<br/>\n",
    "\n",
    "`git status` pomóż!"
   ]
  },
  {
   "cell_type": "code",
   "execution_count": 43,
   "metadata": {
    "slideshow": {
     "slide_type": "fragment"
    }
   },
   "outputs": [
    {
     "name": "stdout",
     "output_type": "stream",
     "text": [
      "On branch master\n",
      "Your branch is up to date with 'origin/master'.\n",
      "\n",
      "Changes to be committed:\n",
      "  (use \"git reset HEAD <file>...\" to unstage)\n",
      "\n",
      "\t\u001b[32mdeleted:    LICENSE\u001b[m\n",
      "\t\u001b[32mdeleted:    playbooks/autostart.yml\u001b[m\n",
      "\t\u001b[32mdeleted:    playbooks/autostart/bluetooth_off.desktop\u001b[m\n",
      "\t\u001b[32mdeleted:    playbooks/autostart/yakuake.desktop\u001b[m\n",
      "\t\u001b[32mdeleted:    playbooks/caprine.yml\u001b[m\n",
      "\t\u001b[32mdeleted:    playbooks/chrome.yml\u001b[m\n",
      "\t\u001b[32mdeleted:    playbooks/conf-files/qnapi.desktop\u001b[m\n",
      "\t\u001b[32mdeleted:    playbooks/conf-files/qnapi.ini\u001b[m\n",
      "\t\u001b[32mdeleted:    playbooks/crypto.yml\u001b[m\n",
      "\t\u001b[32mdeleted:    playbooks/deb.yml\u001b[m\n",
      "\t\u001b[32mdeleted:    playbooks/debs/.gitignore\u001b[m\n",
      "\t\u001b[32mdeleted:    playbooks/dns-over-https.yml\u001b[m\n",
      "\t\u001b[32mdeleted:    playbooks/docker.yml\u001b[m\n",
      "\t\u001b[32mdeleted:    playbooks/dropbox.yml\u001b[m\n",
      "\t\u001b[32mdeleted:    playbooks/elementary-os-apps.yml\u001b[m\n",
      "\t\u001b[32mdeleted:    playbooks/elementary-tweaks.yml\u001b[m\n",
      "\t\u001b[32mdeleted:    playbooks/flatpak.yml\u001b[m\n",
      "\t\u001b[32mdeleted:    playbooks/fusuma.yml\u001b[m\n",
      "\t\u001b[32mdeleted:    playbooks/gestures/fusuma.desktop\u001b[m\n",
      "\t\u001b[32mdeleted:    playbooks/gestures/fusuma.yml\u001b[m\n",
      "\t\u001b[32mdeleted:    playbooks/gestures/libinput-gestures.conf\u001b[m\n",
      "\t\u001b[32mdeleted:    playbooks/gestures/readme.txt\u001b[m\n",
      "\t\u001b[32mdeleted:    playbooks/gestures/touchegg.conf\u001b[m\n",
      "\t\u001b[32mdeleted:    playbooks/gpg.txt\u001b[m\n",
      "\t\u001b[32mdeleted:    playbooks/grub-customizer.yml\u001b[m\n",
      "\t\u001b[32mdeleted:    playbooks/idea-shortcuts.yml\u001b[m\n",
      "\t\u001b[32mdeleted:    playbooks/java.yml\u001b[m\n",
      "\t\u001b[32mdeleted:    playbooks/jetbrains-toolbox.yml\u001b[m\n",
      "\t\u001b[32mdeleted:    playbooks/jetbrains-toolbox/jetbrains-toolbox.sh\u001b[m\n",
      "\t\u001b[32mdeleted:    playbooks/jupyter.txt\u001b[m\n",
      "\t\u001b[32mdeleted:    playbooks/keepassxc.yml\u001b[m\n",
      "\t\u001b[32mdeleted:    playbooks/keepassxc/.gitignore\u001b[m\n",
      "\t\u001b[32mdeleted:    playbooks/multimedia-codecs.yml\u001b[m\n",
      "\t\u001b[32mdeleted:    playbooks/nord-vpn.yml\u001b[m\n",
      "\t\u001b[32mdeleted:    playbooks/plank.yml\u001b[m\n",
      "\t\u001b[32mdeleted:    playbooks/qnapi.yml\u001b[m\n",
      "\t\u001b[32mdeleted:    playbooks/remmina.yml\u001b[m\n",
      "\t\u001b[32mdeleted:    playbooks/sdkman.yml\u001b[m\n",
      "\t\u001b[32mdeleted:    playbooks/shortcuts/clearSystemShortcuts.py\u001b[m\n",
      "\t\u001b[32mdeleted:    playbooks/shortcuts/gsettings-elementary_os_juno.txt\u001b[m\n",
      "\t\u001b[32mdeleted:    playbooks/shortcuts/gsettings-mint19.txt\u001b[m\n",
      "\t\u001b[32mdeleted:    playbooks/shortcuts/gsettings-ubuntu18_04.txt\u001b[m\n",
      "\t\u001b[32mdeleted:    playbooks/shortcuts/readme.md\u001b[m\n",
      "\t\u001b[32mdeleted:    playbooks/shortcuts/shortcuts.sh\u001b[m\n",
      "\t\u001b[32mdeleted:    playbooks/terminal-tools.yml\u001b[m\n",
      "\t\u001b[32mdeleted:    playbooks/utilities.yml\u001b[m\n",
      "\t\u001b[32mdeleted:    playbooks/vim.yml\u001b[m\n",
      "\t\u001b[32mdeleted:    playbooks/vim/vimrc\u001b[m\n",
      "\t\u001b[32mdeleted:    playbooks/virtualbox.yml\u001b[m\n",
      "\t\u001b[32mdeleted:    playbooks/vivaldi.yml\u001b[m\n",
      "\t\u001b[32mdeleted:    playbooks/wallpapers.yml\u001b[m\n",
      "\t\u001b[32mdeleted:    playbooks/wallpapers/lock.sh\u001b[m\n",
      "\t\u001b[32mdeleted:    playbooks/wallpapers/ls.desktop\u001b[m\n",
      "\t\u001b[32mdeleted:    playbooks/wallpapers/variety.conf\u001b[m\n",
      "\t\u001b[32mdeleted:    playbooks/wallpapers/variety.desktop\u001b[m\n",
      "\t\u001b[32mdeleted:    playbooks/wingpanel-ayatana.yml\u001b[m\n",
      "\t\u001b[32mdeleted:    playbooks/wireshark-installation.yml\u001b[m\n",
      "\t\u001b[32mdeleted:    playbooks/yakuake.yml\u001b[m\n",
      "\t\u001b[32mdeleted:    playbooks/yubikey.yml\u001b[m\n",
      "\t\u001b[32mdeleted:    playbooks/zsh.yml\u001b[m\n",
      "\t\u001b[32mdeleted:    playbooks/zsh_files/fonts/devicons-regular.sh\u001b[m\n",
      "\t\u001b[32mdeleted:    playbooks/zsh_files/fonts/devicons-regular.ttf\u001b[m\n",
      "\t\u001b[32mdeleted:    playbooks/zsh_files/fonts/fontawesome-regular.sh\u001b[m\n",
      "\t\u001b[32mdeleted:    playbooks/zsh_files/fonts/fontawesome-regular.ttf\u001b[m\n",
      "\t\u001b[32mdeleted:    playbooks/zsh_files/fonts/octicons-regular.sh\u001b[m\n",
      "\t\u001b[32mdeleted:    playbooks/zsh_files/fonts/octicons-regular.ttf\u001b[m\n",
      "\t\u001b[32mdeleted:    playbooks/zsh_files/fonts/pomicons-regular.sh\u001b[m\n",
      "\t\u001b[32mdeleted:    playbooks/zsh_files/fonts/pomicons-regular.ttf\u001b[m\n",
      "\t\u001b[32mdeleted:    playbooks/zsh_files/konsole_profiles/konsole/shell-transparent.colorscheme\u001b[m\n",
      "\t\u001b[32mdeleted:    playbooks/zsh_files/konsole_profiles/konsole/shell-transparent.profile\u001b[m\n",
      "\t\u001b[32mdeleted:    playbooks/zsh_files/konsole_profiles/konsole/shell.colorscheme\u001b[m\n",
      "\t\u001b[32mdeleted:    playbooks/zsh_files/konsole_profiles/konsole/shell.profile\u001b[m\n",
      "\t\u001b[32mdeleted:    playbooks/zsh_files/konsoleprofile\u001b[m\n",
      "\t\u001b[32mdeleted:    playbooks/zsh_files/yakuake_skins/skins/README\u001b[m\n",
      "\t\u001b[32mdeleted:    playbooks/zsh_files/yakuake_skins/skins/default/icon.png\u001b[m\n",
      "\t\u001b[32mdeleted:    playbooks/zsh_files/yakuake_skins/skins/default/tabs.skin\u001b[m\n",
      "\t\u001b[32mdeleted:    playbooks/zsh_files/yakuake_skins/skins/default/tabs/back_image.png\u001b[m\n",
      "\t\u001b[32mdeleted:    playbooks/zsh_files/yakuake_skins/skins/default/tabs/left_corner.png\u001b[m\n",
      "\t\u001b[32mdeleted:    playbooks/zsh_files/yakuake_skins/skins/default/tabs/lock.png\u001b[m\n",
      "\t\u001b[32mdeleted:    playbooks/zsh_files/yakuake_skins/skins/default/tabs/minus_down.png\u001b[m\n",
      "\t\u001b[32mdeleted:    playbooks/zsh_files/yakuake_skins/skins/default/tabs/minus_over.png\u001b[m\n",
      "\t\u001b[32mdeleted:    playbooks/zsh_files/yakuake_skins/skins/default/tabs/minus_up.png\u001b[m\n",
      "\t\u001b[32mdeleted:    playbooks/zsh_files/yakuake_skins/skins/default/tabs/plus_down.png\u001b[m\n",
      "\t\u001b[32mdeleted:    playbooks/zsh_files/yakuake_skins/skins/default/tabs/plus_over.png\u001b[m\n",
      "\t\u001b[32mdeleted:    playbooks/zsh_files/yakuake_skins/skins/default/tabs/plus_up.png\u001b[m\n",
      "\t\u001b[32mdeleted:    playbooks/zsh_files/yakuake_skins/skins/default/tabs/right_corner.png\u001b[m\n",
      "\t\u001b[32mdeleted:    playbooks/zsh_files/yakuake_skins/skins/default/tabs/selected_back.png\u001b[m\n",
      "\t\u001b[32mdeleted:    playbooks/zsh_files/yakuake_skins/skins/default/tabs/selected_left.png\u001b[m\n",
      "\t\u001b[32mdeleted:    playbooks/zsh_files/yakuake_skins/skins/default/tabs/selected_right.png\u001b[m\n",
      "\t\u001b[32mdeleted:    playbooks/zsh_files/yakuake_skins/skins/default/tabs/separator.png\u001b[m\n",
      "\t\u001b[32mdeleted:    playbooks/zsh_files/yakuake_skins/skins/default/tabs/unselected_back.png\u001b[m\n",
      "\t\u001b[32mdeleted:    playbooks/zsh_files/yakuake_skins/skins/default/title.skin\u001b[m\n",
      "\t\u001b[32mdeleted:    playbooks/zsh_files/yakuake_skins/skins/default/title/back.png\u001b[m\n",
      "\t\u001b[32mdeleted:    playbooks/zsh_files/yakuake_skins/skins/default/title/config_down.png\u001b[m\n",
      "\t\u001b[32mdeleted:    playbooks/zsh_files/yakuake_skins/skins/default/title/config_over.png\u001b[m\n",
      "\t\u001b[32mdeleted:    playbooks/zsh_files/yakuake_skins/skins/default/title/config_up.png\u001b[m\n",
      "\t\u001b[32mdeleted:    playbooks/zsh_files/yakuake_skins/skins/default/title/focus_down.png\u001b[m\n",
      "\t\u001b[32mdeleted:    playbooks/zsh_files/yakuake_skins/skins/default/title/focus_over.png\u001b[m\n",
      "\t\u001b[32mdeleted:    playbooks/zsh_files/yakuake_skins/skins/default/title/focus_up.png\u001b[m\n",
      "\t\u001b[32mdeleted:    playbooks/zsh_files/yakuake_skins/skins/default/title/left.png\u001b[m\n",
      "\t\u001b[32mdeleted:    playbooks/zsh_files/yakuake_skins/skins/default/title/quit_down.png\u001b[m\n",
      "\t\u001b[32mdeleted:    playbooks/zsh_files/yakuake_skins/skins/default/title/quit_over.png\u001b[m\n",
      "\t\u001b[32mdeleted:    playbooks/zsh_files/yakuake_skins/skins/default/title/quit_up.png\u001b[m\n",
      "\t\u001b[32mdeleted:    playbooks/zsh_files/yakuake_skins/skins/default/title/right.png\u001b[m\n",
      "\t\u001b[32mdeleted:    playbooks/zsh_files/yakuake_skins/skins/tabsonly/back.png\u001b[m\n",
      "\t\u001b[32mdeleted:    playbooks/zsh_files/yakuake_skins/skins/tabsonly/icon.png\u001b[m\n",
      "\t\u001b[32mdeleted:    playbooks/zsh_files/yakuake_skins/skins/tabsonly/tabs.skin\u001b[m\n",
      "\t\u001b[32mdeleted:    playbooks/zsh_files/yakuake_skins/skins/tabsonly/tabs/back_image.png\u001b[m\n",
      "\t\u001b[32mdeleted:    playbooks/zsh_files/yakuake_skins/skins/tabsonly/tabs/left_corner.png\u001b[m\n",
      "\t\u001b[32mdeleted:    playbooks/zsh_files/yakuake_skins/skins/tabsonly/tabs/minus_down.png\u001b[m\n",
      "\t\u001b[32mdeleted:    playbooks/zsh_files/yakuake_skins/skins/tabsonly/tabs/minus_over.png\u001b[m\n",
      "\t\u001b[32mdeleted:    playbooks/zsh_files/yakuake_skins/skins/tabsonly/tabs/minus_up.png\u001b[m\n",
      "\t\u001b[32mdeleted:    playbooks/zsh_files/yakuake_skins/skins/tabsonly/tabs/plus_down.png\u001b[m\n",
      "\t\u001b[32mdeleted:    playbooks/zsh_files/yakuake_skins/skins/tabsonly/tabs/plus_over.png\u001b[m\n",
      "\t\u001b[32mdeleted:    playbooks/zsh_files/yakuake_skins/skins/tabsonly/tabs/plus_up.png\u001b[m\n",
      "\t\u001b[32mdeleted:    playbooks/zsh_files/yakuake_skins/skins/tabsonly/tabs/right_corner.png\u001b[m\n",
      "\t\u001b[32mdeleted:    playbooks/zsh_files/yakuake_skins/skins/tabsonly/tabs/selected_back.png\u001b[m\n",
      "\t\u001b[32mdeleted:    playbooks/zsh_files/yakuake_skins/skins/tabsonly/tabs/selected_left.png\u001b[m\n",
      "\t\u001b[32mdeleted:    playbooks/zsh_files/yakuake_skins/skins/tabsonly/tabs/selected_right.png\u001b[m\n",
      "\t\u001b[32mdeleted:    playbooks/zsh_files/yakuake_skins/skins/tabsonly/tabs/separator.png\u001b[m\n",
      "\t\u001b[32mdeleted:    playbooks/zsh_files/yakuake_skins/skins/tabsonly/tabs/unselected_back.png\u001b[m\n"
     ]
    },
    {
     "name": "stdout",
     "output_type": "stream",
     "text": [
      "\t\u001b[32mdeleted:    playbooks/zsh_files/yakuake_skins/skins/tabsonly/title.skin\u001b[m\n",
      "\t\u001b[32mdeleted:    playbooks/zsh_files/yakuakerc\u001b[m\n",
      "\t\u001b[32mdeleted:    playbooks/zsh_files/zshrc\u001b[m\n",
      "\t\u001b[32mdeleted:    readme.md\u001b[m\n",
      "\t\u001b[32mdeleted:    run.sh\u001b[m\n",
      "\t\u001b[32mdeleted:    travis/Dockerfile.ubuntu-bionic-ansible\u001b[m\n",
      "\t\u001b[32mdeleted:    travis/test.yml\u001b[m\n",
      "\t\u001b[32mdeleted:    ubuntu-playbook.yml\u001b[m\n",
      "\n"
     ]
    }
   ],
   "source": [
    "git status"
   ]
  },
  {
   "cell_type": "code",
   "execution_count": 44,
   "metadata": {
    "slideshow": {
     "slide_type": "subslide"
    }
   },
   "outputs": [
    {
     "name": "stdout",
     "output_type": "stream",
     "text": [
      "Unstaged changes after reset:\n",
      "D\tLICENSE\n",
      "D\tplaybooks/autostart.yml\n",
      "D\tplaybooks/autostart/bluetooth_off.desktop\n",
      "D\tplaybooks/autostart/yakuake.desktop\n",
      "D\tplaybooks/caprine.yml\n",
      "D\tplaybooks/chrome.yml\n",
      "D\tplaybooks/conf-files/qnapi.desktop\n",
      "D\tplaybooks/conf-files/qnapi.ini\n",
      "D\tplaybooks/crypto.yml\n",
      "D\tplaybooks/deb.yml\n",
      "D\tplaybooks/debs/.gitignore\n",
      "D\tplaybooks/dns-over-https.yml\n",
      "D\tplaybooks/docker.yml\n",
      "D\tplaybooks/dropbox.yml\n",
      "D\tplaybooks/elementary-os-apps.yml\n",
      "D\tplaybooks/elementary-tweaks.yml\n",
      "D\tplaybooks/flatpak.yml\n",
      "D\tplaybooks/fusuma.yml\n",
      "D\tplaybooks/gestures/fusuma.desktop\n",
      "D\tplaybooks/gestures/fusuma.yml\n",
      "D\tplaybooks/gestures/libinput-gestures.conf\n",
      "D\tplaybooks/gestures/readme.txt\n",
      "D\tplaybooks/gestures/touchegg.conf\n",
      "D\tplaybooks/gpg.txt\n",
      "D\tplaybooks/grub-customizer.yml\n",
      "D\tplaybooks/idea-shortcuts.yml\n",
      "D\tplaybooks/java.yml\n",
      "D\tplaybooks/jetbrains-toolbox.yml\n",
      "D\tplaybooks/jetbrains-toolbox/jetbrains-toolbox.sh\n",
      "D\tplaybooks/jupyter.txt\n",
      "D\tplaybooks/keepassxc.yml\n",
      "D\tplaybooks/keepassxc/.gitignore\n",
      "D\tplaybooks/multimedia-codecs.yml\n",
      "D\tplaybooks/nord-vpn.yml\n",
      "D\tplaybooks/plank.yml\n",
      "D\tplaybooks/qnapi.yml\n",
      "D\tplaybooks/remmina.yml\n",
      "D\tplaybooks/sdkman.yml\n",
      "D\tplaybooks/shortcuts/clearSystemShortcuts.py\n",
      "D\tplaybooks/shortcuts/gsettings-elementary_os_juno.txt\n",
      "D\tplaybooks/shortcuts/gsettings-mint19.txt\n",
      "D\tplaybooks/shortcuts/gsettings-ubuntu18_04.txt\n",
      "D\tplaybooks/shortcuts/readme.md\n",
      "D\tplaybooks/shortcuts/shortcuts.sh\n",
      "D\tplaybooks/terminal-tools.yml\n",
      "D\tplaybooks/utilities.yml\n",
      "D\tplaybooks/vim.yml\n",
      "D\tplaybooks/vim/vimrc\n",
      "D\tplaybooks/virtualbox.yml\n",
      "D\tplaybooks/vivaldi.yml\n",
      "D\tplaybooks/wallpapers.yml\n",
      "D\tplaybooks/wallpapers/lock.sh\n",
      "D\tplaybooks/wallpapers/ls.desktop\n",
      "D\tplaybooks/wallpapers/variety.conf\n",
      "D\tplaybooks/wallpapers/variety.desktop\n",
      "D\tplaybooks/wingpanel-ayatana.yml\n",
      "D\tplaybooks/wireshark-installation.yml\n",
      "D\tplaybooks/yakuake.yml\n",
      "D\tplaybooks/yubikey.yml\n",
      "D\tplaybooks/zsh.yml\n",
      "D\tplaybooks/zsh_files/fonts/devicons-regular.sh\n",
      "D\tplaybooks/zsh_files/fonts/devicons-regular.ttf\n",
      "D\tplaybooks/zsh_files/fonts/fontawesome-regular.sh\n",
      "D\tplaybooks/zsh_files/fonts/fontawesome-regular.ttf\n",
      "D\tplaybooks/zsh_files/fonts/octicons-regular.sh\n",
      "D\tplaybooks/zsh_files/fonts/octicons-regular.ttf\n",
      "D\tplaybooks/zsh_files/fonts/pomicons-regular.sh\n",
      "D\tplaybooks/zsh_files/fonts/pomicons-regular.ttf\n",
      "D\tplaybooks/zsh_files/konsole_profiles/konsole/shell-transparent.colorscheme\n",
      "D\tplaybooks/zsh_files/konsole_profiles/konsole/shell-transparent.profile\n",
      "D\tplaybooks/zsh_files/konsole_profiles/konsole/shell.colorscheme\n",
      "D\tplaybooks/zsh_files/konsole_profiles/konsole/shell.profile\n",
      "D\tplaybooks/zsh_files/konsoleprofile\n",
      "D\tplaybooks/zsh_files/yakuake_skins/skins/README\n",
      "D\tplaybooks/zsh_files/yakuake_skins/skins/default/icon.png\n",
      "D\tplaybooks/zsh_files/yakuake_skins/skins/default/tabs.skin\n",
      "D\tplaybooks/zsh_files/yakuake_skins/skins/default/tabs/back_image.png\n",
      "D\tplaybooks/zsh_files/yakuake_skins/skins/default/tabs/left_corner.png\n",
      "D\tplaybooks/zsh_files/yakuake_skins/skins/default/tabs/lock.png\n",
      "D\tplaybooks/zsh_files/yakuake_skins/skins/default/tabs/minus_down.png\n",
      "D\tplaybooks/zsh_files/yakuake_skins/skins/default/tabs/minus_over.png\n",
      "D\tplaybooks/zsh_files/yakuake_skins/skins/default/tabs/minus_up.png\n",
      "D\tplaybooks/zsh_files/yakuake_skins/skins/default/tabs/plus_down.png\n",
      "D\tplaybooks/zsh_files/yakuake_skins/skins/default/tabs/plus_over.png\n",
      "D\tplaybooks/zsh_files/yakuake_skins/skins/default/tabs/plus_up.png\n",
      "D\tplaybooks/zsh_files/yakuake_skins/skins/default/tabs/right_corner.png\n",
      "D\tplaybooks/zsh_files/yakuake_skins/skins/default/tabs/selected_back.png\n",
      "D\tplaybooks/zsh_files/yakuake_skins/skins/default/tabs/selected_left.png\n",
      "D\tplaybooks/zsh_files/yakuake_skins/skins/default/tabs/selected_right.png\n",
      "D\tplaybooks/zsh_files/yakuake_skins/skins/default/tabs/separator.png\n",
      "D\tplaybooks/zsh_files/yakuake_skins/skins/default/tabs/unselected_back.png\n",
      "D\tplaybooks/zsh_files/yakuake_skins/skins/default/title.skin\n",
      "D\tplaybooks/zsh_files/yakuake_skins/skins/default/title/back.png\n",
      "D\tplaybooks/zsh_files/yakuake_skins/skins/default/title/config_down.png\n",
      "D\tplaybooks/zsh_files/yakuake_skins/skins/default/title/config_over.png\n",
      "D\tplaybooks/zsh_files/yakuake_skins/skins/default/title/config_up.png\n",
      "D\tplaybooks/zsh_files/yakuake_skins/skins/default/title/focus_down.png\n",
      "D\tplaybooks/zsh_files/yakuake_skins/skins/default/title/focus_over.png\n",
      "D\tplaybooks/zsh_files/yakuake_skins/skins/default/title/focus_up.png\n",
      "D\tplaybooks/zsh_files/yakuake_skins/skins/default/title/left.png\n",
      "D\tplaybooks/zsh_files/yakuake_skins/skins/default/title/quit_down.png\n",
      "D\tplaybooks/zsh_files/yakuake_skins/skins/default/title/quit_over.png\n",
      "D\tplaybooks/zsh_files/yakuake_skins/skins/default/title/quit_up.png\n",
      "D\tplaybooks/zsh_files/yakuake_skins/skins/default/title/right.png\n",
      "D\tplaybooks/zsh_files/yakuake_skins/skins/tabsonly/back.png\n",
      "D\tplaybooks/zsh_files/yakuake_skins/skins/tabsonly/icon.png\n",
      "D\tplaybooks/zsh_files/yakuake_skins/skins/tabsonly/tabs.skin\n",
      "D\tplaybooks/zsh_files/yakuake_skins/skins/tabsonly/tabs/back_image.png\n",
      "D\tplaybooks/zsh_files/yakuake_skins/skins/tabsonly/tabs/left_corner.png\n",
      "D\tplaybooks/zsh_files/yakuake_skins/skins/tabsonly/tabs/minus_down.png\n",
      "D\tplaybooks/zsh_files/yakuake_skins/skins/tabsonly/tabs/minus_over.png\n",
      "D\tplaybooks/zsh_files/yakuake_skins/skins/tabsonly/tabs/minus_up.png\n",
      "D\tplaybooks/zsh_files/yakuake_skins/skins/tabsonly/tabs/plus_down.png\n",
      "D\tplaybooks/zsh_files/yakuake_skins/skins/tabsonly/tabs/plus_over.png\n",
      "D\tplaybooks/zsh_files/yakuake_skins/skins/tabsonly/tabs/plus_up.png\n",
      "D\tplaybooks/zsh_files/yakuake_skins/skins/tabsonly/tabs/right_corner.png\n",
      "D\tplaybooks/zsh_files/yakuake_skins/skins/tabsonly/tabs/selected_back.png\n",
      "D\tplaybooks/zsh_files/yakuake_skins/skins/tabsonly/tabs/selected_left.png\n",
      "D\tplaybooks/zsh_files/yakuake_skins/skins/tabsonly/tabs/selected_right.png\n",
      "D\tplaybooks/zsh_files/yakuake_skins/skins/tabsonly/tabs/separator.png\n",
      "D\tplaybooks/zsh_files/yakuake_skins/skins/tabsonly/tabs/unselected_back.png\n",
      "D\tplaybooks/zsh_files/yakuake_skins/skins/tabsonly/title.skin\n",
      "D\tplaybooks/zsh_files/yakuakerc\n",
      "D\tplaybooks/zsh_files/zshrc\n",
      "D\treadme.md\n",
      "D\trun.sh\n",
      "D\ttravis/Dockerfile.ubuntu-bionic-ansible\n",
      "D\ttravis/test.yml\n",
      "D\tubuntu-playbook.yml\n"
     ]
    }
   ],
   "source": [
    "git reset --mixed"
   ]
  },
  {
   "cell_type": "code",
   "execution_count": 46,
   "metadata": {
    "slideshow": {
     "slide_type": "fragment"
    }
   },
   "outputs": [
    {
     "name": "stdout",
     "output_type": "stream",
     "text": [
      "\u001b[0m\u001b[01;34m.\u001b[0m  \u001b[01;34m..\u001b[0m  \u001b[01;34m.git\u001b[0m  \u001b[01;32m.gitignore\u001b[0m  \u001b[01;32m.travis.yml\u001b[0m\n"
     ]
    }
   ],
   "source": [
    "ls -a"
   ]
  },
  {
   "cell_type": "code",
   "execution_count": 47,
   "metadata": {
    "slideshow": {
     "slide_type": "subslide"
    }
   },
   "outputs": [
    {
     "name": "stdout",
     "output_type": "stream",
     "text": [
      "On branch master\n",
      "Your branch is up to date with 'origin/master'.\n",
      "\n",
      "Changes not staged for commit:\n",
      "  (use \"git add/rm <file>...\" to update what will be committed)\n",
      "  (use \"git checkout -- <file>...\" to discard changes in working directory)\n",
      "\n",
      "\t\u001b[31mdeleted:    LICENSE\u001b[m\n",
      "\t\u001b[31mdeleted:    playbooks/autostart.yml\u001b[m\n",
      "\t\u001b[31mdeleted:    playbooks/autostart/bluetooth_off.desktop\u001b[m\n",
      "\t\u001b[31mdeleted:    playbooks/autostart/yakuake.desktop\u001b[m\n",
      "\t\u001b[31mdeleted:    playbooks/caprine.yml\u001b[m\n",
      "\t\u001b[31mdeleted:    playbooks/chrome.yml\u001b[m\n",
      "\t\u001b[31mdeleted:    playbooks/conf-files/qnapi.desktop\u001b[m\n",
      "\t\u001b[31mdeleted:    playbooks/conf-files/qnapi.ini\u001b[m\n",
      "\t\u001b[31mdeleted:    playbooks/crypto.yml\u001b[m\n",
      "\t\u001b[31mdeleted:    playbooks/deb.yml\u001b[m\n",
      "\t\u001b[31mdeleted:    playbooks/debs/.gitignore\u001b[m\n",
      "\t\u001b[31mdeleted:    playbooks/dns-over-https.yml\u001b[m\n",
      "\t\u001b[31mdeleted:    playbooks/docker.yml\u001b[m\n",
      "\t\u001b[31mdeleted:    playbooks/dropbox.yml\u001b[m\n",
      "\t\u001b[31mdeleted:    playbooks/elementary-os-apps.yml\u001b[m\n",
      "\t\u001b[31mdeleted:    playbooks/elementary-tweaks.yml\u001b[m\n",
      "\t\u001b[31mdeleted:    playbooks/flatpak.yml\u001b[m\n",
      "\t\u001b[31mdeleted:    playbooks/fusuma.yml\u001b[m\n",
      "\t\u001b[31mdeleted:    playbooks/gestures/fusuma.desktop\u001b[m\n",
      "\t\u001b[31mdeleted:    playbooks/gestures/fusuma.yml\u001b[m\n",
      "\t\u001b[31mdeleted:    playbooks/gestures/libinput-gestures.conf\u001b[m\n",
      "\t\u001b[31mdeleted:    playbooks/gestures/readme.txt\u001b[m\n",
      "\t\u001b[31mdeleted:    playbooks/gestures/touchegg.conf\u001b[m\n",
      "\t\u001b[31mdeleted:    playbooks/gpg.txt\u001b[m\n",
      "\t\u001b[31mdeleted:    playbooks/grub-customizer.yml\u001b[m\n",
      "\t\u001b[31mdeleted:    playbooks/idea-shortcuts.yml\u001b[m\n",
      "\t\u001b[31mdeleted:    playbooks/java.yml\u001b[m\n",
      "\t\u001b[31mdeleted:    playbooks/jetbrains-toolbox.yml\u001b[m\n",
      "\t\u001b[31mdeleted:    playbooks/jetbrains-toolbox/jetbrains-toolbox.sh\u001b[m\n",
      "\t\u001b[31mdeleted:    playbooks/jupyter.txt\u001b[m\n",
      "\t\u001b[31mdeleted:    playbooks/keepassxc.yml\u001b[m\n",
      "\t\u001b[31mdeleted:    playbooks/keepassxc/.gitignore\u001b[m\n",
      "\t\u001b[31mdeleted:    playbooks/multimedia-codecs.yml\u001b[m\n",
      "\t\u001b[31mdeleted:    playbooks/nord-vpn.yml\u001b[m\n",
      "\t\u001b[31mdeleted:    playbooks/plank.yml\u001b[m\n",
      "\t\u001b[31mdeleted:    playbooks/qnapi.yml\u001b[m\n",
      "\t\u001b[31mdeleted:    playbooks/remmina.yml\u001b[m\n",
      "\t\u001b[31mdeleted:    playbooks/sdkman.yml\u001b[m\n",
      "\t\u001b[31mdeleted:    playbooks/shortcuts/clearSystemShortcuts.py\u001b[m\n",
      "\t\u001b[31mdeleted:    playbooks/shortcuts/gsettings-elementary_os_juno.txt\u001b[m\n",
      "\t\u001b[31mdeleted:    playbooks/shortcuts/gsettings-mint19.txt\u001b[m\n",
      "\t\u001b[31mdeleted:    playbooks/shortcuts/gsettings-ubuntu18_04.txt\u001b[m\n",
      "\t\u001b[31mdeleted:    playbooks/shortcuts/readme.md\u001b[m\n",
      "\t\u001b[31mdeleted:    playbooks/shortcuts/shortcuts.sh\u001b[m\n",
      "\t\u001b[31mdeleted:    playbooks/terminal-tools.yml\u001b[m\n",
      "\t\u001b[31mdeleted:    playbooks/utilities.yml\u001b[m\n",
      "\t\u001b[31mdeleted:    playbooks/vim.yml\u001b[m\n",
      "\t\u001b[31mdeleted:    playbooks/vim/vimrc\u001b[m\n",
      "\t\u001b[31mdeleted:    playbooks/virtualbox.yml\u001b[m\n",
      "\t\u001b[31mdeleted:    playbooks/vivaldi.yml\u001b[m\n",
      "\t\u001b[31mdeleted:    playbooks/wallpapers.yml\u001b[m\n",
      "\t\u001b[31mdeleted:    playbooks/wallpapers/lock.sh\u001b[m\n",
      "\t\u001b[31mdeleted:    playbooks/wallpapers/ls.desktop\u001b[m\n",
      "\t\u001b[31mdeleted:    playbooks/wallpapers/variety.conf\u001b[m\n",
      "\t\u001b[31mdeleted:    playbooks/wallpapers/variety.desktop\u001b[m\n",
      "\t\u001b[31mdeleted:    playbooks/wingpanel-ayatana.yml\u001b[m\n",
      "\t\u001b[31mdeleted:    playbooks/wireshark-installation.yml\u001b[m\n",
      "\t\u001b[31mdeleted:    playbooks/yakuake.yml\u001b[m\n",
      "\t\u001b[31mdeleted:    playbooks/yubikey.yml\u001b[m\n",
      "\t\u001b[31mdeleted:    playbooks/zsh.yml\u001b[m\n",
      "\t\u001b[31mdeleted:    playbooks/zsh_files/fonts/devicons-regular.sh\u001b[m\n",
      "\t\u001b[31mdeleted:    playbooks/zsh_files/fonts/devicons-regular.ttf\u001b[m\n",
      "\t\u001b[31mdeleted:    playbooks/zsh_files/fonts/fontawesome-regular.sh\u001b[m\n",
      "\t\u001b[31mdeleted:    playbooks/zsh_files/fonts/fontawesome-regular.ttf\u001b[m\n",
      "\t\u001b[31mdeleted:    playbooks/zsh_files/fonts/octicons-regular.sh\u001b[m\n",
      "\t\u001b[31mdeleted:    playbooks/zsh_files/fonts/octicons-regular.ttf\u001b[m\n",
      "\t\u001b[31mdeleted:    playbooks/zsh_files/fonts/pomicons-regular.sh\u001b[m\n",
      "\t\u001b[31mdeleted:    playbooks/zsh_files/fonts/pomicons-regular.ttf\u001b[m\n",
      "\t\u001b[31mdeleted:    playbooks/zsh_files/konsole_profiles/konsole/shell-transparent.colorscheme\u001b[m\n",
      "\t\u001b[31mdeleted:    playbooks/zsh_files/konsole_profiles/konsole/shell-transparent.profile\u001b[m\n",
      "\t\u001b[31mdeleted:    playbooks/zsh_files/konsole_profiles/konsole/shell.colorscheme\u001b[m\n",
      "\t\u001b[31mdeleted:    playbooks/zsh_files/konsole_profiles/konsole/shell.profile\u001b[m\n",
      "\t\u001b[31mdeleted:    playbooks/zsh_files/konsoleprofile\u001b[m\n",
      "\t\u001b[31mdeleted:    playbooks/zsh_files/yakuake_skins/skins/README\u001b[m\n",
      "\t\u001b[31mdeleted:    playbooks/zsh_files/yakuake_skins/skins/default/icon.png\u001b[m\n",
      "\t\u001b[31mdeleted:    playbooks/zsh_files/yakuake_skins/skins/default/tabs.skin\u001b[m\n",
      "\t\u001b[31mdeleted:    playbooks/zsh_files/yakuake_skins/skins/default/tabs/back_image.png\u001b[m\n",
      "\t\u001b[31mdeleted:    playbooks/zsh_files/yakuake_skins/skins/default/tabs/left_corner.png\u001b[m\n",
      "\t\u001b[31mdeleted:    playbooks/zsh_files/yakuake_skins/skins/default/tabs/lock.png\u001b[m\n",
      "\t\u001b[31mdeleted:    playbooks/zsh_files/yakuake_skins/skins/default/tabs/minus_down.png\u001b[m\n",
      "\t\u001b[31mdeleted:    playbooks/zsh_files/yakuake_skins/skins/default/tabs/minus_over.png\u001b[m\n",
      "\t\u001b[31mdeleted:    playbooks/zsh_files/yakuake_skins/skins/default/tabs/minus_up.png\u001b[m\n",
      "\t\u001b[31mdeleted:    playbooks/zsh_files/yakuake_skins/skins/default/tabs/plus_down.png\u001b[m\n",
      "\t\u001b[31mdeleted:    playbooks/zsh_files/yakuake_skins/skins/default/tabs/plus_over.png\u001b[m\n",
      "\t\u001b[31mdeleted:    playbooks/zsh_files/yakuake_skins/skins/default/tabs/plus_up.png\u001b[m\n",
      "\t\u001b[31mdeleted:    playbooks/zsh_files/yakuake_skins/skins/default/tabs/right_corner.png\u001b[m\n",
      "\t\u001b[31mdeleted:    playbooks/zsh_files/yakuake_skins/skins/default/tabs/selected_back.png\u001b[m\n",
      "\t\u001b[31mdeleted:    playbooks/zsh_files/yakuake_skins/skins/default/tabs/selected_left.png\u001b[m\n",
      "\t\u001b[31mdeleted:    playbooks/zsh_files/yakuake_skins/skins/default/tabs/selected_right.png\u001b[m\n",
      "\t\u001b[31mdeleted:    playbooks/zsh_files/yakuake_skins/skins/default/tabs/separator.png\u001b[m\n",
      "\t\u001b[31mdeleted:    playbooks/zsh_files/yakuake_skins/skins/default/tabs/unselected_back.png\u001b[m\n",
      "\t\u001b[31mdeleted:    playbooks/zsh_files/yakuake_skins/skins/default/title.skin\u001b[m\n",
      "\t\u001b[31mdeleted:    playbooks/zsh_files/yakuake_skins/skins/default/title/back.png\u001b[m\n",
      "\t\u001b[31mdeleted:    playbooks/zsh_files/yakuake_skins/skins/default/title/config_down.png\u001b[m\n",
      "\t\u001b[31mdeleted:    playbooks/zsh_files/yakuake_skins/skins/default/title/config_over.png\u001b[m\n",
      "\t\u001b[31mdeleted:    playbooks/zsh_files/yakuake_skins/skins/default/title/config_up.png\u001b[m\n",
      "\t\u001b[31mdeleted:    playbooks/zsh_files/yakuake_skins/skins/default/title/focus_down.png\u001b[m\n",
      "\t\u001b[31mdeleted:    playbooks/zsh_files/yakuake_skins/skins/default/title/focus_over.png\u001b[m\n",
      "\t\u001b[31mdeleted:    playbooks/zsh_files/yakuake_skins/skins/default/title/focus_up.png\u001b[m\n",
      "\t\u001b[31mdeleted:    playbooks/zsh_files/yakuake_skins/skins/default/title/left.png\u001b[m\n",
      "\t\u001b[31mdeleted:    playbooks/zsh_files/yakuake_skins/skins/default/title/quit_down.png\u001b[m\n",
      "\t\u001b[31mdeleted:    playbooks/zsh_files/yakuake_skins/skins/default/title/quit_over.png\u001b[m\n",
      "\t\u001b[31mdeleted:    playbooks/zsh_files/yakuake_skins/skins/default/title/quit_up.png\u001b[m\n",
      "\t\u001b[31mdeleted:    playbooks/zsh_files/yakuake_skins/skins/default/title/right.png\u001b[m\n",
      "\t\u001b[31mdeleted:    playbooks/zsh_files/yakuake_skins/skins/tabsonly/back.png\u001b[m\n",
      "\t\u001b[31mdeleted:    playbooks/zsh_files/yakuake_skins/skins/tabsonly/icon.png\u001b[m\n",
      "\t\u001b[31mdeleted:    playbooks/zsh_files/yakuake_skins/skins/tabsonly/tabs.skin\u001b[m\n",
      "\t\u001b[31mdeleted:    playbooks/zsh_files/yakuake_skins/skins/tabsonly/tabs/back_image.png\u001b[m\n",
      "\t\u001b[31mdeleted:    playbooks/zsh_files/yakuake_skins/skins/tabsonly/tabs/left_corner.png\u001b[m\n",
      "\t\u001b[31mdeleted:    playbooks/zsh_files/yakuake_skins/skins/tabsonly/tabs/minus_down.png\u001b[m\n",
      "\t\u001b[31mdeleted:    playbooks/zsh_files/yakuake_skins/skins/tabsonly/tabs/minus_over.png\u001b[m\n",
      "\t\u001b[31mdeleted:    playbooks/zsh_files/yakuake_skins/skins/tabsonly/tabs/minus_up.png\u001b[m\n",
      "\t\u001b[31mdeleted:    playbooks/zsh_files/yakuake_skins/skins/tabsonly/tabs/plus_down.png\u001b[m\n",
      "\t\u001b[31mdeleted:    playbooks/zsh_files/yakuake_skins/skins/tabsonly/tabs/plus_over.png\u001b[m\n",
      "\t\u001b[31mdeleted:    playbooks/zsh_files/yakuake_skins/skins/tabsonly/tabs/plus_up.png\u001b[m\n",
      "\t\u001b[31mdeleted:    playbooks/zsh_files/yakuake_skins/skins/tabsonly/tabs/right_corner.png\u001b[m\n",
      "\t\u001b[31mdeleted:    playbooks/zsh_files/yakuake_skins/skins/tabsonly/tabs/selected_back.png\u001b[m\n",
      "\t\u001b[31mdeleted:    playbooks/zsh_files/yakuake_skins/skins/tabsonly/tabs/selected_left.png\u001b[m\n",
      "\t\u001b[31mdeleted:    playbooks/zsh_files/yakuake_skins/skins/tabsonly/tabs/selected_right.png\u001b[m\n",
      "\t\u001b[31mdeleted:    playbooks/zsh_files/yakuake_skins/skins/tabsonly/tabs/separator.png\u001b[m\n"
     ]
    },
    {
     "name": "stdout",
     "output_type": "stream",
     "text": [
      "\t\u001b[31mdeleted:    playbooks/zsh_files/yakuake_skins/skins/tabsonly/tabs/unselected_back.png\u001b[m\n",
      "\t\u001b[31mdeleted:    playbooks/zsh_files/yakuake_skins/skins/tabsonly/title.skin\u001b[m\n",
      "\t\u001b[31mdeleted:    playbooks/zsh_files/yakuakerc\u001b[m\n",
      "\t\u001b[31mdeleted:    playbooks/zsh_files/zshrc\u001b[m\n",
      "\t\u001b[31mdeleted:    readme.md\u001b[m\n",
      "\t\u001b[31mdeleted:    run.sh\u001b[m\n",
      "\t\u001b[31mdeleted:    travis/Dockerfile.ubuntu-bionic-ansible\u001b[m\n",
      "\t\u001b[31mdeleted:    travis/test.yml\u001b[m\n",
      "\t\u001b[31mdeleted:    ubuntu-playbook.yml\u001b[m\n",
      "\n",
      "no changes added to commit (use \"git add\" and/or \"git commit -a\")\n"
     ]
    }
   ],
   "source": [
    "git status"
   ]
  },
  {
   "cell_type": "code",
   "execution_count": 48,
   "metadata": {
    "slideshow": {
     "slide_type": "fragment"
    }
   },
   "outputs": [
    {
     "name": "stdout",
     "output_type": "stream",
     "text": [
      "HEAD is now at 4b07acf Make zsh autosuggestions grey again\n"
     ]
    }
   ],
   "source": [
    "git reset --hard"
   ]
  },
  {
   "cell_type": "code",
   "execution_count": 49,
   "metadata": {
    "slideshow": {
     "slide_type": "fragment"
    }
   },
   "outputs": [
    {
     "name": "stdout",
     "output_type": "stream",
     "text": [
      "On branch master\n",
      "Your branch is up to date with 'origin/master'.\n",
      "\n",
      "nothing to commit, working tree clean\n"
     ]
    }
   ],
   "source": [
    "git status"
   ]
  },
  {
   "cell_type": "code",
   "execution_count": 50,
   "metadata": {
    "slideshow": {
     "slide_type": "subslide"
    }
   },
   "outputs": [
    {
     "name": "stdout",
     "output_type": "stream",
     "text": [
      "\u001b[0m\u001b[01;32mLICENSE\u001b[0m  \u001b[01;34mplaybooks\u001b[0m  \u001b[01;32mreadme.md\u001b[0m  \u001b[01;32mrun.sh\u001b[0m  \u001b[01;34mtravis\u001b[0m  \u001b[01;32mubuntu-playbook.yml\u001b[0m\n"
     ]
    }
   ],
   "source": [
    "ls"
   ]
  },
  {
   "cell_type": "code",
   "execution_count": 51,
   "metadata": {
    "slideshow": {
     "slide_type": "fragment"
    }
   },
   "outputs": [
    {
     "name": "stdout",
     "output_type": "stream",
     "text": [
      "* \u001b[33m4b07acf\u001b[m\u001b[33m (\u001b[m\u001b[1;36mHEAD -> \u001b[m\u001b[1;32mmaster\u001b[m\u001b[33m, \u001b[m\u001b[1;31morigin/master\u001b[m\u001b[33m, \u001b[m\u001b[1;31morigin/HEAD\u001b[m\u001b[33m)\u001b[m Make zsh autosuggestions grey again\n",
      "* \u001b[33m468004f\u001b[m Add notes about installation of jupyter notebook\n",
      "* \u001b[33mae5cadf\u001b[m Fix qnapi installation and small fix to wallpapers playbook\n",
      "* \u001b[33maff3e1c\u001b[m Update readme, add information about cloning repo\n",
      "* \u001b[33mb09c53b\u001b[m Remove working unproperly libdvd-pkg\n",
      "* \u001b[33ma25c089\u001b[m Remove debug unnecessary debug statement\n",
      "* \u001b[33m0f89387\u001b[m Authomatic installation of Oracle Java 8 is impossible\n",
      "* \u001b[33ma7c2631\u001b[m Do not add repo twice to protect repos consistency\n",
      "* \u001b[33m73ae1f2\u001b[m Move installation DNS oon the end to fix apt repo adding\n",
      "* \u001b[33me97cf29\u001b[m Add instalation of certtool\n",
      "* \u001b[33m3235c9d\u001b[m Add instalation of network debugging tools\n",
      "* \u001b[33mb6f88fb\u001b[m Add installation of htop\n",
      "* \u001b[33m3bd9b39\u001b[m Add instalation of cryptographic packages\n",
      "* \u001b[33md3d1885\u001b[m Add instalation of custom debs\n",
      "* \u001b[33m0484fc2\u001b[m Do not require flag --skip-tags \"elementary-os\" on other distros\n",
      "* \u001b[33mc64a6ed\u001b[m ✅ Accept zsh-completions\n",
      "* \u001b[33md73e9e6\u001b[m 🐧 Add zsh-completions plugin to zsh\n",
      "* \u001b[33m1670edb\u001b[m 🐧 add support for other ubuntu based systems\n",
      "* \u001b[33mcc7ac06\u001b[m Check original codename only if upstream is not available\n",
      "* \u001b[33m60cc693\u001b[m Handle situation when upstream is not available\n",
      "* \u001b[33mb84c544\u001b[m Support scripts for \"all\" ubuntu releases\n",
      "* \u001b[33m75c19ab\u001b[m Add notes to make playbook for gpg conf for yubikey\n",
      "* \u001b[33mf410740\u001b[m ✅ do not restart resolv.conf\n",
      "* \u001b[33m9a830d2\u001b[m Fix all replaces with home overwriting\n",
      "* \u001b[33m5a93a4f\u001b[m Fix paths in authomatic wallpapers script\n",
      "* \u001b[33m3efa442\u001b[m Update readme\n",
      "* \u001b[33ma2111ea\u001b[m Remove keepassxc folder from root project\n",
      "* \u001b[33m9c66664\u001b[m Use pipelining to accelerate tests\n",
      "* \u001b[33m59faeb9\u001b[m Add packages to dockerfile image\n",
      "* \u001b[33m021626f\u001b[m Accelerate testing ansible (fix)\n",
      "* \u001b[33m8f453ed\u001b[m Accelerate testing ansible\n",
      "* \u001b[33mea731a9\u001b[m Dix dockerfile\n",
      "* \u001b[33m581b701\u001b[m Do not check valid cache time on nordvpn install\n",
      "* \u001b[33m3f9017d\u001b[m Try to cache deb repository\n",
      "* \u001b[33mab8d927\u001b[m Remove unsupported parameter\n",
      "* \u001b[33mac85bed\u001b[m Set cache_valid_time: 7200 (2h) for apt update\n",
      "* \u001b[33me572f15\u001b[m Rearrange project structure\n",
      "* \u001b[33m1430680\u001b[m Update gitignore to enable saving config backup\n",
      "* \u001b[33m43ab01c\u001b[m Use original bendews.cloudflared role\n",
      "* \u001b[33md47ab09\u001b[m Miss installation caprine on test because service won't start\n",
      "* \u001b[33ma156b6c\u001b[m Start service with sudo\n",
      "* \u001b[33m48316e2\u001b[m Try to test installation of caprine\n",
      "* \u001b[33m6b40feb\u001b[m Remove debug test\n",
      "* \u001b[33m5433d59\u001b[m Move caching to dockerfile\n",
      "* \u001b[33m832fd09\u001b[m Revert import playbook changes and cache facts\n",
      "* \u001b[33mfa1bd40\u001b[m Include playbooks tasks instead of importing\n",
      "* \u001b[33m3b71985\u001b[m Give names for plays and make them idempotent\n",
      "* \u001b[33m6edf9c3\u001b[m See no indempotent tasks\n",
      "* \u001b[33m273b1b1\u001b[m Logs with lower vulnerability\n",
      "* \u001b[33m4970b76\u001b[m Make full test\n",
      "* \u001b[33mac8c00b\u001b[m Install missing dependency\n",
      "* \u001b[33m7aed805\u001b[m Fix home paths\n",
      "* \u001b[33mac16efc\u001b[m Fix path\n",
      "* \u001b[33m0e82de2\u001b[m Add missing dependency\n",
      "* \u001b[33m27b5953\u001b[m Fix installation fzf\n",
      "* \u001b[33me877a3e\u001b[m Fix indentation\n",
      "* \u001b[33md0425a7\u001b[m Add missing dependency on yakuake installation rsync\n",
      "* \u001b[33m9c7611d\u001b[m Fix typo\n",
      "* \u001b[33mc1d1849\u001b[m Do not test of wingpanel installation\n",
      "* \u001b[33mb8ec0e7\u001b[m Fix wingpanel-ayatane testing\n",
      "* \u001b[33m90c3e02\u001b[m Fix wingpanel-ayatane testing\n",
      "* \u001b[33mc37e467\u001b[m Remove unnecessary when clauses on wallpapers.yml\n",
      "* \u001b[33m74ad80a\u001b[m Fix virtualbox tests\n",
      "* \u001b[33mceee7fb\u001b[m Fix utilities tests\n",
      "* \u001b[33mef6b47f\u001b[m Qnapi is impossible to install under bionic\n",
      "* \u001b[33m1afd0dd\u001b[m Do not restart plank during tests\n",
      "* \u001b[33m1216623\u001b[m Add killall package\n",
      "* \u001b[33m597525b\u001b[m Fix Plank installation\n",
      "* \u001b[33m01ba7c2\u001b[m Do not install jetbrains toolbox on docker\n",
      "* \u001b[33m5f9967b\u001b[m Test jetbrains-toolbox\n",
      "* \u001b[33mb59a363\u001b[m Do not install oracle java 8 on tests\n",
      "* \u001b[33ma8e7b87\u001b[m Install apt-utils in other task\n",
      "* \u001b[33m2eb2f51\u001b[m Add apt-utils for installing jdks\n",
      "* \u001b[33m8561894\u001b[m Fix paths\n",
      "* \u001b[33m456b1d5\u001b[m Fix paths\n",
      "* \u001b[33m50f1271\u001b[m Fix home location and fusuma dconf\n",
      "* \u001b[33m4569770\u001b[m Fix home location and fusuma dconf\n",
      "* \u001b[33m7031f02\u001b[m Fix home location and fusuma dconf\n",
      "* \u001b[33m045069b\u001b[m use std_out from user_home\n",
      "* \u001b[33m2f462ec\u001b[m Add dconf-cli\n",
      "* \u001b[33m8649e1d\u001b[m Fix fusuma test\n",
      "* \u001b[33m9e840ce\u001b[m Fix elementary tweaks\n",
      "* \u001b[33m4b048fd\u001b[m Add wget dependency for dropbox installation\n",
      "* \u001b[33mf664d3a\u001b[m Use generic home\n",
      "* \u001b[33m51d4ebe\u001b[m Retrieve proper home location 3\n",
      "* \u001b[33mbe8ba87\u001b[m Retrieve proper home location 2\n",
      "* \u001b[33mbc8fd9e\u001b[m Retrieve proper home location\n",
      "* \u001b[33me9a6241\u001b[m Fix checking dropbox installation\n",
      "* \u001b[33mfbb5806\u001b[m Print more verbose info\n",
      "* \u001b[33m65c72fb\u001b[m Try to fix dropbox condition\n",
      "* \u001b[33m1f427a0\u001b[m Miss no-tests tagged tasks\n",
      "* \u001b[33m7a6f974\u001b[m Show resolv.conf\n",
      "* \u001b[33m1154902\u001b[m Show resolv.conf\n",
      "* \u001b[33md0371a9\u001b[m Print resolv.conf fix2\n",
      "* \u001b[33m190f005\u001b[m Print resolv.conf fix\n",
      "* \u001b[33md5fe36a\u001b[m Print resolv.conf\n",
      "* \u001b[33m1c857be\u001b[m Fix setting link to proper resolv.conf\n",
      "* \u001b[33m63520d6\u001b[m Fix installation getcap/setcap on test machine\n",
      "* \u001b[33mcd8f9d3\u001b[m Miss caprine for tessts purposes\n",
      "* \u001b[33ma322db7\u001b[m Try to run full playbook\n",
      "* \u001b[33mf821b31\u001b[m Update readme.md\n",
      "* \u001b[33mcbc8ed0\u001b[m Fix travis-ci checking style\n",
      "* \u001b[33ma5249da\u001b[m Fix bionic dockerfile\n",
      "* \u001b[33m0bcdc44\u001b[m Add travis-ci configuration for sudo\n",
      "* \u001b[33m1bf08c9\u001b[m Add CI Travis build status\n",
      "* \u001b[33mbd6e658\u001b[m Add travis-ci configuration\n",
      "* \u001b[33m5659b8b\u001b[m Install shutter\n",
      "* \u001b[33mb30b7f7\u001b[m Install ffmpeg\n",
      "* \u001b[33m0611ee5\u001b[m Install Archive Formats and Restricted Extras\n",
      "* \u001b[33m2cd0f01\u001b[m Add installation of jdk\n",
      "* \u001b[33m35d9c15\u001b[m Add installation of Virtualbox\n",
      "* \u001b[33m081b71f\u001b[m Add installation of remmina\n",
      "* \u001b[33mf4f9d37\u001b[m Add installation of elementary-tweaks\n",
      "* \u001b[33mf4f7e0d\u001b[m Fix repo ppa\n",
      "* \u001b[33m131db57\u001b[m Install qnapi (linux version of NapiProjekt)\n",
      "* \u001b[33m56ea8ee\u001b[m Fix tag\n",
      "* \u001b[33m37ad676\u001b[m Fix message\n",
      "* \u001b[33m3425491\u001b[m Add grub-customizer\n",
      "* \u001b[33mb8d04e0\u001b[m Provide one liner command to start installation\n",
      "* \u001b[33mfc979ef\u001b[m Fix message\n",
      "* \u001b[33m98215a2\u001b[m Make installation dropbox idempotent\n",
      "* \u001b[33md17d75c\u001b[m Fix system service name\n",
      "* \u001b[33mb7f3f12\u001b[m Firstly install key then repository\n",
      "* \u001b[33m31c19b0\u001b[m Ignore files modified by ansible playbooks\n",
      "* \u001b[33me888b19\u001b[m Add your keepassxc configuration\n",
      "* \u001b[33m0910961\u001b[m Print stderr on red in terminal\n",
      "* \u001b[33m6613f55\u001b[m Update readme\n",
      "* \u001b[33m04a4e6f\u001b[m Remove conflicting shortcuts with IntellIJ IDEA from system\n",
      "* \u001b[33m14d90ac\u001b[m Update script to install whole configuration\n",
      "* \u001b[33m00e3897\u001b[m Update way of installation and list of tested playbooks\n",
      "* \u001b[33mc496cf9\u001b[m Tag playbooks\n",
      "* \u001b[33m6c39a77\u001b[m Refactor and tag wallpapers.yml playbook\n",
      "* \u001b[33me9cbcd5\u001b[m Tag vivaldi.yml and change task order\n",
      "* \u001b[33m59fbbda\u001b[m Tag vim.yml playbook\n",
      "* \u001b[33mf337105\u001b[m Refactor utilities.yml playbook\n",
      "* \u001b[33m2d4b4c8\u001b[m Refactor terminal-tools playbook\n",
      "* \u001b[33mfc39d78\u001b[m Fix configuration plank\n",
      "* \u001b[33mc883b92\u001b[m Tag nord-vpn.yml playbook\n",
      "* \u001b[33m8a143e6\u001b[m Refactor multimedia-codecs.yml playbook\n",
      "* \u001b[33m14bf2b3\u001b[m Add tags keepassxc.yml playbook\n",
      "* \u001b[33m60d3047\u001b[m Refactorization of jetbrains-toolbox.yml playbook\n",
      "* \u001b[33m9463ebe\u001b[m Refactorization of flatpak playbook\n",
      "* \u001b[33m8721ec2\u001b[m Refactorization of flatpak playbook\n",
      "* \u001b[33mfa3389f\u001b[m Refactorization of elementary-os-apps playbook\n",
      "* \u001b[33m97abe65\u001b[m Refactorization of dropbox for elementary playbook\n",
      "* \u001b[33m248052f\u001b[m Refactorization of docker playbook\n",
      "* \u001b[33m125901e\u001b[m Use forked modified role for cloudflared\n",
      "* \u001b[33m44f5e9e\u001b[m Set Chrome tag\n",
      "* \u001b[33m8ff9708\u001b[m Set Caprine tag\n",
      "* \u001b[33m5ab6d3a\u001b[m Use modified role for installing cloudflared\n",
      "* \u001b[33m04a64c9\u001b[m ignore temp files\n",
      "* \u001b[33m338eca7\u001b[m Fix wingpanel-ayatana pplaybook\n",
      "* \u001b[33md9a76ac\u001b[m Fix name for task vim installation\n",
      "* \u001b[33m22055ea\u001b[m Add LICENSE\n",
      "* \u001b[33m7116541\u001b[m Add playbook to install ayatana (to show indicators at top bar)\n",
      "* \u001b[33mab69fe9\u001b[m Create readme with instruction for installing elementary as a code\n",
      "* \u001b[33m07d80b2\u001b[m Fix indentation and way of installing packages for yubikey\n",
      "* \u001b[33med7bf91\u001b[m Add root priviliges to task for installation wireshark\n",
      "* \u001b[33m91d18de\u001b[m Fix vim playbook installation\n"
     ]
    },
    {
     "name": "stdout",
     "output_type": "stream",
     "text": [
      "* \u001b[33m937dc41\u001b[m Fix keepassxc playbook indentation\n",
      "* \u001b[33m5cd7e27\u001b[m Remove gestures playbook\n",
      "* \u001b[33md10c5cc\u001b[m Install packages without loop, append dependencies for dconf module\n",
      "* \u001b[33m9e0da63\u001b[m Fix installation flatpak repo\n",
      "* \u001b[33med3fb36\u001b[m Fix installation of dropbox on elementary os\n",
      "* \u001b[33m05438c4\u001b[m Add comments how to fix installation of cloudflared client\n",
      "* \u001b[33me795970\u001b[m Do not validate certificates of chrome repo\n",
      "* \u001b[33meff8d15\u001b[m Install snapd before installing caprine with snap\n",
      "* \u001b[33m3170093\u001b[m Fix autostart loop over files\n",
      "* \u001b[33mc1acb57\u001b[m Ignore retry files\n",
      "* \u001b[33m0124cae\u001b[m Use set instead of list to store all gsettings commands\n",
      "* \u001b[33mb34f16d\u001b[m Add flag for checking partial keystroke coverage\n",
      "* \u001b[33mb1a71c5\u001b[m Provide explanation for condition matching shortcuts\n",
      "* \u001b[33m7691d22\u001b[m Fix incorrect matching of multiple shortcuts\n",
      "* \u001b[33m3c54dba\u001b[m Add default gsettings for testing purposes\n",
      "* \u001b[33m1adb1bf\u001b[m Add vim configuration\n",
      "* \u001b[33mc1f794f\u001b[m Extract playbook for configuration plank (icons dock)\n",
      "* \u001b[33m06498a9\u001b[m Add fusuma playbook to enable gestures at ElementaryOS\n",
      "* \u001b[33mab01818\u001b[m Fix keytroke replacing\n",
      "* \u001b[33m42fced4\u001b[m Correct commands generation and displaying\n",
      "* \u001b[33m3c25150\u001b[m Correct condition in shortcut script\n",
      "* \u001b[33mfc670f8\u001b[m Refactor shortcut script\n",
      "* \u001b[33mc09514d\u001b[m Replace generic regexps with plain python\n",
      "* \u001b[33me4edc3f\u001b[m Appended informations about investigation with gestures\n",
      "* \u001b[33mc45bd73\u001b[m Speedup shortcuts script\n",
      "* \u001b[33m14807ec\u001b[m Provide command line arguments to shortcuts script\n",
      "* \u001b[33mcf2f351\u001b[m Refactor whole clearSystemShortcuts script\n",
      "* \u001b[33m6441a12\u001b[m Add gsettings whitelisting\n",
      "* \u001b[33m0258861\u001b[m Provide in-memory XML processing\n",
      "* \u001b[33mdefa8eb\u001b[m Simplify regex building using join\n",
      "* \u001b[33m8c6e211\u001b[m Extract loops to functions\n",
      "* \u001b[33mb1dbfaf\u001b[m Correct condition of one-key shortcuts\n",
      "* \u001b[33m407320e\u001b[m Split long lines for a few shorter\n",
      "* \u001b[33me7c782e\u001b[m Use brackets instead of function to get dict value\n",
      "* \u001b[33m96b0c93\u001b[m Remove unused printings\n",
      "* \u001b[33mf0d9de9\u001b[m Simplify condition of one-key shortcuts\n",
      "* \u001b[33m683a520\u001b[m Use list comprehension in mapped_key_stroke\n",
      "* \u001b[33m3314035\u001b[m Refactor main dictionary\n",
      "* \u001b[33m6598bbf\u001b[m First version of script checking IDEA/system shortcut mismatch\n",
      "* \u001b[33mb40bb3f\u001b[m Fix script draft\n",
      "* \u001b[33mdccc22d\u001b[m Draft for unlocking system shortcuts (by gsettings) for IntellIJ\n",
      "* \u001b[33md60c7a4\u001b[m Install media codecs on new PC\n",
      "* \u001b[33m9dc751b\u001b[m Copy all .desktop files from autostart folder to local config\n",
      "* \u001b[33m503ff9a\u001b[m Replace username to support different accounts names\n",
      "* \u001b[33mf07939c\u001b[m Add unetbootin installation to utilities\n",
      "* \u001b[33m7c6b3af\u001b[m Fix tags in yubikey and flatpak\n",
      "* \u001b[33m6267806\u001b[m Fix syntax errors\n",
      "* \u001b[33mbf71624\u001b[m Remove autops from ubuntu-playbook\n",
      "* \u001b[33md8cb12c\u001b[m Add gitignore\n",
      "* \u001b[33mec5374b\u001b[m Init repo\n",
      "* \u001b[33m5a77c52\u001b[m Repo init\n"
     ]
    }
   ],
   "source": [
    "git log --oneline --graph"
   ]
  },
  {
   "cell_type": "code",
   "execution_count": 53,
   "metadata": {
    "slideshow": {
     "slide_type": "subslide"
    }
   },
   "outputs": [],
   "source": [
    "cd ~/\n",
    "rm -rf git-clone"
   ]
  },
  {
   "cell_type": "markdown",
   "metadata": {
    "slideshow": {
     "slide_type": "subslide"
    }
   },
   "source": [
    "# Ćwiczenie\n",
    "1. Sklonuj inne repozytorium\n",
    "2. Przejrzyj `git log`\n",
    "3. Zajrzyj do `man git log` i `man git reset`"
   ]
  },
  {
   "cell_type": "markdown",
   "metadata": {
    "slideshow": {
     "slide_type": "subslide"
    }
   },
   "source": [
    "* [x] ~~Krótkie wprowadzenie do systemów kontroli wersji~~\n",
    "* [x] ~~Podstawy gita~~\n",
    "* [x] ~~Klonowanie repo~~\n",
    "     * [x] ~~git clone~~\n",
    "     * [x] ~~git reset~~\n",
    "* [ ] Gałęzie gita\n",
    "* [ ] Merge (łączenie zmian\n",
    "* [ ] Git stash\n",
    "* [ ] ..."
   ]
  },
  {
   "cell_type": "markdown",
   "metadata": {
    "slideshow": {
     "slide_type": "slide"
    }
   },
   "source": [
    "* [x] ~~Krótkie wprowadzenie do systemów kontroli wersji~~\n",
    "* [x] ~~Podstawy gita~~\n",
    "* [x] ~~Klonowanie repo~~\n",
    "* [ ] Gałęzie gita\n",
    "     * [ ] git branch\n",
    "     * [ ] git checkout\n",
    "* [ ] Merge (łączenie zmian\n",
    "* [ ] Git stash\n",
    "* [ ] ..."
   ]
  },
  {
   "cell_type": "markdown",
   "metadata": {
    "slideshow": {
     "slide_type": "subslide"
    }
   },
   "source": [
    "# Stwórzmy kolejne repo"
   ]
  },
  {
   "cell_type": "code",
   "execution_count": 2,
   "metadata": {
    "slideshow": {
     "slide_type": "fragment"
    }
   },
   "outputs": [
    {
     "name": "stdout",
     "output_type": "stream",
     "text": [
      "Initialized empty Git repository in /home/wyhasany/IdeaProjects/git-kata/git-branch/.git/\n",
      "[master (root-commit) 5878ab1] atom-init\n",
      " 1 file changed, 1 insertion(+)\n",
      " create mode 100644 file\n",
      "On branch master\n",
      "nothing to commit, working tree clean\n"
     ]
    }
   ],
   "source": [
    "cd ~/ && rm -rf git-branch\n",
    "mkdir git-branch && cd git-branch\n",
    "git init\n",
    "echo atom-init > file\n",
    "git add file\n",
    "git commit -am 'atom-init'\n",
    "git status"
   ]
  },
  {
   "cell_type": "markdown",
   "metadata": {
    "slideshow": {
     "slide_type": "fragment"
    }
   },
   "source": [
    "Na razie wszystko powinno być dla Was zrozumiałe, więc bierzmy się za `git branch`"
   ]
  },
  {
   "cell_type": "code",
   "execution_count": 4,
   "metadata": {
    "slideshow": {
     "slide_type": "fragment"
    }
   },
   "outputs": [
    {
     "name": "stdout",
     "output_type": "stream",
     "text": [
      "\u001b[31mfatal: A branch named 'newfeature' already exists.\n",
      "\u001b[0mOn branch master\n",
      "nothing to commit, working tree clean\n",
      "* \u001b[32mmaster\u001b[m\n",
      "  newfeature\u001b[m\n"
     ]
    }
   ],
   "source": [
    "git branch newfeature\n",
    "git status\n",
    "git branch"
   ]
  },
  {
   "cell_type": "markdown",
   "metadata": {
    "slideshow": {
     "slide_type": "subslide"
    }
   },
   "source": [
    "Dodajmy commit na masterze:"
   ]
  },
  {
   "cell_type": "code",
   "execution_count": 5,
   "metadata": {
    "slideshow": {
     "slide_type": "fragment"
    }
   },
   "outputs": [
    {
     "name": "stdout",
     "output_type": "stream",
     "text": [
      "[master 494a574] master change\n",
      " 1 file changed, 1 insertion(+)\n"
     ]
    }
   ],
   "source": [
    "echo atom-master >> file\n",
    "git commit -am 'master change'"
   ]
  },
  {
   "cell_type": "code",
   "execution_count": 12,
   "metadata": {
    "slideshow": {
     "slide_type": "fragment"
    }
   },
   "outputs": [
    {
     "name": "stdout",
     "output_type": "stream",
     "text": [
      "* \u001b[33m494a574\u001b[m\u001b[33m (\u001b[m\u001b[1;36mHEAD -> \u001b[m\u001b[1;32mmaster\u001b[m\u001b[33m)\u001b[m master change\n",
      "* \u001b[33m5878ab1\u001b[m\u001b[33m (\u001b[m\u001b[1;32mnewfeature\u001b[m\u001b[33m)\u001b[m atom-init\n"
     ]
    }
   ],
   "source": [
    "git log --graph --oneline"
   ]
  },
  {
   "cell_type": "markdown",
   "metadata": {
    "slideshow": {
     "slide_type": "subslide"
    }
   },
   "source": [
    "Czas na `checkout`"
   ]
  },
  {
   "cell_type": "code",
   "execution_count": 13,
   "metadata": {
    "slideshow": {
     "slide_type": "fragment"
    }
   },
   "outputs": [
    {
     "name": "stdout",
     "output_type": "stream",
     "text": [
      "\u001b[31mSwitched to branch 'newfeature'\n",
      "\u001b[0matom-init\n",
      "[newfeature 93b5fbe] feature change\n",
      " 1 file changed, 1 insertion(+)\n",
      "* \u001b[33m93b5fbe\u001b[m\u001b[33m (\u001b[m\u001b[1;36mHEAD -> \u001b[m\u001b[1;32mnewfeature\u001b[m\u001b[33m)\u001b[m feature change\n",
      "* \u001b[33m5878ab1\u001b[m atom-init\n"
     ]
    }
   ],
   "source": [
    "git checkout newfeature\n",
    "cat file\n",
    "echo atom-feature >> file\n",
    "git commit -am 'feature change'\n",
    "git log --graph --oneline"
   ]
  },
  {
   "cell_type": "code",
   "execution_count": 17,
   "metadata": {
    "slideshow": {
     "slide_type": "fragment"
    }
   },
   "outputs": [
    {
     "name": "stdout",
     "output_type": "stream",
     "text": [
      "* \u001b[33m93b5fbe\u001b[m\u001b[33m (\u001b[m\u001b[1;36mHEAD -> \u001b[m\u001b[1;32mnewfeature\u001b[m\u001b[33m)\u001b[m feature change\n",
      "\u001b[31m|\u001b[m * \u001b[33m494a574\u001b[m\u001b[33m (\u001b[m\u001b[1;32mmaster\u001b[m\u001b[33m)\u001b[m master change\n",
      "\u001b[31m|\u001b[m\u001b[31m/\u001b[m  \n",
      "* \u001b[33m5878ab1\u001b[m atom-init\n"
     ]
    }
   ],
   "source": [
    "git log --graph --oneline --all"
   ]
  },
  {
   "cell_type": "markdown",
   "metadata": {
    "slideshow": {
     "slide_type": "subslide"
    }
   },
   "source": [
    "A co mamy w `file` na masterze?"
   ]
  },
  {
   "cell_type": "code",
   "execution_count": 18,
   "metadata": {
    "slideshow": {
     "slide_type": "fragment"
    }
   },
   "outputs": [
    {
     "name": "stdout",
     "output_type": "stream",
     "text": [
      "\u001b[31mSwitched to branch 'master'\n",
      "\u001b[0matom-init\n",
      "atom-master\n"
     ]
    }
   ],
   "source": [
    "git checkout master\n",
    "cat file"
   ]
  },
  {
   "cell_type": "markdown",
   "metadata": {
    "slideshow": {
     "slide_type": "subslide"
    }
   },
   "source": [
    "# Czy straciliście kiedyś głowę dla gita i dostaliście `HEAD detached`?"
   ]
  },
  {
   "cell_type": "markdown",
   "metadata": {
    "slideshow": {
     "slide_type": "fragment"
    }
   },
   "source": [
    "### HEAD detached oznacza jedynie, że pracujemy na commicie na który nie wskazuje ***żaden*** branch"
   ]
  },
  {
   "cell_type": "code",
   "execution_count": 21,
   "metadata": {
    "slideshow": {
     "slide_type": "fragment"
    }
   },
   "outputs": [
    {
     "name": "stdout",
     "output_type": "stream",
     "text": [
      "\u001b[31mNote: checking out '5878ab1'.\n",
      "\n",
      "You are in 'detached HEAD' state. You can look around, make experimental\n",
      "changes and commit them, and you can discard any commits you make in this\n",
      "state without impacting any branches by performing another checkout.\n",
      "\n",
      "If you want to create a new branch to retain commits you create, you may\n",
      "do so (now or later) by using -b with the checkout command again. Example:\n",
      "\n",
      "  git checkout -b <new-branch-name>\n",
      "\n",
      "\u001b[0m\u001b[31mHEAD is now at 5878ab1 atom-init\n",
      "\u001b[0m\u001b[31mHEAD detached at \u001b[m5878ab1\n",
      "nothing to commit, working tree clean\n"
     ]
    }
   ],
   "source": [
    "git checkout 5878ab1\n",
    "git status"
   ]
  },
  {
   "cell_type": "code",
   "execution_count": 22,
   "metadata": {
    "slideshow": {
     "slide_type": "subslide"
    }
   },
   "outputs": [
    {
     "name": "stdout",
     "output_type": "stream",
     "text": [
      "* \u001b[33m93b5fbe\u001b[m\u001b[33m (\u001b[m\u001b[1;32mnewfeature\u001b[m\u001b[33m)\u001b[m feature change\n",
      "\u001b[31m|\u001b[m * \u001b[33m494a574\u001b[m\u001b[33m (\u001b[m\u001b[1;32mmaster\u001b[m\u001b[33m)\u001b[m master change\n",
      "\u001b[31m|\u001b[m\u001b[31m/\u001b[m  \n",
      "* \u001b[33m5878ab1\u001b[m\u001b[33m (\u001b[m\u001b[1;36mHEAD\u001b[m\u001b[33m)\u001b[m atom-init\n"
     ]
    }
   ],
   "source": [
    "git log --oneline --graph --all"
   ]
  },
  {
   "cell_type": "markdown",
   "metadata": {
    "slideshow": {
     "slide_type": "fragment"
    }
   },
   "source": [
    "##### A czy dodanie taga przywróci nam głowę?"
   ]
  },
  {
   "cell_type": "code",
   "execution_count": 23,
   "metadata": {
    "slideshow": {
     "slide_type": "fragment"
    }
   },
   "outputs": [
    {
     "name": "stdout",
     "output_type": "stream",
     "text": [
      "* \u001b[33m93b5fbe\u001b[m\u001b[33m (\u001b[m\u001b[1;32mnewfeature\u001b[m\u001b[33m)\u001b[m feature change\n",
      "\u001b[31m|\u001b[m * \u001b[33m494a574\u001b[m\u001b[33m (\u001b[m\u001b[1;32mmaster\u001b[m\u001b[33m)\u001b[m master change\n",
      "\u001b[31m|\u001b[m\u001b[31m/\u001b[m  \n",
      "* \u001b[33m5878ab1\u001b[m\u001b[33m (\u001b[m\u001b[1;36mHEAD\u001b[m\u001b[33m, \u001b[m\u001b[1;33mtag: stracilem_glowe_tu\u001b[m\u001b[33m)\u001b[m atom-init\n"
     ]
    }
   ],
   "source": [
    "git tag stracilem_glowe_tu\n",
    "git log --oneline --graph --all"
   ]
  },
  {
   "cell_type": "markdown",
   "metadata": {
    "slideshow": {
     "slide_type": "subslide"
    }
   },
   "source": [
    "# NIE!\n",
    "\n",
    "#### Za to możemy zostawić po sobie ślad jak na wycieczkach szkolnych 😃"
   ]
  },
  {
   "cell_type": "code",
   "execution_count": 29,
   "metadata": {
    "slideshow": {
     "slide_type": "fragment"
    }
   },
   "outputs": [
    {
     "name": "stdout",
     "output_type": "stream",
     "text": [
      "\u001b[31mfatal: tag 'bylem_tam' already exists\n",
      "\u001b[0m* \u001b[33m93b5fbe\u001b[m\u001b[33m (\u001b[m\u001b[1;33mtag: bylem_tam\u001b[m\u001b[33m, \u001b[m\u001b[1;32mnewfeature\u001b[m\u001b[33m)\u001b[m feature change\n",
      "\u001b[31m|\u001b[m * \u001b[33m494a574\u001b[m\u001b[33m (\u001b[m\u001b[1;32mmaster\u001b[m\u001b[33m)\u001b[m master change\n",
      "\u001b[31m|\u001b[m\u001b[31m/\u001b[m  \n",
      "* \u001b[33m5878ab1\u001b[m\u001b[33m (\u001b[m\u001b[1;36mHEAD\u001b[m\u001b[33m, \u001b[m\u001b[1;33mtag: stracilem_glowe_tu\u001b[m\u001b[33m)\u001b[m atom-init\n"
     ]
    }
   ],
   "source": [
    "git tag bylem_tam newfeature\n",
    "git log --oneline --graph --all"
   ]
  },
  {
   "cell_type": "markdown",
   "metadata": {
    "slideshow": {
     "slide_type": "subslide"
    }
   },
   "source": [
    "# Czym są wszystkie te branche/tagi?!"
   ]
  },
  {
   "cell_type": "code",
   "execution_count": 30,
   "metadata": {
    "scrolled": true,
    "slideshow": {
     "slide_type": "fragment"
    }
   },
   "outputs": [
    {
     "name": "stdout",
     "output_type": "stream",
     "text": [
      "\u001b[01;34m.git\u001b[00m\n",
      "├── \u001b[01;34mbranches\u001b[00m\n",
      "├── COMMIT_EDITMSG\n",
      "├── config\n",
      "├── description\n",
      "├── HEAD\n",
      "├── \u001b[01;34mhooks\u001b[00m\n",
      "│   ├── \u001b[01;32mapplypatch-msg.sample\u001b[00m\n",
      "│   ├── \u001b[01;32mcommit-msg.sample\u001b[00m\n",
      "│   ├── \u001b[01;32mfsmonitor-watchman.sample\u001b[00m\n",
      "│   ├── \u001b[01;32mpost-update.sample\u001b[00m\n",
      "│   ├── \u001b[01;32mpre-applypatch.sample\u001b[00m\n",
      "│   ├── \u001b[01;32mpre-commit.sample\u001b[00m\n",
      "│   ├── \u001b[01;32mprepare-commit-msg.sample\u001b[00m\n",
      "│   ├── \u001b[01;32mpre-push.sample\u001b[00m\n",
      "│   ├── \u001b[01;32mpre-rebase.sample\u001b[00m\n",
      "│   ├── \u001b[01;32mpre-receive.sample\u001b[00m\n",
      "│   └── \u001b[01;32mupdate.sample\u001b[00m\n",
      "├── index\n",
      "├── \u001b[01;34minfo\u001b[00m\n",
      "│   └── exclude\n",
      "├── \u001b[01;34mlogs\u001b[00m\n",
      "│   ├── HEAD\n",
      "│   └── \u001b[01;34mrefs\u001b[00m\n",
      "│       └── \u001b[01;34mheads\u001b[00m\n",
      "│           ├── master\n",
      "│           └── newfeature\n",
      "├── \u001b[01;34mobjects\u001b[00m\n",
      "│   ├── \u001b[01;34m18\u001b[00m\n",
      "│   │   └── f99078cc1b2d6d33dfcb6ecabd97230f5b6820\n",
      "│   ├── \u001b[01;34m49\u001b[00m\n",
      "│   │   └── 4a5745a4b3bf395b3361bcfb28d9b151501cac\n",
      "│   ├── \u001b[01;34m4e\u001b[00m\n",
      "│   │   └── f3b395ad2a096d1de36889de2c4f03c8d662ae\n",
      "│   ├── \u001b[01;34m4f\u001b[00m\n",
      "│   │   └── 694fca9826571dbeea91861629a23d435bee4a\n",
      "│   ├── \u001b[01;34m58\u001b[00m\n",
      "│   │   └── 78ab1c97e679c52355dae0fb4c66d368e62bd2\n",
      "│   ├── \u001b[01;34m82\u001b[00m\n",
      "│   │   └── 7612b2d26b62e62fec770ed2e69eeb5841e861\n",
      "│   ├── \u001b[01;34m93\u001b[00m\n",
      "│   │   └── b5fbeba72c566e245fb34185d00d60edb03cb7\n",
      "│   ├── \u001b[01;34mc3\u001b[00m\n",
      "│   │   └── 6af61bbc1e8ad265d7d02a63604800b4af54dc\n",
      "│   ├── \u001b[01;34mfb\u001b[00m\n",
      "│   │   └── 573a569a421809e218a6ae027d1ccd4c1f902f\n",
      "│   ├── \u001b[01;34minfo\u001b[00m\n",
      "│   └── \u001b[01;34mpack\u001b[00m\n",
      "└── \u001b[01;34mrefs\u001b[00m\n",
      "    ├── \u001b[01;34mheads\u001b[00m\n",
      "    │   ├── master\n",
      "    │   └── newfeature\n",
      "    └── \u001b[01;34mtags\u001b[00m\n",
      "        ├── bylem_tam\n",
      "        └── stracilem_glowe_tu\n",
      "\n",
      "21 directories, 33 files\n"
     ]
    }
   ],
   "source": [
    "tree .git"
   ]
  },
  {
   "cell_type": "code",
   "execution_count": 33,
   "metadata": {
    "slideshow": {
     "slide_type": "fragment"
    }
   },
   "outputs": [
    {
     "name": "stdout",
     "output_type": "stream",
     "text": [
      "\u001b[35m\u001b[K.git/refs/tags/stracilem_glowe_tu\u001b[m\u001b[K\u001b[36m\u001b[K:\u001b[m\u001b[K\u001b[32m\u001b[K1\u001b[m\u001b[K\u001b[36m\u001b[K:\u001b[m\u001b[K\u001b[01;31m\u001b[K5878ab1c97e679c52355dae0fb4c66d368e62bd2\u001b[m\u001b[K\n",
      "\u001b[35m\u001b[K.git/refs/tags/bylem_tam\u001b[m\u001b[K\u001b[36m\u001b[K:\u001b[m\u001b[K\u001b[32m\u001b[K1\u001b[m\u001b[K\u001b[36m\u001b[K:\u001b[m\u001b[K\u001b[01;31m\u001b[K93b5fbeba72c566e245fb34185d00d60edb03cb7\u001b[m\u001b[K\n",
      "\u001b[35m\u001b[K.git/refs/heads/newfeature\u001b[m\u001b[K\u001b[36m\u001b[K:\u001b[m\u001b[K\u001b[32m\u001b[K1\u001b[m\u001b[K\u001b[36m\u001b[K:\u001b[m\u001b[K\u001b[01;31m\u001b[K93b5fbeba72c566e245fb34185d00d60edb03cb7\u001b[m\u001b[K\n",
      "\u001b[35m\u001b[K.git/refs/heads/master\u001b[m\u001b[K\u001b[36m\u001b[K:\u001b[m\u001b[K\u001b[32m\u001b[K1\u001b[m\u001b[K\u001b[36m\u001b[K:\u001b[m\u001b[K\u001b[01;31m\u001b[K494a5745a4b3bf395b3361bcfb28d9b151501cac\u001b[m\u001b[K\n"
     ]
    }
   ],
   "source": [
    "grep -rn '.*' .git/refs/"
   ]
  },
  {
   "cell_type": "code",
   "execution_count": 37,
   "metadata": {
    "scrolled": true,
    "slideshow": {
     "slide_type": "subslide"
    }
   },
   "outputs": [
    {
     "name": "stdout",
     "output_type": "stream",
     "text": [
      "\n",
      ">> .git/logs/refs/heads/newfeature <<\n",
      "0000000000000000000000000000000000000000 5878ab1c97e679c52355dae0fb4c66d368e62bd2 Michał Rowicki <mirowicki@gmail.com> 1543673170 +0100\tbranch: Created from master\n",
      "5878ab1c97e679c52355dae0fb4c66d368e62bd2 93b5fbeba72c566e245fb34185d00d60edb03cb7 Michał Rowicki <mirowicki@gmail.com> 1543673792 +0100\tcommit: feature change\n",
      "\n",
      ">> .git/logs/refs/heads/master <<\n",
      "0000000000000000000000000000000000000000 5878ab1c97e679c52355dae0fb4c66d368e62bd2 Michał Rowicki <mirowicki@gmail.com> 1543673081 +0100\tcommit (initial): atom-init\n",
      "5878ab1c97e679c52355dae0fb4c66d368e62bd2 494a5745a4b3bf395b3361bcfb28d9b151501cac Michał Rowicki <mirowicki@gmail.com> 1543673364 +0100\tcommit: master change\n",
      "\n",
      ">> .git/logs/HEAD <<\n",
      "0000000000000000000000000000000000000000 5878ab1c97e679c52355dae0fb4c66d368e62bd2 Michał Rowicki <mirowicki@gmail.com> 1543673081 +0100\tcommit (initial): atom-init\n",
      "5878ab1c97e679c52355dae0fb4c66d368e62bd2 494a5745a4b3bf395b3361bcfb28d9b151501cac Michał Rowicki <mirowicki@gmail.com> 1543673364 +0100\tcommit: master change\n",
      "494a5745a4b3bf395b3361bcfb28d9b151501cac 5878ab1c97e679c52355dae0fb4c66d368e62bd2 Michał Rowicki <mirowicki@gmail.com> 1543673792 +0100\tcheckout: moving from master to newfeature\n",
      "5878ab1c97e679c52355dae0fb4c66d368e62bd2 93b5fbeba72c566e245fb34185d00d60edb03cb7 Michał Rowicki <mirowicki@gmail.com> 1543673792 +0100\tcommit: feature change\n",
      "93b5fbeba72c566e245fb34185d00d60edb03cb7 494a5745a4b3bf395b3361bcfb28d9b151501cac Michał Rowicki <mirowicki@gmail.com> 1543673926 +0100\tcheckout: moving from newfeature to master\n",
      "494a5745a4b3bf395b3361bcfb28d9b151501cac 5878ab1c97e679c52355dae0fb4c66d368e62bd2 Michał Rowicki <mirowicki@gmail.com> 1543674385 +0100\tcheckout: moving from master to 5878ab1\n"
     ]
    }
   ],
   "source": [
    "find .git/logs -type f | xargs -I % sh -c \"echo '\\n>> % <<' ; cat %\" "
   ]
  },
  {
   "cell_type": "code",
   "execution_count": 38,
   "metadata": {
    "slideshow": {
     "slide_type": "fragment"
    }
   },
   "outputs": [
    {
     "name": "stdout",
     "output_type": "stream",
     "text": [
      "5878ab1c97e679c52355dae0fb4c66d368e62bd2\n"
     ]
    }
   ],
   "source": [
    "cat .git/HEAD"
   ]
  },
  {
   "cell_type": "markdown",
   "metadata": {
    "slideshow": {
     "slide_type": "subslide"
    }
   },
   "source": [
    "### Zapamiętaj:\n",
    "\n",
    "* tag wskazuje na pojedynczą zmianę (commit)\n",
    "* branch wskazuje na koniec zmian w liście zmian\n",
    "* HEAD mówi gdzie jest Twoje repo\n",
    "* Detached HEAD - jesteś na commicie nie będącym oznaczonym jako branch"
   ]
  },
  {
   "cell_type": "code",
   "execution_count": 40,
   "metadata": {},
   "outputs": [],
   "source": [
    "cd ~/ && rm -rf git-branch"
   ]
  },
  {
   "cell_type": "markdown",
   "metadata": {
    "slideshow": {
     "slide_type": "subslide"
    }
   },
   "source": [
    "# Ćwiczenia\n",
    "\n",
    "</br>\n",
    "\n",
    "1. Ściągnij dowolne repo z githuba i załóż gałąż `mine` z `mastera`\n",
    "2. Dodaj commit i otaguj go\n",
    "3. Stwórz kolejny commit i powróć do poprzedniego z pomocą `checkout`. Sprawdź status gita. Przejdź na gałąź `mine`"
   ]
  },
  {
   "cell_type": "markdown",
   "metadata": {
    "slideshow": {
     "slide_type": "subslide"
    }
   },
   "source": [
    "* [x] ~~Krótkie wprowadzenie do systemów kontroli wersji~~\n",
    "* [x] ~~Podstawy gita~~\n",
    "* [x] ~~Klonowanie repo~~\n",
    "* [x] ~~Gałęzie gita~~\n",
    "     * [x] ~~git branch~~\n",
    "     * [x] ~~git checkout~~\n",
    "* [ ] Merge (łączenie zmian\n",
    "* [ ] Git stash\n",
    "* [ ] ..."
   ]
  },
  {
   "cell_type": "markdown",
   "metadata": {
    "slideshow": {
     "slide_type": "slide"
    }
   },
   "source": [
    "# Status\n",
    "\n",
    "* [x] ~~...~~\n",
    "* [x] ~~Podstawy gita~~\n",
    "* [x] ~~Klonowanie repo~~\n",
    "* [x] ~~Gałęzie gita~~\n",
    "* [ ] Merge (łączenie zmian)\n",
    "     * [ ] git merge\n",
    "     * [ ] rozwiązywanie konfliktów\n",
    "     * [ ] merge w logach historii\n",
    "* [ ] Git stash\n",
    "* [ ] Git add interactive\n",
    "* [ ] Reflog\n",
    "* [ ] ..."
   ]
  },
  {
   "cell_type": "markdown",
   "metadata": {
    "slideshow": {
     "slide_type": "subslide"
    }
   },
   "source": [
    "# Merge to odwrotna operacja do branch\n",
    "\n",
    "<center><img src=\"img/basic-merging-1.png\" alt=\"before merge\" style=\"position:center\"/></center>"
   ]
  },
  {
   "cell_type": "markdown",
   "metadata": {
    "slideshow": {
     "slide_type": "fragment"
    }
   },
   "source": [
    "<center><img src=\"img/basic-merging-2.png\" alt=\"after merge\" style=\"position:center\" height=\"200\" /></center>\n",
    "\n",
    "> Źródło: Pro Git 2nd Edition"
   ]
  },
  {
   "cell_type": "markdown",
   "metadata": {
    "slideshow": {
     "slide_type": "subslide"
    }
   },
   "source": [
    "#### Przykład"
   ]
  },
  {
   "cell_type": "code",
   "execution_count": 53,
   "metadata": {
    "slideshow": {
     "slide_type": "fragment"
    }
   },
   "outputs": [
    {
     "name": "stdout",
     "output_type": "stream",
     "text": [
      "Initialized empty Git repository in /home/wyhasany/git-merging/.git/\n",
      "[master (root-commit) 80ae172] A\n",
      " 1 file changed, 1 insertion(+)\n",
      " create mode 100644 file\n",
      "[master 9cdaa05] B\n",
      " 1 file changed, 1 insertion(+)\n",
      "[master fa35aa7] C\n",
      " 1 file changed, 1 insertion(+)\n",
      "* \u001b[33mfa35aa7\u001b[m\u001b[33m (\u001b[m\u001b[1;36mHEAD -> \u001b[m\u001b[1;32mmaster\u001b[m\u001b[33m)\u001b[m C\n",
      "* \u001b[33m9cdaa05\u001b[m B\n",
      "* \u001b[33m80ae172\u001b[m A\n"
     ]
    }
   ],
   "source": [
    "cd ~/ && rm -rf git-merging\n",
    "mkdir git-merging && cd git-merging\n",
    "git init\n",
    "git config commit.gpgsign false\n",
    "echo A > file\n",
    "git add file\n",
    "git commit -am 'A'\n",
    "echo B >> file\n",
    "git commit -am 'B'\n",
    "echo C >> file\n",
    "git commit -am 'C'\n",
    "git log --oneline --graph"
   ]
  },
  {
   "cell_type": "markdown",
   "metadata": {
    "slideshow": {
     "slide_type": "subslide"
    }
   },
   "source": [
    "#### Poeksperymentujmy na nowym branchu"
   ]
  },
  {
   "cell_type": "code",
   "execution_count": 54,
   "metadata": {
    "slideshow": {
     "slide_type": "fragment"
    }
   },
   "outputs": [
    {
     "name": "stdout",
     "output_type": "stream",
     "text": [
      "\u001b[31mSwitched to branch 'experimental'\n",
      "\u001b[0m[experimental d37af4a] E\n",
      " 1 file changed, 1 insertion(+)\n",
      "[experimental f257392] H\n",
      " 1 file changed, 1 insertion(+)\n",
      "* \u001b[33mf257392\u001b[m\u001b[33m (\u001b[m\u001b[1;36mHEAD -> \u001b[m\u001b[1;32mexperimental\u001b[m\u001b[33m)\u001b[m H\n",
      "* \u001b[33md37af4a\u001b[m E\n",
      "* \u001b[33mfa35aa7\u001b[m\u001b[33m (\u001b[m\u001b[1;32mmaster\u001b[m\u001b[33m)\u001b[m C\n",
      "* \u001b[33m9cdaa05\u001b[m B\n",
      "* \u001b[33m80ae172\u001b[m A\n"
     ]
    }
   ],
   "source": [
    "git branch experimental\n",
    "git checkout experimental\n",
    "echo E >> file\n",
    "git commit -am 'E'\n",
    "echo H >> file\n",
    "git commit -am 'H'\n",
    "git log --oneline --graph"
   ]
  },
  {
   "cell_type": "markdown",
   "metadata": {
    "slideshow": {
     "slide_type": "subslide"
    }
   },
   "source": [
    "#### W tym czasie na masterze..."
   ]
  },
  {
   "cell_type": "code",
   "execution_count": 55,
   "metadata": {
    "slideshow": {
     "slide_type": "fragment"
    }
   },
   "outputs": [
    {
     "name": "stdout",
     "output_type": "stream",
     "text": [
      "\u001b[31mSwitched to branch 'master'\n",
      "\u001b[0m  experimental\u001b[m\n",
      "* \u001b[32mmaster\u001b[m\n",
      "[master b9ee44c] D\n",
      " 1 file changed, 1 insertion(+)\n",
      "[master cc3934d] F\n",
      " 1 file changed, 1 insertion(+)\n",
      "[master a5e5b94] G\n",
      " 1 file changed, 1 insertion(+)\n",
      "* \u001b[33ma5e5b94\u001b[m\u001b[33m (\u001b[m\u001b[1;36mHEAD -> \u001b[m\u001b[1;32mmaster\u001b[m\u001b[33m)\u001b[m G\n",
      "* \u001b[33mcc3934d\u001b[m F\n",
      "* \u001b[33mb9ee44c\u001b[m D\n",
      "\u001b[31m|\u001b[m * \u001b[33mf257392\u001b[m\u001b[33m (\u001b[m\u001b[1;32mexperimental\u001b[m\u001b[33m)\u001b[m H\n",
      "\u001b[31m|\u001b[m * \u001b[33md37af4a\u001b[m E\n",
      "\u001b[31m|\u001b[m\u001b[31m/\u001b[m  \n",
      "* \u001b[33mfa35aa7\u001b[m C\n",
      "* \u001b[33m9cdaa05\u001b[m B\n",
      "* \u001b[33m80ae172\u001b[m A\n"
     ]
    }
   ],
   "source": [
    "git checkout master\n",
    "git branch\n",
    "echo D >> file\n",
    "git commit -am 'D'\n",
    "echo F >> file\n",
    "git commit -am 'F'\n",
    "echo G >> file\n",
    "git commit -am 'G'\n",
    "git log --oneline --graph --all"
   ]
  },
  {
   "cell_type": "markdown",
   "metadata": {
    "slideshow": {
     "slide_type": "subslide"
    }
   },
   "source": [
    "### Czas na merge!"
   ]
  },
  {
   "cell_type": "code",
   "execution_count": 46,
   "metadata": {
    "slideshow": {
     "slide_type": "fragment"
    }
   },
   "outputs": [
    {
     "name": "stdout",
     "output_type": "stream",
     "text": [
      "Auto-merging file\n",
      "CONFLICT (content): Merge conflict in file\n",
      "Automatic merge failed; fix conflicts and then commit the result.\n"
     ]
    },
    {
     "ename": "",
     "evalue": "1",
     "output_type": "error",
     "traceback": []
    }
   ],
   "source": [
    "git merge experimental"
   ]
  },
  {
   "cell_type": "code",
   "execution_count": 48,
   "metadata": {
    "slideshow": {
     "slide_type": "fragment"
    }
   },
   "outputs": [
    {
     "name": "stdout",
     "output_type": "stream",
     "text": [
      "On branch master\n",
      "You have unmerged paths.\n",
      "  (fix conflicts and run \"git commit\")\n",
      "  (use \"git merge --abort\" to abort the merge)\n",
      "\n",
      "Unmerged paths:\n",
      "  (use \"git add <file>...\" to mark resolution)\n",
      "\n",
      "\t\u001b[31mboth modified:   file\u001b[m\n",
      "\n",
      "no changes added to commit (use \"git add\" and/or \"git commit -a\")\n"
     ]
    }
   ],
   "source": [
    "git status"
   ]
  },
  {
   "cell_type": "markdown",
   "metadata": {
    "slideshow": {
     "slide_type": "subslide"
    }
   },
   "source": [
    "### Opcja nr 1. merge jest za trudny muszę pogadać z twórcą, a na razie chcę wrócić do swoich klocków"
   ]
  },
  {
   "cell_type": "code",
   "execution_count": 49,
   "metadata": {
    "slideshow": {
     "slide_type": "fragment"
    }
   },
   "outputs": [
    {
     "name": "stdout",
     "output_type": "stream",
     "text": [
      "On branch master\n",
      "nothing to commit, working tree clean\n",
      "* \u001b[33mb3aed6e\u001b[m\u001b[33m (\u001b[m\u001b[1;36mHEAD -> \u001b[m\u001b[1;32mmaster\u001b[m\u001b[33m)\u001b[m G\n",
      "* \u001b[33m4936067\u001b[m F\n",
      "* \u001b[33m26830a2\u001b[m D\n",
      "\u001b[31m|\u001b[m * \u001b[33m4651402\u001b[m\u001b[33m (\u001b[m\u001b[1;32mexperimental\u001b[m\u001b[33m)\u001b[m H\n",
      "\u001b[31m|\u001b[m * \u001b[33meada43f\u001b[m E\n",
      "\u001b[31m|\u001b[m\u001b[31m/\u001b[m  \n",
      "* \u001b[33m2440b93\u001b[m C\n",
      "* \u001b[33m89c9397\u001b[m B\n",
      "* \u001b[33m7782d32\u001b[m A\n"
     ]
    }
   ],
   "source": [
    "git merge --abort\n",
    "git status\n",
    "git log --oneline --graph --all"
   ]
  },
  {
   "cell_type": "markdown",
   "metadata": {
    "slideshow": {
     "slide_type": "subslide"
    }
   },
   "source": [
    "### Opcja nr 2. sprzątamy cały ten bałagan"
   ]
  },
  {
   "cell_type": "code",
   "execution_count": 56,
   "metadata": {
    "slideshow": {
     "slide_type": "fragment"
    }
   },
   "outputs": [
    {
     "name": "stdout",
     "output_type": "stream",
     "text": [
      "Auto-merging file\n",
      "CONFLICT (content): Merge conflict in file\n",
      "Automatic merge failed; fix conflicts and then commit the result.\n",
      "A\n",
      "B\n",
      "C\n",
      "<<<<<<< HEAD\n",
      "D\n",
      "F\n",
      "G\n",
      "=======\n",
      "E\n",
      "H\n",
      ">>>>>>> experimental\n"
     ]
    }
   ],
   "source": [
    "git merge experimental\n",
    "cat file"
   ]
  },
  {
   "cell_type": "code",
   "execution_count": 51,
   "metadata": {
    "slideshow": {
     "slide_type": "subslide"
    }
   },
   "outputs": [
    {
     "name": "stdout",
     "output_type": "stream",
     "text": [
      "A\n",
      "B\n",
      "C\n",
      "D\n",
      "F\n",
      "G\n",
      "E\n",
      "H\n",
      "[master 4b4b838] merged\n",
      "*   \u001b[33m4b4b838\u001b[m\u001b[33m (\u001b[m\u001b[1;36mHEAD -> \u001b[m\u001b[1;32mmaster\u001b[m\u001b[33m)\u001b[m merged\n",
      "\u001b[31m|\u001b[m\u001b[32m\\\u001b[m  \n",
      "\u001b[31m|\u001b[m * \u001b[33m4651402\u001b[m\u001b[33m (\u001b[m\u001b[1;32mexperimental\u001b[m\u001b[33m)\u001b[m H\n",
      "\u001b[31m|\u001b[m * \u001b[33meada43f\u001b[m E\n",
      "* \u001b[32m|\u001b[m \u001b[33mb3aed6e\u001b[m G\n",
      "* \u001b[32m|\u001b[m \u001b[33m4936067\u001b[m F\n",
      "* \u001b[32m|\u001b[m \u001b[33m26830a2\u001b[m D\n",
      "\u001b[32m|\u001b[m\u001b[32m/\u001b[m  \n",
      "* \u001b[33m2440b93\u001b[m C\n",
      "* \u001b[33m89c9397\u001b[m B\n",
      "* \u001b[33m7782d32\u001b[m A\n"
     ]
    }
   ],
   "source": [
    "sed -i '4d' file #usuń czwartą linię itd\n",
    "sed -i '7d' file\n",
    "sed -i '9d' file\n",
    "cat file #bez tych zmian merge też by się zamknął co najwyżej git dałby nam warningiem po twarzy\n",
    "git commit -am 'merged'\n",
    "git log --all --oneline --graph"
   ]
  },
  {
   "cell_type": "code",
   "execution_count": 57,
   "metadata": {
    "slideshow": {
     "slide_type": "subslide"
    }
   },
   "outputs": [],
   "source": [
    "cd ~/ && rm -rf git-merging"
   ]
  },
  {
   "cell_type": "markdown",
   "metadata": {
    "slideshow": {
     "slide_type": "subslide"
    }
   },
   "source": [
    "## Ćwiczenia\n",
    "\n",
    "1. Zainicjalizuj repo, skommituj plik, zrób zmiany na dwóch branchach i zmerge'uj je\n",
    "Do domu:\n",
    "2. Poczytaj `man git merge`"
   ]
  },
  {
   "cell_type": "markdown",
   "metadata": {
    "slideshow": {
     "slide_type": "subslide"
    }
   },
   "source": [
    "# Status\n",
    "\n",
    "* [x] ~~...~~\n",
    "* [x] ~~Podstawy gita~~\n",
    "* [x] ~~Klonowanie repo~~\n",
    "* [x] ~~Gałęzie gita~~\n",
    "* [x] ~~Merge (łączenie zmian)~~\n",
    "     * [x] ~~git merge~~\n",
    "     * [x] ~~rozwiązywanie konfliktów~~\n",
    "     * [x] ~~merge w logach historii~~\n",
    "* [ ] Git stash\n",
    "* [ ] Git add interactive\n",
    "* [ ] Reflog\n",
    "* [ ] ..."
   ]
  },
  {
   "cell_type": "markdown",
   "metadata": {
    "slideshow": {
     "slide_type": "slide"
    }
   },
   "source": [
    "# Status\n",
    "\n",
    "* [x] ~~...~~\n",
    "* [x] ~~Podstawy gita~~\n",
    "* [x] ~~Klonowanie repo~~\n",
    "* [x] ~~Gałęzie gita~~\n",
    "* [x] ~~Merge (łączenie zmian)~~\n",
    "* [ ] Git stash\n",
    "* [ ] Git add interactive\n",
    "* [ ] Reflog\n",
    "* [ ] Cherry picking\n",
    "* [ ] ..."
   ]
  },
  {
   "cell_type": "markdown",
   "metadata": {
    "slideshow": {
     "slide_type": "subslide"
    }
   },
   "source": [
    "## Motywacja\n",
    "\n",
    "\n",
    "<span style=\"color:green\">[pracujesz]</span>\n",
    "\n",
    "<span style=\"color:red\">[ktoś Ci przerywa]</span>\n",
    "\n",
    "<span style=\"color:lightgreen\">&dollar; git stash</span>\n",
    "\n",
    "<span style=\"color:green\">[rozwiązujesz problem]</span>\n",
    "\n",
    "<span style=\"color:lightgreen\">&dollar; git stash pop</span>"
   ]
  },
  {
   "cell_type": "code",
   "execution_count": 73,
   "metadata": {
    "slideshow": {
     "slide_type": "subslide"
    }
   },
   "outputs": [
    {
     "name": "stdout",
     "output_type": "stream",
     "text": [
      "Initialized empty Git repository in /home/wyhasany/git-stash-1/.git/\n",
      "[master (root-commit) 9876dd3] init\n",
      " 1 file changed, 1 insertion(+)\n",
      " create mode 100644 file\n",
      "\u001b[1mdiff --git a/file b/file\u001b[m\n",
      "\u001b[1mindex 4fbd575..c13ee53 100644\u001b[m\n",
      "\u001b[1m--- a/file\u001b[m\n",
      "\u001b[1m+++ b/file\u001b[m\n",
      "\u001b[36m@@ -1 +1,2 @@\u001b[m\n",
      " Some workshop\u001b[m\n",
      "\u001b[32m+\u001b[m\u001b[32mSome other changes\u001b[m\n",
      "\n",
      "Saved working directory and index state WIP on master: 9876dd3 init\n",
      "\n",
      "On branch master\n",
      "nothing to commit, working tree clean\n"
     ]
    }
   ],
   "source": [
    "cd ~/ && rm -rf git-stash-1 && mkdir git-stash-1 && cd git-stash-1\n",
    "git init\n",
    "echo 'Some workshop' > file\n",
    "git add file\n",
    "git commit -am init\n",
    "echo 'Some other changes' >> file\n",
    "#smb interrupts you\n",
    "git diff\n",
    "echo #empty line\n",
    "git stash\n",
    "echo\n",
    "git status"
   ]
  },
  {
   "cell_type": "markdown",
   "metadata": {
    "slideshow": {
     "slide_type": "subslide"
    }
   },
   "source": [
    "### Gdzie się podziały moje zmiany?!"
   ]
  },
  {
   "cell_type": "code",
   "execution_count": 74,
   "metadata": {
    "slideshow": {
     "slide_type": "fragment"
    }
   },
   "outputs": [
    {
     "name": "stdout",
     "output_type": "stream",
     "text": [
      "*   \u001b[33mcommit c993efb39f9930047004e664a6f8fd7810dff568\u001b[m\u001b[33m (\u001b[m\u001b[1;35mrefs/stash\u001b[m\u001b[33m)\u001b[m\n",
      "\u001b[31m|\u001b[m\u001b[32m\\\u001b[m  Merge: 9876dd3 9f7992b\n",
      "\u001b[31m|\u001b[m \u001b[32m|\u001b[m Author: Michał Rowicki <mirowicki@gmail.com>\n",
      "\u001b[31m|\u001b[m \u001b[32m|\u001b[m Date:   Sun Dec 2 18:06:51 2018 +0100\n",
      "\u001b[31m|\u001b[m \u001b[32m|\u001b[m \n",
      "\u001b[31m|\u001b[m \u001b[32m|\u001b[m     WIP on master: 9876dd3 init\n",
      "\u001b[31m|\u001b[m \u001b[32m|\u001b[m \n",
      "\u001b[31m|\u001b[m * \u001b[33mcommit 9f7992b0434e7a7a1ed46ca9f3f8d16417009a44\u001b[m\n",
      "\u001b[31m|\u001b[m\u001b[31m/\u001b[m  Author: Michał Rowicki <mirowicki@gmail.com>\n",
      "\u001b[31m|\u001b[m   Date:   Sun Dec 2 18:06:51 2018 +0100\n",
      "\u001b[31m|\u001b[m   \n",
      "\u001b[31m|\u001b[m       index on master: 9876dd3 init\n",
      "\u001b[31m|\u001b[m \n",
      "* \u001b[33mcommit 9876dd36850b363432ca8a54c489462f182fba3d\u001b[m\u001b[33m (\u001b[m\u001b[1;36mHEAD -> \u001b[m\u001b[1;32mmaster\u001b[m\u001b[33m)\u001b[m\n",
      "  Author: Michał Rowicki <mirowicki@gmail.com>\n",
      "  Date:   Sun Dec 2 18:06:47 2018 +0100\n",
      "  \n",
      "      init\n"
     ]
    }
   ],
   "source": [
    "git log --graph --all"
   ]
  },
  {
   "cell_type": "code",
   "execution_count": 75,
   "metadata": {
    "slideshow": {
     "slide_type": "fragment"
    }
   },
   "outputs": [
    {
     "name": "stdout",
     "output_type": "stream",
     "text": [
      "0000000000000000000000000000000000000000 c993efb39f9930047004e664a6f8fd7810dff568 Michał Rowicki <mirowicki@gmail.com> 1543770411 +0100\tWIP on master: 9876dd3 init\n",
      "\n",
      "c993efb39f9930047004e664a6f8fd7810dff568\n"
     ]
    }
   ],
   "source": [
    "cat .git/logs/refs/stash\n",
    "echo\n",
    "cat .git/refs/stash"
   ]
  },
  {
   "cell_type": "markdown",
   "metadata": {
    "slideshow": {
     "slide_type": "subslide"
    }
   },
   "source": [
    "## Zrobiliśmy zadanie w między czasie i wracamy do swojej roboty"
   ]
  },
  {
   "cell_type": "code",
   "execution_count": 76,
   "metadata": {
    "slideshow": {
     "slide_type": "fragment"
    }
   },
   "outputs": [
    {
     "name": "stdout",
     "output_type": "stream",
     "text": [
      "stash@{0}: WIP on master: 9876dd3 init\n"
     ]
    }
   ],
   "source": [
    "git stash list"
   ]
  },
  {
   "cell_type": "code",
   "execution_count": 77,
   "metadata": {
    "slideshow": {
     "slide_type": "fragment"
    }
   },
   "outputs": [
    {
     "name": "stdout",
     "output_type": "stream",
     "text": [
      "On branch master\n",
      "Changes not staged for commit:\n",
      "  (use \"git add <file>...\" to update what will be committed)\n",
      "  (use \"git checkout -- <file>...\" to discard changes in working directory)\n",
      "\n",
      "\t\u001b[31mmodified:   file\u001b[m\n",
      "\n",
      "no changes added to commit (use \"git add\" and/or \"git commit -a\")\n",
      "Dropped refs/stash@{0} (c993efb39f9930047004e664a6f8fd7810dff568)\n"
     ]
    }
   ],
   "source": [
    "git stash pop"
   ]
  },
  {
   "cell_type": "code",
   "execution_count": 79,
   "metadata": {
    "slideshow": {
     "slide_type": "fragment"
    }
   },
   "outputs": [
    {
     "name": "stdout",
     "output_type": "stream",
     "text": [
      "\u001b[1mdiff --git a/file b/file\u001b[m\n",
      "\u001b[1mindex 4fbd575..c13ee53 100644\u001b[m\n",
      "\u001b[1m--- a/file\u001b[m\n",
      "\u001b[1m+++ b/file\u001b[m\n",
      "\u001b[36m@@ -1 +1,2 @@\u001b[m\n",
      " Some workshop\u001b[m\n",
      "\u001b[32m+\u001b[m\u001b[32mSome other changes\u001b[m\n"
     ]
    }
   ],
   "source": [
    "git diff"
   ]
  },
  {
   "cell_type": "code",
   "execution_count": 81,
   "metadata": {
    "slideshow": {
     "slide_type": "fragment"
    }
   },
   "outputs": [],
   "source": [
    "cd ~/ && rm -rf git-stash-1"
   ]
  },
  {
   "cell_type": "markdown",
   "metadata": {
    "slideshow": {
     "slide_type": "subslide"
    }
   },
   "source": [
    "## Wybieranie stashu do którego chcemy wrócić"
   ]
  },
  {
   "cell_type": "code",
   "execution_count": 93,
   "metadata": {
    "slideshow": {
     "slide_type": "fragment"
    }
   },
   "outputs": [
    {
     "name": "stdout",
     "output_type": "stream",
     "text": [
      "Initialized empty Git repository in /home/wyhasany/git-stash-2/.git/\n",
      "[master (root-commit) f4dda77] init\n",
      " 1 file changed, 1 insertion(+)\n",
      " create mode 100644 file\n",
      "Saved working directory and index state WIP on master: f4dda77 init\n",
      "Saved working directory and index state WIP on master: f4dda77 init\n",
      "\n",
      "stash@{0}: WIP on master: f4dda77 init\n",
      "stash@{1}: WIP on master: f4dda77 init\n"
     ]
    }
   ],
   "source": [
    "cd ~/ && rm -rf git-stash-2 && mkdir git-stash-2 && cd git-stash-2 && git init\n",
    "echo 'Some content' > file\n",
    "git add file\n",
    "git commit -am init\n",
    "echo 'First change I am not sure about' >> file\n",
    "git stash\n",
    "echo 'Second change I am also not sure about' >> file\n",
    "git stash\n",
    "echo\n",
    "git stash list"
   ]
  },
  {
   "cell_type": "markdown",
   "metadata": {
    "slideshow": {
     "slide_type": "subslide"
    }
   },
   "source": [
    "### ale co jest  w którym stashu?"
   ]
  },
  {
   "cell_type": "code",
   "execution_count": 94,
   "metadata": {
    "slideshow": {
     "slide_type": "fragment"
    }
   },
   "outputs": [
    {
     "name": "stdout",
     "output_type": "stream",
     "text": [
      " file | 1 \u001b[32m+\u001b[m\n",
      " 1 file changed, 1 insertion(+)\n",
      " file | 1 \u001b[32m+\u001b[m\n",
      " 1 file changed, 1 insertion(+)\n"
     ]
    }
   ],
   "source": [
    "git stash show stash@{0}\n",
    "git stash show stash@{1}"
   ]
  },
  {
   "cell_type": "code",
   "execution_count": 95,
   "metadata": {
    "slideshow": {
     "slide_type": "fragment"
    }
   },
   "outputs": [
    {
     "name": "stdout",
     "output_type": "stream",
     "text": [
      "\u001b[1mdiff --git a/file b/file\u001b[m\n",
      "\u001b[1mindex 0ee3895..c8f5c78 100644\u001b[m\n",
      "\u001b[1m--- a/file\u001b[m\n",
      "\u001b[1m+++ b/file\u001b[m\n",
      "\u001b[36m@@ -1 +1,2 @@\u001b[m\n",
      " Some content\u001b[m\n",
      "\u001b[32m+\u001b[m\u001b[32mSecond change I am also not sure about\u001b[m\n",
      "\n",
      "\u001b[1mdiff --git a/file b/file\u001b[m\n",
      "\u001b[1mindex 0ee3895..1683bce 100644\u001b[m\n",
      "\u001b[1m--- a/file\u001b[m\n",
      "\u001b[1m+++ b/file\u001b[m\n",
      "\u001b[36m@@ -1 +1,2 @@\u001b[m\n",
      " Some content\u001b[m\n",
      "\u001b[32m+\u001b[m\u001b[32mFirst change I am not sure about\u001b[m\n"
     ]
    }
   ],
   "source": [
    "git stash show --patch stash@{0}\n",
    "echo\n",
    "git stash show --patch stash@{1}"
   ]
  },
  {
   "cell_type": "markdown",
   "metadata": {
    "slideshow": {
     "slide_type": "subslide"
    }
   },
   "source": [
    "#### zaaplikujmy na przykład starszą pracę"
   ]
  },
  {
   "cell_type": "code",
   "execution_count": 96,
   "metadata": {
    "slideshow": {
     "slide_type": "fragment"
    }
   },
   "outputs": [
    {
     "name": "stdout",
     "output_type": "stream",
     "text": [
      "On branch master\n",
      "Changes not staged for commit:\n",
      "  (use \"git add <file>...\" to update what will be committed)\n",
      "  (use \"git checkout -- <file>...\" to discard changes in working directory)\n",
      "\n",
      "\t\u001b[31mmodified:   file\u001b[m\n",
      "\n",
      "no changes added to commit (use \"git add\" and/or \"git commit -a\")\n",
      "\n",
      "\u001b[1mdiff --git a/file b/file\u001b[m\n",
      "\u001b[1mindex 0ee3895..1683bce 100644\u001b[m\n",
      "\u001b[1m--- a/file\u001b[m\n",
      "\u001b[1m+++ b/file\u001b[m\n",
      "\u001b[36m@@ -1 +1,2 @@\u001b[m\n",
      " Some content\u001b[m\n",
      "\u001b[32m+\u001b[m\u001b[32mFirst change I am not sure about\u001b[m\n",
      "\n",
      "stash@{0}: WIP on master: f4dda77 init\n",
      "stash@{1}: WIP on master: f4dda77 init\n"
     ]
    }
   ],
   "source": [
    "git stash apply stash@{1}\n",
    "echo\n",
    "git diff\n",
    "echo\n",
    "git stash list"
   ]
  },
  {
   "cell_type": "markdown",
   "metadata": {
    "slideshow": {
     "slide_type": "subslide"
    }
   },
   "source": [
    "### Nadawanie stashowi nazwy"
   ]
  },
  {
   "cell_type": "code",
   "execution_count": 97,
   "metadata": {
    "slideshow": {
     "slide_type": "fragment"
    }
   },
   "outputs": [
    {
     "name": "stdout",
     "output_type": "stream",
     "text": [
      "Saved working directory and index state On master: moja ostatnia robota\n",
      "\n",
      "stash@{0}: On master: moja ostatnia robota\n",
      "stash@{1}: WIP on master: f4dda77 init\n",
      "stash@{2}: WIP on master: f4dda77 init\n"
     ]
    }
   ],
   "source": [
    "echo 'nazwany stash' > file\n",
    "git stash save 'moja ostatnia robota'\n",
    "echo\n",
    "git stash list"
   ]
  },
  {
   "cell_type": "code",
   "execution_count": 88,
   "metadata": {
    "slideshow": {
     "slide_type": "fragment"
    }
   },
   "outputs": [],
   "source": [
    "cd ~/ && rm -rf git-stash-2"
   ]
  },
  {
   "cell_type": "markdown",
   "metadata": {
    "slideshow": {
     "slide_type": "subslide"
    }
   },
   "source": [
    "## Ćwiczenia\n",
    "\n",
    "1. Stwórz repo z plikiem `plik` zestaszuj kolejno nowe linie z `A`, `B`, `C` które oddzielnie zestashuj, następnie odstaszuj je w odwrotnej kolejności i wyczyść stash. Na koniec Twój plik ma być następujący:\n",
    "```\n",
    "C\n",
    "B\n",
    "A\n",
    "```\n",
    "Będziesz musiał znaleźć sposób na ręczne usuwanie stashy (help: `man git stash`)"
   ]
  },
  {
   "cell_type": "markdown",
   "metadata": {
    "slideshow": {
     "slide_type": "slide"
    }
   },
   "source": [
    "# Status\n",
    "\n",
    "* [x] ~~...~~\n",
    "* [x] ~~Podstawy gita~~\n",
    "* [x] ~~Klonowanie repo~~\n",
    "* [x] ~~Gałęzie gita~~\n",
    "* [x] ~~Merge (łączenie zmian)~~\n",
    "* [x] ~~Git stash~~\n",
    "* [ ] Git add interactive\n",
    "     * [ ] Interaktywne dodawanie do gita\n",
    "     * [ ] splitting hunks\n",
    "     * [ ] różnica między staging a commiting\n",
    "* [ ] Reflog\n",
    "* [ ] Cherry picking\n",
    "* [ ] Git rebase\n",
    "* [ ] ..."
   ]
  },
  {
   "cell_type": "markdown",
   "metadata": {
    "slideshow": {
     "slide_type": "subslide"
    }
   },
   "source": [
    "## Co to jest interaktywne dodawanie przykład"
   ]
  },
  {
   "cell_type": "code",
   "execution_count": 111,
   "metadata": {
    "slideshow": {
     "slide_type": "fragment"
    }
   },
   "outputs": [
    {
     "name": "stdout",
     "output_type": "stream",
     "text": [
      "Initialized empty Git repository in /home/wyhasany/add-i/.git/\n",
      "[master (root-commit) bfcc22c] pliki dodane\n",
      " 2 files changed, 2 insertions(+)\n",
      " create mode 100644 plik1\n",
      " create mode 100644 plik2\n"
     ]
    }
   ],
   "source": [
    "cd ~/ && rm -rf add-i && mkdir add-i && cd add-i && git init\n",
    "git config commit.gpgsign false\n",
    "echo 'To jest plik1' > plik1\n",
    "echo 'To jest plik2' > plik2\n",
    "git add plik1 plik2\n",
    "git commit -am 'pliki dodane'\n",
    "cat > plik1 << EOF\n",
    "Dobra zmiana\n",
    "To jest plik1\n",
    "Eksperymentalna zmiana\n",
    "EOF\n",
    "cat > plik2 << EOF\n",
    "Wszystko dobrze\n",
    "To jest plik2\n",
    "EOF"
   ]
  },
  {
   "cell_type": "markdown",
   "metadata": {
    "slideshow": {
     "slide_type": "subslide"
    }
   },
   "source": [
    "### Terminal\n",
    "\n",
    "```\n",
    "cd ~/add-i\n",
    "git add -i\n",
    "p\n",
    "1\n",
    "<Enter>\n",
    "s\n",
    "y\n",
    "n\n",
    "q\n",
    "```"
   ]
  },
  {
   "cell_type": "code",
   "execution_count": 113,
   "metadata": {
    "scrolled": true,
    "slideshow": {
     "slide_type": "subslide"
    }
   },
   "outputs": [
    {
     "name": "stdout",
     "output_type": "stream",
     "text": [
      "     \u001b[1m      staged     unstaged path\u001b[m\n",
      "  1:    unchanged        +2/-0 plik1\n",
      "  2:    unchanged        +1/-0 plik2\n",
      "\n",
      "\u001b[1m*** Commands ***\u001b[m\n",
      "  1: \u001b[1;34ms\u001b[mtatus\t  2: \u001b[1;34mu\u001b[mpdate\t  3: \u001b[1;34mr\u001b[mevert\t  4: \u001b[1;34ma\u001b[mdd untracked\n",
      "  5: \u001b[1;34mp\u001b[match\t  6: \u001b[1;34md\u001b[miff\t  7: \u001b[1;34mq\u001b[muit\t  8: \u001b[1;34mh\u001b[melp\n",
      "\u001b[1;34mWhat now\u001b[m>      \u001b[1m      staged     unstaged path\u001b[m\n",
      "  1:    unchanged        +2/-0 plik1\n",
      "  2:    unchanged        +1/-0 plik2\n",
      "\u001b[1;34mPatch update\u001b[m>>      \u001b[1m      staged     unstaged path\u001b[m\n",
      "* 1:    unchanged        +2/-0 plik1\n",
      "  2:    unchanged        +1/-0 plik2\n",
      "\u001b[1;34mPatch update\u001b[m>> \u001b[1mdiff --git a/plik1 b/plik1\u001b[m\n",
      "\u001b[1mindex 7ea6d98..b62978d 100644\u001b[m\n",
      "\u001b[1m--- a/plik1\u001b[m\n",
      "\u001b[1m+++ b/plik1\u001b[m\n",
      "\u001b[36m@@ -1 +1,3 @@\u001b[m\n",
      "\u001b[32m+\u001b[m\u001b[32mDobra zmiana\u001b[m\n",
      " To jest plik1\u001b[m\n",
      "\u001b[32m+\u001b[m\u001b[32mEksperymentalna zmiana\u001b[m\n",
      "\u001b[1;34mStage this hunk [y,n,q,a,d,s,e,?]? \u001b[m\u001b[1;31my - stage this hunk\u001b[m\n",
      "\u001b[1;31mn - do not stage this hunk\u001b[m\n",
      "\u001b[1;31mq - quit; do not stage this hunk or any of the remaining ones\u001b[m\n",
      "\u001b[1;31ma - stage this hunk and all later hunks in the file\u001b[m\n",
      "\u001b[1;31md - do not stage this hunk or any of the later hunks in the file\u001b[m\n",
      "\u001b[1;31ms - split the current hunk into smaller hunks\u001b[m\n",
      "\u001b[1;31me - manually edit the current hunk\u001b[m\n",
      "\u001b[1;31m? - print help\u001b[m\n",
      "\u001b[36m@@ -1 +1,3 @@\u001b[m\n",
      "\u001b[32m+\u001b[m\u001b[32mDobra zmiana\u001b[m\n",
      " To jest plik1\u001b[m\n",
      "\u001b[32m+\u001b[m\u001b[32mEksperymentalna zmiana\u001b[m\n",
      "\u001b[1;34mStage this hunk [y,n,q,a,d,s,e,?]? \u001b[m\u001b[1mSplit into 2 hunks.\u001b[m\n",
      "\u001b[36m@@ -1 +1,2 @@\u001b[m\n",
      "\u001b[32m+\u001b[m\u001b[32mDobra zmiana\u001b[m\n",
      " To jest plik1\u001b[m\n",
      "\u001b[1;34mStage this hunk [y,n,q,a,d,j,J,g,/,e,?]? \u001b[m\u001b[36m@@ -1 +2,2 @@\u001b[m\n",
      " To jest plik1\u001b[m\n",
      "\u001b[32m+\u001b[m\u001b[32mEksperymentalna zmiana\u001b[m\n",
      "\u001b[1;34mStage this hunk [y,n,q,a,d,K,g,/,e,?]? \u001b[m\n",
      "\u001b[1m*** Commands ***\u001b[m\n",
      "  1: \u001b[1;34ms\u001b[mtatus\t  2: \u001b[1;34mu\u001b[mpdate\t  3: \u001b[1;34mr\u001b[mevert\t  4: \u001b[1;34ma\u001b[mdd untracked\n",
      "  5: \u001b[1;34mp\u001b[match\t  6: \u001b[1;34md\u001b[miff\t  7: \u001b[1;34mq\u001b[muit\t  8: \u001b[1;34mh\u001b[melp\n",
      "\u001b[1;34mWhat now\u001b[m> Bye.\n"
     ]
    }
   ],
   "source": [
    "git add -i << ANSWERS\n",
    "p\n",
    "1\n",
    "\n",
    "?\n",
    "s\n",
    "y\n",
    "n\n",
    "q\n",
    "ANSWERS"
   ]
  },
  {
   "cell_type": "code",
   "execution_count": 110,
   "metadata": {
    "scrolled": true,
    "slideshow": {
     "slide_type": "fragment"
    }
   },
   "outputs": [
    {
     "name": "stdout",
     "output_type": "stream",
     "text": [
      "On branch master\n",
      "Changes to be committed:\n",
      "  (use \"git reset HEAD <file>...\" to unstage)\n",
      "\n",
      "\t\u001b[32mmodified:   plik1\u001b[m\n",
      "\n",
      "Changes not staged for commit:\n",
      "  (use \"git add <file>...\" to update what will be committed)\n",
      "  (use \"git checkout -- <file>...\" to discard changes in working directory)\n",
      "\n",
      "\t\u001b[31mmodified:   plik1\u001b[m\n",
      "\t\u001b[31mmodified:   plik2\u001b[m\n",
      "\n",
      "\n",
      "\u001b[1mdiff --git a/plik1 b/plik1\u001b[m\n",
      "\u001b[1mindex 36058cb..b62978d 100644\u001b[m\n",
      "\u001b[1m--- a/plik1\u001b[m\n",
      "\u001b[1m+++ b/plik1\u001b[m\n",
      "\u001b[36m@@ -1,2 +1,3 @@\u001b[m\n",
      " Dobra zmiana\u001b[m\n",
      " To jest plik1\u001b[m\n",
      "\u001b[32m+\u001b[m\u001b[32mEksperymentalna zmiana\u001b[m\n",
      "\u001b[1mdiff --git a/plik2 b/plik2\u001b[m\n",
      "\u001b[1mindex 4c60546..9ce81e9 100644\u001b[m\n",
      "\u001b[1m--- a/plik2\u001b[m\n",
      "\u001b[1m+++ b/plik2\u001b[m\n",
      "\u001b[36m@@ -1 +1,2 @@\u001b[m\n",
      "\u001b[32m+\u001b[m\u001b[32mWszystko dobrze\u001b[m\n",
      " To jest plik2\u001b[m\n"
     ]
    }
   ],
   "source": [
    "git status\n",
    "echo\n",
    "git diff"
   ]
  },
  {
   "cell_type": "markdown",
   "metadata": {
    "slideshow": {
     "slide_type": "subslide"
    }
   },
   "source": [
    "<img src=\"img/touch-the-hunk.png\" width=\"500px\" alt=\"Hunk WTF?!\" style=\"float:left; margin-right: 30px;\" />\n",
    "\n",
    "## Hunk, WTF?! o nomenklaturze słów kilka...\n",
    "\n",
    "</br>\n",
    "</br>\n",
    "\n",
    "#### Po co dzielić \"pajdy\"\n",
    "\n",
    "Gdy nie chcemy commitować części kodu na którym lokalnie pracujemy, mogą to być:\n",
    "     * hasła\n",
    "     * linie debugujące\n"
   ]
  },
  {
   "cell_type": "markdown",
   "metadata": {
    "slideshow": {
     "slide_type": "notes"
    }
   },
   "source": [
    "Stage'owanie oznacza, że oznaczone zmiany chcemy scommitować. Pamiętaj index == staging == adding. Jeżeli commitujesz `git commit -am 'msg'` to cała Twoja praca na git add interactive pójdzie na darmo. Te rzeczy od niedawna wykorzystuje IntellIJ IDEA, dla zainteresowanych mogę zrobić pokaz."
   ]
  },
  {
   "cell_type": "code",
   "execution_count": 2,
   "metadata": {
    "slideshow": {
     "slide_type": "subslide"
    }
   },
   "outputs": [],
   "source": [
    "cd ~/ && rm -rf add-i"
   ]
  },
  {
   "cell_type": "markdown",
   "metadata": {
    "slideshow": {
     "slide_type": "-"
    }
   },
   "source": [
    "## Ćwiczenia\n",
    "\n",
    "1. Potestuj inne opcje w `git add -i`\n",
    "2. Przetestuj inne operacje dla pajd kodu"
   ]
  },
  {
   "cell_type": "markdown",
   "metadata": {
    "slideshow": {
     "slide_type": "subslide"
    }
   },
   "source": [
    "# Status\n",
    "\n",
    "* [x] ~~...~~\n",
    "* [x] ~~Podstawy gita~~\n",
    "* [x] ~~Klonowanie repo~~\n",
    "* [x] ~~Gałęzie gita~~\n",
    "* [x] ~~Merge (łączenie zmian)~~\n",
    "* [x] ~~Git stash~~\n",
    "* [x] ~~Git add interactive~~\n",
    "     * [x] ~~Interaktywne dodawanie do gita~~\n",
    "     * [x] ~~splitting hunks~~\n",
    "     * [x] ~~różnica między staging a commiting~~\n",
    "* [ ] Reflog\n",
    "* [ ] Cherry picking\n",
    "* [ ] Git rebase\n",
    "* [ ] ..."
   ]
  },
  {
   "cell_type": "markdown",
   "metadata": {
    "slideshow": {
     "slide_type": "slide"
    }
   },
   "source": [
    "# Status\n",
    "\n",
    "* [x] ~~...~~\n",
    "* [x] ~~Podstawy gita~~\n",
    "* [x] ~~Klonowanie repo~~\n",
    "* [x] ~~Gałęzie gita~~\n",
    "* [x] ~~Merge (łączenie zmian)~~\n",
    "* [x] ~~Git stash~~\n",
    "* [x] ~~Git add interactive~~\n",
    "* [ ] Reflog\n",
    "     * [ ] git reflog\n",
    "     * [ ] git reset\n",
    "* [ ] Cherry picking\n",
    "* [ ] Git rebase\n",
    "* [ ] Git bisect\n",
    "* [ ] ..."
   ]
  },
  {
   "cell_type": "markdown",
   "metadata": {
    "slideshow": {
     "slide_type": "notes"
    }
   },
   "source": [
    "Reflog daje odnośnik do sekwencyjnej historii wszystkich operacji jakie zostały wykonane na repozytorium. Jest bardzo wygodny do mieszania we własnej lokalnej historii commitów."
   ]
  },
  {
   "cell_type": "markdown",
   "metadata": {
    "slideshow": {
     "slide_type": "subslide"
    }
   },
   "source": [
    "## Przykład użycia reflog"
   ]
  },
  {
   "cell_type": "code",
   "execution_count": 3,
   "metadata": {
    "slideshow": {
     "slide_type": "fragment"
    }
   },
   "outputs": [
    {
     "name": "stdout",
     "output_type": "stream",
     "text": [
      "Initialized empty Git repository in /home/wyhasany/reflog/.git/\n",
      "[master (root-commit) 3e02872] file0\n",
      " 1 file changed, 1 insertion(+)\n",
      " create mode 100644 file\n",
      "[master b38678d] file0.1\n",
      " 1 file changed, 1 insertion(+)\n",
      "\u001b[33mb38678d\u001b[m\u001b[33m (\u001b[m\u001b[1;36mHEAD -> \u001b[m\u001b[1;32mmaster\u001b[m\u001b[33m)\u001b[m file0.1\n",
      "\u001b[33m3e02872\u001b[m file0\n"
     ]
    }
   ],
   "source": [
    "cd ~/ && rm -rf reflog && mkdir reflog && cd reflog && git init && git config commit.gpgsign false\n",
    "echo first commit > file\n",
    "git add file\n",
    "git commit -am file0\n",
    "echo second commit >> file\n",
    "git commit -am file0.1\n",
    "git log --oneline\n"
   ]
  },
  {
   "cell_type": "markdown",
   "metadata": {
    "slideshow": {
     "slide_type": "fragment"
    }
   },
   "source": [
    "A teraz usuńmy ostatni commit"
   ]
  },
  {
   "cell_type": "code",
   "execution_count": 4,
   "metadata": {
    "slideshow": {
     "slide_type": "subslide"
    }
   },
   "outputs": [
    {
     "name": "stdout",
     "output_type": "stream",
     "text": [
      "\u001b[31mNote: checking out 'HEAD^'.\n",
      "\n",
      "You are in 'detached HEAD' state. You can look around, make experimental\n",
      "changes and commit them, and you can discard any commits you make in this\n",
      "state without impacting any branches by performing another checkout.\n",
      "\n",
      "If you want to create a new branch to retain commits you create, you may\n",
      "do so (now or later) by using -b with the checkout command again. Example:\n",
      "\n",
      "  git checkout -b <new-branch-name>\n",
      "\n",
      "\u001b[0m\u001b[31mHEAD is now at 3e02872 file0\n",
      "\u001b[0m\u001b[31mSwitched to branch 'master'\n",
      "\u001b[0m* \u001b[33m3e02872\u001b[m\u001b[33m (\u001b[m\u001b[1;36mHEAD -> \u001b[m\u001b[1;32mmaster\u001b[m\u001b[33m)\u001b[m file0\n"
     ]
    }
   ],
   "source": [
    "git checkout HEAD^\n",
    "git branch -f master\n",
    "git checkout master\n",
    "git log --oneline --all --graph"
   ]
  },
  {
   "cell_type": "markdown",
   "metadata": {
    "slideshow": {
     "slide_type": "subslide"
    }
   },
   "source": [
    "# Czas użyć refloga (referencyjny log, a nie chłostany - ang. flogged)"
   ]
  },
  {
   "cell_type": "code",
   "execution_count": 6,
   "metadata": {
    "slideshow": {
     "slide_type": "fragment"
    }
   },
   "outputs": [
    {
     "name": "stdout",
     "output_type": "stream",
     "text": [
      "\u001b[33m3e02872\u001b[m\u001b[33m (\u001b[m\u001b[1;36mHEAD -> \u001b[m\u001b[1;32mmaster\u001b[m\u001b[33m)\u001b[m HEAD@{0}: checkout: moving from 3e0287251a0989ec984a25d6921f576ff2dd51cd to master\n",
      "\u001b[33m3e02872\u001b[m\u001b[33m (\u001b[m\u001b[1;36mHEAD -> \u001b[m\u001b[1;32mmaster\u001b[m\u001b[33m)\u001b[m HEAD@{1}: checkout: moving from master to HEAD^\n",
      "\u001b[33mb38678d\u001b[m HEAD@{2}: commit: file0.1\n",
      "\u001b[33m3e02872\u001b[m\u001b[33m (\u001b[m\u001b[1;36mHEAD -> \u001b[m\u001b[1;32mmaster\u001b[m\u001b[33m)\u001b[m HEAD@{3}: commit (initial): file0\n"
     ]
    }
   ],
   "source": [
    "git reflog"
   ]
  },
  {
   "cell_type": "code",
   "execution_count": 7,
   "metadata": {
    "slideshow": {
     "slide_type": "fragment"
    }
   },
   "outputs": [
    {
     "name": "stdout",
     "output_type": "stream",
     "text": [
      "HEAD is now at b38678d file0.1\n"
     ]
    }
   ],
   "source": [
    "git reset --hard b38678d"
   ]
  },
  {
   "cell_type": "code",
   "execution_count": 9,
   "metadata": {
    "slideshow": {
     "slide_type": "fragment"
    }
   },
   "outputs": [
    {
     "name": "stdout",
     "output_type": "stream",
     "text": [
      "\u001b[33mb38678d\u001b[m\u001b[33m (\u001b[m\u001b[1;36mHEAD -> \u001b[m\u001b[1;32mmaster\u001b[m\u001b[33m)\u001b[m file0.1\n",
      "\u001b[33m3e02872\u001b[m file0\n"
     ]
    }
   ],
   "source": [
    "git log --oneline"
   ]
  },
  {
   "cell_type": "markdown",
   "metadata": {
    "slideshow": {
     "slide_type": "fragment"
    }
   },
   "source": [
    "### Zapamiętaj\n",
    "\n",
    "* flaga `--hard` aktualizuje nam indeks i katalog roboczy stanem z lokalnego repozytorium\n",
    "* reflog pokazuje nam całą historię co działo się z naszym HEADem"
   ]
  },
  {
   "cell_type": "code",
   "execution_count": 10,
   "metadata": {
    "slideshow": {
     "slide_type": "subslide"
    }
   },
   "outputs": [],
   "source": [
    "cd ~/ && rm -rf reflog"
   ]
  },
  {
   "cell_type": "markdown",
   "metadata": {
    "slideshow": {
     "slide_type": "-"
    }
   },
   "source": [
    "## Ćwiczenie\n",
    "\n",
    "1. TODO: odnalezienie zgubionego hasła"
   ]
  },
  {
   "cell_type": "markdown",
   "metadata": {
    "slideshow": {
     "slide_type": "slide"
    }
   },
   "source": [
    "# Status\n",
    "\n",
    "* [x] ~~...~~\n",
    "* [x] ~~Podstawy gita~~\n",
    "* [x] ~~Klonowanie repo~~\n",
    "* [x] ~~Gałęzie gita~~\n",
    "* [x] ~~Merge (łączenie zmian)~~\n",
    "* [x] ~~Git stash~~\n",
    "* [x] ~~Git add interactive~~\n",
    "* [x] ~~Reflog~~\n",
    "     * [x] ~~git reflog~~\n",
    "     * [x] ~~git reset~~\n",
    "* [ ] Cherry picking\n",
    "* [ ] Git rebase\n",
    "* [ ] Git bisect\n",
    "* [ ] ..."
   ]
  },
  {
   "cell_type": "markdown",
   "metadata": {
    "slideshow": {
     "slide_type": "slide"
    }
   },
   "source": [
    "## Jak liczone są skróty commitów?\n",
    "\n",
    "Liczymy SHA1 z:\n",
    "* całego kodu źródłowego bez ignorowanych i niekomitowanych plików\n",
    "* z SHA1 ostatniego commitu\n",
    "* z informacji o autorze\n",
    "* z informacji o commiterze (tak mogą być różni 😅)\n",
    "* z treści commita"
   ]
  },
  {
   "cell_type": "markdown",
   "metadata": {
    "slideshow": {
     "slide_type": "slide"
    }
   },
   "source": [
    "# Przykład"
   ]
  },
  {
   "cell_type": "code",
   "execution_count": null,
   "metadata": {
    "slideshow": {
     "slide_type": "fragment"
    }
   },
   "outputs": [],
   "source": [
    "%%bash\n",
    "mkdir tmp\n",
    "cd tmp\n",
    "git init\n",
    "touch A\n",
    "git config commit.gpgsign no\n",
    "git add A\n",
    "git commit -am 'A'\n",
    "git log"
   ]
  },
  {
   "cell_type": "code",
   "execution_count": null,
   "metadata": {
    "slideshow": {
     "slide_type": "fragment"
    }
   },
   "outputs": [],
   "source": [
    "!cd tmp && git log --format=format:%H"
   ]
  },
  {
   "cell_type": "code",
   "execution_count": null,
   "metadata": {
    "slideshow": {
     "slide_type": "subslide"
    }
   },
   "outputs": [],
   "source": [
    "!cd tmp && ffgit cat-file commit HEAD"
   ]
  },
  {
   "cell_type": "code",
   "execution_count": null,
   "metadata": {
    "slideshow": {
     "slide_type": "fragment"
    }
   },
   "outputs": [],
   "source": [
    "!cd tmp && printf \"commit %s\\0\" $(git cat-file commit HEAD | wc -c)"
   ]
  },
  {
   "cell_type": "code",
   "execution_count": null,
   "metadata": {
    "slideshow": {
     "slide_type": "fragment"
    }
   },
   "outputs": [],
   "source": [
    "!cd tmp && (printf \"commit %s\\0\" $(git cat-file commit HEAD | wc -c); git cat-file commit HEAD) | sha1sum"
   ]
  },
  {
   "cell_type": "code",
   "execution_count": null,
   "metadata": {
    "slideshow": {
     "slide_type": "fragment"
    }
   },
   "outputs": [],
   "source": [
    "!rm -rf tmp"
   ]
  },
  {
   "cell_type": "markdown",
   "metadata": {
    "slideshow": {
     "slide_type": "slide"
    }
   },
   "source": [
    "### Polskie znaki w nazwach plików"
   ]
  },
  {
   "cell_type": "code",
   "execution_count": 59,
   "metadata": {},
   "outputs": [
    {
     "name": "stdout",
     "output_type": "stream",
     "text": [
      "Initialized empty Git repository in /home/wyhasany/git-diacritics/.git/\n",
      "On branch master\n",
      "\n",
      "No commits yet\n",
      "\n",
      "Untracked files:\n",
      "  (use \"git add <file>...\" to include in what will be committed)\n",
      "\n",
      "\t\u001b[31m\"\\305\\271r\\303\\263d\\305\\202o\"\u001b[m\n",
      "\n",
      "nothing added to commit but untracked files present (use \"git add\" to track)\n"
     ]
    }
   ],
   "source": [
    "cd ~/ && rm -rf git-diacritics && mkdir git-diacritics && cd git-diacritics\n",
    "git init\n",
    "git config commit.gpgsign false\n",
    "touch Źródło\n",
    "git status\n",
    "cd ~/ && rm -rf git-diacritics"
   ]
  },
  {
   "cell_type": "markdown",
   "metadata": {
    "slideshow": {
     "slide_type": "slide"
    }
   },
   "source": [
    "# Przydatne linki\n",
    "\n",
    "<br />\n",
    "\n",
    "1. [To nie działa WTF?!](http://justinhileman.info/article/git-pretty/git-pretty.png)\n",
    "2. [Cheat sheet powiązany z fazami życia kontentu w gicie](http://ndpsoftware.com/git-cheatsheet.html)"
   ]
  }
 ],
 "metadata": {
  "celltoolbar": "Slideshow",
  "kernelspec": {
   "display_name": "Bash",
   "language": "bash",
   "name": "bash"
  },
  "language_info": {
   "codemirror_mode": "shell",
   "file_extension": ".sh",
   "mimetype": "text/x-sh",
   "name": "bash"
  }
 },
 "nbformat": 4,
 "nbformat_minor": 2
}

{
 "cells": [
  {
   "cell_type": "markdown",
   "metadata": {
    "slideshow": {
     "slide_type": "slide"
    }
   },
   "source": [
    "<img style=\"float: right;\" src=\"img/git.png\">\n",
    "\n",
    "Git kata - poznajmy się bliżej\n",
    "==============\n",
    "<br>\n",
    "\n",
    "### *Developer Days, 07.12.2018* "
   ]
  },
  {
   "cell_type": "markdown",
   "metadata": {
    "slideshow": {
     "slide_type": "fragment"
    }
   },
   "source": [
    "<br><br>\n",
    "Michał Rowicki\n",
    "<br><br>\n",
    "[@wyhasany](https://twitter.com/wyhasany)"
   ]
  },
  {
   "cell_type": "markdown",
   "metadata": {
    "slideshow": {
     "slide_type": "slide"
    }
   },
   "source": [
    "# WORK WORK\n",
    "<center><img src=\"img/Orange.jpg\" width=\"900px\" alt=\"Orange Logo\" style=\"position:center\" /></center>"
   ]
  },
  {
   "cell_type": "markdown",
   "metadata": {
    "slideshow": {
     "slide_type": "slide"
    }
   },
   "source": [
    "### Work work od ~6lat\n",
    "<br>"
   ]
  },
  {
   "cell_type": "markdown",
   "metadata": {
    "slideshow": {
     "slide_type": "fragment"
    }
   },
   "source": [
    "* Developer Testbencha dla Odnowy"
   ]
  },
  {
   "cell_type": "markdown",
   "metadata": {
    "slideshow": {
     "slide_type": "fragment"
    }
   },
   "source": [
    "* Co to odnowa to może później..."
   ]
  },
  {
   "cell_type": "markdown",
   "metadata": {
    "slideshow": {
     "slide_type": "fragment"
    }
   },
   "source": [
    "* Dużo Javy i sieci komputerowych"
   ]
  },
  {
   "cell_type": "markdown",
   "metadata": {
    "slideshow": {
     "slide_type": "slide"
    }
   },
   "source": [
    "# Agenda\n",
    "\n",
    "* [ ] Krótkie wprowadzenie do systemów kontroli wersji\n",
    "* [ ] Podstawy gita\n"
   ]
  },
  {
   "cell_type": "markdown",
   "metadata": {
    "slideshow": {
     "slide_type": "slide"
    }
   },
   "source": [
    "# Jak żyć panie premierze bez systemów kontroli wersji?\n",
    "\n",
    "* wysyłać wszystkim zaktualizowane pliki"
   ]
  },
  {
   "cell_type": "markdown",
   "metadata": {
    "slideshow": {
     "slide_type": "fragment"
    }
   },
   "source": [
    "* informować o tym wszystkich mailowo"
   ]
  },
  {
   "cell_type": "markdown",
   "metadata": {
    "slideshow": {
     "slide_type": "fragment"
    }
   },
   "source": [
    "* trzymać pliki tar w centralnej lokalizacji z numerami wersji"
   ]
  },
  {
   "cell_type": "markdown",
   "metadata": {
    "slideshow": {
     "slide_type": "fragment"
    }
   },
   "source": [
    "# Jaki jest z tym problem?"
   ]
  },
  {
   "cell_type": "markdown",
   "metadata": {
    "slideshow": {
     "slide_type": "fragment"
    }
   },
   "source": [
    "**To się nie skaluje!!!**"
   ]
  },
  {
   "cell_type": "markdown",
   "metadata": {
    "slideshow": {
     "slide_type": "subslide"
    }
   },
   "source": [
    "## Why?"
   ]
  },
  {
   "cell_type": "markdown",
   "metadata": {
    "slideshow": {
     "slide_type": "fragment"
    }
   },
   "source": [
    "* Im więcej deweloperów tym większy narzut roboty"
   ]
  },
  {
   "cell_type": "markdown",
   "metadata": {
    "slideshow": {
     "slide_type": "fragment"
    }
   },
   "source": [
    "* jeżeli inne projekty zależą od naszego to hardcorem jest zapanować od jakiej wersji zależymy"
   ]
  },
  {
   "cell_type": "markdown",
   "metadata": {
    "slideshow": {
     "slide_type": "fragment"
    }
   },
   "source": [
    "* jeżeli wiele osób pracuje nad tym samym plikiem to jak to połączyć"
   ]
  },
  {
   "cell_type": "markdown",
   "metadata": {
    "slideshow": {
     "slide_type": "slide"
    }
   },
   "source": [
    "## Dlaczego git a nie cvs/svn?"
   ]
  },
  {
   "cell_type": "markdown",
   "metadata": {
    "slideshow": {
     "slide_type": "fragment"
    }
   },
   "source": [
    "* system [rosproszony](https://git-scm.com/about/distributed) vs scentralizowany"
   ]
  },
  {
   "cell_type": "markdown",
   "metadata": {
    "slideshow": {
     "slide_type": "fragment"
    }
   },
   "source": [
    "* no to dlatego tak łatwo zrobić forka i pull request"
   ]
  },
  {
   "cell_type": "markdown",
   "metadata": {
    "slideshow": {
     "slide_type": "fragment"
    }
   },
   "source": [
    "* [działa szybciej](https://git-scm.com/about/small-and-fast)"
   ]
  },
  {
   "cell_type": "markdown",
   "metadata": {
    "slideshow": {
     "slide_type": "fragment"
    }
   },
   "source": [
    "* śledzi treść, a nie pliki"
   ]
  },
  {
   "cell_type": "markdown",
   "metadata": {
    "slideshow": {
     "slide_type": "fragment"
    }
   },
   "source": [
    "* repozytorium jest mniejsze"
   ]
  },
  {
   "cell_type": "markdown",
   "metadata": {
    "slideshow": {
     "slide_type": "fragment"
    }
   },
   "source": [
    "> *Zapamiętaj git nie jest lepszy od svn jest inny*"
   ]
  },
  {
   "cell_type": "markdown",
   "metadata": {
    "slideshow": {
     "slide_type": "subslide"
    }
   },
   "source": [
    "# bazaar?"
   ]
  },
  {
   "cell_type": "markdown",
   "metadata": {
    "slideshow": {
     "slide_type": "fragment"
    }
   },
   "source": [
    "* najlepsze rozwiązanie jeśli pracujesz nad aplikacjami dla Ubuntu"
   ]
  },
  {
   "cell_type": "markdown",
   "metadata": {
    "slideshow": {
     "slide_type": "fragment"
    }
   },
   "source": [
    "* git hub rocks 🎆 vs launchpad not so much 😓"
   ]
  },
  {
   "cell_type": "markdown",
   "metadata": {
    "slideshow": {
     "slide_type": "fragment"
    }
   },
   "source": [
    "> ... ale istnieje pythonowe narzędzie przerzucające git w bazaar"
   ]
  },
  {
   "cell_type": "markdown",
   "metadata": {
    "slideshow": {
     "slide_type": "slide"
    }
   },
   "source": [
    "# Zaczynajmy - konfiguracja"
   ]
  },
  {
   "cell_type": "code",
   "execution_count": 6,
   "metadata": {
    "slideshow": {
     "slide_type": "fragment"
    }
   },
   "outputs": [
    {
     "name": "stdout",
     "output_type": "stream",
     "text": [
      "git version 2.17.1\r\n"
     ]
    }
   ],
   "source": [
    "!git --version"
   ]
  },
  {
   "cell_type": "code",
   "execution_count": 4,
   "metadata": {
    "slideshow": {
     "slide_type": "fragment"
    }
   },
   "outputs": [
    {
     "name": "stdout",
     "output_type": "stream",
     "text": [
      "[user]\r\n",
      "\temail = mirowicki@gmail.com\r\n",
      "\tname = Michał Rowicki\r\n",
      "\tsigningkey = 270F777CEA4DE4CE \r\n",
      "[core]\r\n",
      "\teditor = vim\r\n",
      "[commit]\r\n",
      "\tgpgsign = true\r\n",
      "[gpg]\r\n",
      "\tprogram = gpg2\r\n",
      "[color]\r\n",
      "\tui = auto\r\n"
     ]
    }
   ],
   "source": [
    "!cat ~/.gitconfig"
   ]
  },
  {
   "cell_type": "code",
   "execution_count": 1,
   "metadata": {
    "slideshow": {
     "slide_type": "fragment"
    }
   },
   "outputs": [],
   "source": [
    "%%bash\n",
    "git config --global user.name \"Michał Rowicki\"\n",
    "git config --global user.email \"mirowicki@gmail.com\"\n",
    "git config --global core.editor \"vim\""
   ]
  },
  {
   "cell_type": "markdown",
   "metadata": {
    "slideshow": {
     "slide_type": "slide"
    }
   },
   "source": [
    "# Fazy życia kodu w gicie\n",
    "<br/>\n",
    "<center><img src=\"four_phases.png\" alt=\"Lifecycle of git content\" style=\"position:center\" /></center>\n",
    "<br/>\n",
    "\n",
    "> Źródło: Learn git the hard way"
   ]
  },
  {
   "cell_type": "markdown",
   "metadata": {
    "slideshow": {
     "slide_type": "slide"
    }
   },
   "source": [
    "# Status\n",
    "\n",
    "* [x] ~~Krótkie wprowadzenie do systemów kontroli wersji~~\n",
    "* [ ] Podstawy gita"
   ]
  },
  {
   "cell_type": "markdown",
   "metadata": {
    "slideshow": {
     "slide_type": "slide"
    }
   },
   "source": [
    "## Jak liczone są skróty commitów?\n",
    "\n",
    "Liczymy SHA1 z:\n",
    "* całego kodu źródłowego bez ignorowanych i niekomitowanych plików\n",
    "* z SHA1 ostatniego commitu\n",
    "* z informacji o autorze\n",
    "* z informacji o commiterze (tak mogą być różni 😅)\n",
    "* z treści commita"
   ]
  },
  {
   "cell_type": "markdown",
   "metadata": {
    "slideshow": {
     "slide_type": "slide"
    }
   },
   "source": [
    "# Przykład"
   ]
  },
  {
   "cell_type": "code",
   "execution_count": 10,
   "metadata": {
    "slideshow": {
     "slide_type": "fragment"
    }
   },
   "outputs": [
    {
     "name": "stdout",
     "output_type": "stream",
     "text": [
      "Reinitialized existing Git repository in /home/wyhasany/IdeaProjects/git-kata/tmp/.git/\n",
      "On branch master\n",
      "nothing to commit, working tree clean\n",
      "commit 6362cb94891af87e3dfd0a2816236698bb37b762\n",
      "Author: Michał Rowicki <mirowicki@gmail.com>\n",
      "Date:   Sat Nov 24 20:17:44 2018 +0100\n",
      "\n",
      "    A\n"
     ]
    },
    {
     "name": "stderr",
     "output_type": "stream",
     "text": [
      "mkdir: cannot create directory ‘tmp’: File exists\n"
     ]
    }
   ],
   "source": [
    "%%bash\n",
    "mkdir tmp\n",
    "cd tmp\n",
    "git init\n",
    "touch A\n",
    "git config commit.gpgsign no\n",
    "git add A\n",
    "git commit -am 'A'\n",
    "git log"
   ]
  },
  {
   "cell_type": "code",
   "execution_count": 11,
   "metadata": {
    "slideshow": {
     "slide_type": "fragment"
    }
   },
   "outputs": [
    {
     "name": "stdout",
     "output_type": "stream",
     "text": [
      "6362cb94891af87e3dfd0a2816236698bb37b762"
     ]
    }
   ],
   "source": [
    "!cd tmp && git log --format=format:%H"
   ]
  },
  {
   "cell_type": "code",
   "execution_count": 13,
   "metadata": {
    "slideshow": {
     "slide_type": "subslide"
    }
   },
   "outputs": [
    {
     "name": "stdout",
     "output_type": "stream",
     "text": [
      "tree 7c178d1296d8b87e83382c324aeb32e2def2a5af\r\n",
      "author Michał Rowicki <mirowicki@gmail.com> 1543087064 +0100\r\n",
      "committer Michał Rowicki <mirowicki@gmail.com> 1543087064 +0100\r\n",
      "\r\n",
      "A\r\n"
     ]
    }
   ],
   "source": [
    "!cd tmp && ffgit cat-file commit HEAD"
   ]
  },
  {
   "cell_type": "code",
   "execution_count": 14,
   "metadata": {
    "slideshow": {
     "slide_type": "fragment"
    }
   },
   "outputs": [
    {
     "name": "stdout",
     "output_type": "stream",
     "text": [
      "commit 176\u0000"
     ]
    }
   ],
   "source": [
    "!cd tmp && printf \"commit %s\\0\" $(git cat-file commit HEAD | wc -c)"
   ]
  },
  {
   "cell_type": "code",
   "execution_count": 15,
   "metadata": {
    "slideshow": {
     "slide_type": "fragment"
    }
   },
   "outputs": [
    {
     "name": "stdout",
     "output_type": "stream",
     "text": [
      "6362cb94891af87e3dfd0a2816236698bb37b762  -\r\n"
     ]
    }
   ],
   "source": [
    "!cd tmp && (printf \"commit %s\\0\" $(git cat-file commit HEAD | wc -c); git cat-file commit HEAD) | sha1sum"
   ]
  },
  {
   "cell_type": "code",
   "execution_count": 2,
   "metadata": {
    "slideshow": {
     "slide_type": "fragment"
    }
   },
   "outputs": [],
   "source": [
    "!rm -rf tmp"
   ]
  },
  {
   "cell_type": "markdown",
   "metadata": {
    "slideshow": {
     "slide_type": "slide"
    }
   },
   "source": [
    "# Przydatne linki\n",
    "\n",
    "<br />\n",
    "\n",
    "1. [To nie działa WTF?!](http://justinhileman.info/article/git-pretty/git-pretty.png)\n",
    "2. [Cheat sheet powiązany z fazami życia kontentu w gicie](http://ndpsoftware.com/git-cheatsheet.html)"
   ]
  }
 ],
 "metadata": {
  "celltoolbar": "Slideshow",
  "kernelspec": {
   "display_name": "Python 3",
   "language": "python",
   "name": "python3"
  },
  "language_info": {
   "codemirror_mode": {
    "name": "ipython",
    "version": 2
   },
   "file_extension": ".py",
   "mimetype": "text/x-python",
   "name": "python",
   "nbconvert_exporter": "python",
   "pygments_lexer": "ipython2",
   "version": "2.7.15rc1"
  }
 },
 "nbformat": 4,
 "nbformat_minor": 2
}
